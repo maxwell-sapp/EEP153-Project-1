{
 "cells": [
  {
   "cell_type": "markdown",
   "id": "2ed2a397",
   "metadata": {},
   "source": [
    "# Project Title - Team Quetelet"
   ]
  },
  {
   "cell_type": "markdown",
   "id": "d9885302",
   "metadata": {},
   "source": [
    "### Group Members:\n",
    "#### Saraya Danielsen, Daysha Patalot, Maxwell Sapp (Manager), Hannah Thompson\n",
    "Collaboration: We collaborated using the following tools:\n",
    "\n",
    "Discord for out of class communication,\n",
    "\n",
    "Google Docs for brief project brainstorming and research,\n",
    "\n",
    "Github for project coding collaboration and data exploration.\n",
    "\n",
    "### Data from the World Bank:\n",
    "#### The World Development Indicators & `wbdata`\n",
    "The World Bank maintains a large set of &ldquo;World Development Indicators&rdquo; (WDI),\n",
    "including information on population.  \n",
    "\n",
    "-   API for WDI is available at [https://datahelpdesk.worldbank.org/knowledgebase/articles/889392-about-the-indicators-api-documentation](https://datahelpdesk.worldbank.org/knowledgebase/articles/889392-about-the-indicators-api-documentation)\n",
    "\n",
    "-   A `python` module that uses the API is `wbdata`, written by Oliver Sherouse.\n",
    "\n",
    "-   Available at [http://github.com/OliverSherouse/wbdata](http://github.com/OliverSherouse/wbdata).\n",
    "\n",
    "\n",
    "### Project Abstract\n",
    "\n",
    "Our team is using World Bank Data to explore population dynamics of North Korea over the 3 decade period of 1970 - 2000. We will explore a few significant events in areas such as economic policies and agricultural events that contributed to the observed dynamic explosive shifts of populations between rural and urban classes over this time period due to hard pushes of industrialized development. This large emphasis on industrialization pulled focus away from generating agricultural independence and proved that this industry was susceptible to failure when consecutive climate related events in the 1990s lead to national challenges of insufficient food production and widespread famine that resulted in 100s of thousands of lost lives and malnourished growth development. (Paraphrased general details for summary from wikipedia and Britannica links provided below, will add more specific quotes, numbers, and references into explanations below) \n",
    "\n",
    "\n",
    "* (can go into more detail after exploring and finishing out project on why we chose this subject, the general things we seeked to find out, etc, idk)\n",
    "\n",
    "\n",
    "**link sources here**\n",
    "\n",
    "#### Our project exploratory research goals included:\n",
    "* Investigate when the urban population began substantially surpassing the rural population in 1970 in responses to the economic industrialization policies implemented through these decades. \n",
    "* How the nations population tripled during this time period, and how combinations of these factors led to food shortages and nationwide famine in the 1990s as a result of weather events and government policy.\n",
    "\n",
    "\n",
    "\n"
   ]
  },
  {
   "cell_type": "markdown",
   "id": "40c05d6b",
   "metadata": {},
   "source": []
  },
  {
   "cell_type": "code",
   "execution_count": 54,
   "id": "392b7494",
   "metadata": {},
   "outputs": [],
   "source": [
    "# SOMETHING IN THIS CELL IS TOO MUCH MEMORY TO IMPORT; LET'S FIND OUT WHAT\n",
    "# PROBABLY MATPLOTLIB OR PLOTLY??? That's the only thing different. I moved both to the cell below\n",
    "#I think it's wbdata?\n",
    "\n",
    "\"\"\"\n",
    "If necessary, uncomment and install:\n",
    "\"\"\"\n",
    "# !pip install wbdata\n",
    "# !pip install cufflinks\n",
    "\n",
    "\n",
    "import wbdata\n",
    "import pandas as pd\n",
    "import numpy as np\n",
    "import matplotlib.pyplot as plt\n",
    "import plotly.express as px"
   ]
  },
  {
   "cell_type": "markdown",
   "id": "8dad7d00",
   "metadata": {},
   "source": [
    "## [A] Population Statistic Function\n",
    "\n",
    "It's a long function, but it is incredibly specifc; you can estimate any combination of ages, including a single age. It can do much more than just capture the already-established bins. It creates corresponding ratios when an age lands somewhere in the middle of a bin."
   ]
  },
  {
   "cell_type": "markdown",
   "id": "52bbcc0d",
   "metadata": {},
   "source": [
    "###### `population()`\n"
   ]
  },
  {
   "cell_type": "code",
   "execution_count": 57,
   "id": "a5056831",
   "metadata": {},
   "outputs": [],
   "source": [
    "def population(country, year, sex, lower_age, upper_age):\n",
    "    '''Function returns a SINGLE computed statistic given all the variables.'''\n",
    "    # 'sex' inputs as either 'All' (for 'All people'), or 'Male' or 'Female'\n",
    "    \n",
    "    def build_year_labelled_df(variable_labels, year, country):\n",
    "        '''Creates a dataframe with 1 or multiple needed labels, so that it can be called in a variety of situations below.'''\n",
    "        df = wbdata.get_dataframe(variable_labels)\n",
    "        df = wbdata.get_dataframe(variable_labels, country=country)\n",
    "        df.reset_index(inplace=True)\n",
    "        df['date'] = df['date'].astype(int)\n",
    "        df.set_index(['date'], inplace=True)\n",
    "        df_with_year = df.query('date==@year')\n",
    "        return df_with_year\n",
    "    \n",
    "    \n",
    "    variable_labels = {}\n",
    "    \n",
    "    # Edge case: not working with age bins, just total population or total male/female population (which have different labels than age bins)\n",
    "    if lower_age==0 and upper_age>=80:\n",
    "        if sex==\"All\":\n",
    "            variable_labels[\"SP.POP.TOTL\"] = \"Total Population\"\n",
    "        elif sex==\"Male\":\n",
    "            variable_labels[\"SP.POP.TOTL.MA.IN\"] = \"Total Male Population\"\n",
    "        elif sex==\"Female\":\n",
    "            variable_labels[\"SP.POP.TOTL.FE.IN\"] = \"Total Female Population\"\n",
    "        return build_year_labelled_df(variable_labels, year=year, country=country)[list(variable_labels.values())[0]].iloc[0]\n",
    "    \n",
    "    \n",
    "    # Everything below works with age bins \n",
    "    \n",
    "    # First round up/round down the age boundaries so that all necessary bins will be included\n",
    "    # (The fraction will be multiplied to get a corresponding smaller ratio of an age-bracket population)\n",
    "    lower_age_rounded = lower_age\n",
    "    lower_fraction = 0\n",
    "    if lower_age%5 != 0:\n",
    "        if lower_age%5 == 4:\n",
    "            lower_age_rounded = lower_age - 4\n",
    "            lower_fraction = (1/5)\n",
    "        elif lower_age%5 == 3:\n",
    "            lower_age_rounded = lower_age - 3\n",
    "            lower_fraction = (2/5)\n",
    "        elif lower_age%5 == 2:\n",
    "            lower_age_rounded = lower_age - 2\n",
    "            lower_fraction = (3/5)\n",
    "        elif lower_age%5 == 1:\n",
    "            lower_age_rounded = lower_age - 1\n",
    "            lower_fraction = (4/5)\n",
    "    upper_age_rounded = upper_age\n",
    "    upper_fraction = 0\n",
    "    if upper_age%5 != 4:\n",
    "        if upper_age%5 == 3:\n",
    "            upper_age_rounded = upper_age + 1\n",
    "            upper_fraction = (4/5)\n",
    "        elif upper_age%5 == 2:\n",
    "            upper_age_rounded = upper_age + 2\n",
    "            upper_fraction = (3/5)\n",
    "        elif upper_age%5 == 1:\n",
    "            upper_age_rounded = upper_age + 3\n",
    "            upper_fraction = (2/5)\n",
    "        elif upper_age%5 == 0:\n",
    "            upper_age_rounded = upper_age + 4\n",
    "            upper_fraction = (1/5)\n",
    "    \n",
    "    \n",
    "    # Get the labels ONLY for the bins that YOU NEED, using a loop that adds to a dictionary as you go\n",
    "    placehold = lower_age_rounded\n",
    "    \n",
    "    def digit_adjust(placehold):\n",
    "        '''Function that will prepare ages to be used to make variable_labels; turns an int to a string, and reformats single-digit numbers.'''\n",
    "        if placehold < 10:\n",
    "            return str(0)+str(placehold)\n",
    "        else:\n",
    "            return str(placehold)\n",
    "    \n",
    "    \n",
    "    while placehold <= upper_age_rounded:\n",
    "        # For all ages before the final age bins:\n",
    "        while placehold < 80:\n",
    "            if sex==\"All\":\n",
    "                variable_labels[\"SP.POP.\"+digit_adjust(placehold)+digit_adjust(placehold+4)+\".MA\"] = str(placehold)+\"-\"+str(placehold+4)+\" Male\"\n",
    "                variable_labels[\"SP.POP.\"+digit_adjust(placehold)+digit_adjust(placehold+4)+\".FE\"] = str(placehold)+\"-\"+str(placehold+4)+\" Female\"\n",
    "            elif sex==\"Male\":\n",
    "                variable_labels[\"SP.POP.\"+digit_adjust(placehold)+digit_adjust(placehold+4)+\".MA\"] = str(placehold)+\"-\"+str(placehold+4)+\" \"+sex\n",
    "            elif sex==\"Female\":\n",
    "                variable_labels[\"SP.POP.\"+digit_adjust(placehold)+digit_adjust(placehold+4)+\".FE\"] = str(placehold)+\"-\"+str(placehold+4)+\" \"+sex\n",
    "            placehold += 5\n",
    "            \n",
    "            # If/when the loop reaches the final age bracket, add it in and then stop adding labels\n",
    "            if placehold >= 80:\n",
    "                if sex==\"All\":\n",
    "                    variable_labels[\"SP.POP.80UP.MA\"] = \"80+ Male\"\n",
    "                    variable_labels[\"SP.POP.80UP.FE\"] = \"80+ Female\"\n",
    "                elif sex==\"Male\":\n",
    "                    variable_labels[\"SP.POP.80UP.MA\"] = \"80+ Male\"\n",
    "                elif sex==\"Female\":\n",
    "                    variable_labels[\"SP.POP.80UP.FE\"] = \"80+ Female\"\n",
    "            break\n",
    "            \n",
    "            \n",
    "    # Now you have a 'variable_labels' that is filled with every label you need; compute final calculations:\n",
    "    final_df = build_year_labelled_df(variable_labels, year=year, country=country)\n",
    "    bin_count = len(list(variable_labels.keys()))\n",
    "    added = 0\n",
    "    i = 0\n",
    "    \n",
    "    \n",
    "    # Edge case: if you're working with LESS THAN ONE AGE BIN\n",
    "    # (1) For when the ages are different, but smaller than a single age bin (ex: 3-4 year olds)\n",
    "    age_difference = upper_age - lower_age\n",
    "    if age_difference<4 and bin_count==2 and sex=='All': \n",
    "        fraction = (age_difference + 1)/5\n",
    "        while i < bin_count:\n",
    "            added += (fraction*final_df.iloc[:, i].tolist()[0])\n",
    "            i+=1\n",
    "    if age_difference<4 and bin_count==1 and (sex=='Male' or sex=='Female'): \n",
    "        fraction = (age_difference + 1)/5\n",
    "        return np.round(fraction * final_df.iloc[:, 0].tolist()[0])\n",
    "    \n",
    "    # (2) For when you're working with a single age (ex: 3-year-olds)\n",
    "    if lower_age == upper_age:\n",
    "        fraction = (1/5)\n",
    "        if sex==\"All\":\n",
    "            while i < 2:\n",
    "                added += (fraction*final_df.iloc[:, i].tolist()[0])\n",
    "                i+=1\n",
    "        else:\n",
    "            return np.round(fraction * final_df.sum(axis=1).tolist()[0])\n",
    "    \n",
    "    \n",
    "    \n",
    "    # FINAL OUTPUTS FOR 1 OR MORE AGE BINS: (4 different variations of cases)\n",
    "    \n",
    "    # CASE 1: If no rounding was needed (perfect bins):\n",
    "    if lower_age%5==0 and upper_age%5==4:\n",
    "        return final_df.sum(axis=1).tolist()[0]\n",
    "        \n",
    "        \n",
    "    # CASE 2: If lower_age was rounded and upper_age wasn't:\n",
    "    elif lower_age%5!=0 and upper_age%5==4:\n",
    "        # For sex=\"All\", TWO COLUMNS will need to be adjusted (Male AND Female)\n",
    "        if sex==\"All\":\n",
    "            while i < bin_count:\n",
    "                while i < 2:\n",
    "                    added += (lower_fraction*final_df.iloc[:, i].tolist()[0])\n",
    "                    i+=1\n",
    "                added += final_df.iloc[:, i].tolist()[0]\n",
    "                i+=1\n",
    "        else:\n",
    "            while i < bin_count:\n",
    "                while i < 1:\n",
    "                    added += (lower_fraction*final_df.iloc[:, i].tolist()[0])\n",
    "                    i+=1\n",
    "                added += final_df.iloc[:, i].tolist()[0]\n",
    "                i+=1\n",
    "            \n",
    "    \n",
    "    # CASE 3: If upper_age was rounded and lower_age wasn't:\n",
    "    elif lower_age%5==0 and upper_age%5!=4:\n",
    "        if sex==\"All\":\n",
    "            while i < bin_count:\n",
    "                while i < (bin_count - 2):\n",
    "                    added += final_df.iloc[:, i].tolist()[0]\n",
    "                    i+=1\n",
    "                added += (upper_fraction*final_df.iloc[:, i].tolist()[0])\n",
    "                i+=1\n",
    "            return np.round(added)\n",
    "        else:\n",
    "            while i < bin_count:\n",
    "                while i < (bin_count - 1):\n",
    "                    added += final_df.iloc[:, i].tolist()[0]\n",
    "                    i+=1\n",
    "                added += (upper_fraction*final_df.iloc[:, i].tolist()[0])\n",
    "                i+=1\n",
    "        \n",
    "            \n",
    "    # CASE 4: If both upper_age and lower_age were rounded:\n",
    "    else:\n",
    "        if sex==\"All\":\n",
    "            while i < bin_count:\n",
    "                while i < 2:\n",
    "                    added += (lower_fraction*final_df.iloc[:, i].tolist()[0])\n",
    "                    i+=1\n",
    "                while i>1 and i<(bin_count - 2):\n",
    "                    added += final_df.iloc[:, i].tolist()[0]\n",
    "                    i+=1\n",
    "                added += (upper_fraction*final_df.iloc[:, i].tolist()[0])\n",
    "                i+=1\n",
    "        else:\n",
    "            while i < bin_count:\n",
    "                while i < 1:\n",
    "                    added += (lower_fraction*final_df.iloc[:, i].tolist()[0])\n",
    "                    i+=1\n",
    "                while i>0 and i<(bin_count - 1):\n",
    "                    added += final_df.iloc[:, i].tolist()[0]\n",
    "                    i+=1\n",
    "                added += (upper_fraction*final_df.iloc[:, i].tolist()[0])\n",
    "                i+=1 \n",
    "                \n",
    "                \n",
    "    return np.round(added)\n",
    "                "
   ]
  },
  {
   "cell_type": "markdown",
   "id": "486b0f7f",
   "metadata": {},
   "source": [
    "### Test cases for population statistic function:"
   ]
  },
  {
   "cell_type": "code",
   "execution_count": 32,
   "id": "8bd657fb",
   "metadata": {},
   "outputs": [
    {
     "data": {
      "text/plain": [
       "False"
      ]
     },
     "execution_count": 32,
     "metadata": {},
     "output_type": "execute_result"
    }
   ],
   "source": [
    "# Should be False\n",
    "population(\"WLD\", 2000, \"Male\", 0, 100) > 7e9"
   ]
  },
  {
   "cell_type": "code",
   "execution_count": 33,
   "id": "f337b2ff",
   "metadata": {},
   "outputs": [
    {
     "data": {
      "text/plain": [
       "True"
      ]
     },
     "execution_count": 33,
     "metadata": {},
     "output_type": "execute_result"
    }
   ],
   "source": [
    "# Should be True\n",
    "population(\"USA\", 1993, \"Female\", 66, 73) == 8269864.0\n",
    "population(\"USA\", 1993, \"All\", 3, 11) == 34293840.0\n",
    "population(\"USA\", 1993, \"All\", 3, 3) == 3976670.0\n",
    "population(\"USA\", 1993, \"Female\", 3, 4) == 3886545.0\n",
    "population(\"USA\", 1993, \"All\", 3, 4) == 7953340.0\n",
    "population(\"USA\", 1993, \"All\", 5, 6) == 7621651.0"
   ]
  },
  {
   "cell_type": "markdown",
   "id": "4290ba74",
   "metadata": {},
   "source": [
    "## [A] Population Dataframes Function \n",
    "\n",
    "**age_sex_df()** returns a data frame indexed by country and year populated with counts of total population in certain age/sex categories. Inputs include year and country so that one can obtain desired counts for specific parameters. The function can take strings or list of strings for each parameter."
   ]
  },
  {
   "cell_type": "markdown",
   "id": "1aea0e6b",
   "metadata": {},
   "source": [
    "###### `age_sex_df()`\n"
   ]
  },
  {
   "cell_type": "code",
   "execution_count": 58,
   "id": "abf259c4",
   "metadata": {},
   "outputs": [],
   "source": [
    "def age_sex_df(country='all', year='all'):\n",
    "   \n",
    "    # create list of age ranges for population counts\n",
    "    age_ranges = []\n",
    "    for i in range(0, 80, 5):        \n",
    "        age_ranges.append(f\"{i:02d}\"+f\"{i+4:02d}\")\n",
    "    age_ranges.append('80UP') #adds 80 and up\n",
    "\n",
    "    \n",
    "    # create dictionary all_indicators of all age-sex indicators from wbdata \n",
    "    male_age_indicators = {'SP.POP.'+ages+'.MA':'Males '+ages for ages in age_ranges}\n",
    "    female_age_indicators = {'SP.POP.'+ages+'.FE':'Females '+ages for ages in age_ranges}\n",
    "    all_indicators = male_age_indicators \n",
    "    all_indicators.update(female_age_indicators) \n",
    "    \n",
    "  \n",
    "    # create dataframe with all_indicators as columns \n",
    "    final_df = wbdata.api.get_dataframe(all_indicators, country='all', data_date=None, freq='Y', source=None, convert_date=False, keep_levels=False, cache=True)\n",
    "    \n",
    "\n",
    "    # if no country input, save all regions' data, else only data for country\n",
    "    if country == 'all':\n",
    "        final_df = final_df\n",
    "    else:\n",
    "        if isinstance(country, list):\n",
    "            final_df = final_df.loc[pd.Index(country)]\n",
    "        else:\n",
    "            final_df = final_df.loc[pd.Index([country])]\n",
    "    \n",
    "        \n",
    "    #setting row data as integers rather than floats \n",
    "    final_df.fillna(0, inplace=True)\n",
    "    final_df = final_df.astype(int)\n",
    "    \n",
    "    \n",
    "    # if year is specified, return only year indices\n",
    "    if year =='all':\n",
    "        return final_df\n",
    "    else:\n",
    "        return final_df.loc[pd.IndexSlice[:, year], :]\n"
   ]
  },
  {
   "cell_type": "markdown",
   "id": "926b373e",
   "metadata": {},
   "source": [
    "### Test Cases for population dataframes function:"
   ]
  },
  {
   "cell_type": "code",
   "execution_count": 35,
   "id": "27395b76",
   "metadata": {},
   "outputs": [
    {
     "data": {
      "text/html": [
       "<div>\n",
       "<style scoped>\n",
       "    .dataframe tbody tr th:only-of-type {\n",
       "        vertical-align: middle;\n",
       "    }\n",
       "\n",
       "    .dataframe tbody tr th {\n",
       "        vertical-align: top;\n",
       "    }\n",
       "\n",
       "    .dataframe thead th {\n",
       "        text-align: right;\n",
       "    }\n",
       "</style>\n",
       "<table border=\"1\" class=\"dataframe\">\n",
       "  <thead>\n",
       "    <tr style=\"text-align: right;\">\n",
       "      <th></th>\n",
       "      <th></th>\n",
       "      <th>Males 0004</th>\n",
       "      <th>Males 0509</th>\n",
       "      <th>Males 1014</th>\n",
       "      <th>Males 1519</th>\n",
       "      <th>Males 2024</th>\n",
       "      <th>Males 2529</th>\n",
       "      <th>Males 3034</th>\n",
       "      <th>Males 3539</th>\n",
       "      <th>Males 4044</th>\n",
       "      <th>Males 4549</th>\n",
       "      <th>...</th>\n",
       "      <th>Females 3539</th>\n",
       "      <th>Females 4044</th>\n",
       "      <th>Females 4549</th>\n",
       "      <th>Females 5054</th>\n",
       "      <th>Females 5559</th>\n",
       "      <th>Females 6064</th>\n",
       "      <th>Females 6569</th>\n",
       "      <th>Females 7074</th>\n",
       "      <th>Females 7579</th>\n",
       "      <th>Females 80UP</th>\n",
       "    </tr>\n",
       "    <tr>\n",
       "      <th>country</th>\n",
       "      <th>date</th>\n",
       "      <th></th>\n",
       "      <th></th>\n",
       "      <th></th>\n",
       "      <th></th>\n",
       "      <th></th>\n",
       "      <th></th>\n",
       "      <th></th>\n",
       "      <th></th>\n",
       "      <th></th>\n",
       "      <th></th>\n",
       "      <th></th>\n",
       "      <th></th>\n",
       "      <th></th>\n",
       "      <th></th>\n",
       "      <th></th>\n",
       "      <th></th>\n",
       "      <th></th>\n",
       "      <th></th>\n",
       "      <th></th>\n",
       "      <th></th>\n",
       "      <th></th>\n",
       "    </tr>\n",
       "  </thead>\n",
       "  <tbody>\n",
       "    <tr>\n",
       "      <th rowspan=\"5\" valign=\"top\">Africa Eastern and Southern</th>\n",
       "      <th>2021</th>\n",
       "      <td>0</td>\n",
       "      <td>0</td>\n",
       "      <td>0</td>\n",
       "      <td>0</td>\n",
       "      <td>0</td>\n",
       "      <td>0</td>\n",
       "      <td>0</td>\n",
       "      <td>0</td>\n",
       "      <td>0</td>\n",
       "      <td>0</td>\n",
       "      <td>...</td>\n",
       "      <td>0</td>\n",
       "      <td>0</td>\n",
       "      <td>0</td>\n",
       "      <td>0</td>\n",
       "      <td>0</td>\n",
       "      <td>0</td>\n",
       "      <td>0</td>\n",
       "      <td>0</td>\n",
       "      <td>0</td>\n",
       "      <td>0</td>\n",
       "    </tr>\n",
       "    <tr>\n",
       "      <th>2020</th>\n",
       "      <td>51832999</td>\n",
       "      <td>47054442</td>\n",
       "      <td>42100652</td>\n",
       "      <td>36604829</td>\n",
       "      <td>31449112</td>\n",
       "      <td>26714656</td>\n",
       "      <td>22601024</td>\n",
       "      <td>18778125</td>\n",
       "      <td>15094710</td>\n",
       "      <td>12163439</td>\n",
       "      <td>...</td>\n",
       "      <td>19420963</td>\n",
       "      <td>15669437</td>\n",
       "      <td>12697054</td>\n",
       "      <td>10181631</td>\n",
       "      <td>8211128</td>\n",
       "      <td>6530132</td>\n",
       "      <td>4922064</td>\n",
       "      <td>3486260</td>\n",
       "      <td>2186612</td>\n",
       "      <td>1671566</td>\n",
       "    </tr>\n",
       "    <tr>\n",
       "      <th>2019</th>\n",
       "      <td>51064807</td>\n",
       "      <td>46254023</td>\n",
       "      <td>41098615</td>\n",
       "      <td>35608673</td>\n",
       "      <td>30568938</td>\n",
       "      <td>25964678</td>\n",
       "      <td>21933394</td>\n",
       "      <td>18132172</td>\n",
       "      <td>14566690</td>\n",
       "      <td>11720436</td>\n",
       "      <td>...</td>\n",
       "      <td>18759569</td>\n",
       "      <td>15100033</td>\n",
       "      <td>12244861</td>\n",
       "      <td>9832451</td>\n",
       "      <td>7948374</td>\n",
       "      <td>6303210</td>\n",
       "      <td>4739551</td>\n",
       "      <td>3353120</td>\n",
       "      <td>2100598</td>\n",
       "      <td>1651540</td>\n",
       "    </tr>\n",
       "    <tr>\n",
       "      <th>2018</th>\n",
       "      <td>50313865</td>\n",
       "      <td>45400780</td>\n",
       "      <td>40053419</td>\n",
       "      <td>34646945</td>\n",
       "      <td>29711246</td>\n",
       "      <td>25240682</td>\n",
       "      <td>21276921</td>\n",
       "      <td>17483365</td>\n",
       "      <td>14080376</td>\n",
       "      <td>11277635</td>\n",
       "      <td>...</td>\n",
       "      <td>18080584</td>\n",
       "      <td>14571653</td>\n",
       "      <td>11804158</td>\n",
       "      <td>9507639</td>\n",
       "      <td>7699694</td>\n",
       "      <td>6082242</td>\n",
       "      <td>4574707</td>\n",
       "      <td>3230731</td>\n",
       "      <td>2024049</td>\n",
       "      <td>1614490</td>\n",
       "    </tr>\n",
       "    <tr>\n",
       "      <th>2017</th>\n",
       "      <td>49562847</td>\n",
       "      <td>44486999</td>\n",
       "      <td>38997474</td>\n",
       "      <td>33721493</td>\n",
       "      <td>28879258</td>\n",
       "      <td>24536591</td>\n",
       "      <td>20629605</td>\n",
       "      <td>16845283</td>\n",
       "      <td>13624471</td>\n",
       "      <td>10844283</td>\n",
       "      <td>...</td>\n",
       "      <td>17401444</td>\n",
       "      <td>14076312</td>\n",
       "      <td>11379865</td>\n",
       "      <td>9204880</td>\n",
       "      <td>7463143</td>\n",
       "      <td>5870780</td>\n",
       "      <td>4426358</td>\n",
       "      <td>3118870</td>\n",
       "      <td>1955721</td>\n",
       "      <td>1559049</td>\n",
       "    </tr>\n",
       "    <tr>\n",
       "      <th>...</th>\n",
       "      <th>...</th>\n",
       "      <td>...</td>\n",
       "      <td>...</td>\n",
       "      <td>...</td>\n",
       "      <td>...</td>\n",
       "      <td>...</td>\n",
       "      <td>...</td>\n",
       "      <td>...</td>\n",
       "      <td>...</td>\n",
       "      <td>...</td>\n",
       "      <td>...</td>\n",
       "      <td>...</td>\n",
       "      <td>...</td>\n",
       "      <td>...</td>\n",
       "      <td>...</td>\n",
       "      <td>...</td>\n",
       "      <td>...</td>\n",
       "      <td>...</td>\n",
       "      <td>...</td>\n",
       "      <td>...</td>\n",
       "      <td>...</td>\n",
       "      <td>...</td>\n",
       "    </tr>\n",
       "    <tr>\n",
       "      <th rowspan=\"5\" valign=\"top\">Zimbabwe</th>\n",
       "      <th>1964</th>\n",
       "      <td>425511</td>\n",
       "      <td>341934</td>\n",
       "      <td>272226</td>\n",
       "      <td>194836</td>\n",
       "      <td>180409</td>\n",
       "      <td>145314</td>\n",
       "      <td>122831</td>\n",
       "      <td>104894</td>\n",
       "      <td>86161</td>\n",
       "      <td>78264</td>\n",
       "      <td>...</td>\n",
       "      <td>106990</td>\n",
       "      <td>87773</td>\n",
       "      <td>80176</td>\n",
       "      <td>60111</td>\n",
       "      <td>50249</td>\n",
       "      <td>41766</td>\n",
       "      <td>32354</td>\n",
       "      <td>22607</td>\n",
       "      <td>13345</td>\n",
       "      <td>7753</td>\n",
       "    </tr>\n",
       "    <tr>\n",
       "      <th>1963</th>\n",
       "      <td>406613</td>\n",
       "      <td>334139</td>\n",
       "      <td>253308</td>\n",
       "      <td>192015</td>\n",
       "      <td>174959</td>\n",
       "      <td>141255</td>\n",
       "      <td>120608</td>\n",
       "      <td>101291</td>\n",
       "      <td>86143</td>\n",
       "      <td>75205</td>\n",
       "      <td>...</td>\n",
       "      <td>103182</td>\n",
       "      <td>87655</td>\n",
       "      <td>76932</td>\n",
       "      <td>58424</td>\n",
       "      <td>49411</td>\n",
       "      <td>40969</td>\n",
       "      <td>31629</td>\n",
       "      <td>22077</td>\n",
       "      <td>12917</td>\n",
       "      <td>7685</td>\n",
       "    </tr>\n",
       "    <tr>\n",
       "      <th>1962</th>\n",
       "      <td>388512</td>\n",
       "      <td>324521</td>\n",
       "      <td>234396</td>\n",
       "      <td>192241</td>\n",
       "      <td>168481</td>\n",
       "      <td>137769</td>\n",
       "      <td>118598</td>\n",
       "      <td>97612</td>\n",
       "      <td>86675</td>\n",
       "      <td>71553</td>\n",
       "      <td>...</td>\n",
       "      <td>99235</td>\n",
       "      <td>88122</td>\n",
       "      <td>73099</td>\n",
       "      <td>57267</td>\n",
       "      <td>48681</td>\n",
       "      <td>40220</td>\n",
       "      <td>30988</td>\n",
       "      <td>21617</td>\n",
       "      <td>12472</td>\n",
       "      <td>7463</td>\n",
       "    </tr>\n",
       "    <tr>\n",
       "      <th>1961</th>\n",
       "      <td>374911</td>\n",
       "      <td>310962</td>\n",
       "      <td>218241</td>\n",
       "      <td>192190</td>\n",
       "      <td>161950</td>\n",
       "      <td>134425</td>\n",
       "      <td>116218</td>\n",
       "      <td>94407</td>\n",
       "      <td>86629</td>\n",
       "      <td>67947</td>\n",
       "      <td>...</td>\n",
       "      <td>95751</td>\n",
       "      <td>87970</td>\n",
       "      <td>69344</td>\n",
       "      <td>56241</td>\n",
       "      <td>47939</td>\n",
       "      <td>39467</td>\n",
       "      <td>30375</td>\n",
       "      <td>21147</td>\n",
       "      <td>11999</td>\n",
       "      <td>7054</td>\n",
       "    </tr>\n",
       "    <tr>\n",
       "      <th>1960</th>\n",
       "      <td>367183</td>\n",
       "      <td>293471</td>\n",
       "      <td>206053</td>\n",
       "      <td>189731</td>\n",
       "      <td>156032</td>\n",
       "      <td>130976</td>\n",
       "      <td>113128</td>\n",
       "      <td>92026</td>\n",
       "      <td>85291</td>\n",
       "      <td>64830</td>\n",
       "      <td>...</td>\n",
       "      <td>93114</td>\n",
       "      <td>86458</td>\n",
       "      <td>66133</td>\n",
       "      <td>55091</td>\n",
       "      <td>47110</td>\n",
       "      <td>38687</td>\n",
       "      <td>29748</td>\n",
       "      <td>20604</td>\n",
       "      <td>11495</td>\n",
       "      <td>6476</td>\n",
       "    </tr>\n",
       "  </tbody>\n",
       "</table>\n",
       "<p>16492 rows × 34 columns</p>\n",
       "</div>"
      ],
      "text/plain": [
       "                                  Males 0004  Males 0509  Males 1014  \\\n",
       "country                     date                                       \n",
       "Africa Eastern and Southern 2021           0           0           0   \n",
       "                            2020    51832999    47054442    42100652   \n",
       "                            2019    51064807    46254023    41098615   \n",
       "                            2018    50313865    45400780    40053419   \n",
       "                            2017    49562847    44486999    38997474   \n",
       "...                                      ...         ...         ...   \n",
       "Zimbabwe                    1964      425511      341934      272226   \n",
       "                            1963      406613      334139      253308   \n",
       "                            1962      388512      324521      234396   \n",
       "                            1961      374911      310962      218241   \n",
       "                            1960      367183      293471      206053   \n",
       "\n",
       "                                  Males 1519  Males 2024  Males 2529  \\\n",
       "country                     date                                       \n",
       "Africa Eastern and Southern 2021           0           0           0   \n",
       "                            2020    36604829    31449112    26714656   \n",
       "                            2019    35608673    30568938    25964678   \n",
       "                            2018    34646945    29711246    25240682   \n",
       "                            2017    33721493    28879258    24536591   \n",
       "...                                      ...         ...         ...   \n",
       "Zimbabwe                    1964      194836      180409      145314   \n",
       "                            1963      192015      174959      141255   \n",
       "                            1962      192241      168481      137769   \n",
       "                            1961      192190      161950      134425   \n",
       "                            1960      189731      156032      130976   \n",
       "\n",
       "                                  Males 3034  Males 3539  Males 4044  \\\n",
       "country                     date                                       \n",
       "Africa Eastern and Southern 2021           0           0           0   \n",
       "                            2020    22601024    18778125    15094710   \n",
       "                            2019    21933394    18132172    14566690   \n",
       "                            2018    21276921    17483365    14080376   \n",
       "                            2017    20629605    16845283    13624471   \n",
       "...                                      ...         ...         ...   \n",
       "Zimbabwe                    1964      122831      104894       86161   \n",
       "                            1963      120608      101291       86143   \n",
       "                            1962      118598       97612       86675   \n",
       "                            1961      116218       94407       86629   \n",
       "                            1960      113128       92026       85291   \n",
       "\n",
       "                                  Males 4549  ...  Females 3539  Females 4044  \\\n",
       "country                     date              ...                               \n",
       "Africa Eastern and Southern 2021           0  ...             0             0   \n",
       "                            2020    12163439  ...      19420963      15669437   \n",
       "                            2019    11720436  ...      18759569      15100033   \n",
       "                            2018    11277635  ...      18080584      14571653   \n",
       "                            2017    10844283  ...      17401444      14076312   \n",
       "...                                      ...  ...           ...           ...   \n",
       "Zimbabwe                    1964       78264  ...        106990         87773   \n",
       "                            1963       75205  ...        103182         87655   \n",
       "                            1962       71553  ...         99235         88122   \n",
       "                            1961       67947  ...         95751         87970   \n",
       "                            1960       64830  ...         93114         86458   \n",
       "\n",
       "                                  Females 4549  Females 5054  Females 5559  \\\n",
       "country                     date                                             \n",
       "Africa Eastern and Southern 2021             0             0             0   \n",
       "                            2020      12697054      10181631       8211128   \n",
       "                            2019      12244861       9832451       7948374   \n",
       "                            2018      11804158       9507639       7699694   \n",
       "                            2017      11379865       9204880       7463143   \n",
       "...                                        ...           ...           ...   \n",
       "Zimbabwe                    1964         80176         60111         50249   \n",
       "                            1963         76932         58424         49411   \n",
       "                            1962         73099         57267         48681   \n",
       "                            1961         69344         56241         47939   \n",
       "                            1960         66133         55091         47110   \n",
       "\n",
       "                                  Females 6064  Females 6569  Females 7074  \\\n",
       "country                     date                                             \n",
       "Africa Eastern and Southern 2021             0             0             0   \n",
       "                            2020       6530132       4922064       3486260   \n",
       "                            2019       6303210       4739551       3353120   \n",
       "                            2018       6082242       4574707       3230731   \n",
       "                            2017       5870780       4426358       3118870   \n",
       "...                                        ...           ...           ...   \n",
       "Zimbabwe                    1964         41766         32354         22607   \n",
       "                            1963         40969         31629         22077   \n",
       "                            1962         40220         30988         21617   \n",
       "                            1961         39467         30375         21147   \n",
       "                            1960         38687         29748         20604   \n",
       "\n",
       "                                  Females 7579  Females 80UP  \n",
       "country                     date                              \n",
       "Africa Eastern and Southern 2021             0             0  \n",
       "                            2020       2186612       1671566  \n",
       "                            2019       2100598       1651540  \n",
       "                            2018       2024049       1614490  \n",
       "                            2017       1955721       1559049  \n",
       "...                                        ...           ...  \n",
       "Zimbabwe                    1964         13345          7753  \n",
       "                            1963         12917          7685  \n",
       "                            1962         12472          7463  \n",
       "                            1961         11999          7054  \n",
       "                            1960         11495          6476  \n",
       "\n",
       "[16492 rows x 34 columns]"
      ]
     },
     "execution_count": 35,
     "metadata": {},
     "output_type": "execute_result"
    }
   ],
   "source": [
    "# uncomment and try inputs for one country and one year\n",
    "# age_sex_df(\"Korea, Dem. People's Rep.\", '1970')\n",
    "# uncomment and try function for multiple countries and years\n",
    "# age_sex_df([\"Korea, Dem. People's Rep.\", 'Korea, Rep.'], ['1970', '1990'])\n",
    "\n",
    "age_sex_df()"
   ]
  },
  {
   "cell_type": "markdown",
   "id": "6308cbc1",
   "metadata": {},
   "source": [
    "## Research Exploration: North Korean 1990s Famine: 1993, 2000\n",
    "\n",
    "Since self-sufficiency remains an important pillar of North Korean ideology, self-sufficiency in food production is deemed a worthy goal. Another aim of government policies—to reduce the gap between urban and rural living standards—requires continued investment in the agricultural sector. The stability of the country depends on steady, if not rapid, increases in the availability of food items at reasonable prices. In the early 1990s, there were severe food shortages.[19][90][91]\n",
    "\n",
    "The most far-reaching statement on agricultural policy is embodied in Kim Il-sung's 1964 Theses on the Socialist Agrarian Question in Our Country, which underscores the government's concern for agricultural development.[92] Kim emphasized technological and educational progress in the countryside as well as collective forms of ownership and management. As industrialization progressed, the share of agriculture, forestry, and fisheries in the total national output declined from 63.5% and 31.4%, respectively, in 1945 and 1946, to a low of 26.8% in 1990. Their share in the labor force also declined from 57.6% in 1960 to 34.4% in 1989.[19]\n",
    "\n",
    "In the 1990s, the decreasing ability to carry out mechanized operations (including the pumping of water for irrigation), as well as lack of chemical inputs, was clearly contributing to reduced yields and increased harvesting and post-harvest losses.[84]\n",
    "\n",
    "The food shortage was primarily precipitated by the loss of fuel and other raw materials imports from China and the Soviet Union which had been essential to support an energy intensive and energy inefficient farming system. Following the collapse of the Soviet Union, the former concessional trade relationships which benefited the North Korea were not available. The three flood and drought years between 1994 and 1996 only served to complete the collapse of the agriculture sector.[90][96][97] In 2004, more than half (57%) of the population did not have enough food to stay healthy. 37% of children had their growth stunted and 1⁄3 of mothers severely lacked nutrition.[98]"
   ]
  },
  {
   "cell_type": "markdown",
   "id": "80f7d07f",
   "metadata": {},
   "source": [
    "## Exploratory Data Analysis\n",
    "### North Korea Population\n",
    "\n",
    "Use plotly.express, to visualize urban and rural population trends in North Korea from the span of 1960 to 2020."
   ]
  },
  {
   "cell_type": "code",
   "execution_count": 49,
   "id": "914c7a57",
   "metadata": {},
   "outputs": [
    {
     "data": {
      "text/html": [
       "<div>\n",
       "<style scoped>\n",
       "    .dataframe tbody tr th:only-of-type {\n",
       "        vertical-align: middle;\n",
       "    }\n",
       "\n",
       "    .dataframe tbody tr th {\n",
       "        vertical-align: top;\n",
       "    }\n",
       "\n",
       "    .dataframe thead th {\n",
       "        text-align: right;\n",
       "    }\n",
       "</style>\n",
       "<table border=\"1\" class=\"dataframe\">\n",
       "  <thead>\n",
       "    <tr style=\"text-align: right;\">\n",
       "      <th></th>\n",
       "      <th>upg</th>\n",
       "      <th>rpg</th>\n",
       "    </tr>\n",
       "    <tr>\n",
       "      <th>date</th>\n",
       "      <th></th>\n",
       "      <th></th>\n",
       "    </tr>\n",
       "  </thead>\n",
       "  <tbody>\n",
       "    <tr>\n",
       "      <th>2020</th>\n",
       "      <td>0.834712</td>\n",
       "      <td>-0.216466</td>\n",
       "    </tr>\n",
       "    <tr>\n",
       "      <th>2019</th>\n",
       "      <td>0.834074</td>\n",
       "      <td>-0.163550</td>\n",
       "    </tr>\n",
       "    <tr>\n",
       "      <th>2018</th>\n",
       "      <td>0.827629</td>\n",
       "      <td>-0.108409</td>\n",
       "    </tr>\n",
       "    <tr>\n",
       "      <th>2017</th>\n",
       "      <td>0.817680</td>\n",
       "      <td>-0.057201</td>\n",
       "    </tr>\n",
       "    <tr>\n",
       "      <th>2016</th>\n",
       "      <td>0.806606</td>\n",
       "      <td>-0.011742</td>\n",
       "    </tr>\n",
       "    <tr>\n",
       "      <th>...</th>\n",
       "      <td>...</td>\n",
       "      <td>...</td>\n",
       "    </tr>\n",
       "    <tr>\n",
       "      <th>1964</th>\n",
       "      <td>4.043233</td>\n",
       "      <td>0.033564</td>\n",
       "    </tr>\n",
       "    <tr>\n",
       "      <th>1963</th>\n",
       "      <td>3.917962</td>\n",
       "      <td>-0.089348</td>\n",
       "    </tr>\n",
       "    <tr>\n",
       "      <th>1962</th>\n",
       "      <td>4.090284</td>\n",
       "      <td>0.082355</td>\n",
       "    </tr>\n",
       "    <tr>\n",
       "      <th>1961</th>\n",
       "      <td>4.468355</td>\n",
       "      <td>0.460937</td>\n",
       "    </tr>\n",
       "    <tr>\n",
       "      <th>1960</th>\n",
       "      <td>NaN</td>\n",
       "      <td>NaN</td>\n",
       "    </tr>\n",
       "  </tbody>\n",
       "</table>\n",
       "<p>61 rows × 2 columns</p>\n",
       "</div>"
      ],
      "text/plain": [
       "           upg       rpg\n",
       "date                    \n",
       "2020  0.834712 -0.216466\n",
       "2019  0.834074 -0.163550\n",
       "2018  0.827629 -0.108409\n",
       "2017  0.817680 -0.057201\n",
       "2016  0.806606 -0.011742\n",
       "...        ...       ...\n",
       "1964  4.043233  0.033564\n",
       "1963  3.917962 -0.089348\n",
       "1962  4.090284  0.082355\n",
       "1961  4.468355  0.460937\n",
       "1960       NaN       NaN\n",
       "\n",
       "[61 rows x 2 columns]"
      ]
     },
     "execution_count": 49,
     "metadata": {},
     "output_type": "execute_result"
    }
   ],
   "source": [
    "# Give variable for clarity - urban vs rural population growth rate\n",
    "variable_labels = {'SP.URB.GROW' : 'upg', 'SP.RUR.TOTL.ZG': 'rpg'}\n",
    "\n",
    "prk_pop_grow = wbdata.get_dataframe(variable_labels, country='PRK')\n",
    "prk_pop_grow"
   ]
  },
  {
   "cell_type": "code",
   "execution_count": 50,
   "id": "d61a03e1",
   "metadata": {},
   "outputs": [
    {
     "data": {
      "application/vnd.plotly.v1+json": {
       "config": {
        "plotlyServerURL": "https://plot.ly"
       },
       "data": [
        {
         "hovertemplate": "variable=upg<br>date=%{x}<br>value=%{y}<extra></extra>",
         "legendgroup": "upg",
         "line": {
          "color": "#636efa",
          "dash": "solid"
         },
         "marker": {
          "symbol": "circle"
         },
         "mode": "lines",
         "name": "upg",
         "orientation": "v",
         "showlegend": true,
         "type": "scatter",
         "x": [
          "2020",
          "2019",
          "2018",
          "2017",
          "2016",
          "2015",
          "2014",
          "2013",
          "2012",
          "2011",
          "2010",
          "2009",
          "2008",
          "2007",
          "2006",
          "2005",
          "2004",
          "2003",
          "2002",
          "2001",
          "2000",
          "1999",
          "1998",
          "1997",
          "1996",
          "1995",
          "1994",
          "1993",
          "1992",
          "1991",
          "1990",
          "1989",
          "1988",
          "1987",
          "1986",
          "1985",
          "1984",
          "1983",
          "1982",
          "1981",
          "1980",
          "1979",
          "1978",
          "1977",
          "1976",
          "1975",
          "1974",
          "1973",
          "1972",
          "1971",
          "1970",
          "1969",
          "1968",
          "1967",
          "1966",
          "1965",
          "1964",
          "1963",
          "1962",
          "1961",
          "1960"
         ],
         "xaxis": "x",
         "y": [
          0.83471159227682,
          0.834073787792425,
          0.827629166941799,
          0.817680365449629,
          0.806606196608505,
          0.794280173527056,
          0.80834341559503,
          0.814160811143926,
          0.812845640845071,
          0.803765493726027,
          0.793962355841937,
          0.742852100717495,
          0.63234034818948,
          0.683461848125964,
          0.760460574432746,
          0.850232377985095,
          0.937462400610863,
          0.996784059568305,
          1.02128624777223,
          1.01822826363063,
          0.996935086458799,
          0.993509166234227,
          1.03149168410839,
          1.13175443160088,
          1.27590645702219,
          1.44298464469822,
          1.64907505654067,
          1.80662857673287,
          1.83275603473287,
          1.79710607595284,
          1.73968868754316,
          1.69239511564087,
          1.66710581251278,
          1.68210945563099,
          1.7265290507595,
          1.79129582972108,
          1.84229371990017,
          1.85398730353299,
          1.81286046334106,
          1.73348106261427,
          1.43301071982537,
          1.35315788793814,
          1.36828044550139,
          1.52065345862497,
          1.77639116815926,
          2.88469036076669,
          3.16626578285749,
          3.40370747554226,
          3.56712046291549,
          3.65399492249872,
          7.7138808947558,
          8.06234992531153,
          6.90633225244491,
          4.88327166872813,
          4.67660975464513,
          4.35320727618922,
          4.0432333312117,
          3.91796155820863,
          4.09028360872586,
          4.46835495467757,
          null
         ],
         "yaxis": "y"
        },
        {
         "hovertemplate": "variable=rpg<br>date=%{x}<br>value=%{y}<extra></extra>",
         "legendgroup": "rpg",
         "line": {
          "color": "#EF553B",
          "dash": "solid"
         },
         "marker": {
          "symbol": "circle"
         },
         "mode": "lines",
         "name": "rpg",
         "orientation": "v",
         "showlegend": true,
         "type": "scatter",
         "x": [
          "2020",
          "2019",
          "2018",
          "2017",
          "2016",
          "2015",
          "2014",
          "2013",
          "2012",
          "2011",
          "2010",
          "2009",
          "2008",
          "2007",
          "2006",
          "2005",
          "2004",
          "2003",
          "2002",
          "2001",
          "2000",
          "1999",
          "1998",
          "1997",
          "1996",
          "1995",
          "1994",
          "1993",
          "1992",
          "1991",
          "1990",
          "1989",
          "1988",
          "1987",
          "1986",
          "1985",
          "1984",
          "1983",
          "1982",
          "1981",
          "1980",
          "1979",
          "1978",
          "1977",
          "1976",
          "1975",
          "1974",
          "1973",
          "1972",
          "1971",
          "1970",
          "1969",
          "1968",
          "1967",
          "1966",
          "1965",
          "1964",
          "1963",
          "1962",
          "1961",
          "1960"
         ],
         "xaxis": "x",
         "y": [
          -0.21646569602966,
          -0.163549836126003,
          -0.108409363883608,
          -0.057201467049758,
          -0.0117419488949919,
          0.0405335043368691,
          0.0516753188489674,
          0.0587366463786424,
          0.0544451050659183,
          0.050763371068688,
          0.0337880082315007,
          0.0963883562020257,
          0.30732762721258,
          0.358677629524562,
          0.431714445423357,
          0.525865383098188,
          0.609130074927365,
          0.672816794799705,
          0.693369281679098,
          0.690527342724826,
          0.673560911787086,
          0.666213991142627,
          0.704367564354985,
          0.804851375291719,
          0.949172350656428,
          1.11645873736604,
          1.18233942401418,
          1.20004611184945,
          1.22268385735183,
          1.19178169327373,
          1.13087254231275,
          1.08420262569895,
          1.05948416531983,
          1.07509624403925,
          1.12006790405211,
          1.18131545916331,
          1.23288124346659,
          1.24919225505371,
          1.20450951492977,
          1.12565143412592,
          1.26992549411,
          1.19009974561781,
          1.2052603838018,
          1.35768813868795,
          1.61344462277609,
          0.858940645657503,
          1.14154901789746,
          1.38368071141781,
          1.53920478344821,
          1.62992715835868,
          -2.68757587372764,
          -2.32840455465361,
          -0.830426325193817,
          0.876405922017617,
          0.673299961432636,
          0.350336900228236,
          0.0335641209693634,
          -0.0893482856109434,
          0.0823548313355887,
          0.460937070870891,
          null
         ],
         "yaxis": "y"
        }
       ],
       "layout": {
        "legend": {
         "title": {
          "text": "variable"
         },
         "tracegroupgap": 0
        },
        "margin": {
         "t": 60
        },
        "template": {
         "data": {
          "bar": [
           {
            "error_x": {
             "color": "#2a3f5f"
            },
            "error_y": {
             "color": "#2a3f5f"
            },
            "marker": {
             "line": {
              "color": "#E5ECF6",
              "width": 0.5
             },
             "pattern": {
              "fillmode": "overlay",
              "size": 10,
              "solidity": 0.2
             }
            },
            "type": "bar"
           }
          ],
          "barpolar": [
           {
            "marker": {
             "line": {
              "color": "#E5ECF6",
              "width": 0.5
             },
             "pattern": {
              "fillmode": "overlay",
              "size": 10,
              "solidity": 0.2
             }
            },
            "type": "barpolar"
           }
          ],
          "carpet": [
           {
            "aaxis": {
             "endlinecolor": "#2a3f5f",
             "gridcolor": "white",
             "linecolor": "white",
             "minorgridcolor": "white",
             "startlinecolor": "#2a3f5f"
            },
            "baxis": {
             "endlinecolor": "#2a3f5f",
             "gridcolor": "white",
             "linecolor": "white",
             "minorgridcolor": "white",
             "startlinecolor": "#2a3f5f"
            },
            "type": "carpet"
           }
          ],
          "choropleth": [
           {
            "colorbar": {
             "outlinewidth": 0,
             "ticks": ""
            },
            "type": "choropleth"
           }
          ],
          "contour": [
           {
            "colorbar": {
             "outlinewidth": 0,
             "ticks": ""
            },
            "colorscale": [
             [
              0,
              "#0d0887"
             ],
             [
              0.1111111111111111,
              "#46039f"
             ],
             [
              0.2222222222222222,
              "#7201a8"
             ],
             [
              0.3333333333333333,
              "#9c179e"
             ],
             [
              0.4444444444444444,
              "#bd3786"
             ],
             [
              0.5555555555555556,
              "#d8576b"
             ],
             [
              0.6666666666666666,
              "#ed7953"
             ],
             [
              0.7777777777777778,
              "#fb9f3a"
             ],
             [
              0.8888888888888888,
              "#fdca26"
             ],
             [
              1,
              "#f0f921"
             ]
            ],
            "type": "contour"
           }
          ],
          "contourcarpet": [
           {
            "colorbar": {
             "outlinewidth": 0,
             "ticks": ""
            },
            "type": "contourcarpet"
           }
          ],
          "heatmap": [
           {
            "colorbar": {
             "outlinewidth": 0,
             "ticks": ""
            },
            "colorscale": [
             [
              0,
              "#0d0887"
             ],
             [
              0.1111111111111111,
              "#46039f"
             ],
             [
              0.2222222222222222,
              "#7201a8"
             ],
             [
              0.3333333333333333,
              "#9c179e"
             ],
             [
              0.4444444444444444,
              "#bd3786"
             ],
             [
              0.5555555555555556,
              "#d8576b"
             ],
             [
              0.6666666666666666,
              "#ed7953"
             ],
             [
              0.7777777777777778,
              "#fb9f3a"
             ],
             [
              0.8888888888888888,
              "#fdca26"
             ],
             [
              1,
              "#f0f921"
             ]
            ],
            "type": "heatmap"
           }
          ],
          "heatmapgl": [
           {
            "colorbar": {
             "outlinewidth": 0,
             "ticks": ""
            },
            "colorscale": [
             [
              0,
              "#0d0887"
             ],
             [
              0.1111111111111111,
              "#46039f"
             ],
             [
              0.2222222222222222,
              "#7201a8"
             ],
             [
              0.3333333333333333,
              "#9c179e"
             ],
             [
              0.4444444444444444,
              "#bd3786"
             ],
             [
              0.5555555555555556,
              "#d8576b"
             ],
             [
              0.6666666666666666,
              "#ed7953"
             ],
             [
              0.7777777777777778,
              "#fb9f3a"
             ],
             [
              0.8888888888888888,
              "#fdca26"
             ],
             [
              1,
              "#f0f921"
             ]
            ],
            "type": "heatmapgl"
           }
          ],
          "histogram": [
           {
            "marker": {
             "pattern": {
              "fillmode": "overlay",
              "size": 10,
              "solidity": 0.2
             }
            },
            "type": "histogram"
           }
          ],
          "histogram2d": [
           {
            "colorbar": {
             "outlinewidth": 0,
             "ticks": ""
            },
            "colorscale": [
             [
              0,
              "#0d0887"
             ],
             [
              0.1111111111111111,
              "#46039f"
             ],
             [
              0.2222222222222222,
              "#7201a8"
             ],
             [
              0.3333333333333333,
              "#9c179e"
             ],
             [
              0.4444444444444444,
              "#bd3786"
             ],
             [
              0.5555555555555556,
              "#d8576b"
             ],
             [
              0.6666666666666666,
              "#ed7953"
             ],
             [
              0.7777777777777778,
              "#fb9f3a"
             ],
             [
              0.8888888888888888,
              "#fdca26"
             ],
             [
              1,
              "#f0f921"
             ]
            ],
            "type": "histogram2d"
           }
          ],
          "histogram2dcontour": [
           {
            "colorbar": {
             "outlinewidth": 0,
             "ticks": ""
            },
            "colorscale": [
             [
              0,
              "#0d0887"
             ],
             [
              0.1111111111111111,
              "#46039f"
             ],
             [
              0.2222222222222222,
              "#7201a8"
             ],
             [
              0.3333333333333333,
              "#9c179e"
             ],
             [
              0.4444444444444444,
              "#bd3786"
             ],
             [
              0.5555555555555556,
              "#d8576b"
             ],
             [
              0.6666666666666666,
              "#ed7953"
             ],
             [
              0.7777777777777778,
              "#fb9f3a"
             ],
             [
              0.8888888888888888,
              "#fdca26"
             ],
             [
              1,
              "#f0f921"
             ]
            ],
            "type": "histogram2dcontour"
           }
          ],
          "mesh3d": [
           {
            "colorbar": {
             "outlinewidth": 0,
             "ticks": ""
            },
            "type": "mesh3d"
           }
          ],
          "parcoords": [
           {
            "line": {
             "colorbar": {
              "outlinewidth": 0,
              "ticks": ""
             }
            },
            "type": "parcoords"
           }
          ],
          "pie": [
           {
            "automargin": true,
            "type": "pie"
           }
          ],
          "scatter": [
           {
            "marker": {
             "colorbar": {
              "outlinewidth": 0,
              "ticks": ""
             }
            },
            "type": "scatter"
           }
          ],
          "scatter3d": [
           {
            "line": {
             "colorbar": {
              "outlinewidth": 0,
              "ticks": ""
             }
            },
            "marker": {
             "colorbar": {
              "outlinewidth": 0,
              "ticks": ""
             }
            },
            "type": "scatter3d"
           }
          ],
          "scattercarpet": [
           {
            "marker": {
             "colorbar": {
              "outlinewidth": 0,
              "ticks": ""
             }
            },
            "type": "scattercarpet"
           }
          ],
          "scattergeo": [
           {
            "marker": {
             "colorbar": {
              "outlinewidth": 0,
              "ticks": ""
             }
            },
            "type": "scattergeo"
           }
          ],
          "scattergl": [
           {
            "marker": {
             "colorbar": {
              "outlinewidth": 0,
              "ticks": ""
             }
            },
            "type": "scattergl"
           }
          ],
          "scattermapbox": [
           {
            "marker": {
             "colorbar": {
              "outlinewidth": 0,
              "ticks": ""
             }
            },
            "type": "scattermapbox"
           }
          ],
          "scatterpolar": [
           {
            "marker": {
             "colorbar": {
              "outlinewidth": 0,
              "ticks": ""
             }
            },
            "type": "scatterpolar"
           }
          ],
          "scatterpolargl": [
           {
            "marker": {
             "colorbar": {
              "outlinewidth": 0,
              "ticks": ""
             }
            },
            "type": "scatterpolargl"
           }
          ],
          "scatterternary": [
           {
            "marker": {
             "colorbar": {
              "outlinewidth": 0,
              "ticks": ""
             }
            },
            "type": "scatterternary"
           }
          ],
          "surface": [
           {
            "colorbar": {
             "outlinewidth": 0,
             "ticks": ""
            },
            "colorscale": [
             [
              0,
              "#0d0887"
             ],
             [
              0.1111111111111111,
              "#46039f"
             ],
             [
              0.2222222222222222,
              "#7201a8"
             ],
             [
              0.3333333333333333,
              "#9c179e"
             ],
             [
              0.4444444444444444,
              "#bd3786"
             ],
             [
              0.5555555555555556,
              "#d8576b"
             ],
             [
              0.6666666666666666,
              "#ed7953"
             ],
             [
              0.7777777777777778,
              "#fb9f3a"
             ],
             [
              0.8888888888888888,
              "#fdca26"
             ],
             [
              1,
              "#f0f921"
             ]
            ],
            "type": "surface"
           }
          ],
          "table": [
           {
            "cells": {
             "fill": {
              "color": "#EBF0F8"
             },
             "line": {
              "color": "white"
             }
            },
            "header": {
             "fill": {
              "color": "#C8D4E3"
             },
             "line": {
              "color": "white"
             }
            },
            "type": "table"
           }
          ]
         },
         "layout": {
          "annotationdefaults": {
           "arrowcolor": "#2a3f5f",
           "arrowhead": 0,
           "arrowwidth": 1
          },
          "autotypenumbers": "strict",
          "coloraxis": {
           "colorbar": {
            "outlinewidth": 0,
            "ticks": ""
           }
          },
          "colorscale": {
           "diverging": [
            [
             0,
             "#8e0152"
            ],
            [
             0.1,
             "#c51b7d"
            ],
            [
             0.2,
             "#de77ae"
            ],
            [
             0.3,
             "#f1b6da"
            ],
            [
             0.4,
             "#fde0ef"
            ],
            [
             0.5,
             "#f7f7f7"
            ],
            [
             0.6,
             "#e6f5d0"
            ],
            [
             0.7,
             "#b8e186"
            ],
            [
             0.8,
             "#7fbc41"
            ],
            [
             0.9,
             "#4d9221"
            ],
            [
             1,
             "#276419"
            ]
           ],
           "sequential": [
            [
             0,
             "#0d0887"
            ],
            [
             0.1111111111111111,
             "#46039f"
            ],
            [
             0.2222222222222222,
             "#7201a8"
            ],
            [
             0.3333333333333333,
             "#9c179e"
            ],
            [
             0.4444444444444444,
             "#bd3786"
            ],
            [
             0.5555555555555556,
             "#d8576b"
            ],
            [
             0.6666666666666666,
             "#ed7953"
            ],
            [
             0.7777777777777778,
             "#fb9f3a"
            ],
            [
             0.8888888888888888,
             "#fdca26"
            ],
            [
             1,
             "#f0f921"
            ]
           ],
           "sequentialminus": [
            [
             0,
             "#0d0887"
            ],
            [
             0.1111111111111111,
             "#46039f"
            ],
            [
             0.2222222222222222,
             "#7201a8"
            ],
            [
             0.3333333333333333,
             "#9c179e"
            ],
            [
             0.4444444444444444,
             "#bd3786"
            ],
            [
             0.5555555555555556,
             "#d8576b"
            ],
            [
             0.6666666666666666,
             "#ed7953"
            ],
            [
             0.7777777777777778,
             "#fb9f3a"
            ],
            [
             0.8888888888888888,
             "#fdca26"
            ],
            [
             1,
             "#f0f921"
            ]
           ]
          },
          "colorway": [
           "#636efa",
           "#EF553B",
           "#00cc96",
           "#ab63fa",
           "#FFA15A",
           "#19d3f3",
           "#FF6692",
           "#B6E880",
           "#FF97FF",
           "#FECB52"
          ],
          "font": {
           "color": "#2a3f5f"
          },
          "geo": {
           "bgcolor": "white",
           "lakecolor": "white",
           "landcolor": "#E5ECF6",
           "showlakes": true,
           "showland": true,
           "subunitcolor": "white"
          },
          "hoverlabel": {
           "align": "left"
          },
          "hovermode": "closest",
          "mapbox": {
           "style": "light"
          },
          "paper_bgcolor": "white",
          "plot_bgcolor": "#E5ECF6",
          "polar": {
           "angularaxis": {
            "gridcolor": "white",
            "linecolor": "white",
            "ticks": ""
           },
           "bgcolor": "#E5ECF6",
           "radialaxis": {
            "gridcolor": "white",
            "linecolor": "white",
            "ticks": ""
           }
          },
          "scene": {
           "xaxis": {
            "backgroundcolor": "#E5ECF6",
            "gridcolor": "white",
            "gridwidth": 2,
            "linecolor": "white",
            "showbackground": true,
            "ticks": "",
            "zerolinecolor": "white"
           },
           "yaxis": {
            "backgroundcolor": "#E5ECF6",
            "gridcolor": "white",
            "gridwidth": 2,
            "linecolor": "white",
            "showbackground": true,
            "ticks": "",
            "zerolinecolor": "white"
           },
           "zaxis": {
            "backgroundcolor": "#E5ECF6",
            "gridcolor": "white",
            "gridwidth": 2,
            "linecolor": "white",
            "showbackground": true,
            "ticks": "",
            "zerolinecolor": "white"
           }
          },
          "shapedefaults": {
           "line": {
            "color": "#2a3f5f"
           }
          },
          "ternary": {
           "aaxis": {
            "gridcolor": "white",
            "linecolor": "white",
            "ticks": ""
           },
           "baxis": {
            "gridcolor": "white",
            "linecolor": "white",
            "ticks": ""
           },
           "bgcolor": "#E5ECF6",
           "caxis": {
            "gridcolor": "white",
            "linecolor": "white",
            "ticks": ""
           }
          },
          "title": {
           "x": 0.05
          },
          "xaxis": {
           "automargin": true,
           "gridcolor": "white",
           "linecolor": "white",
           "ticks": "",
           "title": {
            "standoff": 15
           },
           "zerolinecolor": "white",
           "zerolinewidth": 2
          },
          "yaxis": {
           "automargin": true,
           "gridcolor": "white",
           "linecolor": "white",
           "ticks": "",
           "title": {
            "standoff": 15
           },
           "zerolinecolor": "white",
           "zerolinewidth": 2
          }
         }
        },
        "xaxis": {
         "anchor": "y",
         "autorange": "reversed",
         "domain": [
          0,
          1
         ],
         "title": {
          "text": "date"
         }
        },
        "yaxis": {
         "anchor": "x",
         "domain": [
          0,
          1
         ],
         "title": {
          "text": "value"
         }
        }
       }
      },
      "text/html": [
       "<div>                            <div id=\"1e025178-ddcd-4928-bcd1-36f10da70d3c\" class=\"plotly-graph-div\" style=\"height:525px; width:100%;\"></div>            <script type=\"text/javascript\">                require([\"plotly\"], function(Plotly) {                    window.PLOTLYENV=window.PLOTLYENV || {};                                    if (document.getElementById(\"1e025178-ddcd-4928-bcd1-36f10da70d3c\")) {                    Plotly.newPlot(                        \"1e025178-ddcd-4928-bcd1-36f10da70d3c\",                        [{\"hovertemplate\":\"variable=upg<br>date=%{x}<br>value=%{y}<extra></extra>\",\"legendgroup\":\"upg\",\"line\":{\"color\":\"#636efa\",\"dash\":\"solid\"},\"marker\":{\"symbol\":\"circle\"},\"mode\":\"lines\",\"name\":\"upg\",\"orientation\":\"v\",\"showlegend\":true,\"type\":\"scatter\",\"x\":[\"2020\",\"2019\",\"2018\",\"2017\",\"2016\",\"2015\",\"2014\",\"2013\",\"2012\",\"2011\",\"2010\",\"2009\",\"2008\",\"2007\",\"2006\",\"2005\",\"2004\",\"2003\",\"2002\",\"2001\",\"2000\",\"1999\",\"1998\",\"1997\",\"1996\",\"1995\",\"1994\",\"1993\",\"1992\",\"1991\",\"1990\",\"1989\",\"1988\",\"1987\",\"1986\",\"1985\",\"1984\",\"1983\",\"1982\",\"1981\",\"1980\",\"1979\",\"1978\",\"1977\",\"1976\",\"1975\",\"1974\",\"1973\",\"1972\",\"1971\",\"1970\",\"1969\",\"1968\",\"1967\",\"1966\",\"1965\",\"1964\",\"1963\",\"1962\",\"1961\",\"1960\"],\"xaxis\":\"x\",\"y\":[0.83471159227682,0.834073787792425,0.827629166941799,0.817680365449629,0.806606196608505,0.794280173527056,0.80834341559503,0.814160811143926,0.812845640845071,0.803765493726027,0.793962355841937,0.742852100717495,0.63234034818948,0.683461848125964,0.760460574432746,0.850232377985095,0.937462400610863,0.996784059568305,1.02128624777223,1.01822826363063,0.996935086458799,0.993509166234227,1.03149168410839,1.13175443160088,1.27590645702219,1.44298464469822,1.64907505654067,1.80662857673287,1.83275603473287,1.79710607595284,1.73968868754316,1.69239511564087,1.66710581251278,1.68210945563099,1.7265290507595,1.79129582972108,1.84229371990017,1.85398730353299,1.81286046334106,1.73348106261427,1.43301071982537,1.35315788793814,1.36828044550139,1.52065345862497,1.77639116815926,2.88469036076669,3.16626578285749,3.40370747554226,3.56712046291549,3.65399492249872,7.7138808947558,8.06234992531153,6.90633225244491,4.88327166872813,4.67660975464513,4.35320727618922,4.0432333312117,3.91796155820863,4.09028360872586,4.46835495467757,null],\"yaxis\":\"y\"},{\"hovertemplate\":\"variable=rpg<br>date=%{x}<br>value=%{y}<extra></extra>\",\"legendgroup\":\"rpg\",\"line\":{\"color\":\"#EF553B\",\"dash\":\"solid\"},\"marker\":{\"symbol\":\"circle\"},\"mode\":\"lines\",\"name\":\"rpg\",\"orientation\":\"v\",\"showlegend\":true,\"type\":\"scatter\",\"x\":[\"2020\",\"2019\",\"2018\",\"2017\",\"2016\",\"2015\",\"2014\",\"2013\",\"2012\",\"2011\",\"2010\",\"2009\",\"2008\",\"2007\",\"2006\",\"2005\",\"2004\",\"2003\",\"2002\",\"2001\",\"2000\",\"1999\",\"1998\",\"1997\",\"1996\",\"1995\",\"1994\",\"1993\",\"1992\",\"1991\",\"1990\",\"1989\",\"1988\",\"1987\",\"1986\",\"1985\",\"1984\",\"1983\",\"1982\",\"1981\",\"1980\",\"1979\",\"1978\",\"1977\",\"1976\",\"1975\",\"1974\",\"1973\",\"1972\",\"1971\",\"1970\",\"1969\",\"1968\",\"1967\",\"1966\",\"1965\",\"1964\",\"1963\",\"1962\",\"1961\",\"1960\"],\"xaxis\":\"x\",\"y\":[-0.21646569602966,-0.163549836126003,-0.108409363883608,-0.057201467049758,-0.0117419488949919,0.0405335043368691,0.0516753188489674,0.0587366463786424,0.0544451050659183,0.050763371068688,0.0337880082315007,0.0963883562020257,0.30732762721258,0.358677629524562,0.431714445423357,0.525865383098188,0.609130074927365,0.672816794799705,0.693369281679098,0.690527342724826,0.673560911787086,0.666213991142627,0.704367564354985,0.804851375291719,0.949172350656428,1.11645873736604,1.18233942401418,1.20004611184945,1.22268385735183,1.19178169327373,1.13087254231275,1.08420262569895,1.05948416531983,1.07509624403925,1.12006790405211,1.18131545916331,1.23288124346659,1.24919225505371,1.20450951492977,1.12565143412592,1.26992549411,1.19009974561781,1.2052603838018,1.35768813868795,1.61344462277609,0.858940645657503,1.14154901789746,1.38368071141781,1.53920478344821,1.62992715835868,-2.68757587372764,-2.32840455465361,-0.830426325193817,0.876405922017617,0.673299961432636,0.350336900228236,0.0335641209693634,-0.0893482856109434,0.0823548313355887,0.460937070870891,null],\"yaxis\":\"y\"}],                        {\"legend\":{\"title\":{\"text\":\"variable\"},\"tracegroupgap\":0},\"margin\":{\"t\":60},\"template\":{\"data\":{\"bar\":[{\"error_x\":{\"color\":\"#2a3f5f\"},\"error_y\":{\"color\":\"#2a3f5f\"},\"marker\":{\"line\":{\"color\":\"#E5ECF6\",\"width\":0.5},\"pattern\":{\"fillmode\":\"overlay\",\"size\":10,\"solidity\":0.2}},\"type\":\"bar\"}],\"barpolar\":[{\"marker\":{\"line\":{\"color\":\"#E5ECF6\",\"width\":0.5},\"pattern\":{\"fillmode\":\"overlay\",\"size\":10,\"solidity\":0.2}},\"type\":\"barpolar\"}],\"carpet\":[{\"aaxis\":{\"endlinecolor\":\"#2a3f5f\",\"gridcolor\":\"white\",\"linecolor\":\"white\",\"minorgridcolor\":\"white\",\"startlinecolor\":\"#2a3f5f\"},\"baxis\":{\"endlinecolor\":\"#2a3f5f\",\"gridcolor\":\"white\",\"linecolor\":\"white\",\"minorgridcolor\":\"white\",\"startlinecolor\":\"#2a3f5f\"},\"type\":\"carpet\"}],\"choropleth\":[{\"colorbar\":{\"outlinewidth\":0,\"ticks\":\"\"},\"type\":\"choropleth\"}],\"contour\":[{\"colorbar\":{\"outlinewidth\":0,\"ticks\":\"\"},\"colorscale\":[[0.0,\"#0d0887\"],[0.1111111111111111,\"#46039f\"],[0.2222222222222222,\"#7201a8\"],[0.3333333333333333,\"#9c179e\"],[0.4444444444444444,\"#bd3786\"],[0.5555555555555556,\"#d8576b\"],[0.6666666666666666,\"#ed7953\"],[0.7777777777777778,\"#fb9f3a\"],[0.8888888888888888,\"#fdca26\"],[1.0,\"#f0f921\"]],\"type\":\"contour\"}],\"contourcarpet\":[{\"colorbar\":{\"outlinewidth\":0,\"ticks\":\"\"},\"type\":\"contourcarpet\"}],\"heatmap\":[{\"colorbar\":{\"outlinewidth\":0,\"ticks\":\"\"},\"colorscale\":[[0.0,\"#0d0887\"],[0.1111111111111111,\"#46039f\"],[0.2222222222222222,\"#7201a8\"],[0.3333333333333333,\"#9c179e\"],[0.4444444444444444,\"#bd3786\"],[0.5555555555555556,\"#d8576b\"],[0.6666666666666666,\"#ed7953\"],[0.7777777777777778,\"#fb9f3a\"],[0.8888888888888888,\"#fdca26\"],[1.0,\"#f0f921\"]],\"type\":\"heatmap\"}],\"heatmapgl\":[{\"colorbar\":{\"outlinewidth\":0,\"ticks\":\"\"},\"colorscale\":[[0.0,\"#0d0887\"],[0.1111111111111111,\"#46039f\"],[0.2222222222222222,\"#7201a8\"],[0.3333333333333333,\"#9c179e\"],[0.4444444444444444,\"#bd3786\"],[0.5555555555555556,\"#d8576b\"],[0.6666666666666666,\"#ed7953\"],[0.7777777777777778,\"#fb9f3a\"],[0.8888888888888888,\"#fdca26\"],[1.0,\"#f0f921\"]],\"type\":\"heatmapgl\"}],\"histogram\":[{\"marker\":{\"pattern\":{\"fillmode\":\"overlay\",\"size\":10,\"solidity\":0.2}},\"type\":\"histogram\"}],\"histogram2d\":[{\"colorbar\":{\"outlinewidth\":0,\"ticks\":\"\"},\"colorscale\":[[0.0,\"#0d0887\"],[0.1111111111111111,\"#46039f\"],[0.2222222222222222,\"#7201a8\"],[0.3333333333333333,\"#9c179e\"],[0.4444444444444444,\"#bd3786\"],[0.5555555555555556,\"#d8576b\"],[0.6666666666666666,\"#ed7953\"],[0.7777777777777778,\"#fb9f3a\"],[0.8888888888888888,\"#fdca26\"],[1.0,\"#f0f921\"]],\"type\":\"histogram2d\"}],\"histogram2dcontour\":[{\"colorbar\":{\"outlinewidth\":0,\"ticks\":\"\"},\"colorscale\":[[0.0,\"#0d0887\"],[0.1111111111111111,\"#46039f\"],[0.2222222222222222,\"#7201a8\"],[0.3333333333333333,\"#9c179e\"],[0.4444444444444444,\"#bd3786\"],[0.5555555555555556,\"#d8576b\"],[0.6666666666666666,\"#ed7953\"],[0.7777777777777778,\"#fb9f3a\"],[0.8888888888888888,\"#fdca26\"],[1.0,\"#f0f921\"]],\"type\":\"histogram2dcontour\"}],\"mesh3d\":[{\"colorbar\":{\"outlinewidth\":0,\"ticks\":\"\"},\"type\":\"mesh3d\"}],\"parcoords\":[{\"line\":{\"colorbar\":{\"outlinewidth\":0,\"ticks\":\"\"}},\"type\":\"parcoords\"}],\"pie\":[{\"automargin\":true,\"type\":\"pie\"}],\"scatter\":[{\"marker\":{\"colorbar\":{\"outlinewidth\":0,\"ticks\":\"\"}},\"type\":\"scatter\"}],\"scatter3d\":[{\"line\":{\"colorbar\":{\"outlinewidth\":0,\"ticks\":\"\"}},\"marker\":{\"colorbar\":{\"outlinewidth\":0,\"ticks\":\"\"}},\"type\":\"scatter3d\"}],\"scattercarpet\":[{\"marker\":{\"colorbar\":{\"outlinewidth\":0,\"ticks\":\"\"}},\"type\":\"scattercarpet\"}],\"scattergeo\":[{\"marker\":{\"colorbar\":{\"outlinewidth\":0,\"ticks\":\"\"}},\"type\":\"scattergeo\"}],\"scattergl\":[{\"marker\":{\"colorbar\":{\"outlinewidth\":0,\"ticks\":\"\"}},\"type\":\"scattergl\"}],\"scattermapbox\":[{\"marker\":{\"colorbar\":{\"outlinewidth\":0,\"ticks\":\"\"}},\"type\":\"scattermapbox\"}],\"scatterpolar\":[{\"marker\":{\"colorbar\":{\"outlinewidth\":0,\"ticks\":\"\"}},\"type\":\"scatterpolar\"}],\"scatterpolargl\":[{\"marker\":{\"colorbar\":{\"outlinewidth\":0,\"ticks\":\"\"}},\"type\":\"scatterpolargl\"}],\"scatterternary\":[{\"marker\":{\"colorbar\":{\"outlinewidth\":0,\"ticks\":\"\"}},\"type\":\"scatterternary\"}],\"surface\":[{\"colorbar\":{\"outlinewidth\":0,\"ticks\":\"\"},\"colorscale\":[[0.0,\"#0d0887\"],[0.1111111111111111,\"#46039f\"],[0.2222222222222222,\"#7201a8\"],[0.3333333333333333,\"#9c179e\"],[0.4444444444444444,\"#bd3786\"],[0.5555555555555556,\"#d8576b\"],[0.6666666666666666,\"#ed7953\"],[0.7777777777777778,\"#fb9f3a\"],[0.8888888888888888,\"#fdca26\"],[1.0,\"#f0f921\"]],\"type\":\"surface\"}],\"table\":[{\"cells\":{\"fill\":{\"color\":\"#EBF0F8\"},\"line\":{\"color\":\"white\"}},\"header\":{\"fill\":{\"color\":\"#C8D4E3\"},\"line\":{\"color\":\"white\"}},\"type\":\"table\"}]},\"layout\":{\"annotationdefaults\":{\"arrowcolor\":\"#2a3f5f\",\"arrowhead\":0,\"arrowwidth\":1},\"autotypenumbers\":\"strict\",\"coloraxis\":{\"colorbar\":{\"outlinewidth\":0,\"ticks\":\"\"}},\"colorscale\":{\"diverging\":[[0,\"#8e0152\"],[0.1,\"#c51b7d\"],[0.2,\"#de77ae\"],[0.3,\"#f1b6da\"],[0.4,\"#fde0ef\"],[0.5,\"#f7f7f7\"],[0.6,\"#e6f5d0\"],[0.7,\"#b8e186\"],[0.8,\"#7fbc41\"],[0.9,\"#4d9221\"],[1,\"#276419\"]],\"sequential\":[[0.0,\"#0d0887\"],[0.1111111111111111,\"#46039f\"],[0.2222222222222222,\"#7201a8\"],[0.3333333333333333,\"#9c179e\"],[0.4444444444444444,\"#bd3786\"],[0.5555555555555556,\"#d8576b\"],[0.6666666666666666,\"#ed7953\"],[0.7777777777777778,\"#fb9f3a\"],[0.8888888888888888,\"#fdca26\"],[1.0,\"#f0f921\"]],\"sequentialminus\":[[0.0,\"#0d0887\"],[0.1111111111111111,\"#46039f\"],[0.2222222222222222,\"#7201a8\"],[0.3333333333333333,\"#9c179e\"],[0.4444444444444444,\"#bd3786\"],[0.5555555555555556,\"#d8576b\"],[0.6666666666666666,\"#ed7953\"],[0.7777777777777778,\"#fb9f3a\"],[0.8888888888888888,\"#fdca26\"],[1.0,\"#f0f921\"]]},\"colorway\":[\"#636efa\",\"#EF553B\",\"#00cc96\",\"#ab63fa\",\"#FFA15A\",\"#19d3f3\",\"#FF6692\",\"#B6E880\",\"#FF97FF\",\"#FECB52\"],\"font\":{\"color\":\"#2a3f5f\"},\"geo\":{\"bgcolor\":\"white\",\"lakecolor\":\"white\",\"landcolor\":\"#E5ECF6\",\"showlakes\":true,\"showland\":true,\"subunitcolor\":\"white\"},\"hoverlabel\":{\"align\":\"left\"},\"hovermode\":\"closest\",\"mapbox\":{\"style\":\"light\"},\"paper_bgcolor\":\"white\",\"plot_bgcolor\":\"#E5ECF6\",\"polar\":{\"angularaxis\":{\"gridcolor\":\"white\",\"linecolor\":\"white\",\"ticks\":\"\"},\"bgcolor\":\"#E5ECF6\",\"radialaxis\":{\"gridcolor\":\"white\",\"linecolor\":\"white\",\"ticks\":\"\"}},\"scene\":{\"xaxis\":{\"backgroundcolor\":\"#E5ECF6\",\"gridcolor\":\"white\",\"gridwidth\":2,\"linecolor\":\"white\",\"showbackground\":true,\"ticks\":\"\",\"zerolinecolor\":\"white\"},\"yaxis\":{\"backgroundcolor\":\"#E5ECF6\",\"gridcolor\":\"white\",\"gridwidth\":2,\"linecolor\":\"white\",\"showbackground\":true,\"ticks\":\"\",\"zerolinecolor\":\"white\"},\"zaxis\":{\"backgroundcolor\":\"#E5ECF6\",\"gridcolor\":\"white\",\"gridwidth\":2,\"linecolor\":\"white\",\"showbackground\":true,\"ticks\":\"\",\"zerolinecolor\":\"white\"}},\"shapedefaults\":{\"line\":{\"color\":\"#2a3f5f\"}},\"ternary\":{\"aaxis\":{\"gridcolor\":\"white\",\"linecolor\":\"white\",\"ticks\":\"\"},\"baxis\":{\"gridcolor\":\"white\",\"linecolor\":\"white\",\"ticks\":\"\"},\"bgcolor\":\"#E5ECF6\",\"caxis\":{\"gridcolor\":\"white\",\"linecolor\":\"white\",\"ticks\":\"\"}},\"title\":{\"x\":0.05},\"xaxis\":{\"automargin\":true,\"gridcolor\":\"white\",\"linecolor\":\"white\",\"ticks\":\"\",\"title\":{\"standoff\":15},\"zerolinecolor\":\"white\",\"zerolinewidth\":2},\"yaxis\":{\"automargin\":true,\"gridcolor\":\"white\",\"linecolor\":\"white\",\"ticks\":\"\",\"title\":{\"standoff\":15},\"zerolinecolor\":\"white\",\"zerolinewidth\":2}}},\"xaxis\":{\"anchor\":\"y\",\"autorange\":\"reversed\",\"domain\":[0.0,1.0],\"title\":{\"text\":\"date\"}},\"yaxis\":{\"anchor\":\"x\",\"domain\":[0.0,1.0],\"title\":{\"text\":\"value\"}}},                        {\"responsive\": true}                    ).then(function(){\n",
       "                            \n",
       "var gd = document.getElementById('1e025178-ddcd-4928-bcd1-36f10da70d3c');\n",
       "var x = new MutationObserver(function (mutations, observer) {{\n",
       "        var display = window.getComputedStyle(gd).display;\n",
       "        if (!display || display === 'none') {{\n",
       "            console.log([gd, 'removed!']);\n",
       "            Plotly.purge(gd);\n",
       "            observer.disconnect();\n",
       "        }}\n",
       "}});\n",
       "\n",
       "// Listen for the removal of the full notebook cells\n",
       "var notebookContainer = gd.closest('#notebook-container');\n",
       "if (notebookContainer) {{\n",
       "    x.observe(notebookContainer, {childList: true});\n",
       "}}\n",
       "\n",
       "// Listen for the clearing of the current output cell\n",
       "var outputEl = gd.closest('.output');\n",
       "if (outputEl) {{\n",
       "    x.observe(outputEl, {childList: true});\n",
       "}}\n",
       "\n",
       "                        })                };                });            </script>        </div>"
      ]
     },
     "metadata": {},
     "output_type": "display_data"
    }
   ],
   "source": [
    "# Can we add in visual notes of when events happened? Directly onto the graph\n",
    "#plotting North Korean urban population growth vs rural population growth from 1960-2020\n",
    "fig = px.line(prk_pop_grow, x=prk_pop_grow.index, y=['upg', 'rpg'])\n",
    "fig['layout']['xaxis']['autorange'] = \"reversed\"\n",
    "fig.show()"
   ]
  },
  {
   "cell_type": "markdown",
   "id": "6213315e",
   "metadata": {},
   "source": [
    "Growth rates of the urban and rural populations in North Korea are nearly equivalent during the late 1970s. What might be the cause? Before 1976, growth rates appear to mirror each other in the opposite directions. What socioeconomic events would cause the rural population to fall while the urban population increases? "
   ]
  },
  {
   "cell_type": "code",
   "execution_count": 51,
   "id": "fd463f5f",
   "metadata": {},
   "outputs": [
    {
     "data": {
      "text/html": [
       "<div>\n",
       "<style scoped>\n",
       "    .dataframe tbody tr th:only-of-type {\n",
       "        vertical-align: middle;\n",
       "    }\n",
       "\n",
       "    .dataframe tbody tr th {\n",
       "        vertical-align: top;\n",
       "    }\n",
       "\n",
       "    .dataframe thead th {\n",
       "        text-align: right;\n",
       "    }\n",
       "</style>\n",
       "<table border=\"1\" class=\"dataframe\">\n",
       "  <thead>\n",
       "    <tr style=\"text-align: right;\">\n",
       "      <th></th>\n",
       "      <th>urban pop</th>\n",
       "      <th>rural pop</th>\n",
       "    </tr>\n",
       "    <tr>\n",
       "      <th>date</th>\n",
       "      <th></th>\n",
       "      <th></th>\n",
       "    </tr>\n",
       "  </thead>\n",
       "  <tbody>\n",
       "    <tr>\n",
       "      <th>2020</th>\n",
       "      <td>16081083.0</td>\n",
       "      <td>9697732.0</td>\n",
       "    </tr>\n",
       "    <tr>\n",
       "      <th>2019</th>\n",
       "      <td>15947411.0</td>\n",
       "      <td>9718747.0</td>\n",
       "    </tr>\n",
       "    <tr>\n",
       "      <th>2018</th>\n",
       "      <td>15814951.0</td>\n",
       "      <td>9734655.0</td>\n",
       "    </tr>\n",
       "    <tr>\n",
       "      <th>2017</th>\n",
       "      <td>15684602.0</td>\n",
       "      <td>9745214.0</td>\n",
       "    </tr>\n",
       "    <tr>\n",
       "      <th>2016</th>\n",
       "      <td>15556875.0</td>\n",
       "      <td>9750790.0</td>\n",
       "    </tr>\n",
       "    <tr>\n",
       "      <th>...</th>\n",
       "      <td>...</td>\n",
       "      <td>...</td>\n",
       "    </tr>\n",
       "    <tr>\n",
       "      <th>1964</th>\n",
       "      <td>5416792.0</td>\n",
       "      <td>6865625.0</td>\n",
       "    </tr>\n",
       "    <tr>\n",
       "      <th>1963</th>\n",
       "      <td>5202147.0</td>\n",
       "      <td>6863321.0</td>\n",
       "    </tr>\n",
       "    <tr>\n",
       "      <th>1962</th>\n",
       "      <td>5002270.0</td>\n",
       "      <td>6869456.0</td>\n",
       "    </tr>\n",
       "    <tr>\n",
       "      <th>1961</th>\n",
       "      <td>4801791.0</td>\n",
       "      <td>6863801.0</td>\n",
       "    </tr>\n",
       "    <tr>\n",
       "      <th>1960</th>\n",
       "      <td>4591953.0</td>\n",
       "      <td>6832236.0</td>\n",
       "    </tr>\n",
       "  </tbody>\n",
       "</table>\n",
       "<p>61 rows × 2 columns</p>\n",
       "</div>"
      ],
      "text/plain": [
       "       urban pop  rural pop\n",
       "date                       \n",
       "2020  16081083.0  9697732.0\n",
       "2019  15947411.0  9718747.0\n",
       "2018  15814951.0  9734655.0\n",
       "2017  15684602.0  9745214.0\n",
       "2016  15556875.0  9750790.0\n",
       "...          ...        ...\n",
       "1964   5416792.0  6865625.0\n",
       "1963   5202147.0  6863321.0\n",
       "1962   5002270.0  6869456.0\n",
       "1961   4801791.0  6863801.0\n",
       "1960   4591953.0  6832236.0\n",
       "\n",
       "[61 rows x 2 columns]"
      ]
     },
     "execution_count": 51,
     "metadata": {},
     "output_type": "execute_result"
    }
   ],
   "source": [
    "# Give variable for clarity - urban vs rural population total\n",
    "\n",
    "variable_labels = {'SP.URB.TOTL' : 'urban pop', 'SP.RUR.TOTL': 'rural pop'}\n",
    "\n",
    "world_pop_urban_rural = wbdata.get_dataframe(variable_labels, country=\"WLD\")\n",
    "prk_pop_urban_rural = wbdata.get_dataframe(variable_labels, country='PRK')\n",
    "prk_pop_urban_rural"
   ]
  },
  {
   "cell_type": "code",
   "execution_count": 52,
   "id": "db839d6c",
   "metadata": {},
   "outputs": [
    {
     "data": {
      "application/vnd.plotly.v1+json": {
       "config": {
        "plotlyServerURL": "https://plot.ly"
       },
       "data": [
        {
         "hovertemplate": "variable=urban pop<br>date=%{x}<br>value=%{y}<extra></extra>",
         "legendgroup": "urban pop",
         "line": {
          "color": "#636efa",
          "dash": "solid"
         },
         "marker": {
          "symbol": "circle"
         },
         "mode": "lines",
         "name": "urban pop",
         "orientation": "v",
         "showlegend": true,
         "type": "scatter",
         "x": [
          "2020",
          "2019",
          "2018",
          "2017",
          "2016",
          "2015",
          "2014",
          "2013",
          "2012",
          "2011",
          "2010",
          "2009",
          "2008",
          "2007",
          "2006",
          "2005",
          "2004",
          "2003",
          "2002",
          "2001",
          "2000",
          "1999",
          "1998",
          "1997",
          "1996",
          "1995",
          "1994",
          "1993",
          "1992",
          "1991",
          "1990",
          "1989",
          "1988",
          "1987",
          "1986",
          "1985",
          "1984",
          "1983",
          "1982",
          "1981",
          "1980",
          "1979",
          "1978",
          "1977",
          "1976",
          "1975",
          "1974",
          "1973",
          "1972",
          "1971",
          "1970",
          "1969",
          "1968",
          "1967",
          "1966",
          "1965",
          "1964",
          "1963",
          "1962",
          "1961",
          "1960"
         ],
         "xaxis": "x",
         "y": [
          16081083,
          15947411,
          15814951,
          15684602,
          15556875,
          15431897,
          15309810,
          15186553,
          15063412,
          14941466,
          14821853,
          14704639,
          14595810,
          14503806,
          14405016,
          14295887,
          14174854,
          14042591,
          13903312,
          13762042,
          13622624,
          13487490,
          13354154,
          13217115,
          13068373,
          12902692,
          12717845,
          12509838,
          12285861,
          12062742,
          11847898,
          11643564,
          11448167,
          11258896,
          11071093,
          10881588,
          10688402,
          10493293,
          10300541,
          10115489,
          9941650,
          9800201,
          9668482,
          9537091,
          9393162,
          9227776,
          8965386,
          8685965,
          8395295,
          8101103,
          7810432,
          7230596,
          6670521,
          6225381,
          5928682,
          5657804,
          5416792,
          5202147,
          5002270,
          4801791,
          4591953
         ],
         "yaxis": "y"
        },
        {
         "hovertemplate": "variable=rural pop<br>date=%{x}<br>value=%{y}<extra></extra>",
         "legendgroup": "rural pop",
         "line": {
          "color": "#EF553B",
          "dash": "solid"
         },
         "marker": {
          "symbol": "circle"
         },
         "mode": "lines",
         "name": "rural pop",
         "orientation": "v",
         "showlegend": true,
         "type": "scatter",
         "x": [
          "2020",
          "2019",
          "2018",
          "2017",
          "2016",
          "2015",
          "2014",
          "2013",
          "2012",
          "2011",
          "2010",
          "2009",
          "2008",
          "2007",
          "2006",
          "2005",
          "2004",
          "2003",
          "2002",
          "2001",
          "2000",
          "1999",
          "1998",
          "1997",
          "1996",
          "1995",
          "1994",
          "1993",
          "1992",
          "1991",
          "1990",
          "1989",
          "1988",
          "1987",
          "1986",
          "1985",
          "1984",
          "1983",
          "1982",
          "1981",
          "1980",
          "1979",
          "1978",
          "1977",
          "1976",
          "1975",
          "1974",
          "1973",
          "1972",
          "1971",
          "1970",
          "1969",
          "1968",
          "1967",
          "1966",
          "1965",
          "1964",
          "1963",
          "1962",
          "1961",
          "1960"
         ],
         "xaxis": "x",
         "y": [
          9697732,
          9718747,
          9734655,
          9745214,
          9750790,
          9751935,
          9747983,
          9742947,
          9737226,
          9731926,
          9726987,
          9723701,
          9714333,
          9684524,
          9649850,
          9608280,
          9557886,
          9499843,
          9436141,
          9370940,
          9306454,
          9243980,
          9182600,
          9118148,
          9045055,
          8959608,
          8860134,
          8755994,
          8651546,
          8546409,
          8445159,
          8350193,
          8260149,
          8173096,
          8085698,
          7995638,
          7901740,
          7804919,
          7708027,
          7615740,
          7530494,
          7435467,
          7347502,
          7259477,
          7161582,
          7046961,
          6986691,
          6907388,
          6812470,
          6708415,
          6599959,
          6779743,
          6939455,
          6997322,
          6936265,
          6889720,
          6865625,
          6863321,
          6869456,
          6863801,
          6832236
         ],
         "yaxis": "y"
        }
       ],
       "layout": {
        "legend": {
         "title": {
          "text": "variable"
         },
         "tracegroupgap": 0
        },
        "margin": {
         "t": 60
        },
        "template": {
         "data": {
          "bar": [
           {
            "error_x": {
             "color": "#2a3f5f"
            },
            "error_y": {
             "color": "#2a3f5f"
            },
            "marker": {
             "line": {
              "color": "#E5ECF6",
              "width": 0.5
             },
             "pattern": {
              "fillmode": "overlay",
              "size": 10,
              "solidity": 0.2
             }
            },
            "type": "bar"
           }
          ],
          "barpolar": [
           {
            "marker": {
             "line": {
              "color": "#E5ECF6",
              "width": 0.5
             },
             "pattern": {
              "fillmode": "overlay",
              "size": 10,
              "solidity": 0.2
             }
            },
            "type": "barpolar"
           }
          ],
          "carpet": [
           {
            "aaxis": {
             "endlinecolor": "#2a3f5f",
             "gridcolor": "white",
             "linecolor": "white",
             "minorgridcolor": "white",
             "startlinecolor": "#2a3f5f"
            },
            "baxis": {
             "endlinecolor": "#2a3f5f",
             "gridcolor": "white",
             "linecolor": "white",
             "minorgridcolor": "white",
             "startlinecolor": "#2a3f5f"
            },
            "type": "carpet"
           }
          ],
          "choropleth": [
           {
            "colorbar": {
             "outlinewidth": 0,
             "ticks": ""
            },
            "type": "choropleth"
           }
          ],
          "contour": [
           {
            "colorbar": {
             "outlinewidth": 0,
             "ticks": ""
            },
            "colorscale": [
             [
              0,
              "#0d0887"
             ],
             [
              0.1111111111111111,
              "#46039f"
             ],
             [
              0.2222222222222222,
              "#7201a8"
             ],
             [
              0.3333333333333333,
              "#9c179e"
             ],
             [
              0.4444444444444444,
              "#bd3786"
             ],
             [
              0.5555555555555556,
              "#d8576b"
             ],
             [
              0.6666666666666666,
              "#ed7953"
             ],
             [
              0.7777777777777778,
              "#fb9f3a"
             ],
             [
              0.8888888888888888,
              "#fdca26"
             ],
             [
              1,
              "#f0f921"
             ]
            ],
            "type": "contour"
           }
          ],
          "contourcarpet": [
           {
            "colorbar": {
             "outlinewidth": 0,
             "ticks": ""
            },
            "type": "contourcarpet"
           }
          ],
          "heatmap": [
           {
            "colorbar": {
             "outlinewidth": 0,
             "ticks": ""
            },
            "colorscale": [
             [
              0,
              "#0d0887"
             ],
             [
              0.1111111111111111,
              "#46039f"
             ],
             [
              0.2222222222222222,
              "#7201a8"
             ],
             [
              0.3333333333333333,
              "#9c179e"
             ],
             [
              0.4444444444444444,
              "#bd3786"
             ],
             [
              0.5555555555555556,
              "#d8576b"
             ],
             [
              0.6666666666666666,
              "#ed7953"
             ],
             [
              0.7777777777777778,
              "#fb9f3a"
             ],
             [
              0.8888888888888888,
              "#fdca26"
             ],
             [
              1,
              "#f0f921"
             ]
            ],
            "type": "heatmap"
           }
          ],
          "heatmapgl": [
           {
            "colorbar": {
             "outlinewidth": 0,
             "ticks": ""
            },
            "colorscale": [
             [
              0,
              "#0d0887"
             ],
             [
              0.1111111111111111,
              "#46039f"
             ],
             [
              0.2222222222222222,
              "#7201a8"
             ],
             [
              0.3333333333333333,
              "#9c179e"
             ],
             [
              0.4444444444444444,
              "#bd3786"
             ],
             [
              0.5555555555555556,
              "#d8576b"
             ],
             [
              0.6666666666666666,
              "#ed7953"
             ],
             [
              0.7777777777777778,
              "#fb9f3a"
             ],
             [
              0.8888888888888888,
              "#fdca26"
             ],
             [
              1,
              "#f0f921"
             ]
            ],
            "type": "heatmapgl"
           }
          ],
          "histogram": [
           {
            "marker": {
             "pattern": {
              "fillmode": "overlay",
              "size": 10,
              "solidity": 0.2
             }
            },
            "type": "histogram"
           }
          ],
          "histogram2d": [
           {
            "colorbar": {
             "outlinewidth": 0,
             "ticks": ""
            },
            "colorscale": [
             [
              0,
              "#0d0887"
             ],
             [
              0.1111111111111111,
              "#46039f"
             ],
             [
              0.2222222222222222,
              "#7201a8"
             ],
             [
              0.3333333333333333,
              "#9c179e"
             ],
             [
              0.4444444444444444,
              "#bd3786"
             ],
             [
              0.5555555555555556,
              "#d8576b"
             ],
             [
              0.6666666666666666,
              "#ed7953"
             ],
             [
              0.7777777777777778,
              "#fb9f3a"
             ],
             [
              0.8888888888888888,
              "#fdca26"
             ],
             [
              1,
              "#f0f921"
             ]
            ],
            "type": "histogram2d"
           }
          ],
          "histogram2dcontour": [
           {
            "colorbar": {
             "outlinewidth": 0,
             "ticks": ""
            },
            "colorscale": [
             [
              0,
              "#0d0887"
             ],
             [
              0.1111111111111111,
              "#46039f"
             ],
             [
              0.2222222222222222,
              "#7201a8"
             ],
             [
              0.3333333333333333,
              "#9c179e"
             ],
             [
              0.4444444444444444,
              "#bd3786"
             ],
             [
              0.5555555555555556,
              "#d8576b"
             ],
             [
              0.6666666666666666,
              "#ed7953"
             ],
             [
              0.7777777777777778,
              "#fb9f3a"
             ],
             [
              0.8888888888888888,
              "#fdca26"
             ],
             [
              1,
              "#f0f921"
             ]
            ],
            "type": "histogram2dcontour"
           }
          ],
          "mesh3d": [
           {
            "colorbar": {
             "outlinewidth": 0,
             "ticks": ""
            },
            "type": "mesh3d"
           }
          ],
          "parcoords": [
           {
            "line": {
             "colorbar": {
              "outlinewidth": 0,
              "ticks": ""
             }
            },
            "type": "parcoords"
           }
          ],
          "pie": [
           {
            "automargin": true,
            "type": "pie"
           }
          ],
          "scatter": [
           {
            "marker": {
             "colorbar": {
              "outlinewidth": 0,
              "ticks": ""
             }
            },
            "type": "scatter"
           }
          ],
          "scatter3d": [
           {
            "line": {
             "colorbar": {
              "outlinewidth": 0,
              "ticks": ""
             }
            },
            "marker": {
             "colorbar": {
              "outlinewidth": 0,
              "ticks": ""
             }
            },
            "type": "scatter3d"
           }
          ],
          "scattercarpet": [
           {
            "marker": {
             "colorbar": {
              "outlinewidth": 0,
              "ticks": ""
             }
            },
            "type": "scattercarpet"
           }
          ],
          "scattergeo": [
           {
            "marker": {
             "colorbar": {
              "outlinewidth": 0,
              "ticks": ""
             }
            },
            "type": "scattergeo"
           }
          ],
          "scattergl": [
           {
            "marker": {
             "colorbar": {
              "outlinewidth": 0,
              "ticks": ""
             }
            },
            "type": "scattergl"
           }
          ],
          "scattermapbox": [
           {
            "marker": {
             "colorbar": {
              "outlinewidth": 0,
              "ticks": ""
             }
            },
            "type": "scattermapbox"
           }
          ],
          "scatterpolar": [
           {
            "marker": {
             "colorbar": {
              "outlinewidth": 0,
              "ticks": ""
             }
            },
            "type": "scatterpolar"
           }
          ],
          "scatterpolargl": [
           {
            "marker": {
             "colorbar": {
              "outlinewidth": 0,
              "ticks": ""
             }
            },
            "type": "scatterpolargl"
           }
          ],
          "scatterternary": [
           {
            "marker": {
             "colorbar": {
              "outlinewidth": 0,
              "ticks": ""
             }
            },
            "type": "scatterternary"
           }
          ],
          "surface": [
           {
            "colorbar": {
             "outlinewidth": 0,
             "ticks": ""
            },
            "colorscale": [
             [
              0,
              "#0d0887"
             ],
             [
              0.1111111111111111,
              "#46039f"
             ],
             [
              0.2222222222222222,
              "#7201a8"
             ],
             [
              0.3333333333333333,
              "#9c179e"
             ],
             [
              0.4444444444444444,
              "#bd3786"
             ],
             [
              0.5555555555555556,
              "#d8576b"
             ],
             [
              0.6666666666666666,
              "#ed7953"
             ],
             [
              0.7777777777777778,
              "#fb9f3a"
             ],
             [
              0.8888888888888888,
              "#fdca26"
             ],
             [
              1,
              "#f0f921"
             ]
            ],
            "type": "surface"
           }
          ],
          "table": [
           {
            "cells": {
             "fill": {
              "color": "#EBF0F8"
             },
             "line": {
              "color": "white"
             }
            },
            "header": {
             "fill": {
              "color": "#C8D4E3"
             },
             "line": {
              "color": "white"
             }
            },
            "type": "table"
           }
          ]
         },
         "layout": {
          "annotationdefaults": {
           "arrowcolor": "#2a3f5f",
           "arrowhead": 0,
           "arrowwidth": 1
          },
          "autotypenumbers": "strict",
          "coloraxis": {
           "colorbar": {
            "outlinewidth": 0,
            "ticks": ""
           }
          },
          "colorscale": {
           "diverging": [
            [
             0,
             "#8e0152"
            ],
            [
             0.1,
             "#c51b7d"
            ],
            [
             0.2,
             "#de77ae"
            ],
            [
             0.3,
             "#f1b6da"
            ],
            [
             0.4,
             "#fde0ef"
            ],
            [
             0.5,
             "#f7f7f7"
            ],
            [
             0.6,
             "#e6f5d0"
            ],
            [
             0.7,
             "#b8e186"
            ],
            [
             0.8,
             "#7fbc41"
            ],
            [
             0.9,
             "#4d9221"
            ],
            [
             1,
             "#276419"
            ]
           ],
           "sequential": [
            [
             0,
             "#0d0887"
            ],
            [
             0.1111111111111111,
             "#46039f"
            ],
            [
             0.2222222222222222,
             "#7201a8"
            ],
            [
             0.3333333333333333,
             "#9c179e"
            ],
            [
             0.4444444444444444,
             "#bd3786"
            ],
            [
             0.5555555555555556,
             "#d8576b"
            ],
            [
             0.6666666666666666,
             "#ed7953"
            ],
            [
             0.7777777777777778,
             "#fb9f3a"
            ],
            [
             0.8888888888888888,
             "#fdca26"
            ],
            [
             1,
             "#f0f921"
            ]
           ],
           "sequentialminus": [
            [
             0,
             "#0d0887"
            ],
            [
             0.1111111111111111,
             "#46039f"
            ],
            [
             0.2222222222222222,
             "#7201a8"
            ],
            [
             0.3333333333333333,
             "#9c179e"
            ],
            [
             0.4444444444444444,
             "#bd3786"
            ],
            [
             0.5555555555555556,
             "#d8576b"
            ],
            [
             0.6666666666666666,
             "#ed7953"
            ],
            [
             0.7777777777777778,
             "#fb9f3a"
            ],
            [
             0.8888888888888888,
             "#fdca26"
            ],
            [
             1,
             "#f0f921"
            ]
           ]
          },
          "colorway": [
           "#636efa",
           "#EF553B",
           "#00cc96",
           "#ab63fa",
           "#FFA15A",
           "#19d3f3",
           "#FF6692",
           "#B6E880",
           "#FF97FF",
           "#FECB52"
          ],
          "font": {
           "color": "#2a3f5f"
          },
          "geo": {
           "bgcolor": "white",
           "lakecolor": "white",
           "landcolor": "#E5ECF6",
           "showlakes": true,
           "showland": true,
           "subunitcolor": "white"
          },
          "hoverlabel": {
           "align": "left"
          },
          "hovermode": "closest",
          "mapbox": {
           "style": "light"
          },
          "paper_bgcolor": "white",
          "plot_bgcolor": "#E5ECF6",
          "polar": {
           "angularaxis": {
            "gridcolor": "white",
            "linecolor": "white",
            "ticks": ""
           },
           "bgcolor": "#E5ECF6",
           "radialaxis": {
            "gridcolor": "white",
            "linecolor": "white",
            "ticks": ""
           }
          },
          "scene": {
           "xaxis": {
            "backgroundcolor": "#E5ECF6",
            "gridcolor": "white",
            "gridwidth": 2,
            "linecolor": "white",
            "showbackground": true,
            "ticks": "",
            "zerolinecolor": "white"
           },
           "yaxis": {
            "backgroundcolor": "#E5ECF6",
            "gridcolor": "white",
            "gridwidth": 2,
            "linecolor": "white",
            "showbackground": true,
            "ticks": "",
            "zerolinecolor": "white"
           },
           "zaxis": {
            "backgroundcolor": "#E5ECF6",
            "gridcolor": "white",
            "gridwidth": 2,
            "linecolor": "white",
            "showbackground": true,
            "ticks": "",
            "zerolinecolor": "white"
           }
          },
          "shapedefaults": {
           "line": {
            "color": "#2a3f5f"
           }
          },
          "ternary": {
           "aaxis": {
            "gridcolor": "white",
            "linecolor": "white",
            "ticks": ""
           },
           "baxis": {
            "gridcolor": "white",
            "linecolor": "white",
            "ticks": ""
           },
           "bgcolor": "#E5ECF6",
           "caxis": {
            "gridcolor": "white",
            "linecolor": "white",
            "ticks": ""
           }
          },
          "title": {
           "x": 0.05
          },
          "xaxis": {
           "automargin": true,
           "gridcolor": "white",
           "linecolor": "white",
           "ticks": "",
           "title": {
            "standoff": 15
           },
           "zerolinecolor": "white",
           "zerolinewidth": 2
          },
          "yaxis": {
           "automargin": true,
           "gridcolor": "white",
           "linecolor": "white",
           "ticks": "",
           "title": {
            "standoff": 15
           },
           "zerolinecolor": "white",
           "zerolinewidth": 2
          }
         }
        },
        "xaxis": {
         "anchor": "y",
         "autorange": "reversed",
         "domain": [
          0,
          1
         ],
         "title": {
          "text": "date"
         }
        },
        "yaxis": {
         "anchor": "x",
         "domain": [
          0,
          1
         ],
         "title": {
          "text": "value"
         }
        }
       }
      },
      "text/html": [
       "<div>                            <div id=\"793935fd-9a0c-4474-a1e3-84c8936a1a42\" class=\"plotly-graph-div\" style=\"height:525px; width:100%;\"></div>            <script type=\"text/javascript\">                require([\"plotly\"], function(Plotly) {                    window.PLOTLYENV=window.PLOTLYENV || {};                                    if (document.getElementById(\"793935fd-9a0c-4474-a1e3-84c8936a1a42\")) {                    Plotly.newPlot(                        \"793935fd-9a0c-4474-a1e3-84c8936a1a42\",                        [{\"hovertemplate\":\"variable=urban pop<br>date=%{x}<br>value=%{y}<extra></extra>\",\"legendgroup\":\"urban pop\",\"line\":{\"color\":\"#636efa\",\"dash\":\"solid\"},\"marker\":{\"symbol\":\"circle\"},\"mode\":\"lines\",\"name\":\"urban pop\",\"orientation\":\"v\",\"showlegend\":true,\"type\":\"scatter\",\"x\":[\"2020\",\"2019\",\"2018\",\"2017\",\"2016\",\"2015\",\"2014\",\"2013\",\"2012\",\"2011\",\"2010\",\"2009\",\"2008\",\"2007\",\"2006\",\"2005\",\"2004\",\"2003\",\"2002\",\"2001\",\"2000\",\"1999\",\"1998\",\"1997\",\"1996\",\"1995\",\"1994\",\"1993\",\"1992\",\"1991\",\"1990\",\"1989\",\"1988\",\"1987\",\"1986\",\"1985\",\"1984\",\"1983\",\"1982\",\"1981\",\"1980\",\"1979\",\"1978\",\"1977\",\"1976\",\"1975\",\"1974\",\"1973\",\"1972\",\"1971\",\"1970\",\"1969\",\"1968\",\"1967\",\"1966\",\"1965\",\"1964\",\"1963\",\"1962\",\"1961\",\"1960\"],\"xaxis\":\"x\",\"y\":[16081083.0,15947411.0,15814951.0,15684602.0,15556875.0,15431897.0,15309810.0,15186553.0,15063412.0,14941466.0,14821853.0,14704639.0,14595810.0,14503806.0,14405016.0,14295887.0,14174854.0,14042591.0,13903312.0,13762042.0,13622624.0,13487490.0,13354154.0,13217115.0,13068373.0,12902692.0,12717845.0,12509838.0,12285861.0,12062742.0,11847898.0,11643564.0,11448167.0,11258896.0,11071093.0,10881588.0,10688402.0,10493293.0,10300541.0,10115489.0,9941650.0,9800201.0,9668482.0,9537091.0,9393162.0,9227776.0,8965386.0,8685965.0,8395295.0,8101103.0,7810432.0,7230596.0,6670521.0,6225381.0,5928682.0,5657804.0,5416792.0,5202147.0,5002270.0,4801791.0,4591953.0],\"yaxis\":\"y\"},{\"hovertemplate\":\"variable=rural pop<br>date=%{x}<br>value=%{y}<extra></extra>\",\"legendgroup\":\"rural pop\",\"line\":{\"color\":\"#EF553B\",\"dash\":\"solid\"},\"marker\":{\"symbol\":\"circle\"},\"mode\":\"lines\",\"name\":\"rural pop\",\"orientation\":\"v\",\"showlegend\":true,\"type\":\"scatter\",\"x\":[\"2020\",\"2019\",\"2018\",\"2017\",\"2016\",\"2015\",\"2014\",\"2013\",\"2012\",\"2011\",\"2010\",\"2009\",\"2008\",\"2007\",\"2006\",\"2005\",\"2004\",\"2003\",\"2002\",\"2001\",\"2000\",\"1999\",\"1998\",\"1997\",\"1996\",\"1995\",\"1994\",\"1993\",\"1992\",\"1991\",\"1990\",\"1989\",\"1988\",\"1987\",\"1986\",\"1985\",\"1984\",\"1983\",\"1982\",\"1981\",\"1980\",\"1979\",\"1978\",\"1977\",\"1976\",\"1975\",\"1974\",\"1973\",\"1972\",\"1971\",\"1970\",\"1969\",\"1968\",\"1967\",\"1966\",\"1965\",\"1964\",\"1963\",\"1962\",\"1961\",\"1960\"],\"xaxis\":\"x\",\"y\":[9697732.0,9718747.0,9734655.0,9745214.0,9750790.0,9751935.0,9747983.0,9742947.0,9737226.0,9731926.0,9726987.0,9723701.0,9714333.0,9684524.0,9649850.0,9608280.0,9557886.0,9499843.0,9436141.0,9370940.0,9306454.0,9243980.0,9182600.0,9118148.0,9045055.0,8959608.0,8860134.0,8755994.0,8651546.0,8546409.0,8445159.0,8350193.0,8260149.0,8173096.0,8085698.0,7995638.0,7901740.0,7804919.0,7708027.0,7615740.0,7530494.0,7435467.0,7347502.0,7259477.0,7161582.0,7046961.0,6986691.0,6907388.0,6812470.0,6708415.0,6599959.0,6779743.0,6939455.0,6997322.0,6936265.0,6889720.0,6865625.0,6863321.0,6869456.0,6863801.0,6832236.0],\"yaxis\":\"y\"}],                        {\"legend\":{\"title\":{\"text\":\"variable\"},\"tracegroupgap\":0},\"margin\":{\"t\":60},\"template\":{\"data\":{\"bar\":[{\"error_x\":{\"color\":\"#2a3f5f\"},\"error_y\":{\"color\":\"#2a3f5f\"},\"marker\":{\"line\":{\"color\":\"#E5ECF6\",\"width\":0.5},\"pattern\":{\"fillmode\":\"overlay\",\"size\":10,\"solidity\":0.2}},\"type\":\"bar\"}],\"barpolar\":[{\"marker\":{\"line\":{\"color\":\"#E5ECF6\",\"width\":0.5},\"pattern\":{\"fillmode\":\"overlay\",\"size\":10,\"solidity\":0.2}},\"type\":\"barpolar\"}],\"carpet\":[{\"aaxis\":{\"endlinecolor\":\"#2a3f5f\",\"gridcolor\":\"white\",\"linecolor\":\"white\",\"minorgridcolor\":\"white\",\"startlinecolor\":\"#2a3f5f\"},\"baxis\":{\"endlinecolor\":\"#2a3f5f\",\"gridcolor\":\"white\",\"linecolor\":\"white\",\"minorgridcolor\":\"white\",\"startlinecolor\":\"#2a3f5f\"},\"type\":\"carpet\"}],\"choropleth\":[{\"colorbar\":{\"outlinewidth\":0,\"ticks\":\"\"},\"type\":\"choropleth\"}],\"contour\":[{\"colorbar\":{\"outlinewidth\":0,\"ticks\":\"\"},\"colorscale\":[[0.0,\"#0d0887\"],[0.1111111111111111,\"#46039f\"],[0.2222222222222222,\"#7201a8\"],[0.3333333333333333,\"#9c179e\"],[0.4444444444444444,\"#bd3786\"],[0.5555555555555556,\"#d8576b\"],[0.6666666666666666,\"#ed7953\"],[0.7777777777777778,\"#fb9f3a\"],[0.8888888888888888,\"#fdca26\"],[1.0,\"#f0f921\"]],\"type\":\"contour\"}],\"contourcarpet\":[{\"colorbar\":{\"outlinewidth\":0,\"ticks\":\"\"},\"type\":\"contourcarpet\"}],\"heatmap\":[{\"colorbar\":{\"outlinewidth\":0,\"ticks\":\"\"},\"colorscale\":[[0.0,\"#0d0887\"],[0.1111111111111111,\"#46039f\"],[0.2222222222222222,\"#7201a8\"],[0.3333333333333333,\"#9c179e\"],[0.4444444444444444,\"#bd3786\"],[0.5555555555555556,\"#d8576b\"],[0.6666666666666666,\"#ed7953\"],[0.7777777777777778,\"#fb9f3a\"],[0.8888888888888888,\"#fdca26\"],[1.0,\"#f0f921\"]],\"type\":\"heatmap\"}],\"heatmapgl\":[{\"colorbar\":{\"outlinewidth\":0,\"ticks\":\"\"},\"colorscale\":[[0.0,\"#0d0887\"],[0.1111111111111111,\"#46039f\"],[0.2222222222222222,\"#7201a8\"],[0.3333333333333333,\"#9c179e\"],[0.4444444444444444,\"#bd3786\"],[0.5555555555555556,\"#d8576b\"],[0.6666666666666666,\"#ed7953\"],[0.7777777777777778,\"#fb9f3a\"],[0.8888888888888888,\"#fdca26\"],[1.0,\"#f0f921\"]],\"type\":\"heatmapgl\"}],\"histogram\":[{\"marker\":{\"pattern\":{\"fillmode\":\"overlay\",\"size\":10,\"solidity\":0.2}},\"type\":\"histogram\"}],\"histogram2d\":[{\"colorbar\":{\"outlinewidth\":0,\"ticks\":\"\"},\"colorscale\":[[0.0,\"#0d0887\"],[0.1111111111111111,\"#46039f\"],[0.2222222222222222,\"#7201a8\"],[0.3333333333333333,\"#9c179e\"],[0.4444444444444444,\"#bd3786\"],[0.5555555555555556,\"#d8576b\"],[0.6666666666666666,\"#ed7953\"],[0.7777777777777778,\"#fb9f3a\"],[0.8888888888888888,\"#fdca26\"],[1.0,\"#f0f921\"]],\"type\":\"histogram2d\"}],\"histogram2dcontour\":[{\"colorbar\":{\"outlinewidth\":0,\"ticks\":\"\"},\"colorscale\":[[0.0,\"#0d0887\"],[0.1111111111111111,\"#46039f\"],[0.2222222222222222,\"#7201a8\"],[0.3333333333333333,\"#9c179e\"],[0.4444444444444444,\"#bd3786\"],[0.5555555555555556,\"#d8576b\"],[0.6666666666666666,\"#ed7953\"],[0.7777777777777778,\"#fb9f3a\"],[0.8888888888888888,\"#fdca26\"],[1.0,\"#f0f921\"]],\"type\":\"histogram2dcontour\"}],\"mesh3d\":[{\"colorbar\":{\"outlinewidth\":0,\"ticks\":\"\"},\"type\":\"mesh3d\"}],\"parcoords\":[{\"line\":{\"colorbar\":{\"outlinewidth\":0,\"ticks\":\"\"}},\"type\":\"parcoords\"}],\"pie\":[{\"automargin\":true,\"type\":\"pie\"}],\"scatter\":[{\"marker\":{\"colorbar\":{\"outlinewidth\":0,\"ticks\":\"\"}},\"type\":\"scatter\"}],\"scatter3d\":[{\"line\":{\"colorbar\":{\"outlinewidth\":0,\"ticks\":\"\"}},\"marker\":{\"colorbar\":{\"outlinewidth\":0,\"ticks\":\"\"}},\"type\":\"scatter3d\"}],\"scattercarpet\":[{\"marker\":{\"colorbar\":{\"outlinewidth\":0,\"ticks\":\"\"}},\"type\":\"scattercarpet\"}],\"scattergeo\":[{\"marker\":{\"colorbar\":{\"outlinewidth\":0,\"ticks\":\"\"}},\"type\":\"scattergeo\"}],\"scattergl\":[{\"marker\":{\"colorbar\":{\"outlinewidth\":0,\"ticks\":\"\"}},\"type\":\"scattergl\"}],\"scattermapbox\":[{\"marker\":{\"colorbar\":{\"outlinewidth\":0,\"ticks\":\"\"}},\"type\":\"scattermapbox\"}],\"scatterpolar\":[{\"marker\":{\"colorbar\":{\"outlinewidth\":0,\"ticks\":\"\"}},\"type\":\"scatterpolar\"}],\"scatterpolargl\":[{\"marker\":{\"colorbar\":{\"outlinewidth\":0,\"ticks\":\"\"}},\"type\":\"scatterpolargl\"}],\"scatterternary\":[{\"marker\":{\"colorbar\":{\"outlinewidth\":0,\"ticks\":\"\"}},\"type\":\"scatterternary\"}],\"surface\":[{\"colorbar\":{\"outlinewidth\":0,\"ticks\":\"\"},\"colorscale\":[[0.0,\"#0d0887\"],[0.1111111111111111,\"#46039f\"],[0.2222222222222222,\"#7201a8\"],[0.3333333333333333,\"#9c179e\"],[0.4444444444444444,\"#bd3786\"],[0.5555555555555556,\"#d8576b\"],[0.6666666666666666,\"#ed7953\"],[0.7777777777777778,\"#fb9f3a\"],[0.8888888888888888,\"#fdca26\"],[1.0,\"#f0f921\"]],\"type\":\"surface\"}],\"table\":[{\"cells\":{\"fill\":{\"color\":\"#EBF0F8\"},\"line\":{\"color\":\"white\"}},\"header\":{\"fill\":{\"color\":\"#C8D4E3\"},\"line\":{\"color\":\"white\"}},\"type\":\"table\"}]},\"layout\":{\"annotationdefaults\":{\"arrowcolor\":\"#2a3f5f\",\"arrowhead\":0,\"arrowwidth\":1},\"autotypenumbers\":\"strict\",\"coloraxis\":{\"colorbar\":{\"outlinewidth\":0,\"ticks\":\"\"}},\"colorscale\":{\"diverging\":[[0,\"#8e0152\"],[0.1,\"#c51b7d\"],[0.2,\"#de77ae\"],[0.3,\"#f1b6da\"],[0.4,\"#fde0ef\"],[0.5,\"#f7f7f7\"],[0.6,\"#e6f5d0\"],[0.7,\"#b8e186\"],[0.8,\"#7fbc41\"],[0.9,\"#4d9221\"],[1,\"#276419\"]],\"sequential\":[[0.0,\"#0d0887\"],[0.1111111111111111,\"#46039f\"],[0.2222222222222222,\"#7201a8\"],[0.3333333333333333,\"#9c179e\"],[0.4444444444444444,\"#bd3786\"],[0.5555555555555556,\"#d8576b\"],[0.6666666666666666,\"#ed7953\"],[0.7777777777777778,\"#fb9f3a\"],[0.8888888888888888,\"#fdca26\"],[1.0,\"#f0f921\"]],\"sequentialminus\":[[0.0,\"#0d0887\"],[0.1111111111111111,\"#46039f\"],[0.2222222222222222,\"#7201a8\"],[0.3333333333333333,\"#9c179e\"],[0.4444444444444444,\"#bd3786\"],[0.5555555555555556,\"#d8576b\"],[0.6666666666666666,\"#ed7953\"],[0.7777777777777778,\"#fb9f3a\"],[0.8888888888888888,\"#fdca26\"],[1.0,\"#f0f921\"]]},\"colorway\":[\"#636efa\",\"#EF553B\",\"#00cc96\",\"#ab63fa\",\"#FFA15A\",\"#19d3f3\",\"#FF6692\",\"#B6E880\",\"#FF97FF\",\"#FECB52\"],\"font\":{\"color\":\"#2a3f5f\"},\"geo\":{\"bgcolor\":\"white\",\"lakecolor\":\"white\",\"landcolor\":\"#E5ECF6\",\"showlakes\":true,\"showland\":true,\"subunitcolor\":\"white\"},\"hoverlabel\":{\"align\":\"left\"},\"hovermode\":\"closest\",\"mapbox\":{\"style\":\"light\"},\"paper_bgcolor\":\"white\",\"plot_bgcolor\":\"#E5ECF6\",\"polar\":{\"angularaxis\":{\"gridcolor\":\"white\",\"linecolor\":\"white\",\"ticks\":\"\"},\"bgcolor\":\"#E5ECF6\",\"radialaxis\":{\"gridcolor\":\"white\",\"linecolor\":\"white\",\"ticks\":\"\"}},\"scene\":{\"xaxis\":{\"backgroundcolor\":\"#E5ECF6\",\"gridcolor\":\"white\",\"gridwidth\":2,\"linecolor\":\"white\",\"showbackground\":true,\"ticks\":\"\",\"zerolinecolor\":\"white\"},\"yaxis\":{\"backgroundcolor\":\"#E5ECF6\",\"gridcolor\":\"white\",\"gridwidth\":2,\"linecolor\":\"white\",\"showbackground\":true,\"ticks\":\"\",\"zerolinecolor\":\"white\"},\"zaxis\":{\"backgroundcolor\":\"#E5ECF6\",\"gridcolor\":\"white\",\"gridwidth\":2,\"linecolor\":\"white\",\"showbackground\":true,\"ticks\":\"\",\"zerolinecolor\":\"white\"}},\"shapedefaults\":{\"line\":{\"color\":\"#2a3f5f\"}},\"ternary\":{\"aaxis\":{\"gridcolor\":\"white\",\"linecolor\":\"white\",\"ticks\":\"\"},\"baxis\":{\"gridcolor\":\"white\",\"linecolor\":\"white\",\"ticks\":\"\"},\"bgcolor\":\"#E5ECF6\",\"caxis\":{\"gridcolor\":\"white\",\"linecolor\":\"white\",\"ticks\":\"\"}},\"title\":{\"x\":0.05},\"xaxis\":{\"automargin\":true,\"gridcolor\":\"white\",\"linecolor\":\"white\",\"ticks\":\"\",\"title\":{\"standoff\":15},\"zerolinecolor\":\"white\",\"zerolinewidth\":2},\"yaxis\":{\"automargin\":true,\"gridcolor\":\"white\",\"linecolor\":\"white\",\"ticks\":\"\",\"title\":{\"standoff\":15},\"zerolinecolor\":\"white\",\"zerolinewidth\":2}}},\"xaxis\":{\"anchor\":\"y\",\"autorange\":\"reversed\",\"domain\":[0.0,1.0],\"title\":{\"text\":\"date\"}},\"yaxis\":{\"anchor\":\"x\",\"domain\":[0.0,1.0],\"title\":{\"text\":\"value\"}}},                        {\"responsive\": true}                    ).then(function(){\n",
       "                            \n",
       "var gd = document.getElementById('793935fd-9a0c-4474-a1e3-84c8936a1a42');\n",
       "var x = new MutationObserver(function (mutations, observer) {{\n",
       "        var display = window.getComputedStyle(gd).display;\n",
       "        if (!display || display === 'none') {{\n",
       "            console.log([gd, 'removed!']);\n",
       "            Plotly.purge(gd);\n",
       "            observer.disconnect();\n",
       "        }}\n",
       "}});\n",
       "\n",
       "// Listen for the removal of the full notebook cells\n",
       "var notebookContainer = gd.closest('#notebook-container');\n",
       "if (notebookContainer) {{\n",
       "    x.observe(notebookContainer, {childList: true});\n",
       "}}\n",
       "\n",
       "// Listen for the clearing of the current output cell\n",
       "var outputEl = gd.closest('.output');\n",
       "if (outputEl) {{\n",
       "    x.observe(outputEl, {childList: true});\n",
       "}}\n",
       "\n",
       "                        })                };                });            </script>        </div>"
      ]
     },
     "metadata": {},
     "output_type": "display_data"
    }
   ],
   "source": [
    "# plotting North Korea urban population total vs rural population total from 1960-2020\n",
    "\n",
    "fig = px.line(prk_pop_urban_rural, x=prk_pop_urban_rural.index, y=['urban pop', 'rural pop'])\n",
    "fig['layout']['xaxis']['autorange'] = \"reversed\"\n",
    "fig.show()"
   ]
  },
  {
   "cell_type": "markdown",
   "id": "ef71b731",
   "metadata": {},
   "source": [
    "The total population of North Korean urban areas surpasses that of rural areas in 1969. From 1969 onwards, the urban population takes on an approximately linear trend. On the other hand, the rural population first experiences a negative trend and then a positive trend until the year 2000 when it stabilizes."
   ]
  },
  {
   "cell_type": "markdown",
   "id": "c7a389bf",
   "metadata": {},
   "source": [
    "## [B] Population Pyramids\n",
    "\n",
    "### A study of North Korea's population in the 1990s.\n",
    "\n",
    "A python function that takes as input a pandas DataFrame with columns providing counts of people by age-sex groups, and constructs a “population pyramid” graph for visualizing the data.\n",
    "\n",
    "Can we add in visual notes of when events happened? Directly onto the graph?????"
   ]
  },
  {
   "cell_type": "code",
   "execution_count": 86,
   "id": "182a6264",
   "metadata": {},
   "outputs": [
    {
     "data": {
      "text/html": [
       "        <script type=\"text/javascript\">\n",
       "        window.PlotlyConfig = {MathJaxConfig: 'local'};\n",
       "        if (window.MathJax) {MathJax.Hub.Config({SVG: {font: \"STIX-Web\"}});}\n",
       "        if (typeof require !== 'undefined') {\n",
       "        require.undef(\"plotly\");\n",
       "        requirejs.config({\n",
       "            paths: {\n",
       "                'plotly': ['https://cdn.plot.ly/plotly-2.3.1.min']\n",
       "            }\n",
       "        });\n",
       "        require(['plotly'], function(Plotly) {\n",
       "            window._Plotly = Plotly;\n",
       "        });\n",
       "        }\n",
       "        </script>\n",
       "        "
      ]
     },
     "metadata": {},
     "output_type": "display_data"
    }
   ],
   "source": [
    "import cufflinks as cf\n",
    "cf.go_offline()\n",
    "import plotly.offline as py\n",
    "import plotly.graph_objs as go"
   ]
  },
  {
   "cell_type": "code",
   "execution_count": 81,
   "id": "c5c63fbd",
   "metadata": {},
   "outputs": [
    {
     "data": {
      "text/plain": [
       "id    name\n",
       "----  -------------------------\n",
       "PRK   Korea, Dem. People's Rep."
      ]
     },
     "execution_count": 81,
     "metadata": {},
     "output_type": "execute_result"
    }
   ],
   "source": [
    "wbdata.get_country('PRK')"
   ]
  },
  {
   "cell_type": "code",
   "execution_count": 87,
   "id": "93620092",
   "metadata": {},
   "outputs": [],
   "source": [
    "age_ranges = []\n",
    "for i in range(0, 80, 5):        \n",
    "    age_ranges.append(f\"{i:02d}\"+f\"{i+4:02d}\")\n",
    "age_ranges.append('80UP') #adds 80 and up"
   ]
  },
  {
   "cell_type": "markdown",
   "id": "d0668422",
   "metadata": {},
   "source": [
    "#### Getting Data on North Korea's population in 1993 and 2000."
   ]
  },
  {
   "cell_type": "code",
   "execution_count": 113,
   "id": "a804498a",
   "metadata": {},
   "outputs": [
    {
     "data": {
      "text/html": [
       "<div>\n",
       "<style scoped>\n",
       "    .dataframe tbody tr th:only-of-type {\n",
       "        vertical-align: middle;\n",
       "    }\n",
       "\n",
       "    .dataframe tbody tr th {\n",
       "        vertical-align: top;\n",
       "    }\n",
       "\n",
       "    .dataframe thead th {\n",
       "        text-align: right;\n",
       "    }\n",
       "</style>\n",
       "<table border=\"1\" class=\"dataframe\">\n",
       "  <thead>\n",
       "    <tr style=\"text-align: right;\">\n",
       "      <th></th>\n",
       "      <th></th>\n",
       "      <th>Males 0004</th>\n",
       "      <th>Males 0509</th>\n",
       "      <th>Males 1014</th>\n",
       "      <th>Males 1519</th>\n",
       "      <th>Males 2024</th>\n",
       "      <th>Males 2529</th>\n",
       "      <th>Males 3034</th>\n",
       "      <th>Males 3539</th>\n",
       "      <th>Males 4044</th>\n",
       "      <th>Males 4549</th>\n",
       "      <th>...</th>\n",
       "      <th>Females 3539</th>\n",
       "      <th>Females 4044</th>\n",
       "      <th>Females 4549</th>\n",
       "      <th>Females 5054</th>\n",
       "      <th>Females 5559</th>\n",
       "      <th>Females 6064</th>\n",
       "      <th>Females 6569</th>\n",
       "      <th>Females 7074</th>\n",
       "      <th>Females 7579</th>\n",
       "      <th>Females 80UP</th>\n",
       "    </tr>\n",
       "    <tr>\n",
       "      <th>country</th>\n",
       "      <th>date</th>\n",
       "      <th></th>\n",
       "      <th></th>\n",
       "      <th></th>\n",
       "      <th></th>\n",
       "      <th></th>\n",
       "      <th></th>\n",
       "      <th></th>\n",
       "      <th></th>\n",
       "      <th></th>\n",
       "      <th></th>\n",
       "      <th></th>\n",
       "      <th></th>\n",
       "      <th></th>\n",
       "      <th></th>\n",
       "      <th></th>\n",
       "      <th></th>\n",
       "      <th></th>\n",
       "      <th></th>\n",
       "      <th></th>\n",
       "      <th></th>\n",
       "      <th></th>\n",
       "    </tr>\n",
       "  </thead>\n",
       "  <tbody>\n",
       "    <tr>\n",
       "      <th>Korea, Dem. People's Rep.</th>\n",
       "      <th>1975</th>\n",
       "      <td>1210179</td>\n",
       "      <td>1210178</td>\n",
       "      <td>861270</td>\n",
       "      <td>918981</td>\n",
       "      <td>459657</td>\n",
       "      <td>629224</td>\n",
       "      <td>648707</td>\n",
       "      <td>572822</td>\n",
       "      <td>360297</td>\n",
       "      <td>242070</td>\n",
       "      <td>...</td>\n",
       "      <td>625635</td>\n",
       "      <td>480195</td>\n",
       "      <td>383280</td>\n",
       "      <td>308911</td>\n",
       "      <td>238356</td>\n",
       "      <td>179798</td>\n",
       "      <td>148309</td>\n",
       "      <td>111323</td>\n",
       "      <td>68615</td>\n",
       "      <td>45332</td>\n",
       "    </tr>\n",
       "  </tbody>\n",
       "</table>\n",
       "<p>1 rows × 34 columns</p>\n",
       "</div>"
      ],
      "text/plain": [
       "                                Males 0004  Males 0509  Males 1014  \\\n",
       "country                   date                                       \n",
       "Korea, Dem. People's Rep. 1975     1210179     1210178      861270   \n",
       "\n",
       "                                Males 1519  Males 2024  Males 2529  \\\n",
       "country                   date                                       \n",
       "Korea, Dem. People's Rep. 1975      918981      459657      629224   \n",
       "\n",
       "                                Males 3034  Males 3539  Males 4044  \\\n",
       "country                   date                                       \n",
       "Korea, Dem. People's Rep. 1975      648707      572822      360297   \n",
       "\n",
       "                                Males 4549  ...  Females 3539  Females 4044  \\\n",
       "country                   date              ...                               \n",
       "Korea, Dem. People's Rep. 1975      242070  ...        625635        480195   \n",
       "\n",
       "                                Females 4549  Females 5054  Females 5559  \\\n",
       "country                   date                                             \n",
       "Korea, Dem. People's Rep. 1975        383280        308911        238356   \n",
       "\n",
       "                                Females 6064  Females 6569  Females 7074  \\\n",
       "country                   date                                             \n",
       "Korea, Dem. People's Rep. 1975        179798        148309        111323   \n",
       "\n",
       "                                Females 7579  Females 80UP  \n",
       "country                   date                              \n",
       "Korea, Dem. People's Rep. 1975         68615         45332  \n",
       "\n",
       "[1 rows x 34 columns]"
      ]
     },
     "execution_count": 113,
     "metadata": {},
     "output_type": "execute_result"
    }
   ],
   "source": [
    "nk_1975 = age_sex_df(\"Korea, Dem. People's Rep.\", '1975')\n",
    "nk_1975"
   ]
  },
  {
   "cell_type": "code",
   "execution_count": 114,
   "id": "7a4aaeb3",
   "metadata": {},
   "outputs": [],
   "source": [
    "nk_1965 = age_sex_df(\"Korea, Dem. People's Rep.\", '1965')"
   ]
  },
  {
   "cell_type": "code",
   "execution_count": 116,
   "id": "49beb523",
   "metadata": {},
   "outputs": [],
   "source": [
    "male_1975 = nk_1975.iloc[:, :17].values[0]*-1\n",
    "female_1975 = nk_1975.iloc[:, 17:].values[0]\n"
   ]
  },
  {
   "cell_type": "code",
   "execution_count": 117,
   "id": "5a54ad9c",
   "metadata": {},
   "outputs": [
    {
     "data": {
      "text/html": [
       "        <script type=\"text/javascript\">\n",
       "        window.PlotlyConfig = {MathJaxConfig: 'local'};\n",
       "        if (window.MathJax) {MathJax.Hub.Config({SVG: {font: \"STIX-Web\"}});}\n",
       "        if (typeof require !== 'undefined') {\n",
       "        require.undef(\"plotly\");\n",
       "        requirejs.config({\n",
       "            paths: {\n",
       "                'plotly': ['https://cdn.plot.ly/plotly-2.3.1.min']\n",
       "            }\n",
       "        });\n",
       "        require(['plotly'], function(Plotly) {\n",
       "            window._Plotly = Plotly;\n",
       "        });\n",
       "        }\n",
       "        </script>\n",
       "        "
      ]
     },
     "metadata": {},
     "output_type": "display_data"
    }
   ],
   "source": [
    "py.init_notebook_mode(connected=True)\n",
    "\n",
    "layout = go.Layout(barmode='overlay',\n",
    "                   yaxis=go.layout.YAxis(range=[0, 90], title='Age'),\n",
    "                   xaxis=go.layout.XAxis(title='Number'))"
   ]
  },
  {
   "cell_type": "code",
   "execution_count": 120,
   "id": "21329342",
   "metadata": {},
   "outputs": [
    {
     "ename": "ValueError",
     "evalue": "\n    Invalid element(s) received for the 'data' property of \n        Invalid elements include: ['showlegend', 'hovertext', 'ysrc', 'yaxis', 'hoverinfo', 'alignmentgroup', 'uirevision', 'ycalendar', 'stream', 'texttemplate']\n\n    The 'data' property is a tuple of trace instances\n    that may be specified as:\n      - A list or tuple of trace instances\n        (e.g. [Scatter(...), Bar(...)])\n      - A single trace instance\n        (e.g. Scatter(...), Bar(...), etc.)\n      - A list or tuple of dicts of string/value properties where:\n        - The 'type' property specifies the trace type\n            One of: ['bar', 'barpolar', 'box', 'candlestick',\n                     'carpet', 'choropleth', 'choroplethmapbox',\n                     'cone', 'contour', 'contourcarpet',\n                     'densitymapbox', 'funnel', 'funnelarea',\n                     'heatmap', 'heatmapgl', 'histogram',\n                     'histogram2d', 'histogram2dcontour', 'icicle',\n                     'image', 'indicator', 'isosurface', 'mesh3d',\n                     'ohlc', 'parcats', 'parcoords', 'pie',\n                     'pointcloud', 'sankey', 'scatter',\n                     'scatter3d', 'scattercarpet', 'scattergeo',\n                     'scattergl', 'scattermapbox', 'scatterpolar',\n                     'scatterpolargl', 'scatterternary', 'splom',\n                     'streamtube', 'sunburst', 'surface', 'table',\n                     'treemap', 'violin', 'volume', 'waterfall']\n\n        - All remaining properties are passed to the constructor of\n          the specified trace type\n\n        (e.g. [{'type': 'scatter', ...}, {'type': 'bar, ...}])",
     "output_type": "error",
     "traceback": [
      "\u001b[0;31m---------------------------------------------------------------------------\u001b[0m",
      "\u001b[0;31mValueError\u001b[0m                                Traceback (most recent call last)",
      "Input \u001b[0;32mIn [120]\u001b[0m, in \u001b[0;36m<module>\u001b[0;34m\u001b[0m\n\u001b[1;32m     16\u001b[0m bins \u001b[38;5;241m+\u001b[39m\u001b[38;5;241m=\u001b[39m go\u001b[38;5;241m.\u001b[39mBar(x \u001b[38;5;241m=\u001b[39m female_1975,\n\u001b[1;32m     17\u001b[0m                 y\u001b[38;5;241m=\u001b[39m[\u001b[38;5;28mint\u001b[39m(s[:\u001b[38;5;241m2\u001b[39m])\u001b[38;5;241m+\u001b[39m\u001b[38;5;241m1\u001b[39m \u001b[38;5;28;01mfor\u001b[39;00m s \u001b[38;5;129;01min\u001b[39;00m age_ranges],\n\u001b[1;32m     18\u001b[0m                 orientation\u001b[38;5;241m=\u001b[39m\u001b[38;5;124m'\u001b[39m\u001b[38;5;124mh\u001b[39m\u001b[38;5;124m'\u001b[39m,\n\u001b[1;32m     19\u001b[0m                 name\u001b[38;5;241m=\u001b[39m\u001b[38;5;124m'\u001b[39m\u001b[38;5;124mWomen \u001b[39m\u001b[38;5;132;01m{:d}\u001b[39;00m\u001b[38;5;124m'\u001b[39m\u001b[38;5;241m+\u001b[39m\u001b[38;5;124m'\u001b[39m\u001b[38;5;124m1975\u001b[39m\u001b[38;5;124m'\u001b[39m,\n\u001b[1;32m     20\u001b[0m                 hoverinfo\u001b[38;5;241m=\u001b[39m\u001b[38;5;124m'\u001b[39m\u001b[38;5;124mskip\u001b[39m\u001b[38;5;124m'\u001b[39m,\n\u001b[1;32m     21\u001b[0m                )\n\u001b[1;32m     22\u001b[0m \u001b[38;5;66;03m#          for year in year_range_1]\u001b[39;00m\n\u001b[0;32m---> 24\u001b[0m \u001b[43mpy\u001b[49m\u001b[38;5;241;43m.\u001b[39;49m\u001b[43miplot\u001b[49m\u001b[43m(\u001b[49m\u001b[38;5;28;43mdict\u001b[39;49m\u001b[43m(\u001b[49m\u001b[43mdata\u001b[49m\u001b[38;5;241;43m=\u001b[39;49m\u001b[43mbins\u001b[49m\u001b[43m,\u001b[49m\u001b[43m \u001b[49m\u001b[43mlayout\u001b[49m\u001b[38;5;241;43m=\u001b[39;49m\u001b[43mlayout\u001b[49m\u001b[43m)\u001b[49m\u001b[43m)\u001b[49m\n",
      "File \u001b[0;32m/opt/conda/lib/python3.9/site-packages/plotly/offline/offline.py:384\u001b[0m, in \u001b[0;36miplot\u001b[0;34m(figure_or_data, show_link, link_text, validate, image, filename, image_width, image_height, config, auto_play, animation_opts)\u001b[0m\n\u001b[1;32m    381\u001b[0m config\u001b[38;5;241m.\u001b[39msetdefault(\u001b[38;5;124m\"\u001b[39m\u001b[38;5;124mlinkText\u001b[39m\u001b[38;5;124m\"\u001b[39m, link_text)\n\u001b[1;32m    383\u001b[0m \u001b[38;5;66;03m# Get figure\u001b[39;00m\n\u001b[0;32m--> 384\u001b[0m figure \u001b[38;5;241m=\u001b[39m \u001b[43mtools\u001b[49m\u001b[38;5;241;43m.\u001b[39;49m\u001b[43mreturn_figure_from_figure_or_data\u001b[49m\u001b[43m(\u001b[49m\u001b[43mfigure_or_data\u001b[49m\u001b[43m,\u001b[49m\u001b[43m \u001b[49m\u001b[43mvalidate\u001b[49m\u001b[43m)\u001b[49m\n\u001b[1;32m    386\u001b[0m \u001b[38;5;66;03m# Handle image request\u001b[39;00m\n\u001b[1;32m    387\u001b[0m post_script \u001b[38;5;241m=\u001b[39m build_save_image_post_script(\n\u001b[1;32m    388\u001b[0m     image, filename, image_height, image_width, \u001b[38;5;124m\"\u001b[39m\u001b[38;5;124miplot\u001b[39m\u001b[38;5;124m\"\u001b[39m\n\u001b[1;32m    389\u001b[0m )\n",
      "File \u001b[0;32m/opt/conda/lib/python3.9/site-packages/plotly/tools.py:553\u001b[0m, in \u001b[0;36mreturn_figure_from_figure_or_data\u001b[0;34m(figure_or_data, validate_figure)\u001b[0m\n\u001b[1;32m    550\u001b[0m \u001b[38;5;28;01mif\u001b[39;00m validate_figure \u001b[38;5;129;01mand\u001b[39;00m \u001b[38;5;129;01mnot\u001b[39;00m validated:\n\u001b[1;32m    552\u001b[0m     \u001b[38;5;28;01mtry\u001b[39;00m:\n\u001b[0;32m--> 553\u001b[0m         figure \u001b[38;5;241m=\u001b[39m \u001b[43mFigure\u001b[49m\u001b[43m(\u001b[49m\u001b[38;5;241;43m*\u001b[39;49m\u001b[38;5;241;43m*\u001b[39;49m\u001b[43mfigure\u001b[49m\u001b[43m)\u001b[49m\u001b[38;5;241m.\u001b[39mto_dict()\n\u001b[1;32m    554\u001b[0m     \u001b[38;5;28;01mexcept\u001b[39;00m exceptions\u001b[38;5;241m.\u001b[39mPlotlyError \u001b[38;5;28;01mas\u001b[39;00m err:\n\u001b[1;32m    555\u001b[0m         \u001b[38;5;28;01mraise\u001b[39;00m exceptions\u001b[38;5;241m.\u001b[39mPlotlyError(\n\u001b[1;32m    556\u001b[0m             \u001b[38;5;124m\"\u001b[39m\u001b[38;5;124mInvalid \u001b[39m\u001b[38;5;124m'\u001b[39m\u001b[38;5;124mfigure_or_data\u001b[39m\u001b[38;5;124m'\u001b[39m\u001b[38;5;124m argument. \u001b[39m\u001b[38;5;124m\"\u001b[39m\n\u001b[1;32m    557\u001b[0m             \u001b[38;5;124m\"\u001b[39m\u001b[38;5;124mPlotly will not be able to properly \u001b[39m\u001b[38;5;124m\"\u001b[39m\n\u001b[0;32m   (...)\u001b[0m\n\u001b[1;32m    564\u001b[0m             \u001b[38;5;124m\"\u001b[39m\u001b[38;5;124m\"\u001b[39m\u001b[38;5;241m.\u001b[39mformat(err)\n\u001b[1;32m    565\u001b[0m         )\n",
      "File \u001b[0;32m/opt/conda/lib/python3.9/site-packages/plotly/graph_objs/_figure.py:590\u001b[0m, in \u001b[0;36mFigure.__init__\u001b[0;34m(self, data, layout, frames, skip_invalid, **kwargs)\u001b[0m\n\u001b[1;32m      5\u001b[0m \u001b[38;5;28;01mdef\u001b[39;00m \u001b[38;5;21m__init__\u001b[39m(\n\u001b[1;32m      6\u001b[0m     \u001b[38;5;28mself\u001b[39m, data\u001b[38;5;241m=\u001b[39m\u001b[38;5;28;01mNone\u001b[39;00m, layout\u001b[38;5;241m=\u001b[39m\u001b[38;5;28;01mNone\u001b[39;00m, frames\u001b[38;5;241m=\u001b[39m\u001b[38;5;28;01mNone\u001b[39;00m, skip_invalid\u001b[38;5;241m=\u001b[39m\u001b[38;5;28;01mFalse\u001b[39;00m, \u001b[38;5;241m*\u001b[39m\u001b[38;5;241m*\u001b[39mkwargs\n\u001b[1;32m      7\u001b[0m ):\n\u001b[1;32m      8\u001b[0m     \u001b[38;5;124;03m\"\"\"\u001b[39;00m\n\u001b[1;32m      9\u001b[0m \u001b[38;5;124;03m    Create a new :class:Figure instance\u001b[39;00m\n\u001b[1;32m     10\u001b[0m \n\u001b[0;32m   (...)\u001b[0m\n\u001b[1;32m    588\u001b[0m \u001b[38;5;124;03m        is invalid AND skip_invalid is False\u001b[39;00m\n\u001b[1;32m    589\u001b[0m \u001b[38;5;124;03m    \"\"\"\u001b[39;00m\n\u001b[0;32m--> 590\u001b[0m     \u001b[38;5;28;43msuper\u001b[39;49m\u001b[43m(\u001b[49m\u001b[43mFigure\u001b[49m\u001b[43m,\u001b[49m\u001b[43m \u001b[49m\u001b[38;5;28;43mself\u001b[39;49m\u001b[43m)\u001b[49m\u001b[38;5;241;43m.\u001b[39;49m\u001b[38;5;21;43m__init__\u001b[39;49m\u001b[43m(\u001b[49m\u001b[43mdata\u001b[49m\u001b[43m,\u001b[49m\u001b[43m \u001b[49m\u001b[43mlayout\u001b[49m\u001b[43m,\u001b[49m\u001b[43m \u001b[49m\u001b[43mframes\u001b[49m\u001b[43m,\u001b[49m\u001b[43m \u001b[49m\u001b[43mskip_invalid\u001b[49m\u001b[43m,\u001b[49m\u001b[43m \u001b[49m\u001b[38;5;241;43m*\u001b[39;49m\u001b[38;5;241;43m*\u001b[39;49m\u001b[43mkwargs\u001b[49m\u001b[43m)\u001b[49m\n",
      "File \u001b[0;32m/opt/conda/lib/python3.9/site-packages/plotly/basedatatypes.py:516\u001b[0m, in \u001b[0;36mBaseFigure.__init__\u001b[0;34m(self, data, layout_plotly, frames, skip_invalid, **kwargs)\u001b[0m\n\u001b[1;32m    513\u001b[0m \u001b[38;5;28mself\u001b[39m\u001b[38;5;241m.\u001b[39m_data_validator \u001b[38;5;241m=\u001b[39m DataValidator(set_uid\u001b[38;5;241m=\u001b[39m\u001b[38;5;28mself\u001b[39m\u001b[38;5;241m.\u001b[39m_set_trace_uid)\n\u001b[1;32m    515\u001b[0m \u001b[38;5;66;03m# ### Import traces ###\u001b[39;00m\n\u001b[0;32m--> 516\u001b[0m data \u001b[38;5;241m=\u001b[39m \u001b[38;5;28;43mself\u001b[39;49m\u001b[38;5;241;43m.\u001b[39;49m\u001b[43m_data_validator\u001b[49m\u001b[38;5;241;43m.\u001b[39;49m\u001b[43mvalidate_coerce\u001b[49m\u001b[43m(\u001b[49m\n\u001b[1;32m    517\u001b[0m \u001b[43m    \u001b[49m\u001b[43mdata\u001b[49m\u001b[43m,\u001b[49m\u001b[43m \u001b[49m\u001b[43mskip_invalid\u001b[49m\u001b[38;5;241;43m=\u001b[39;49m\u001b[43mskip_invalid\u001b[49m\u001b[43m,\u001b[49m\u001b[43m \u001b[49m\u001b[43m_validate\u001b[49m\u001b[38;5;241;43m=\u001b[39;49m\u001b[38;5;28;43mself\u001b[39;49m\u001b[38;5;241;43m.\u001b[39;49m\u001b[43m_validate\u001b[49m\n\u001b[1;32m    518\u001b[0m \u001b[43m\u001b[49m\u001b[43m)\u001b[49m\n\u001b[1;32m    520\u001b[0m \u001b[38;5;66;03m# ### Save tuple of trace objects ###\u001b[39;00m\n\u001b[1;32m    521\u001b[0m \u001b[38;5;28mself\u001b[39m\u001b[38;5;241m.\u001b[39m_data_objs \u001b[38;5;241m=\u001b[39m data\n",
      "File \u001b[0;32m/opt/conda/lib/python3.9/site-packages/_plotly_utils/basevalidators.py:2694\u001b[0m, in \u001b[0;36mBaseDataValidator.validate_coerce\u001b[0;34m(self, v, skip_invalid, _validate)\u001b[0m\n\u001b[1;32m   2691\u001b[0m             invalid_els\u001b[38;5;241m.\u001b[39mappend(v_el)\n\u001b[1;32m   2693\u001b[0m \u001b[38;5;28;01mif\u001b[39;00m invalid_els:\n\u001b[0;32m-> 2694\u001b[0m     \u001b[38;5;28;43mself\u001b[39;49m\u001b[38;5;241;43m.\u001b[39;49m\u001b[43mraise_invalid_elements\u001b[49m\u001b[43m(\u001b[49m\u001b[43minvalid_els\u001b[49m\u001b[43m)\u001b[49m\n\u001b[1;32m   2696\u001b[0m v \u001b[38;5;241m=\u001b[39m to_scalar_or_list(res)\n\u001b[1;32m   2698\u001b[0m \u001b[38;5;66;03m# Set new UIDs\u001b[39;00m\n",
      "File \u001b[0;32m/opt/conda/lib/python3.9/site-packages/_plotly_utils/basevalidators.py:305\u001b[0m, in \u001b[0;36mBaseValidator.raise_invalid_elements\u001b[0;34m(self, invalid_els)\u001b[0m\n\u001b[1;32m    303\u001b[0m     \u001b[38;5;28;01mdef\u001b[39;00m \u001b[38;5;21mraise_invalid_elements\u001b[39m(\u001b[38;5;28mself\u001b[39m, invalid_els):\n\u001b[1;32m    304\u001b[0m         \u001b[38;5;28;01mif\u001b[39;00m invalid_els:\n\u001b[0;32m--> 305\u001b[0m             \u001b[38;5;28;01mraise\u001b[39;00m \u001b[38;5;167;01mValueError\u001b[39;00m(\n\u001b[1;32m    306\u001b[0m                 \u001b[38;5;124;03m\"\"\"\u001b[39;00m\n\u001b[1;32m    307\u001b[0m \u001b[38;5;124;03m    Invalid element(s) received for the '{name}' property of {pname}\u001b[39;00m\n\u001b[1;32m    308\u001b[0m \u001b[38;5;124;03m        Invalid elements include: {invalid}\u001b[39;00m\n\u001b[1;32m    309\u001b[0m \n\u001b[1;32m    310\u001b[0m \u001b[38;5;124;03m{valid_clr_desc}\"\"\"\u001b[39;00m\u001b[38;5;241m.\u001b[39mformat(\n\u001b[1;32m    311\u001b[0m                     name\u001b[38;5;241m=\u001b[39m\u001b[38;5;28mself\u001b[39m\u001b[38;5;241m.\u001b[39mplotly_name,\n\u001b[1;32m    312\u001b[0m                     pname\u001b[38;5;241m=\u001b[39m\u001b[38;5;28mself\u001b[39m\u001b[38;5;241m.\u001b[39mparent_name,\n\u001b[1;32m    313\u001b[0m                     invalid\u001b[38;5;241m=\u001b[39minvalid_els[:\u001b[38;5;241m10\u001b[39m],\n\u001b[1;32m    314\u001b[0m                     valid_clr_desc\u001b[38;5;241m=\u001b[39m\u001b[38;5;28mself\u001b[39m\u001b[38;5;241m.\u001b[39mdescription(),\n\u001b[1;32m    315\u001b[0m                 )\n\u001b[1;32m    316\u001b[0m             )\n",
      "\u001b[0;31mValueError\u001b[0m: \n    Invalid element(s) received for the 'data' property of \n        Invalid elements include: ['showlegend', 'hovertext', 'ysrc', 'yaxis', 'hoverinfo', 'alignmentgroup', 'uirevision', 'ycalendar', 'stream', 'texttemplate']\n\n    The 'data' property is a tuple of trace instances\n    that may be specified as:\n      - A list or tuple of trace instances\n        (e.g. [Scatter(...), Bar(...)])\n      - A single trace instance\n        (e.g. Scatter(...), Bar(...), etc.)\n      - A list or tuple of dicts of string/value properties where:\n        - The 'type' property specifies the trace type\n            One of: ['bar', 'barpolar', 'box', 'candlestick',\n                     'carpet', 'choropleth', 'choroplethmapbox',\n                     'cone', 'contour', 'contourcarpet',\n                     'densitymapbox', 'funnel', 'funnelarea',\n                     'heatmap', 'heatmapgl', 'histogram',\n                     'histogram2d', 'histogram2dcontour', 'icicle',\n                     'image', 'indicator', 'isosurface', 'mesh3d',\n                     'ohlc', 'parcats', 'parcoords', 'pie',\n                     'pointcloud', 'sankey', 'scatter',\n                     'scatter3d', 'scattercarpet', 'scattergeo',\n                     'scattergl', 'scattermapbox', 'scatterpolar',\n                     'scatterpolargl', 'scatterternary', 'splom',\n                     'streamtube', 'sunburst', 'surface', 'table',\n                     'treemap', 'violin', 'volume', 'waterfall']\n\n        - All remaining properties are passed to the constructor of\n          the specified trace type\n\n        (e.g. [{'type': 'scatter', ...}, {'type': 'bar, ...}])"
     ]
    }
   ],
   "source": [
    "# Count down by increments of 20 years\n",
    "year_range_1 = range(1975,1964,-10)\n",
    "year_range_2 = range(2000, 1992, -7)\n",
    "\n",
    "bins= []\n",
    "\n",
    "# This makes a list of graphs, year by year\n",
    "bins += go.Bar(x = male_1975,\n",
    "               y = [int(s[:2])+1 for s in age_ranges],\n",
    "               orientation='h',\n",
    "               name='Men {:d}'+ '1975',\n",
    "               hoverinfo='skip'\n",
    "              )\n",
    "#         for year in year_range_1]\n",
    "          \n",
    "bins += go.Bar(x = female_1975,\n",
    "                y=[int(s[:2])+1 for s in age_ranges],\n",
    "                orientation='h',\n",
    "                name='Women {:d}'+'1975',\n",
    "                hoverinfo='skip',\n",
    "               )\n",
    "#          for year in year_range_1]\n",
    "\n",
    "py.iplot(dict(data=bins, layout=layout))"
   ]
  },
  {
   "cell_type": "code",
   "execution_count": 43,
   "id": "dd7c18d3",
   "metadata": {},
   "outputs": [],
   "source": [
    "# 1993, 2000 Population Pyramid here"
   ]
  },
  {
   "cell_type": "markdown",
   "id": "49a34c93",
   "metadata": {},
   "source": [
    "### More on 90's Famine"
   ]
  },
  {
   "cell_type": "markdown",
   "id": "2a02389b",
   "metadata": {},
   "source": [
    "**Data Resources:**\n",
    "\n",
    "See https://www.ers.usda.gov/data-products/international-agricultural-productivity/.\n",
    "\n",
    "Data on TFP, output, factor use, and factor shares can be found at https://docs.google.com/spreadsheets/d/1DLn9owcS7ggojJGWlI9vKSz0hqozn6cbcqNGWgzMZ8k, which is publicly readable."
   ]
  },
  {
   "cell_type": "markdown",
   "id": "8870e511",
   "metadata": {},
   "source": [
    "`eep153_tools`"
   ]
  },
  {
   "cell_type": "code",
   "execution_count": 67,
   "id": "c254ba4b",
   "metadata": {},
   "outputs": [
    {
     "name": "stdout",
     "output_type": "stream",
     "text": [
      "Requirement already satisfied: eep153_tools in /opt/conda/lib/python3.9/site-packages (0.11)\n",
      "Requirement already satisfied: python_gnupg in /opt/conda/lib/python3.9/site-packages (0.4.8)\n",
      "Input secret passphrase for students.json.gpg to create google drive credentials: noodle octopus\n"
     ]
    }
   ],
   "source": [
    "!pip install eep153_tools\n",
    "!pip install python_gnupg\n",
    "\n",
    "from eep153_tools.sheets import decrypt_credentials\n",
    "decrypt_credentials('students.json.gpg')"
   ]
  },
  {
   "cell_type": "markdown",
   "id": "92e0bb3c",
   "metadata": {},
   "source": [
    "To check that this worked, the following gives a list of\n",
    "emails for &ldquo;service<sub>accounts</sub>&rdquo; that now have credentials&#x2013;you can\n",
    "then &ldquo;share&rdquo; google sheets with these.\n"
   ]
  },
  {
   "cell_type": "code",
   "execution_count": 68,
   "id": "43cc9ff5",
   "metadata": {},
   "outputs": [
    {
     "name": "stdout",
     "output_type": "stream",
     "text": [
      "students@eep153.iam.gserviceaccount.com\r\n"
     ]
    }
   ],
   "source": [
    "!ls ~/.eep153.service_accounts/"
   ]
  },
  {
   "cell_type": "code",
   "execution_count": 69,
   "id": "c8377249",
   "metadata": {},
   "outputs": [
    {
     "name": "stdout",
     "output_type": "stream",
     "text": [
      "Key available for students@eep153.iam.gserviceaccount.com.\n"
     ]
    },
    {
     "data": {
      "text/plain": [
       "dict_keys(['Explanation', 'Ag TFP', 'Output', 'Inputs', 'Factor Shares', 'Ag Land', 'Land Weights', 'Cropland', 'Irrig', 'Pasture', 'Labor', 'Livestock', 'Machinery', 'Fertilizer', 'Feed'])"
      ]
     },
     "execution_count": 69,
     "metadata": {},
     "output_type": "execute_result"
    }
   ],
   "source": [
    "from eep153_tools.sheets import read_sheets\n",
    "\n",
    "#### Read a bunch of google worksheets into a dictionary of dataframes\n",
    "data = read_sheets('https://docs.google.com/spreadsheets/d/1DLn9owcS7ggojJGWlI9vKSz0hqozn6cbcqNGWgzMZ8k',force_numeric=False)\n",
    "\n",
    "data.keys()"
   ]
  },
  {
   "cell_type": "markdown",
   "id": "827df9ec",
   "metadata": {},
   "source": [
    "### Visualizing data on agricultural production:"
   ]
  },
  {
   "cell_type": "code",
   "execution_count": 74,
   "id": "7bd78f3e",
   "metadata": {},
   "outputs": [
    {
     "data": {
      "application/vnd.plotly.v1+json": {
       "config": {
        "linkText": "Export to plot.ly",
        "plotlyServerURL": "https://plot.ly",
        "showLink": true
       },
       "data": [
        {
         "line": {
          "color": "rgba(255, 153, 51, 1.0)",
          "dash": "solid",
          "shape": "linear",
          "width": 1.3
         },
         "mode": "lines",
         "name": "Output",
         "text": "",
         "type": "scatter",
         "x": [
          "1961",
          "1962",
          "1963",
          "1964",
          "1965",
          "1966",
          "1967",
          "1968",
          "1969",
          "1970",
          "1971",
          "1972",
          "1973",
          "1974",
          "1975",
          "1976",
          "1977",
          "1978",
          "1979",
          "1980",
          "1981",
          "1982",
          "1983",
          "1984",
          "1985",
          "1986",
          "1987",
          "1988",
          "1989",
          "1990",
          "1991",
          "1992",
          "1993",
          "1994",
          "1995",
          "1996",
          "1997",
          "1998",
          "1999",
          "2000",
          "2001",
          "2002",
          "2003",
          "2004",
          "2005",
          "2006",
          "2007",
          "2008",
          "2009",
          "2010",
          "2011",
          "2012",
          "2013",
          "2014",
          "2015",
          "2016"
         ],
         "y": [
          14.244727348321788,
          14.288571384217272,
          14.344257628951512,
          14.385714662729765,
          14.328896900290143,
          14.385493562969613,
          14.363742365004097,
          14.367854829531263,
          14.470729989132924,
          14.490577267465351,
          14.553761592784872,
          14.566089503889124,
          14.639597400514495,
          14.702981150718097,
          14.765460412130482,
          14.81334182904819,
          14.866620952286924,
          14.895184645612133,
          14.929815733312076,
          14.918922310756487,
          14.985393965386512,
          14.914977814376615,
          14.957748906085364,
          15.015058687839781,
          15.044221437261786,
          15.099616865841677,
          15.115525910211161,
          15.12813388991849,
          15.15781698074842,
          15.165787769038603,
          15.332753792374424,
          15.285585938248332,
          15.248022491260372,
          15.145740524234206,
          14.894154805656116,
          14.813266984585457,
          14.83190179586915,
          14.994275702085584,
          15.01588519664936,
          15.009444238495066,
          15.115810661017301,
          15.134360312701707,
          15.149593045036733,
          15.166104940863654,
          15.1829105392064,
          15.169826258846497,
          15.093986384972624,
          15.156376497919373,
          15.145973447995557,
          15.149546158784354,
          15.166778856072195,
          15.194361787578336,
          15.209008659727163,
          15.19544196838141,
          15.223149249501981,
          15.194345164170311
         ]
        },
        {
         "line": {
          "color": "rgba(55, 128, 191, 1.0)",
          "dash": "solid",
          "shape": "linear",
          "width": 1.3
         },
         "mode": "lines",
         "name": "Ag TFP",
         "text": "",
         "type": "scatter",
         "x": [
          "1961",
          "1962",
          "1963",
          "1964",
          "1965",
          "1966",
          "1967",
          "1968",
          "1969",
          "1970",
          "1971",
          "1972",
          "1973",
          "1974",
          "1975",
          "1976",
          "1977",
          "1978",
          "1979",
          "1980",
          "1981",
          "1982",
          "1983",
          "1984",
          "1985",
          "1986",
          "1987",
          "1988",
          "1989",
          "1990",
          "1991",
          "1992",
          "1993",
          "1994",
          "1995",
          "1996",
          "1997",
          "1998",
          "1999",
          "2000",
          "2001",
          "2002",
          "2003",
          "2004",
          "2005",
          "2006",
          "2007",
          "2008",
          "2009",
          "2010",
          "2011",
          "2012",
          "2013",
          "2014",
          "2015",
          "2016"
         ],
         "y": [
          4.1588830833596715,
          4.143134726391533,
          4.189654742026425,
          4.23410650459726,
          4.174387269895637,
          4.204692619390966,
          4.1588830833596715,
          4.143134726391533,
          4.219507705176107,
          4.219507705176107,
          4.2626798770413155,
          4.23410650459726,
          4.276666119016055,
          4.30406509320417,
          4.343805421853684,
          4.343805421853684,
          4.3694478524670215,
          4.3694478524670215,
          4.382026634673881,
          4.343805421853684,
          4.382026634673881,
          4.290459441148391,
          4.31748811353631,
          4.343805421853684,
          4.356708826689592,
          4.394449154672439,
          4.394449154672439,
          4.382026634673881,
          4.406719247264253,
          4.406719247264253,
          4.574710978503383,
          4.553876891600541,
          4.532599493153256,
          4.564348191467836,
          4.477336814478207,
          4.442651256490317,
          4.418840607796598,
          4.553876891600541,
          4.48863636973214,
          4.465908118654584,
          4.553876891600541,
          4.574710978503383,
          4.584967478670572,
          4.59511985013459,
          4.605170185988092,
          4.584967478670572,
          4.51085950651685,
          4.584967478670572,
          4.574710978503383,
          4.553876891600541,
          4.564348191467836,
          4.574710978503383,
          4.59511985013459,
          4.624972813284271,
          4.663439094112067,
          4.624972813284271
         ]
        },
        {
         "line": {
          "color": "rgba(50, 171, 96, 1.0)",
          "dash": "solid",
          "shape": "linear",
          "width": 1.3
         },
         "mode": "lines",
         "name": "Ag Land",
         "text": "",
         "type": "scatter",
         "x": [
          "1961",
          "1962",
          "1963",
          "1964",
          "1965",
          "1966",
          "1967",
          "1968",
          "1969",
          "1970",
          "1971",
          "1972",
          "1973",
          "1974",
          "1975",
          "1976",
          "1977",
          "1978",
          "1979",
          "1980",
          "1981",
          "1982",
          "1983",
          "1984",
          "1985",
          "1986",
          "1987",
          "1988",
          "1989",
          "1990",
          "1991",
          "1992",
          "1993",
          "1994",
          "1995",
          "1996",
          "1997",
          "1998",
          "1999",
          "2000",
          "2001",
          "2002",
          "2003",
          "2004",
          "2005",
          "2006",
          "2007",
          "2008",
          "2009",
          "2010",
          "2011",
          "2012",
          "2013",
          "2014",
          "2015",
          "2016"
         ],
         "y": [
          8.110427237575024,
          8.110427237575024,
          8.110427237575024,
          8.110427237575024,
          8.110427237575024,
          8.110427237575024,
          8.110427237575024,
          8.110427237575024,
          8.110427237575024,
          8.110427237575024,
          8.110427237575024,
          8.16876982367527,
          8.236950048061455,
          8.28828304520769,
          8.337348564497175,
          8.383890344101816,
          8.397508348470257,
          8.410943391573527,
          8.424200324567073,
          8.45531778769815,
          8.468002947225466,
          8.480529207044645,
          8.492900498847193,
          8.505120610181969,
          8.51699317141357,
          8.528924114291936,
          8.540714386457584,
          8.552367266423891,
          8.567506005289827,
          8.575650760987806,
          8.585412430393381,
          8.592857095337227,
          8.596558746796978,
          8.614864218589684,
          8.614864218589684,
          8.596558746796978,
          8.596558746796978,
          8.596558746796978,
          8.596558746796978,
          8.596558746796978,
          8.596558746796978,
          8.596558746796978,
          8.596558746796978,
          8.596558746796978,
          8.605753368395717,
          8.605753368395717,
          8.605753368395717,
          8.614864218589684,
          8.618485442898109,
          8.620291149419804,
          8.61122983334262,
          8.61122983334262,
          8.61122983334262,
          8.61122983334262,
          8.61122983334262,
          8.61122983334262
         ]
        },
        {
         "line": {
          "color": "rgba(128, 0, 128, 1.0)",
          "dash": "solid",
          "shape": "linear",
          "width": 1.3
         },
         "mode": "lines",
         "name": "Irrig",
         "text": "",
         "type": "scatter",
         "x": [
          "1961",
          "1962",
          "1963",
          "1964",
          "1965",
          "1966",
          "1967",
          "1968",
          "1969",
          "1970",
          "1971",
          "1972",
          "1973",
          "1974",
          "1975",
          "1976",
          "1977",
          "1978",
          "1979",
          "1980",
          "1981",
          "1982",
          "1983",
          "1984",
          "1985",
          "1986",
          "1987",
          "1988",
          "1989",
          "1990",
          "1991",
          "1992",
          "1993",
          "1994",
          "1995",
          "1996",
          "1997",
          "1998",
          "1999",
          "2000",
          "2001",
          "2002",
          "2003",
          "2004",
          "2005",
          "2006",
          "2007",
          "2008",
          "2009",
          "2010",
          "2011",
          "2012",
          "2013",
          "2014",
          "2015",
          "2016"
         ],
         "y": [
          6.214608098422191,
          6.214608098422191,
          6.214608098422191,
          6.214608098422191,
          6.214608098422191,
          6.214608098422191,
          6.214608098422191,
          6.214608098422191,
          6.214608098422191,
          6.214608098422191,
          6.214608098422191,
          6.396929655216146,
          6.551080335043404,
          6.684611727667927,
          6.802394763324311,
          6.907755278982137,
          6.937314081223682,
          6.966024187106113,
          6.993932975223189,
          7.02108396428914,
          7.047517221357296,
          7.07326971745971,
          7.098375638590786,
          7.122866658599083,
          7.146772179452637,
          7.170119543449628,
          7.1929342212158,
          7.215239978730097,
          7.24422751560335,
          7.258412150595307,
          7.272398392570047,
          7.286191714702382,
          7.286191714702382,
          7.286191714702382,
          7.286191714702382,
          7.286191714702382,
          7.286191714702382,
          7.286191714702382,
          7.286191714702382,
          7.286191714702382,
          7.286191714702382,
          7.286191714702382,
          7.286191714702382,
          7.286191714702382,
          7.286191714702382,
          7.286191714702382,
          7.286191714702382,
          7.286191714702382,
          7.286191714702382,
          7.286191714702382,
          7.286191714702382,
          7.286191714702382,
          7.286191714702382,
          7.286191714702382,
          7.286191714702382,
          7.286191714702382
         ]
        },
        {
         "line": {
          "color": "rgba(219, 64, 82, 1.0)",
          "dash": "solid",
          "shape": "linear",
          "width": 1.3
         },
         "mode": "lines",
         "name": "Pasture",
         "text": "",
         "type": "scatter",
         "x": [
          "1961",
          "1962",
          "1963",
          "1964",
          "1965",
          "1966",
          "1967",
          "1968",
          "1969",
          "1970",
          "1971",
          "1972",
          "1973",
          "1974",
          "1975",
          "1976",
          "1977",
          "1978",
          "1979",
          "1980",
          "1981",
          "1982",
          "1983",
          "1984",
          "1985",
          "1986",
          "1987",
          "1988",
          "1989",
          "1990",
          "1991",
          "1992",
          "1993",
          "1994",
          "1995",
          "1996",
          "1997",
          "1998",
          "1999",
          "2000",
          "2001",
          "2002",
          "2003",
          "2004",
          "2005",
          "2006",
          "2007",
          "2008",
          "2009",
          "2010",
          "2011",
          "2012",
          "2013",
          "2014",
          "2015",
          "2016"
         ],
         "y": [
          3.912023005428146,
          3.912023005428146,
          3.912023005428146,
          3.912023005428146,
          3.912023005428146,
          3.912023005428146,
          3.912023005428146,
          3.912023005428146,
          3.912023005428146,
          3.912023005428146,
          3.912023005428146,
          3.912023005428146,
          3.912023005428146,
          3.912023005428146,
          3.912023005428146,
          3.912023005428146,
          3.912023005428146,
          3.912023005428146,
          3.912023005428146,
          3.912023005428146,
          3.912023005428146,
          3.912023005428146,
          3.912023005428146,
          3.912023005428146,
          3.912023005428146,
          3.912023005428146,
          3.912023005428146,
          3.912023005428146,
          3.912023005428146,
          3.912023005428146,
          3.912023005428146,
          3.912023005428146,
          3.912023005428146,
          3.912023005428146,
          3.912023005428146,
          3.912023005428146,
          3.912023005428146,
          3.912023005428146,
          3.912023005428146,
          3.912023005428146,
          3.912023005428146,
          3.912023005428146,
          3.912023005428146,
          3.912023005428146,
          3.912023005428146,
          3.912023005428146,
          3.912023005428146,
          3.912023005428146,
          3.912023005428146,
          3.912023005428146,
          3.912023005428146,
          3.912023005428146,
          3.912023005428146,
          3.912023005428146,
          3.912023005428146,
          3.912023005428146
         ]
        },
        {
         "line": {
          "color": "rgba(0, 128, 128, 1.0)",
          "dash": "solid",
          "shape": "linear",
          "width": 1.3
         },
         "mode": "lines",
         "name": "Labor",
         "text": "",
         "type": "scatter",
         "x": [
          "1961",
          "1962",
          "1963",
          "1964",
          "1965",
          "1966",
          "1967",
          "1968",
          "1969",
          "1970",
          "1971",
          "1972",
          "1973",
          "1974",
          "1975",
          "1976",
          "1977",
          "1978",
          "1979",
          "1980",
          "1981",
          "1982",
          "1983",
          "1984",
          "1985",
          "1986",
          "1987",
          "1988",
          "1989",
          "1990",
          "1991",
          "1992",
          "1993",
          "1994",
          "1995",
          "1996",
          "1997",
          "1998",
          "1999",
          "2000",
          "2001",
          "2002",
          "2003",
          "2004",
          "2005",
          "2006",
          "2007",
          "2008",
          "2009",
          "2010",
          "2011",
          "2012",
          "2013",
          "2014",
          "2015",
          "2016"
         ],
         "y": [
          8.677439540558334,
          8.679822114864455,
          8.681520484837913,
          8.684231891345675,
          8.688959234270676,
          8.695674048824253,
          8.703672758358856,
          8.712101863715663,
          8.719970756777574,
          8.726481196440007,
          8.737773460327283,
          8.747510946478448,
          8.755107121633896,
          8.760296220470051,
          8.762176509334903,
          8.760609847570002,
          8.756210091886738,
          8.750207862525711,
          8.743531633626967,
          8.737773460327283,
          8.752581469146884,
          8.764678074116606,
          8.77539495854551,
          8.787220328629298,
          8.80131894766524,
          8.818038250394299,
          8.836228571526014,
          8.85366542803745,
          8.867145589594143,
          8.87570644462861,
          8.87458787627932,
          8.896588071791218,
          8.912742634737025,
          8.92903790648844,
          8.940629184845639,
          8.952346543226227,
          8.960596138864794,
          8.972844314437573,
          8.98343977178426,
          8.993303139093733,
          9.005527777346696,
          9.013595294516504,
          9.024613022047395,
          9.035034150076132,
          9.046762057999363,
          9.058586816748646,
          9.068892008391808,
          9.079889942592118,
          9.084890521258767,
          9.093918908958932,
          9.102643796520809,
          9.112837790614945,
          9.119758993744945,
          9.127719343287845,
          9.136047767394327,
          9.145481799627687
         ]
        },
        {
         "line": {
          "color": "rgba(255, 255, 51, 1.0)",
          "dash": "solid",
          "shape": "linear",
          "width": 1.3
         },
         "mode": "lines",
         "name": "Livestock",
         "text": "",
         "type": "scatter",
         "x": [
          "1961",
          "1962",
          "1963",
          "1964",
          "1965",
          "1966",
          "1967",
          "1968",
          "1969",
          "1970",
          "1971",
          "1972",
          "1973",
          "1974",
          "1975",
          "1976",
          "1977",
          "1978",
          "1979",
          "1980",
          "1981",
          "1982",
          "1983",
          "1984",
          "1985",
          "1986",
          "1987",
          "1988",
          "1989",
          "1990",
          "1991",
          "1992",
          "1993",
          "1994",
          "1995",
          "1996",
          "1997",
          "1998",
          "1999",
          "2000",
          "2001",
          "2002",
          "2003",
          "2004",
          "2005",
          "2006",
          "2007",
          "2008",
          "2009",
          "2010",
          "2011",
          "2012",
          "2013",
          "2014",
          "2015",
          "2016"
         ],
         "y": [
          6.816735880594968,
          6.872128101338986,
          6.904750769961838,
          6.8501261661455,
          6.856461984594587,
          6.917705609835305,
          6.970730078143525,
          7.001245622069476,
          7.062191632286556,
          7.126087273299125,
          7.161622002939187,
          7.20934025660291,
          7.240649694255466,
          7.3031700512368,
          7.346655163176539,
          7.388946097618437,
          7.4413203897176174,
          7.4673710669175595,
          7.51479976048867,
          7.5595594960077,
          7.577121930876679,
          7.605392364814935,
          7.629975707027789,
          7.651595573857601,
          7.691656822810547,
          7.729735331385051,
          7.768110378525988,
          7.804659297056102,
          7.768533300926033,
          7.768956044538332,
          7.752764808851328,
          7.636752112435779,
          7.526717561352706,
          7.470793774195062,
          7.30854279753919,
          7.150701457592526,
          6.97166860472579,
          7.149131598557407,
          7.275864600546533,
          7.355641102974253,
          7.3864708488298945,
          7.413970290190444,
          7.430707082545968,
          7.4342573821331355,
          7.44600149832412,
          7.400009517162692,
          7.356918242356021,
          7.331714969726466,
          7.3343293503005365,
          7.355001921105257,
          7.370860166536716,
          7.436617265234227,
          7.357556200910353,
          7.328437352895162,
          7.349230824613334,
          7.372118028337787
         ]
        },
        {
         "line": {
          "color": "rgba(128, 128, 0, 1.0)",
          "dash": "solid",
          "shape": "linear",
          "width": 1.3
         },
         "mode": "lines",
         "name": "Machinery",
         "text": "",
         "type": "scatter",
         "x": [
          "1961",
          "1962",
          "1963",
          "1964",
          "1965",
          "1966",
          "1967",
          "1968",
          "1969",
          "1970",
          "1971",
          "1972",
          "1973",
          "1974",
          "1975",
          "1976",
          "1977",
          "1978",
          "1979",
          "1980",
          "1981",
          "1982",
          "1983",
          "1984",
          "1985",
          "1986",
          "1987",
          "1988",
          "1989",
          "1990",
          "1991",
          "1992",
          "1993",
          "1994",
          "1995",
          "1996",
          "1997",
          "1998",
          "1999",
          "2000",
          "2001",
          "2002",
          "2003",
          "2004",
          "2005",
          "2006",
          "2007",
          "2008",
          "2009",
          "2010",
          "2011",
          "2012",
          "2013",
          "2014",
          "2015",
          "2016"
         ],
         "y": [
          9.104979856318357,
          9.210340371976184,
          9.392661928770137,
          9.433483923290392,
          9.472704636443673,
          9.546812608597396,
          9.680344001221918,
          9.740968623038354,
          9.798127036878302,
          9.903487552536127,
          9.95227771670556,
          9.998797732340453,
          10.043249494911286,
          10.085809109330082,
          10.126631103850338,
          10.165851817003619,
          10.203592144986466,
          10.398183794372235,
          10.561007555452923,
          10.698739956033227,
          10.821776287072955,
          10.93131965914319,
          11.030039209893479,
          11.119882876860622,
          11.127262984158243,
          11.141861783579396,
          11.156250521031495,
          11.156250521031495,
          11.141861783579396,
          11.136179000443898,
          11.130463738627027,
          11.124715624744425,
          11.118934278935692,
          11.113119314713742,
          11.107270338809778,
          11.101386951013678,
          11.095468744009686,
          11.089515303207188,
          11.083526206566432,
          11.077501024419007,
          11.07143931928285,
          11.070537002757467,
          11.069758489678053,
          11.069758489678053,
          11.069758489678053,
          11.069758489678053,
          11.069758489678053,
          11.069758489678053,
          11.069758489678053,
          11.069758489678053,
          11.069758489678053,
          11.069758489678053,
          11.069758489678053,
          11.069758489678053,
          11.069758489678053,
          11.069758489678053
         ]
        },
        {
         "line": {
          "color": "rgba(251, 128, 114, 1.0)",
          "dash": "solid",
          "shape": "linear",
          "width": 1.3
         },
         "mode": "lines",
         "name": "Fertilizer",
         "text": "",
         "type": "scatter",
         "x": [
          "1961",
          "1962",
          "1963",
          "1964",
          "1965",
          "1966",
          "1967",
          "1968",
          "1969",
          "1970",
          "1971",
          "1972",
          "1973",
          "1974",
          "1975",
          "1976",
          "1977",
          "1978",
          "1979",
          "1980",
          "1981",
          "1982",
          "1983",
          "1984",
          "1985",
          "1986",
          "1987",
          "1988",
          "1989",
          "1990",
          "1991",
          "1992",
          "1993",
          "1994",
          "1995",
          "1996",
          "1997",
          "1998",
          "1999",
          "2000",
          "2001",
          "2002",
          "2003",
          "2004",
          "2005",
          "2006",
          "2007",
          "2008",
          "2009",
          "2010",
          "2011",
          "2012",
          "2013",
          "2014",
          "2015",
          "2016"
         ],
         "y": [
          10.714417768752456,
          11.686878772093667,
          11.759785542901755,
          11.827736204810263,
          12.0015054797889,
          12.133501952695338,
          12.220961258023925,
          12.429216196844383,
          12.433606545145677,
          12.642390217121102,
          12.731096988695978,
          12.797463917135731,
          12.819635346747276,
          12.912629513000036,
          12.957488734214095,
          13.218582235144872,
          13.322197359282914,
          13.549850869546987,
          13.52676124955207,
          13.499703321786646,
          13.574839289781847,
          13.51508091268999,
          13.531554867253307,
          13.546323068148657,
          13.646381594956303,
          13.534473028231162,
          13.521944542353518,
          13.599839021488766,
          13.610575226298733,
          13.632068373501616,
          13.606146630058436,
          13.570249201396445,
          13.548937448722729,
          12.685407602204794,
          11.554067408301403,
          11.440354772135393,
          12.050003459880285,
          11.965274158977243,
          12.441144767709657,
          12.4529327234617,
          12.49162745696578,
          12.342350263822722,
          12.342350263822722,
          12.386726145223431,
          12.377922902456833,
          12.445089546000673,
          12.487485104968359,
          12.390891082522716,
          12.348006141418841,
          12.509505028073187,
          12.506177237980511,
          12.531772785169476,
          12.560595274900763,
          12.270454904459442,
          12.085034317153118,
          12.127029438189721
         ]
        },
        {
         "line": {
          "color": "rgba(128, 177, 211, 1.0)",
          "dash": "solid",
          "shape": "linear",
          "width": 1.3
         },
         "mode": "lines",
         "name": "Feed",
         "text": "",
         "type": "scatter",
         "x": [
          "1961",
          "1962",
          "1963",
          "1964",
          "1965",
          "1966",
          "1967",
          "1968",
          "1969",
          "1970",
          "1971",
          "1972",
          "1973",
          "1974",
          "1975",
          "1976",
          "1977",
          "1978",
          "1979",
          "1980",
          "1981",
          "1982",
          "1983",
          "1984",
          "1985",
          "1986",
          "1987",
          "1988",
          "1989",
          "1990",
          "1991",
          "1992",
          "1993",
          "1994",
          "1995",
          "1996",
          "1997",
          "1998",
          "1999",
          "2000",
          "2001",
          "2002",
          "2003",
          "2004",
          "2005",
          "2006",
          "2007",
          "2008",
          "2009",
          "2010",
          "2011",
          "2012",
          "2013",
          "2014",
          "2015",
          "2016"
         ],
         "y": [
          14.971248648829468,
          15.005773003382997,
          15.091056861092303,
          15.140446668853201,
          15.080109207635308,
          15.120906095047571,
          15.06278161634757,
          15.062175542921718,
          15.21660411871371,
          15.225792161007911,
          15.260808934309187,
          15.214038779312277,
          15.36258507529143,
          15.410514398585354,
          15.424929670221653,
          15.527751779187996,
          15.569199452376306,
          15.635958062076481,
          15.67381278849807,
          15.757738794232873,
          15.777356483923514,
          15.755758995449831,
          15.721289545248,
          15.78057144120735,
          15.815280448120724,
          15.898563694975218,
          15.913269187798694,
          15.987007898782435,
          16.044584516046427,
          16.061492706346183,
          16.16379657213601,
          16.137560574180075,
          15.839968451638654,
          14.854069186786138,
          14.688438152681686,
          14.501902976398283,
          14.459029373162299,
          14.662231680641682,
          14.763334452426854,
          14.838967094980159,
          14.955865057623559,
          14.976216506530859,
          15.133462104121824,
          15.134014984492705,
          14.94366417299307,
          15.091837976781802,
          15.085742340093097,
          15.02662887221908,
          14.948003042524476,
          14.937471792679405,
          14.985737522628716,
          15.014157605590862,
          14.9870138881501,
          14.921984859853517,
          14.968386574909683,
          15.015240674806522
         ]
        }
       ],
       "layout": {
        "legend": {
         "bgcolor": "#F5F6F9",
         "font": {
          "color": "#4D5663"
         }
        },
        "paper_bgcolor": "#F5F6F9",
        "plot_bgcolor": "#F5F6F9",
        "template": {
         "data": {
          "bar": [
           {
            "error_x": {
             "color": "#2a3f5f"
            },
            "error_y": {
             "color": "#2a3f5f"
            },
            "marker": {
             "line": {
              "color": "#E5ECF6",
              "width": 0.5
             },
             "pattern": {
              "fillmode": "overlay",
              "size": 10,
              "solidity": 0.2
             }
            },
            "type": "bar"
           }
          ],
          "barpolar": [
           {
            "marker": {
             "line": {
              "color": "#E5ECF6",
              "width": 0.5
             },
             "pattern": {
              "fillmode": "overlay",
              "size": 10,
              "solidity": 0.2
             }
            },
            "type": "barpolar"
           }
          ],
          "carpet": [
           {
            "aaxis": {
             "endlinecolor": "#2a3f5f",
             "gridcolor": "white",
             "linecolor": "white",
             "minorgridcolor": "white",
             "startlinecolor": "#2a3f5f"
            },
            "baxis": {
             "endlinecolor": "#2a3f5f",
             "gridcolor": "white",
             "linecolor": "white",
             "minorgridcolor": "white",
             "startlinecolor": "#2a3f5f"
            },
            "type": "carpet"
           }
          ],
          "choropleth": [
           {
            "colorbar": {
             "outlinewidth": 0,
             "ticks": ""
            },
            "type": "choropleth"
           }
          ],
          "contour": [
           {
            "colorbar": {
             "outlinewidth": 0,
             "ticks": ""
            },
            "colorscale": [
             [
              0,
              "#0d0887"
             ],
             [
              0.1111111111111111,
              "#46039f"
             ],
             [
              0.2222222222222222,
              "#7201a8"
             ],
             [
              0.3333333333333333,
              "#9c179e"
             ],
             [
              0.4444444444444444,
              "#bd3786"
             ],
             [
              0.5555555555555556,
              "#d8576b"
             ],
             [
              0.6666666666666666,
              "#ed7953"
             ],
             [
              0.7777777777777778,
              "#fb9f3a"
             ],
             [
              0.8888888888888888,
              "#fdca26"
             ],
             [
              1,
              "#f0f921"
             ]
            ],
            "type": "contour"
           }
          ],
          "contourcarpet": [
           {
            "colorbar": {
             "outlinewidth": 0,
             "ticks": ""
            },
            "type": "contourcarpet"
           }
          ],
          "heatmap": [
           {
            "colorbar": {
             "outlinewidth": 0,
             "ticks": ""
            },
            "colorscale": [
             [
              0,
              "#0d0887"
             ],
             [
              0.1111111111111111,
              "#46039f"
             ],
             [
              0.2222222222222222,
              "#7201a8"
             ],
             [
              0.3333333333333333,
              "#9c179e"
             ],
             [
              0.4444444444444444,
              "#bd3786"
             ],
             [
              0.5555555555555556,
              "#d8576b"
             ],
             [
              0.6666666666666666,
              "#ed7953"
             ],
             [
              0.7777777777777778,
              "#fb9f3a"
             ],
             [
              0.8888888888888888,
              "#fdca26"
             ],
             [
              1,
              "#f0f921"
             ]
            ],
            "type": "heatmap"
           }
          ],
          "heatmapgl": [
           {
            "colorbar": {
             "outlinewidth": 0,
             "ticks": ""
            },
            "colorscale": [
             [
              0,
              "#0d0887"
             ],
             [
              0.1111111111111111,
              "#46039f"
             ],
             [
              0.2222222222222222,
              "#7201a8"
             ],
             [
              0.3333333333333333,
              "#9c179e"
             ],
             [
              0.4444444444444444,
              "#bd3786"
             ],
             [
              0.5555555555555556,
              "#d8576b"
             ],
             [
              0.6666666666666666,
              "#ed7953"
             ],
             [
              0.7777777777777778,
              "#fb9f3a"
             ],
             [
              0.8888888888888888,
              "#fdca26"
             ],
             [
              1,
              "#f0f921"
             ]
            ],
            "type": "heatmapgl"
           }
          ],
          "histogram": [
           {
            "marker": {
             "pattern": {
              "fillmode": "overlay",
              "size": 10,
              "solidity": 0.2
             }
            },
            "type": "histogram"
           }
          ],
          "histogram2d": [
           {
            "colorbar": {
             "outlinewidth": 0,
             "ticks": ""
            },
            "colorscale": [
             [
              0,
              "#0d0887"
             ],
             [
              0.1111111111111111,
              "#46039f"
             ],
             [
              0.2222222222222222,
              "#7201a8"
             ],
             [
              0.3333333333333333,
              "#9c179e"
             ],
             [
              0.4444444444444444,
              "#bd3786"
             ],
             [
              0.5555555555555556,
              "#d8576b"
             ],
             [
              0.6666666666666666,
              "#ed7953"
             ],
             [
              0.7777777777777778,
              "#fb9f3a"
             ],
             [
              0.8888888888888888,
              "#fdca26"
             ],
             [
              1,
              "#f0f921"
             ]
            ],
            "type": "histogram2d"
           }
          ],
          "histogram2dcontour": [
           {
            "colorbar": {
             "outlinewidth": 0,
             "ticks": ""
            },
            "colorscale": [
             [
              0,
              "#0d0887"
             ],
             [
              0.1111111111111111,
              "#46039f"
             ],
             [
              0.2222222222222222,
              "#7201a8"
             ],
             [
              0.3333333333333333,
              "#9c179e"
             ],
             [
              0.4444444444444444,
              "#bd3786"
             ],
             [
              0.5555555555555556,
              "#d8576b"
             ],
             [
              0.6666666666666666,
              "#ed7953"
             ],
             [
              0.7777777777777778,
              "#fb9f3a"
             ],
             [
              0.8888888888888888,
              "#fdca26"
             ],
             [
              1,
              "#f0f921"
             ]
            ],
            "type": "histogram2dcontour"
           }
          ],
          "mesh3d": [
           {
            "colorbar": {
             "outlinewidth": 0,
             "ticks": ""
            },
            "type": "mesh3d"
           }
          ],
          "parcoords": [
           {
            "line": {
             "colorbar": {
              "outlinewidth": 0,
              "ticks": ""
             }
            },
            "type": "parcoords"
           }
          ],
          "pie": [
           {
            "automargin": true,
            "type": "pie"
           }
          ],
          "scatter": [
           {
            "marker": {
             "colorbar": {
              "outlinewidth": 0,
              "ticks": ""
             }
            },
            "type": "scatter"
           }
          ],
          "scatter3d": [
           {
            "line": {
             "colorbar": {
              "outlinewidth": 0,
              "ticks": ""
             }
            },
            "marker": {
             "colorbar": {
              "outlinewidth": 0,
              "ticks": ""
             }
            },
            "type": "scatter3d"
           }
          ],
          "scattercarpet": [
           {
            "marker": {
             "colorbar": {
              "outlinewidth": 0,
              "ticks": ""
             }
            },
            "type": "scattercarpet"
           }
          ],
          "scattergeo": [
           {
            "marker": {
             "colorbar": {
              "outlinewidth": 0,
              "ticks": ""
             }
            },
            "type": "scattergeo"
           }
          ],
          "scattergl": [
           {
            "marker": {
             "colorbar": {
              "outlinewidth": 0,
              "ticks": ""
             }
            },
            "type": "scattergl"
           }
          ],
          "scattermapbox": [
           {
            "marker": {
             "colorbar": {
              "outlinewidth": 0,
              "ticks": ""
             }
            },
            "type": "scattermapbox"
           }
          ],
          "scatterpolar": [
           {
            "marker": {
             "colorbar": {
              "outlinewidth": 0,
              "ticks": ""
             }
            },
            "type": "scatterpolar"
           }
          ],
          "scatterpolargl": [
           {
            "marker": {
             "colorbar": {
              "outlinewidth": 0,
              "ticks": ""
             }
            },
            "type": "scatterpolargl"
           }
          ],
          "scatterternary": [
           {
            "marker": {
             "colorbar": {
              "outlinewidth": 0,
              "ticks": ""
             }
            },
            "type": "scatterternary"
           }
          ],
          "surface": [
           {
            "colorbar": {
             "outlinewidth": 0,
             "ticks": ""
            },
            "colorscale": [
             [
              0,
              "#0d0887"
             ],
             [
              0.1111111111111111,
              "#46039f"
             ],
             [
              0.2222222222222222,
              "#7201a8"
             ],
             [
              0.3333333333333333,
              "#9c179e"
             ],
             [
              0.4444444444444444,
              "#bd3786"
             ],
             [
              0.5555555555555556,
              "#d8576b"
             ],
             [
              0.6666666666666666,
              "#ed7953"
             ],
             [
              0.7777777777777778,
              "#fb9f3a"
             ],
             [
              0.8888888888888888,
              "#fdca26"
             ],
             [
              1,
              "#f0f921"
             ]
            ],
            "type": "surface"
           }
          ],
          "table": [
           {
            "cells": {
             "fill": {
              "color": "#EBF0F8"
             },
             "line": {
              "color": "white"
             }
            },
            "header": {
             "fill": {
              "color": "#C8D4E3"
             },
             "line": {
              "color": "white"
             }
            },
            "type": "table"
           }
          ]
         },
         "layout": {
          "annotationdefaults": {
           "arrowcolor": "#2a3f5f",
           "arrowhead": 0,
           "arrowwidth": 1
          },
          "autotypenumbers": "strict",
          "coloraxis": {
           "colorbar": {
            "outlinewidth": 0,
            "ticks": ""
           }
          },
          "colorscale": {
           "diverging": [
            [
             0,
             "#8e0152"
            ],
            [
             0.1,
             "#c51b7d"
            ],
            [
             0.2,
             "#de77ae"
            ],
            [
             0.3,
             "#f1b6da"
            ],
            [
             0.4,
             "#fde0ef"
            ],
            [
             0.5,
             "#f7f7f7"
            ],
            [
             0.6,
             "#e6f5d0"
            ],
            [
             0.7,
             "#b8e186"
            ],
            [
             0.8,
             "#7fbc41"
            ],
            [
             0.9,
             "#4d9221"
            ],
            [
             1,
             "#276419"
            ]
           ],
           "sequential": [
            [
             0,
             "#0d0887"
            ],
            [
             0.1111111111111111,
             "#46039f"
            ],
            [
             0.2222222222222222,
             "#7201a8"
            ],
            [
             0.3333333333333333,
             "#9c179e"
            ],
            [
             0.4444444444444444,
             "#bd3786"
            ],
            [
             0.5555555555555556,
             "#d8576b"
            ],
            [
             0.6666666666666666,
             "#ed7953"
            ],
            [
             0.7777777777777778,
             "#fb9f3a"
            ],
            [
             0.8888888888888888,
             "#fdca26"
            ],
            [
             1,
             "#f0f921"
            ]
           ],
           "sequentialminus": [
            [
             0,
             "#0d0887"
            ],
            [
             0.1111111111111111,
             "#46039f"
            ],
            [
             0.2222222222222222,
             "#7201a8"
            ],
            [
             0.3333333333333333,
             "#9c179e"
            ],
            [
             0.4444444444444444,
             "#bd3786"
            ],
            [
             0.5555555555555556,
             "#d8576b"
            ],
            [
             0.6666666666666666,
             "#ed7953"
            ],
            [
             0.7777777777777778,
             "#fb9f3a"
            ],
            [
             0.8888888888888888,
             "#fdca26"
            ],
            [
             1,
             "#f0f921"
            ]
           ]
          },
          "colorway": [
           "#636efa",
           "#EF553B",
           "#00cc96",
           "#ab63fa",
           "#FFA15A",
           "#19d3f3",
           "#FF6692",
           "#B6E880",
           "#FF97FF",
           "#FECB52"
          ],
          "font": {
           "color": "#2a3f5f"
          },
          "geo": {
           "bgcolor": "white",
           "lakecolor": "white",
           "landcolor": "#E5ECF6",
           "showlakes": true,
           "showland": true,
           "subunitcolor": "white"
          },
          "hoverlabel": {
           "align": "left"
          },
          "hovermode": "closest",
          "mapbox": {
           "style": "light"
          },
          "paper_bgcolor": "white",
          "plot_bgcolor": "#E5ECF6",
          "polar": {
           "angularaxis": {
            "gridcolor": "white",
            "linecolor": "white",
            "ticks": ""
           },
           "bgcolor": "#E5ECF6",
           "radialaxis": {
            "gridcolor": "white",
            "linecolor": "white",
            "ticks": ""
           }
          },
          "scene": {
           "xaxis": {
            "backgroundcolor": "#E5ECF6",
            "gridcolor": "white",
            "gridwidth": 2,
            "linecolor": "white",
            "showbackground": true,
            "ticks": "",
            "zerolinecolor": "white"
           },
           "yaxis": {
            "backgroundcolor": "#E5ECF6",
            "gridcolor": "white",
            "gridwidth": 2,
            "linecolor": "white",
            "showbackground": true,
            "ticks": "",
            "zerolinecolor": "white"
           },
           "zaxis": {
            "backgroundcolor": "#E5ECF6",
            "gridcolor": "white",
            "gridwidth": 2,
            "linecolor": "white",
            "showbackground": true,
            "ticks": "",
            "zerolinecolor": "white"
           }
          },
          "shapedefaults": {
           "line": {
            "color": "#2a3f5f"
           }
          },
          "ternary": {
           "aaxis": {
            "gridcolor": "white",
            "linecolor": "white",
            "ticks": ""
           },
           "baxis": {
            "gridcolor": "white",
            "linecolor": "white",
            "ticks": ""
           },
           "bgcolor": "#E5ECF6",
           "caxis": {
            "gridcolor": "white",
            "linecolor": "white",
            "ticks": ""
           }
          },
          "title": {
           "x": 0.05
          },
          "xaxis": {
           "automargin": true,
           "gridcolor": "white",
           "linecolor": "white",
           "ticks": "",
           "title": {
            "standoff": 15
           },
           "zerolinecolor": "white",
           "zerolinewidth": 2
          },
          "yaxis": {
           "automargin": true,
           "gridcolor": "white",
           "linecolor": "white",
           "ticks": "",
           "title": {
            "standoff": 15
           },
           "zerolinecolor": "white",
           "zerolinewidth": 2
          }
         }
        },
        "title": {
         "font": {
          "color": "#4D5663"
         },
         "text": "Log North Korea inputs & output"
        },
        "xaxis": {
         "gridcolor": "#E1E5ED",
         "showgrid": true,
         "tickfont": {
          "color": "#4D5663"
         },
         "title": {
          "font": {
           "color": "#4D5663"
          },
          "text": ""
         },
         "zerolinecolor": "#E1E5ED"
        },
        "yaxis": {
         "gridcolor": "#E1E5ED",
         "showgrid": true,
         "tickfont": {
          "color": "#4D5663"
         },
         "title": {
          "font": {
           "color": "#4D5663"
          },
          "text": ""
         },
         "zerolinecolor": "#E1E5ED"
        }
       }
      },
      "text/html": [
       "<div>                            <div id=\"f3b53bc0-46ed-4757-97d0-582db0340ad8\" class=\"plotly-graph-div\" style=\"height:525px; width:100%;\"></div>            <script type=\"text/javascript\">                require([\"plotly\"], function(Plotly) {                    window.PLOTLYENV=window.PLOTLYENV || {};\n",
       "                    window.PLOTLYENV.BASE_URL='https://plot.ly';                                    if (document.getElementById(\"f3b53bc0-46ed-4757-97d0-582db0340ad8\")) {                    Plotly.newPlot(                        \"f3b53bc0-46ed-4757-97d0-582db0340ad8\",                        [{\"line\":{\"color\":\"rgba(255, 153, 51, 1.0)\",\"dash\":\"solid\",\"shape\":\"linear\",\"width\":1.3},\"mode\":\"lines\",\"name\":\"Output\",\"text\":\"\",\"type\":\"scatter\",\"x\":[\"1961\",\"1962\",\"1963\",\"1964\",\"1965\",\"1966\",\"1967\",\"1968\",\"1969\",\"1970\",\"1971\",\"1972\",\"1973\",\"1974\",\"1975\",\"1976\",\"1977\",\"1978\",\"1979\",\"1980\",\"1981\",\"1982\",\"1983\",\"1984\",\"1985\",\"1986\",\"1987\",\"1988\",\"1989\",\"1990\",\"1991\",\"1992\",\"1993\",\"1994\",\"1995\",\"1996\",\"1997\",\"1998\",\"1999\",\"2000\",\"2001\",\"2002\",\"2003\",\"2004\",\"2005\",\"2006\",\"2007\",\"2008\",\"2009\",\"2010\",\"2011\",\"2012\",\"2013\",\"2014\",\"2015\",\"2016\"],\"y\":[14.244727348321788,14.288571384217272,14.344257628951512,14.385714662729765,14.328896900290143,14.385493562969613,14.363742365004097,14.367854829531263,14.470729989132924,14.490577267465351,14.553761592784872,14.566089503889124,14.639597400514495,14.702981150718097,14.765460412130482,14.81334182904819,14.866620952286924,14.895184645612133,14.929815733312076,14.918922310756487,14.985393965386512,14.914977814376615,14.957748906085364,15.015058687839781,15.044221437261786,15.099616865841677,15.115525910211161,15.12813388991849,15.15781698074842,15.165787769038603,15.332753792374424,15.285585938248332,15.248022491260372,15.145740524234206,14.894154805656116,14.813266984585457,14.83190179586915,14.994275702085584,15.01588519664936,15.009444238495066,15.115810661017301,15.134360312701707,15.149593045036733,15.166104940863654,15.1829105392064,15.169826258846497,15.093986384972624,15.156376497919373,15.145973447995557,15.149546158784354,15.166778856072195,15.194361787578336,15.209008659727163,15.19544196838141,15.223149249501981,15.194345164170311]},{\"line\":{\"color\":\"rgba(55, 128, 191, 1.0)\",\"dash\":\"solid\",\"shape\":\"linear\",\"width\":1.3},\"mode\":\"lines\",\"name\":\"Ag TFP\",\"text\":\"\",\"type\":\"scatter\",\"x\":[\"1961\",\"1962\",\"1963\",\"1964\",\"1965\",\"1966\",\"1967\",\"1968\",\"1969\",\"1970\",\"1971\",\"1972\",\"1973\",\"1974\",\"1975\",\"1976\",\"1977\",\"1978\",\"1979\",\"1980\",\"1981\",\"1982\",\"1983\",\"1984\",\"1985\",\"1986\",\"1987\",\"1988\",\"1989\",\"1990\",\"1991\",\"1992\",\"1993\",\"1994\",\"1995\",\"1996\",\"1997\",\"1998\",\"1999\",\"2000\",\"2001\",\"2002\",\"2003\",\"2004\",\"2005\",\"2006\",\"2007\",\"2008\",\"2009\",\"2010\",\"2011\",\"2012\",\"2013\",\"2014\",\"2015\",\"2016\"],\"y\":[4.1588830833596715,4.143134726391533,4.189654742026425,4.23410650459726,4.174387269895637,4.204692619390966,4.1588830833596715,4.143134726391533,4.219507705176107,4.219507705176107,4.2626798770413155,4.23410650459726,4.276666119016055,4.30406509320417,4.343805421853684,4.343805421853684,4.3694478524670215,4.3694478524670215,4.382026634673881,4.343805421853684,4.382026634673881,4.290459441148391,4.31748811353631,4.343805421853684,4.356708826689592,4.394449154672439,4.394449154672439,4.382026634673881,4.406719247264253,4.406719247264253,4.574710978503383,4.553876891600541,4.532599493153256,4.564348191467836,4.477336814478207,4.442651256490317,4.418840607796598,4.553876891600541,4.48863636973214,4.465908118654584,4.553876891600541,4.574710978503383,4.584967478670572,4.59511985013459,4.605170185988092,4.584967478670572,4.51085950651685,4.584967478670572,4.574710978503383,4.553876891600541,4.564348191467836,4.574710978503383,4.59511985013459,4.624972813284271,4.663439094112067,4.624972813284271]},{\"line\":{\"color\":\"rgba(50, 171, 96, 1.0)\",\"dash\":\"solid\",\"shape\":\"linear\",\"width\":1.3},\"mode\":\"lines\",\"name\":\"Ag Land\",\"text\":\"\",\"type\":\"scatter\",\"x\":[\"1961\",\"1962\",\"1963\",\"1964\",\"1965\",\"1966\",\"1967\",\"1968\",\"1969\",\"1970\",\"1971\",\"1972\",\"1973\",\"1974\",\"1975\",\"1976\",\"1977\",\"1978\",\"1979\",\"1980\",\"1981\",\"1982\",\"1983\",\"1984\",\"1985\",\"1986\",\"1987\",\"1988\",\"1989\",\"1990\",\"1991\",\"1992\",\"1993\",\"1994\",\"1995\",\"1996\",\"1997\",\"1998\",\"1999\",\"2000\",\"2001\",\"2002\",\"2003\",\"2004\",\"2005\",\"2006\",\"2007\",\"2008\",\"2009\",\"2010\",\"2011\",\"2012\",\"2013\",\"2014\",\"2015\",\"2016\"],\"y\":[8.110427237575024,8.110427237575024,8.110427237575024,8.110427237575024,8.110427237575024,8.110427237575024,8.110427237575024,8.110427237575024,8.110427237575024,8.110427237575024,8.110427237575024,8.16876982367527,8.236950048061455,8.28828304520769,8.337348564497175,8.383890344101816,8.397508348470257,8.410943391573527,8.424200324567073,8.45531778769815,8.468002947225466,8.480529207044645,8.492900498847193,8.505120610181969,8.51699317141357,8.528924114291936,8.540714386457584,8.552367266423891,8.567506005289827,8.575650760987806,8.585412430393381,8.592857095337227,8.596558746796978,8.614864218589684,8.614864218589684,8.596558746796978,8.596558746796978,8.596558746796978,8.596558746796978,8.596558746796978,8.596558746796978,8.596558746796978,8.596558746796978,8.596558746796978,8.605753368395717,8.605753368395717,8.605753368395717,8.614864218589684,8.618485442898109,8.620291149419804,8.61122983334262,8.61122983334262,8.61122983334262,8.61122983334262,8.61122983334262,8.61122983334262]},{\"line\":{\"color\":\"rgba(128, 0, 128, 1.0)\",\"dash\":\"solid\",\"shape\":\"linear\",\"width\":1.3},\"mode\":\"lines\",\"name\":\"Irrig\",\"text\":\"\",\"type\":\"scatter\",\"x\":[\"1961\",\"1962\",\"1963\",\"1964\",\"1965\",\"1966\",\"1967\",\"1968\",\"1969\",\"1970\",\"1971\",\"1972\",\"1973\",\"1974\",\"1975\",\"1976\",\"1977\",\"1978\",\"1979\",\"1980\",\"1981\",\"1982\",\"1983\",\"1984\",\"1985\",\"1986\",\"1987\",\"1988\",\"1989\",\"1990\",\"1991\",\"1992\",\"1993\",\"1994\",\"1995\",\"1996\",\"1997\",\"1998\",\"1999\",\"2000\",\"2001\",\"2002\",\"2003\",\"2004\",\"2005\",\"2006\",\"2007\",\"2008\",\"2009\",\"2010\",\"2011\",\"2012\",\"2013\",\"2014\",\"2015\",\"2016\"],\"y\":[6.214608098422191,6.214608098422191,6.214608098422191,6.214608098422191,6.214608098422191,6.214608098422191,6.214608098422191,6.214608098422191,6.214608098422191,6.214608098422191,6.214608098422191,6.396929655216146,6.551080335043404,6.684611727667927,6.802394763324311,6.907755278982137,6.937314081223682,6.966024187106113,6.993932975223189,7.02108396428914,7.047517221357296,7.07326971745971,7.098375638590786,7.122866658599083,7.146772179452637,7.170119543449628,7.1929342212158,7.215239978730097,7.24422751560335,7.258412150595307,7.272398392570047,7.286191714702382,7.286191714702382,7.286191714702382,7.286191714702382,7.286191714702382,7.286191714702382,7.286191714702382,7.286191714702382,7.286191714702382,7.286191714702382,7.286191714702382,7.286191714702382,7.286191714702382,7.286191714702382,7.286191714702382,7.286191714702382,7.286191714702382,7.286191714702382,7.286191714702382,7.286191714702382,7.286191714702382,7.286191714702382,7.286191714702382,7.286191714702382,7.286191714702382]},{\"line\":{\"color\":\"rgba(219, 64, 82, 1.0)\",\"dash\":\"solid\",\"shape\":\"linear\",\"width\":1.3},\"mode\":\"lines\",\"name\":\"Pasture\",\"text\":\"\",\"type\":\"scatter\",\"x\":[\"1961\",\"1962\",\"1963\",\"1964\",\"1965\",\"1966\",\"1967\",\"1968\",\"1969\",\"1970\",\"1971\",\"1972\",\"1973\",\"1974\",\"1975\",\"1976\",\"1977\",\"1978\",\"1979\",\"1980\",\"1981\",\"1982\",\"1983\",\"1984\",\"1985\",\"1986\",\"1987\",\"1988\",\"1989\",\"1990\",\"1991\",\"1992\",\"1993\",\"1994\",\"1995\",\"1996\",\"1997\",\"1998\",\"1999\",\"2000\",\"2001\",\"2002\",\"2003\",\"2004\",\"2005\",\"2006\",\"2007\",\"2008\",\"2009\",\"2010\",\"2011\",\"2012\",\"2013\",\"2014\",\"2015\",\"2016\"],\"y\":[3.912023005428146,3.912023005428146,3.912023005428146,3.912023005428146,3.912023005428146,3.912023005428146,3.912023005428146,3.912023005428146,3.912023005428146,3.912023005428146,3.912023005428146,3.912023005428146,3.912023005428146,3.912023005428146,3.912023005428146,3.912023005428146,3.912023005428146,3.912023005428146,3.912023005428146,3.912023005428146,3.912023005428146,3.912023005428146,3.912023005428146,3.912023005428146,3.912023005428146,3.912023005428146,3.912023005428146,3.912023005428146,3.912023005428146,3.912023005428146,3.912023005428146,3.912023005428146,3.912023005428146,3.912023005428146,3.912023005428146,3.912023005428146,3.912023005428146,3.912023005428146,3.912023005428146,3.912023005428146,3.912023005428146,3.912023005428146,3.912023005428146,3.912023005428146,3.912023005428146,3.912023005428146,3.912023005428146,3.912023005428146,3.912023005428146,3.912023005428146,3.912023005428146,3.912023005428146,3.912023005428146,3.912023005428146,3.912023005428146,3.912023005428146]},{\"line\":{\"color\":\"rgba(0, 128, 128, 1.0)\",\"dash\":\"solid\",\"shape\":\"linear\",\"width\":1.3},\"mode\":\"lines\",\"name\":\"Labor\",\"text\":\"\",\"type\":\"scatter\",\"x\":[\"1961\",\"1962\",\"1963\",\"1964\",\"1965\",\"1966\",\"1967\",\"1968\",\"1969\",\"1970\",\"1971\",\"1972\",\"1973\",\"1974\",\"1975\",\"1976\",\"1977\",\"1978\",\"1979\",\"1980\",\"1981\",\"1982\",\"1983\",\"1984\",\"1985\",\"1986\",\"1987\",\"1988\",\"1989\",\"1990\",\"1991\",\"1992\",\"1993\",\"1994\",\"1995\",\"1996\",\"1997\",\"1998\",\"1999\",\"2000\",\"2001\",\"2002\",\"2003\",\"2004\",\"2005\",\"2006\",\"2007\",\"2008\",\"2009\",\"2010\",\"2011\",\"2012\",\"2013\",\"2014\",\"2015\",\"2016\"],\"y\":[8.677439540558334,8.679822114864455,8.681520484837913,8.684231891345675,8.688959234270676,8.695674048824253,8.703672758358856,8.712101863715663,8.719970756777574,8.726481196440007,8.737773460327283,8.747510946478448,8.755107121633896,8.760296220470051,8.762176509334903,8.760609847570002,8.756210091886738,8.750207862525711,8.743531633626967,8.737773460327283,8.752581469146884,8.764678074116606,8.77539495854551,8.787220328629298,8.80131894766524,8.818038250394299,8.836228571526014,8.85366542803745,8.867145589594143,8.87570644462861,8.87458787627932,8.896588071791218,8.912742634737025,8.92903790648844,8.940629184845639,8.952346543226227,8.960596138864794,8.972844314437573,8.98343977178426,8.993303139093733,9.005527777346696,9.013595294516504,9.024613022047395,9.035034150076132,9.046762057999363,9.058586816748646,9.068892008391808,9.079889942592118,9.084890521258767,9.093918908958932,9.102643796520809,9.112837790614945,9.119758993744945,9.127719343287845,9.136047767394327,9.145481799627687]},{\"line\":{\"color\":\"rgba(255, 255, 51, 1.0)\",\"dash\":\"solid\",\"shape\":\"linear\",\"width\":1.3},\"mode\":\"lines\",\"name\":\"Livestock\",\"text\":\"\",\"type\":\"scatter\",\"x\":[\"1961\",\"1962\",\"1963\",\"1964\",\"1965\",\"1966\",\"1967\",\"1968\",\"1969\",\"1970\",\"1971\",\"1972\",\"1973\",\"1974\",\"1975\",\"1976\",\"1977\",\"1978\",\"1979\",\"1980\",\"1981\",\"1982\",\"1983\",\"1984\",\"1985\",\"1986\",\"1987\",\"1988\",\"1989\",\"1990\",\"1991\",\"1992\",\"1993\",\"1994\",\"1995\",\"1996\",\"1997\",\"1998\",\"1999\",\"2000\",\"2001\",\"2002\",\"2003\",\"2004\",\"2005\",\"2006\",\"2007\",\"2008\",\"2009\",\"2010\",\"2011\",\"2012\",\"2013\",\"2014\",\"2015\",\"2016\"],\"y\":[6.816735880594968,6.872128101338986,6.904750769961838,6.8501261661455,6.856461984594587,6.917705609835305,6.970730078143525,7.001245622069476,7.062191632286556,7.126087273299125,7.161622002939187,7.20934025660291,7.240649694255466,7.3031700512368,7.346655163176539,7.388946097618437,7.4413203897176174,7.4673710669175595,7.51479976048867,7.5595594960077,7.577121930876679,7.605392364814935,7.629975707027789,7.651595573857601,7.691656822810547,7.729735331385051,7.768110378525988,7.804659297056102,7.768533300926033,7.768956044538332,7.752764808851328,7.636752112435779,7.526717561352706,7.470793774195062,7.30854279753919,7.150701457592526,6.97166860472579,7.149131598557407,7.275864600546533,7.355641102974253,7.3864708488298945,7.413970290190444,7.430707082545968,7.4342573821331355,7.44600149832412,7.400009517162692,7.356918242356021,7.331714969726466,7.3343293503005365,7.355001921105257,7.370860166536716,7.436617265234227,7.357556200910353,7.328437352895162,7.349230824613334,7.372118028337787]},{\"line\":{\"color\":\"rgba(128, 128, 0, 1.0)\",\"dash\":\"solid\",\"shape\":\"linear\",\"width\":1.3},\"mode\":\"lines\",\"name\":\"Machinery\",\"text\":\"\",\"type\":\"scatter\",\"x\":[\"1961\",\"1962\",\"1963\",\"1964\",\"1965\",\"1966\",\"1967\",\"1968\",\"1969\",\"1970\",\"1971\",\"1972\",\"1973\",\"1974\",\"1975\",\"1976\",\"1977\",\"1978\",\"1979\",\"1980\",\"1981\",\"1982\",\"1983\",\"1984\",\"1985\",\"1986\",\"1987\",\"1988\",\"1989\",\"1990\",\"1991\",\"1992\",\"1993\",\"1994\",\"1995\",\"1996\",\"1997\",\"1998\",\"1999\",\"2000\",\"2001\",\"2002\",\"2003\",\"2004\",\"2005\",\"2006\",\"2007\",\"2008\",\"2009\",\"2010\",\"2011\",\"2012\",\"2013\",\"2014\",\"2015\",\"2016\"],\"y\":[9.104979856318357,9.210340371976184,9.392661928770137,9.433483923290392,9.472704636443673,9.546812608597396,9.680344001221918,9.740968623038354,9.798127036878302,9.903487552536127,9.95227771670556,9.998797732340453,10.043249494911286,10.085809109330082,10.126631103850338,10.165851817003619,10.203592144986466,10.398183794372235,10.561007555452923,10.698739956033227,10.821776287072955,10.93131965914319,11.030039209893479,11.119882876860622,11.127262984158243,11.141861783579396,11.156250521031495,11.156250521031495,11.141861783579396,11.136179000443898,11.130463738627027,11.124715624744425,11.118934278935692,11.113119314713742,11.107270338809778,11.101386951013678,11.095468744009686,11.089515303207188,11.083526206566432,11.077501024419007,11.07143931928285,11.070537002757467,11.069758489678053,11.069758489678053,11.069758489678053,11.069758489678053,11.069758489678053,11.069758489678053,11.069758489678053,11.069758489678053,11.069758489678053,11.069758489678053,11.069758489678053,11.069758489678053,11.069758489678053,11.069758489678053]},{\"line\":{\"color\":\"rgba(251, 128, 114, 1.0)\",\"dash\":\"solid\",\"shape\":\"linear\",\"width\":1.3},\"mode\":\"lines\",\"name\":\"Fertilizer\",\"text\":\"\",\"type\":\"scatter\",\"x\":[\"1961\",\"1962\",\"1963\",\"1964\",\"1965\",\"1966\",\"1967\",\"1968\",\"1969\",\"1970\",\"1971\",\"1972\",\"1973\",\"1974\",\"1975\",\"1976\",\"1977\",\"1978\",\"1979\",\"1980\",\"1981\",\"1982\",\"1983\",\"1984\",\"1985\",\"1986\",\"1987\",\"1988\",\"1989\",\"1990\",\"1991\",\"1992\",\"1993\",\"1994\",\"1995\",\"1996\",\"1997\",\"1998\",\"1999\",\"2000\",\"2001\",\"2002\",\"2003\",\"2004\",\"2005\",\"2006\",\"2007\",\"2008\",\"2009\",\"2010\",\"2011\",\"2012\",\"2013\",\"2014\",\"2015\",\"2016\"],\"y\":[10.714417768752456,11.686878772093667,11.759785542901755,11.827736204810263,12.0015054797889,12.133501952695338,12.220961258023925,12.429216196844383,12.433606545145677,12.642390217121102,12.731096988695978,12.797463917135731,12.819635346747276,12.912629513000036,12.957488734214095,13.218582235144872,13.322197359282914,13.549850869546987,13.52676124955207,13.499703321786646,13.574839289781847,13.51508091268999,13.531554867253307,13.546323068148657,13.646381594956303,13.534473028231162,13.521944542353518,13.599839021488766,13.610575226298733,13.632068373501616,13.606146630058436,13.570249201396445,13.548937448722729,12.685407602204794,11.554067408301403,11.440354772135393,12.050003459880285,11.965274158977243,12.441144767709657,12.4529327234617,12.49162745696578,12.342350263822722,12.342350263822722,12.386726145223431,12.377922902456833,12.445089546000673,12.487485104968359,12.390891082522716,12.348006141418841,12.509505028073187,12.506177237980511,12.531772785169476,12.560595274900763,12.270454904459442,12.085034317153118,12.127029438189721]},{\"line\":{\"color\":\"rgba(128, 177, 211, 1.0)\",\"dash\":\"solid\",\"shape\":\"linear\",\"width\":1.3},\"mode\":\"lines\",\"name\":\"Feed\",\"text\":\"\",\"type\":\"scatter\",\"x\":[\"1961\",\"1962\",\"1963\",\"1964\",\"1965\",\"1966\",\"1967\",\"1968\",\"1969\",\"1970\",\"1971\",\"1972\",\"1973\",\"1974\",\"1975\",\"1976\",\"1977\",\"1978\",\"1979\",\"1980\",\"1981\",\"1982\",\"1983\",\"1984\",\"1985\",\"1986\",\"1987\",\"1988\",\"1989\",\"1990\",\"1991\",\"1992\",\"1993\",\"1994\",\"1995\",\"1996\",\"1997\",\"1998\",\"1999\",\"2000\",\"2001\",\"2002\",\"2003\",\"2004\",\"2005\",\"2006\",\"2007\",\"2008\",\"2009\",\"2010\",\"2011\",\"2012\",\"2013\",\"2014\",\"2015\",\"2016\"],\"y\":[14.971248648829468,15.005773003382997,15.091056861092303,15.140446668853201,15.080109207635308,15.120906095047571,15.06278161634757,15.062175542921718,15.21660411871371,15.225792161007911,15.260808934309187,15.214038779312277,15.36258507529143,15.410514398585354,15.424929670221653,15.527751779187996,15.569199452376306,15.635958062076481,15.67381278849807,15.757738794232873,15.777356483923514,15.755758995449831,15.721289545248,15.78057144120735,15.815280448120724,15.898563694975218,15.913269187798694,15.987007898782435,16.044584516046427,16.061492706346183,16.16379657213601,16.137560574180075,15.839968451638654,14.854069186786138,14.688438152681686,14.501902976398283,14.459029373162299,14.662231680641682,14.763334452426854,14.838967094980159,14.955865057623559,14.976216506530859,15.133462104121824,15.134014984492705,14.94366417299307,15.091837976781802,15.085742340093097,15.02662887221908,14.948003042524476,14.937471792679405,14.985737522628716,15.014157605590862,14.9870138881501,14.921984859853517,14.968386574909683,15.015240674806522]}],                        {\"legend\":{\"bgcolor\":\"#F5F6F9\",\"font\":{\"color\":\"#4D5663\"}},\"paper_bgcolor\":\"#F5F6F9\",\"plot_bgcolor\":\"#F5F6F9\",\"template\":{\"data\":{\"bar\":[{\"error_x\":{\"color\":\"#2a3f5f\"},\"error_y\":{\"color\":\"#2a3f5f\"},\"marker\":{\"line\":{\"color\":\"#E5ECF6\",\"width\":0.5},\"pattern\":{\"fillmode\":\"overlay\",\"size\":10,\"solidity\":0.2}},\"type\":\"bar\"}],\"barpolar\":[{\"marker\":{\"line\":{\"color\":\"#E5ECF6\",\"width\":0.5},\"pattern\":{\"fillmode\":\"overlay\",\"size\":10,\"solidity\":0.2}},\"type\":\"barpolar\"}],\"carpet\":[{\"aaxis\":{\"endlinecolor\":\"#2a3f5f\",\"gridcolor\":\"white\",\"linecolor\":\"white\",\"minorgridcolor\":\"white\",\"startlinecolor\":\"#2a3f5f\"},\"baxis\":{\"endlinecolor\":\"#2a3f5f\",\"gridcolor\":\"white\",\"linecolor\":\"white\",\"minorgridcolor\":\"white\",\"startlinecolor\":\"#2a3f5f\"},\"type\":\"carpet\"}],\"choropleth\":[{\"colorbar\":{\"outlinewidth\":0,\"ticks\":\"\"},\"type\":\"choropleth\"}],\"contour\":[{\"colorbar\":{\"outlinewidth\":0,\"ticks\":\"\"},\"colorscale\":[[0.0,\"#0d0887\"],[0.1111111111111111,\"#46039f\"],[0.2222222222222222,\"#7201a8\"],[0.3333333333333333,\"#9c179e\"],[0.4444444444444444,\"#bd3786\"],[0.5555555555555556,\"#d8576b\"],[0.6666666666666666,\"#ed7953\"],[0.7777777777777778,\"#fb9f3a\"],[0.8888888888888888,\"#fdca26\"],[1.0,\"#f0f921\"]],\"type\":\"contour\"}],\"contourcarpet\":[{\"colorbar\":{\"outlinewidth\":0,\"ticks\":\"\"},\"type\":\"contourcarpet\"}],\"heatmap\":[{\"colorbar\":{\"outlinewidth\":0,\"ticks\":\"\"},\"colorscale\":[[0.0,\"#0d0887\"],[0.1111111111111111,\"#46039f\"],[0.2222222222222222,\"#7201a8\"],[0.3333333333333333,\"#9c179e\"],[0.4444444444444444,\"#bd3786\"],[0.5555555555555556,\"#d8576b\"],[0.6666666666666666,\"#ed7953\"],[0.7777777777777778,\"#fb9f3a\"],[0.8888888888888888,\"#fdca26\"],[1.0,\"#f0f921\"]],\"type\":\"heatmap\"}],\"heatmapgl\":[{\"colorbar\":{\"outlinewidth\":0,\"ticks\":\"\"},\"colorscale\":[[0.0,\"#0d0887\"],[0.1111111111111111,\"#46039f\"],[0.2222222222222222,\"#7201a8\"],[0.3333333333333333,\"#9c179e\"],[0.4444444444444444,\"#bd3786\"],[0.5555555555555556,\"#d8576b\"],[0.6666666666666666,\"#ed7953\"],[0.7777777777777778,\"#fb9f3a\"],[0.8888888888888888,\"#fdca26\"],[1.0,\"#f0f921\"]],\"type\":\"heatmapgl\"}],\"histogram\":[{\"marker\":{\"pattern\":{\"fillmode\":\"overlay\",\"size\":10,\"solidity\":0.2}},\"type\":\"histogram\"}],\"histogram2d\":[{\"colorbar\":{\"outlinewidth\":0,\"ticks\":\"\"},\"colorscale\":[[0.0,\"#0d0887\"],[0.1111111111111111,\"#46039f\"],[0.2222222222222222,\"#7201a8\"],[0.3333333333333333,\"#9c179e\"],[0.4444444444444444,\"#bd3786\"],[0.5555555555555556,\"#d8576b\"],[0.6666666666666666,\"#ed7953\"],[0.7777777777777778,\"#fb9f3a\"],[0.8888888888888888,\"#fdca26\"],[1.0,\"#f0f921\"]],\"type\":\"histogram2d\"}],\"histogram2dcontour\":[{\"colorbar\":{\"outlinewidth\":0,\"ticks\":\"\"},\"colorscale\":[[0.0,\"#0d0887\"],[0.1111111111111111,\"#46039f\"],[0.2222222222222222,\"#7201a8\"],[0.3333333333333333,\"#9c179e\"],[0.4444444444444444,\"#bd3786\"],[0.5555555555555556,\"#d8576b\"],[0.6666666666666666,\"#ed7953\"],[0.7777777777777778,\"#fb9f3a\"],[0.8888888888888888,\"#fdca26\"],[1.0,\"#f0f921\"]],\"type\":\"histogram2dcontour\"}],\"mesh3d\":[{\"colorbar\":{\"outlinewidth\":0,\"ticks\":\"\"},\"type\":\"mesh3d\"}],\"parcoords\":[{\"line\":{\"colorbar\":{\"outlinewidth\":0,\"ticks\":\"\"}},\"type\":\"parcoords\"}],\"pie\":[{\"automargin\":true,\"type\":\"pie\"}],\"scatter\":[{\"marker\":{\"colorbar\":{\"outlinewidth\":0,\"ticks\":\"\"}},\"type\":\"scatter\"}],\"scatter3d\":[{\"line\":{\"colorbar\":{\"outlinewidth\":0,\"ticks\":\"\"}},\"marker\":{\"colorbar\":{\"outlinewidth\":0,\"ticks\":\"\"}},\"type\":\"scatter3d\"}],\"scattercarpet\":[{\"marker\":{\"colorbar\":{\"outlinewidth\":0,\"ticks\":\"\"}},\"type\":\"scattercarpet\"}],\"scattergeo\":[{\"marker\":{\"colorbar\":{\"outlinewidth\":0,\"ticks\":\"\"}},\"type\":\"scattergeo\"}],\"scattergl\":[{\"marker\":{\"colorbar\":{\"outlinewidth\":0,\"ticks\":\"\"}},\"type\":\"scattergl\"}],\"scattermapbox\":[{\"marker\":{\"colorbar\":{\"outlinewidth\":0,\"ticks\":\"\"}},\"type\":\"scattermapbox\"}],\"scatterpolar\":[{\"marker\":{\"colorbar\":{\"outlinewidth\":0,\"ticks\":\"\"}},\"type\":\"scatterpolar\"}],\"scatterpolargl\":[{\"marker\":{\"colorbar\":{\"outlinewidth\":0,\"ticks\":\"\"}},\"type\":\"scatterpolargl\"}],\"scatterternary\":[{\"marker\":{\"colorbar\":{\"outlinewidth\":0,\"ticks\":\"\"}},\"type\":\"scatterternary\"}],\"surface\":[{\"colorbar\":{\"outlinewidth\":0,\"ticks\":\"\"},\"colorscale\":[[0.0,\"#0d0887\"],[0.1111111111111111,\"#46039f\"],[0.2222222222222222,\"#7201a8\"],[0.3333333333333333,\"#9c179e\"],[0.4444444444444444,\"#bd3786\"],[0.5555555555555556,\"#d8576b\"],[0.6666666666666666,\"#ed7953\"],[0.7777777777777778,\"#fb9f3a\"],[0.8888888888888888,\"#fdca26\"],[1.0,\"#f0f921\"]],\"type\":\"surface\"}],\"table\":[{\"cells\":{\"fill\":{\"color\":\"#EBF0F8\"},\"line\":{\"color\":\"white\"}},\"header\":{\"fill\":{\"color\":\"#C8D4E3\"},\"line\":{\"color\":\"white\"}},\"type\":\"table\"}]},\"layout\":{\"annotationdefaults\":{\"arrowcolor\":\"#2a3f5f\",\"arrowhead\":0,\"arrowwidth\":1},\"autotypenumbers\":\"strict\",\"coloraxis\":{\"colorbar\":{\"outlinewidth\":0,\"ticks\":\"\"}},\"colorscale\":{\"diverging\":[[0,\"#8e0152\"],[0.1,\"#c51b7d\"],[0.2,\"#de77ae\"],[0.3,\"#f1b6da\"],[0.4,\"#fde0ef\"],[0.5,\"#f7f7f7\"],[0.6,\"#e6f5d0\"],[0.7,\"#b8e186\"],[0.8,\"#7fbc41\"],[0.9,\"#4d9221\"],[1,\"#276419\"]],\"sequential\":[[0.0,\"#0d0887\"],[0.1111111111111111,\"#46039f\"],[0.2222222222222222,\"#7201a8\"],[0.3333333333333333,\"#9c179e\"],[0.4444444444444444,\"#bd3786\"],[0.5555555555555556,\"#d8576b\"],[0.6666666666666666,\"#ed7953\"],[0.7777777777777778,\"#fb9f3a\"],[0.8888888888888888,\"#fdca26\"],[1.0,\"#f0f921\"]],\"sequentialminus\":[[0.0,\"#0d0887\"],[0.1111111111111111,\"#46039f\"],[0.2222222222222222,\"#7201a8\"],[0.3333333333333333,\"#9c179e\"],[0.4444444444444444,\"#bd3786\"],[0.5555555555555556,\"#d8576b\"],[0.6666666666666666,\"#ed7953\"],[0.7777777777777778,\"#fb9f3a\"],[0.8888888888888888,\"#fdca26\"],[1.0,\"#f0f921\"]]},\"colorway\":[\"#636efa\",\"#EF553B\",\"#00cc96\",\"#ab63fa\",\"#FFA15A\",\"#19d3f3\",\"#FF6692\",\"#B6E880\",\"#FF97FF\",\"#FECB52\"],\"font\":{\"color\":\"#2a3f5f\"},\"geo\":{\"bgcolor\":\"white\",\"lakecolor\":\"white\",\"landcolor\":\"#E5ECF6\",\"showlakes\":true,\"showland\":true,\"subunitcolor\":\"white\"},\"hoverlabel\":{\"align\":\"left\"},\"hovermode\":\"closest\",\"mapbox\":{\"style\":\"light\"},\"paper_bgcolor\":\"white\",\"plot_bgcolor\":\"#E5ECF6\",\"polar\":{\"angularaxis\":{\"gridcolor\":\"white\",\"linecolor\":\"white\",\"ticks\":\"\"},\"bgcolor\":\"#E5ECF6\",\"radialaxis\":{\"gridcolor\":\"white\",\"linecolor\":\"white\",\"ticks\":\"\"}},\"scene\":{\"xaxis\":{\"backgroundcolor\":\"#E5ECF6\",\"gridcolor\":\"white\",\"gridwidth\":2,\"linecolor\":\"white\",\"showbackground\":true,\"ticks\":\"\",\"zerolinecolor\":\"white\"},\"yaxis\":{\"backgroundcolor\":\"#E5ECF6\",\"gridcolor\":\"white\",\"gridwidth\":2,\"linecolor\":\"white\",\"showbackground\":true,\"ticks\":\"\",\"zerolinecolor\":\"white\"},\"zaxis\":{\"backgroundcolor\":\"#E5ECF6\",\"gridcolor\":\"white\",\"gridwidth\":2,\"linecolor\":\"white\",\"showbackground\":true,\"ticks\":\"\",\"zerolinecolor\":\"white\"}},\"shapedefaults\":{\"line\":{\"color\":\"#2a3f5f\"}},\"ternary\":{\"aaxis\":{\"gridcolor\":\"white\",\"linecolor\":\"white\",\"ticks\":\"\"},\"baxis\":{\"gridcolor\":\"white\",\"linecolor\":\"white\",\"ticks\":\"\"},\"bgcolor\":\"#E5ECF6\",\"caxis\":{\"gridcolor\":\"white\",\"linecolor\":\"white\",\"ticks\":\"\"}},\"title\":{\"x\":0.05},\"xaxis\":{\"automargin\":true,\"gridcolor\":\"white\",\"linecolor\":\"white\",\"ticks\":\"\",\"title\":{\"standoff\":15},\"zerolinecolor\":\"white\",\"zerolinewidth\":2},\"yaxis\":{\"automargin\":true,\"gridcolor\":\"white\",\"linecolor\":\"white\",\"ticks\":\"\",\"title\":{\"standoff\":15},\"zerolinecolor\":\"white\",\"zerolinewidth\":2}}},\"title\":{\"font\":{\"color\":\"#4D5663\"},\"text\":\"Log North Korea inputs & output\"},\"xaxis\":{\"gridcolor\":\"#E1E5ED\",\"showgrid\":true,\"tickfont\":{\"color\":\"#4D5663\"},\"title\":{\"font\":{\"color\":\"#4D5663\"},\"text\":\"\"},\"zerolinecolor\":\"#E1E5ED\"},\"yaxis\":{\"gridcolor\":\"#E1E5ED\",\"showgrid\":true,\"tickfont\":{\"color\":\"#4D5663\"},\"title\":{\"font\":{\"color\":\"#4D5663\"},\"text\":\"\"},\"zerolinecolor\":\"#E1E5ED\"}},                        {\"showLink\": true, \"linkText\": \"Export to plot.ly\", \"plotlyServerURL\": \"https://plot.ly\", \"responsive\": true}                    ).then(function(){\n",
       "                            \n",
       "var gd = document.getElementById('f3b53bc0-46ed-4757-97d0-582db0340ad8');\n",
       "var x = new MutationObserver(function (mutations, observer) {{\n",
       "        var display = window.getComputedStyle(gd).display;\n",
       "        if (!display || display === 'none') {{\n",
       "            console.log([gd, 'removed!']);\n",
       "            Plotly.purge(gd);\n",
       "            observer.disconnect();\n",
       "        }}\n",
       "}});\n",
       "\n",
       "// Listen for the removal of the full notebook cells\n",
       "var notebookContainer = gd.closest('#notebook-container');\n",
       "if (notebookContainer) {{\n",
       "    x.observe(notebookContainer, {childList: true});\n",
       "}}\n",
       "\n",
       "// Listen for the clearing of the current output cell\n",
       "var outputEl = gd.closest('.output');\n",
       "if (outputEl) {{\n",
       "    x.observe(outputEl, {childList: true});\n",
       "}}\n",
       "\n",
       "                        })                };                });            </script>        </div>"
      ]
     },
     "metadata": {},
     "output_type": "display_data"
    }
   ],
   "source": [
    "# this doesn't work yet—deal with that!!\n",
    "\n",
    "def get_international_ag_productivity_data(series):\n",
    "\n",
    "    columns=series.iloc[1,:]  # Need to fix columns\n",
    "    series = series.iloc[2:,:]\n",
    "    series.columns = columns\n",
    "\n",
    "    # Set index to country code\n",
    "    series = series.set_index('WDI Code')\n",
    "\n",
    "    series = series[['%d' % t for t in range(1961,2020)]]\n",
    "\n",
    "    series = series.replace({',':''},regex=True) # Get rid of commas in number strings\n",
    "    series = series.replace({'':'NaN'}) # Change empty cells to NaN strings\n",
    "    series = series.apply(lambda x: pd.to_numeric(x,errors='ignore'))\n",
    "    series = series.astype(float) # Convert to floats\n",
    "\n",
    "    series = series.stack()\n",
    "    \n",
    "    series = series.loc[~series.index.duplicated(keep='first')] \n",
    "\n",
    "    series.index.names = ['WDI Code','Year']\n",
    "\n",
    "    return series\n",
    "   \n",
    "\n",
    "Data = ['Output','Ag TFP','Ag Land','Irrig','Pasture','Labor','Livestock',\n",
    "        'Machinery','Fertilizer','Feed']\n",
    "\n",
    "D = {}\n",
    "for key in Data:\n",
    "    D[key] = get_international_ag_productivity_data(data[key])\n",
    "\n",
    "df = pd.DataFrame(D)\n",
    "\n",
    "\n",
    "PRK = df.xs('PRK',level='WDI Code').dropna(how='any')\n",
    "\n",
    "select = np.log(PRK)\n",
    "select.iplot(title='Log North Korea inputs & output')"
   ]
  },
  {
   "cell_type": "markdown",
   "id": "98a78ae4",
   "metadata": {},
   "source": [
    "## Analysis of Graph Above:\n",
    "\n",
    "(Write in analysis here and change title of this cell)"
   ]
  },
  {
   "cell_type": "markdown",
   "id": "17de7230",
   "metadata": {},
   "source": [
    "## Summary Conclusion\n",
    "\n",
    "(After all our investigation, here's the place to show how interconnected the events are—paint a picture of how they flow chronologically and have affected North Korea. Use this space to do so)\n",
    "* Add in economic and agricultural context that's relevant to the class"
   ]
  },
  {
   "cell_type": "code",
   "execution_count": null,
   "id": "10ada9a5",
   "metadata": {},
   "outputs": [],
   "source": []
  }
 ],
 "metadata": {
  "kernelspec": {
   "display_name": "Python 3 (ipykernel)",
   "language": "python",
   "name": "python3"
  },
  "language_info": {
   "codemirror_mode": {
    "name": "ipython",
    "version": 3
   },
   "file_extension": ".py",
   "mimetype": "text/x-python",
   "name": "python",
   "nbconvert_exporter": "python",
   "pygments_lexer": "ipython3",
   "version": "3.9.10"
  }
 },
 "nbformat": 4,
 "nbformat_minor": 5
}
