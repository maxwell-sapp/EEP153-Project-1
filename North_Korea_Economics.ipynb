{
 "cells": [
  {
   "cell_type": "markdown",
   "id": "2ed2a397",
   "metadata": {},
   "source": [
    "# Project Title"
   ]
  },
  {
   "cell_type": "markdown",
   "id": "d9885302",
   "metadata": {},
   "source": [
    "### Project Abstract\n",
    "\n",
    "Write Description Here (why we chose this subject, the general things we seeked to find out, etc, idk)\n",
    "\n",
    "Introduction: We are Team (team name, team members) and our project focused on analyzing (description of project).  Our project goals included:\n",
    "* Goal 1\n",
    "* Goal 2\n",
    "* Etc.\n",
    "\n",
    "Collaboration: We collaborated using the following tools:\n",
    "(collaboration tool) for (purpose),\n",
    "(collaboration tool) for (purpose), etc."
   ]
  },
  {
   "cell_type": "code",
   "execution_count": 3,
   "id": "392b7494",
   "metadata": {},
   "outputs": [
    {
     "name": "stdout",
     "output_type": "stream",
     "text": [
      "Requirement already satisfied: wbdata in /opt/conda/lib/python3.9/site-packages (0.3.0)\n",
      "Requirement already satisfied: requests>=2.0 in /opt/conda/lib/python3.9/site-packages (from wbdata) (2.26.0)\n",
      "Requirement already satisfied: appdirs<2.0,>=1.4 in /opt/conda/lib/python3.9/site-packages (from wbdata) (1.4.4)\n",
      "Requirement already satisfied: decorator>=4.0 in /opt/conda/lib/python3.9/site-packages (from wbdata) (5.0.9)\n",
      "Requirement already satisfied: tabulate>=0.8.5 in /opt/conda/lib/python3.9/site-packages (from wbdata) (0.8.9)\n",
      "Requirement already satisfied: charset-normalizer~=2.0.0; python_version >= \"3\" in /opt/conda/lib/python3.9/site-packages (from requests>=2.0->wbdata) (2.0.0)\n",
      "Requirement already satisfied: urllib3<1.27,>=1.21.1 in /opt/conda/lib/python3.9/site-packages (from requests>=2.0->wbdata) (1.25.7)\n",
      "Requirement already satisfied: idna<4,>=2.5; python_version >= \"3\" in /opt/conda/lib/python3.9/site-packages (from requests>=2.0->wbdata) (2.8)\n",
      "Requirement already satisfied: certifi>=2017.4.17 in /opt/conda/lib/python3.9/site-packages (from requests>=2.0->wbdata) (2019.11.28)\n",
      "Requirement already satisfied: cufflinks in /opt/conda/lib/python3.9/site-packages (0.17.3)\n",
      "Requirement already satisfied: numpy>=1.9.2 in /opt/conda/lib/python3.9/site-packages (from cufflinks) (1.21.5)\n",
      "Requirement already satisfied: plotly>=4.1.1 in /opt/conda/lib/python3.9/site-packages (from cufflinks) (5.2.1)\n",
      "Requirement already satisfied: pandas>=0.19.2 in /opt/conda/lib/python3.9/site-packages (from cufflinks) (1.3.5)\n",
      "Requirement already satisfied: six>=1.9.0 in /opt/conda/lib/python3.9/site-packages (from cufflinks) (1.16.0)\n",
      "Requirement already satisfied: ipython>=5.3.0 in /opt/conda/lib/python3.9/site-packages (from cufflinks) (8.0.1)\n",
      "Requirement already satisfied: colorlover>=0.2.1 in /opt/conda/lib/python3.9/site-packages (from cufflinks) (0.3.0)\n",
      "Requirement already satisfied: setuptools>=34.4.1 in /opt/conda/lib/python3.9/site-packages (from cufflinks) (58.2.0)\n",
      "Requirement already satisfied: ipywidgets>=7.0.0 in /opt/conda/lib/python3.9/site-packages (from cufflinks) (7.6.5)\n",
      "Requirement already satisfied: tenacity>=6.2.0 in /opt/conda/lib/python3.9/site-packages (from plotly>=4.1.1->cufflinks) (8.0.1)\n",
      "Requirement already satisfied: python-dateutil>=2.7.3 in /opt/conda/lib/python3.9/site-packages (from pandas>=0.19.2->cufflinks) (2.8.0)\n",
      "Requirement already satisfied: pytz>=2017.3 in /opt/conda/lib/python3.9/site-packages (from pandas>=0.19.2->cufflinks) (2021.1)\n",
      "Requirement already satisfied: matplotlib-inline in /opt/conda/lib/python3.9/site-packages (from ipython>=5.3.0->cufflinks) (0.1.3)\n",
      "Requirement already satisfied: pickleshare in /opt/conda/lib/python3.9/site-packages (from ipython>=5.3.0->cufflinks) (0.7.5)\n",
      "Requirement already satisfied: prompt-toolkit!=3.0.0,!=3.0.1,<3.1.0,>=2.0.0 in /opt/conda/lib/python3.9/site-packages (from ipython>=5.3.0->cufflinks) (3.0.26)\n",
      "Requirement already satisfied: traitlets>=5 in /opt/conda/lib/python3.9/site-packages (from ipython>=5.3.0->cufflinks) (5.1.1)\n",
      "Requirement already satisfied: pexpect>4.3; sys_platform != \"win32\" in /opt/conda/lib/python3.9/site-packages (from ipython>=5.3.0->cufflinks) (4.8.0)\n",
      "Requirement already satisfied: decorator in /opt/conda/lib/python3.9/site-packages (from ipython>=5.3.0->cufflinks) (5.0.9)\n",
      "Requirement already satisfied: pygments in /opt/conda/lib/python3.9/site-packages (from ipython>=5.3.0->cufflinks) (2.11.2)\n",
      "Requirement already satisfied: jedi>=0.16 in /opt/conda/lib/python3.9/site-packages (from ipython>=5.3.0->cufflinks) (0.18.1)\n",
      "Requirement already satisfied: backcall in /opt/conda/lib/python3.9/site-packages (from ipython>=5.3.0->cufflinks) (0.2.0)\n",
      "Requirement already satisfied: stack-data in /opt/conda/lib/python3.9/site-packages (from ipython>=5.3.0->cufflinks) (0.1.4)\n",
      "Requirement already satisfied: black in /opt/conda/lib/python3.9/site-packages (from ipython>=5.3.0->cufflinks) (22.1.0)\n",
      "Requirement already satisfied: ipykernel>=4.5.1 in /opt/conda/lib/python3.9/site-packages (from ipywidgets>=7.0.0->cufflinks) (6.7.0)\n",
      "Requirement already satisfied: ipython-genutils~=0.2.0 in /opt/conda/lib/python3.9/site-packages (from ipywidgets>=7.0.0->cufflinks) (0.2.0)\n",
      "Requirement already satisfied: jupyterlab-widgets>=1.0.0; python_version >= \"3.6\" in /opt/conda/lib/python3.9/site-packages (from ipywidgets>=7.0.0->cufflinks) (1.0.2)\n",
      "Requirement already satisfied: nbformat>=4.2.0 in /opt/conda/lib/python3.9/site-packages (from ipywidgets>=7.0.0->cufflinks) (5.1.3)\n",
      "Requirement already satisfied: widgetsnbextension~=3.5.0 in /opt/conda/lib/python3.9/site-packages (from ipywidgets>=7.0.0->cufflinks) (3.5.2)\n",
      "Requirement already satisfied: wcwidth in /opt/conda/lib/python3.9/site-packages (from prompt-toolkit!=3.0.0,!=3.0.1,<3.1.0,>=2.0.0->ipython>=5.3.0->cufflinks) (0.2.5)\n",
      "Requirement already satisfied: ptyprocess>=0.5 in /opt/conda/lib/python3.9/site-packages (from pexpect>4.3; sys_platform != \"win32\"->ipython>=5.3.0->cufflinks) (0.7.0)\n",
      "Requirement already satisfied: parso<0.9.0,>=0.8.0 in /opt/conda/lib/python3.9/site-packages (from jedi>=0.16->ipython>=5.3.0->cufflinks) (0.8.3)\n",
      "Requirement already satisfied: pure-eval in /opt/conda/lib/python3.9/site-packages (from stack-data->ipython>=5.3.0->cufflinks) (0.2.2)\n",
      "Requirement already satisfied: asttokens in /opt/conda/lib/python3.9/site-packages (from stack-data->ipython>=5.3.0->cufflinks) (2.0.5)\n",
      "Requirement already satisfied: executing in /opt/conda/lib/python3.9/site-packages (from stack-data->ipython>=5.3.0->cufflinks) (0.8.2)\n",
      "Requirement already satisfied: tomli>=1.1.0 in /opt/conda/lib/python3.9/site-packages (from black->ipython>=5.3.0->cufflinks) (2.0.0)\n",
      "Requirement already satisfied: pathspec>=0.9.0 in /opt/conda/lib/python3.9/site-packages (from black->ipython>=5.3.0->cufflinks) (0.9.0)\n",
      "Requirement already satisfied: mypy-extensions>=0.4.3 in /opt/conda/lib/python3.9/site-packages (from black->ipython>=5.3.0->cufflinks) (0.4.3)\n",
      "Requirement already satisfied: click>=8.0.0 in /opt/conda/lib/python3.9/site-packages (from black->ipython>=5.3.0->cufflinks) (8.0.3)\n",
      "Requirement already satisfied: platformdirs>=2 in /opt/conda/lib/python3.9/site-packages (from black->ipython>=5.3.0->cufflinks) (2.3.0)\n",
      "Requirement already satisfied: typing-extensions>=3.10.0.0; python_version < \"3.10\" in /opt/conda/lib/python3.9/site-packages (from black->ipython>=5.3.0->cufflinks) (4.0.1)\n",
      "Requirement already satisfied: jupyter-client<8.0 in /opt/conda/lib/python3.9/site-packages (from ipykernel>=4.5.1->ipywidgets>=7.0.0->cufflinks) (7.1.2)\n",
      "Requirement already satisfied: debugpy<2.0,>=1.0.0 in /opt/conda/lib/python3.9/site-packages (from ipykernel>=4.5.1->ipywidgets>=7.0.0->cufflinks) (1.5.1)\n",
      "Requirement already satisfied: tornado<7.0,>=4.2 in /opt/conda/lib/python3.9/site-packages (from ipykernel>=4.5.1->ipywidgets>=7.0.0->cufflinks) (6.1)\n",
      "Requirement already satisfied: nest-asyncio in /opt/conda/lib/python3.9/site-packages (from ipykernel>=4.5.1->ipywidgets>=7.0.0->cufflinks) (1.5.4)\n",
      "Requirement already satisfied: jsonschema!=2.5.0,>=2.4 in /opt/conda/lib/python3.9/site-packages (from nbformat>=4.2.0->ipywidgets>=7.0.0->cufflinks) (4.4.0)\n",
      "Requirement already satisfied: jupyter-core in /opt/conda/lib/python3.9/site-packages (from nbformat>=4.2.0->ipywidgets>=7.0.0->cufflinks) (4.9.1)\n",
      "Requirement already satisfied: notebook>=4.4.1 in /opt/conda/lib/python3.9/site-packages (from widgetsnbextension~=3.5.0->ipywidgets>=7.0.0->cufflinks) (6.4.7)\n",
      "Requirement already satisfied: pyzmq>=13 in /opt/conda/lib/python3.9/site-packages (from jupyter-client<8.0->ipykernel>=4.5.1->ipywidgets>=7.0.0->cufflinks) (22.3.0)\n",
      "Requirement already satisfied: entrypoints in /opt/conda/lib/python3.9/site-packages (from jupyter-client<8.0->ipykernel>=4.5.1->ipywidgets>=7.0.0->cufflinks) (0.3)\n",
      "Requirement already satisfied: pyrsistent!=0.17.0,!=0.17.1,!=0.17.2,>=0.14.0 in /opt/conda/lib/python3.9/site-packages (from jsonschema!=2.5.0,>=2.4->nbformat>=4.2.0->ipywidgets>=7.0.0->cufflinks) (0.18.1)\n",
      "Requirement already satisfied: attrs>=17.4.0 in /opt/conda/lib/python3.9/site-packages (from jsonschema!=2.5.0,>=2.4->nbformat>=4.2.0->ipywidgets>=7.0.0->cufflinks) (19.3.0)\n",
      "Requirement already satisfied: argon2-cffi in /opt/conda/lib/python3.9/site-packages (from notebook>=4.4.1->widgetsnbextension~=3.5.0->ipywidgets>=7.0.0->cufflinks) (21.3.0)\n",
      "Requirement already satisfied: terminado>=0.8.3 in /opt/conda/lib/python3.9/site-packages (from notebook>=4.4.1->widgetsnbextension~=3.5.0->ipywidgets>=7.0.0->cufflinks) (0.13.1)\n",
      "Requirement already satisfied: prometheus-client in /opt/conda/lib/python3.9/site-packages (from notebook>=4.4.1->widgetsnbextension~=3.5.0->ipywidgets>=7.0.0->cufflinks) (0.13.1)\n",
      "Requirement already satisfied: Send2Trash>=1.8.0 in /opt/conda/lib/python3.9/site-packages (from notebook>=4.4.1->widgetsnbextension~=3.5.0->ipywidgets>=7.0.0->cufflinks) (1.8.0)\n",
      "Requirement already satisfied: jinja2 in /opt/conda/lib/python3.9/site-packages (from notebook>=4.4.1->widgetsnbextension~=3.5.0->ipywidgets>=7.0.0->cufflinks) (3.0.3)\n",
      "Requirement already satisfied: nbconvert in /opt/conda/lib/python3.9/site-packages (from notebook>=4.4.1->widgetsnbextension~=3.5.0->ipywidgets>=7.0.0->cufflinks) (6.4.0)\n",
      "Requirement already satisfied: argon2-cffi-bindings in /opt/conda/lib/python3.9/site-packages (from argon2-cffi->notebook>=4.4.1->widgetsnbextension~=3.5.0->ipywidgets>=7.0.0->cufflinks) (21.2.0)\n",
      "Requirement already satisfied: MarkupSafe>=2.0 in /opt/conda/lib/python3.9/site-packages (from jinja2->notebook>=4.4.1->widgetsnbextension~=3.5.0->ipywidgets>=7.0.0->cufflinks) (2.0.1)\n",
      "Requirement already satisfied: bleach in /opt/conda/lib/python3.9/site-packages (from nbconvert->notebook>=4.4.1->widgetsnbextension~=3.5.0->ipywidgets>=7.0.0->cufflinks) (4.1.0)\n",
      "Requirement already satisfied: testpath in /opt/conda/lib/python3.9/site-packages (from nbconvert->notebook>=4.4.1->widgetsnbextension~=3.5.0->ipywidgets>=7.0.0->cufflinks) (0.5.0)\n",
      "Requirement already satisfied: defusedxml in /opt/conda/lib/python3.9/site-packages (from nbconvert->notebook>=4.4.1->widgetsnbextension~=3.5.0->ipywidgets>=7.0.0->cufflinks) (0.7.1)\n",
      "Requirement already satisfied: jupyterlab-pygments in /opt/conda/lib/python3.9/site-packages (from nbconvert->notebook>=4.4.1->widgetsnbextension~=3.5.0->ipywidgets>=7.0.0->cufflinks) (0.1.2)\n",
      "Requirement already satisfied: pandocfilters>=1.4.1 in /opt/conda/lib/python3.9/site-packages (from nbconvert->notebook>=4.4.1->widgetsnbextension~=3.5.0->ipywidgets>=7.0.0->cufflinks) (1.5.0)\n",
      "Requirement already satisfied: nbclient<0.6.0,>=0.5.0 in /opt/conda/lib/python3.9/site-packages (from nbconvert->notebook>=4.4.1->widgetsnbextension~=3.5.0->ipywidgets>=7.0.0->cufflinks) (0.5.10)\n",
      "Requirement already satisfied: mistune<2,>=0.8.1 in /opt/conda/lib/python3.9/site-packages (from nbconvert->notebook>=4.4.1->widgetsnbextension~=3.5.0->ipywidgets>=7.0.0->cufflinks) (0.8.4)\n",
      "Requirement already satisfied: cffi>=1.0.1 in /opt/conda/lib/python3.9/site-packages (from argon2-cffi-bindings->argon2-cffi->notebook>=4.4.1->widgetsnbextension~=3.5.0->ipywidgets>=7.0.0->cufflinks) (1.14.6)\n",
      "Requirement already satisfied: packaging in /opt/conda/lib/python3.9/site-packages (from bleach->nbconvert->notebook>=4.4.1->widgetsnbextension~=3.5.0->ipywidgets>=7.0.0->cufflinks) (21.3)\n",
      "Requirement already satisfied: webencodings in /opt/conda/lib/python3.9/site-packages (from bleach->nbconvert->notebook>=4.4.1->widgetsnbextension~=3.5.0->ipywidgets>=7.0.0->cufflinks) (0.5.1)\n",
      "Requirement already satisfied: pycparser in /opt/conda/lib/python3.9/site-packages (from cffi>=1.0.1->argon2-cffi-bindings->argon2-cffi->notebook>=4.4.1->widgetsnbextension~=3.5.0->ipywidgets>=7.0.0->cufflinks) (2.20)\n",
      "Requirement already satisfied: pyparsing!=3.0.5,>=2.0.2 in /opt/conda/lib/python3.9/site-packages (from packaging->bleach->nbconvert->notebook>=4.4.1->widgetsnbextension~=3.5.0->ipywidgets>=7.0.0->cufflinks) (3.0.7)\n"
     ]
    }
   ],
   "source": [
    "# SOMETHING IN THIS CELL IS TOO MUCH MEMORY TO IMPORT; LET'S FIND OUT WHAT\n",
    "# PROBABLY MATPLOTLIB OR PLOTLY??? That's the only thing different. I moved both to the cell below\n",
    "\n",
    "\"\"\"\n",
    "If necessary, uncomment and install:\n",
    "\"\"\"\n",
    "!pip install wbdata\n",
    "!pip install cufflinks\n",
    "\n",
    "\n",
    "import wbdata\n",
    "import cufflinks as cf\n",
    "import pandas as pd\n",
    "import numpy as np\n",
    "\n"
   ]
  },
  {
   "cell_type": "code",
   "execution_count": null,
   "id": "bf5ea128",
   "metadata": {},
   "outputs": [],
   "source": [
    "# leaving here because danger? run at ur own risk\n",
    "\n",
    "import matplotlib.pyplot as plt\n",
    "import plotly.express as px"
   ]
  },
  {
   "cell_type": "code",
   "execution_count": 2,
   "id": "6ed30ca2",
   "metadata": {},
   "outputs": [
    {
     "data": {
      "text/plain": [
       "id                          name\n",
       "--------------------------  -------------------------------------------------------------------------------------------------------------------------------------------------------------------------\n",
       "account.t.d                 Account (% age 15+)\n",
       "account.t.d.7               Account, income, poorest 40% (% ages 15+)\n",
       "AG.LND.AGRI.ZS              Agricultural land (% of land area)\n",
       "AG.LND.ARBL.ZS              Arable land (% of land area)\n",
       "AG.LND.FRST.ZS              Forest area (% of land area)\n",
       "CC.ADPO.MAEX.AA             Additional population exposed to annual coastal floods due to sea level rise, as a share of actual population (%) - Min. exposure, 2100\n",
       "CC.ADPO.MAEX.BB             Additional population exposed to annual coastal floods due to sea level rise, as a share of actual population (%) - Max exposure, 2100\n",
       "CC.ADPO.MIEX.AA             Additional population exposed to annual coastal floods due to sea level rise, as a share of actual population (%) - Min. exposure, 2050\n",
       "CC.ADPO.MIEX.BB             Additional population exposed to annual coastal floods due to sea level rise, as a share of actual population (%) - Max exposure, 2050\n",
       "CC.AG.NTR.TOHA              Nitrogen application (tons per ha)\n",
       "CC.AVPB.PTPI.AI             Additional people below $1.90 as % of total population by impact - All impacts\n",
       "CC.AVPB.PTPI.AR             Additional people below $1.90 as % of total population by impact - Agriculture Revenues\n",
       "CC.AVPB.PTPI.DI             Additional people below $1.90 as % of total population by impact - Disasters\n",
       "CC.AVPB.PTPI.FP             Additional people below $1.90 as % of total population by impact - Food prices\n",
       "CC.AVPB.PTPI.HE             Additional people below $1.90 as % of total population by impact - Health\n",
       "CC.AVPB.PTPI.LP             Additional people below $1.90 as % of total population by impact - Labor productivity\n",
       "CC.AVPB.TPOP.AG             Additional people below $4 as % of total population by impact, by 2030 - Agriculture\n",
       "CC.AVPB.TPOP.AI             Additional people below $4 as % of total population by impact, by 2030 - All Impacts\n",
       "CC.AVPB.TPOP.DI             Additional people below $4 as % of total population by impact, by 2030 - Disasters\n",
       "CC.AVPB.TPOP.HE             Additional people below $4 as % of total population by impact, by 2030 - Health\n",
       "CC.AVPB.TPOP.TE             Additional people below $4 as % of total population by impact, by 2030 - Temperature\n",
       "CC.CHIC.BTFP.AG             Change in income (%) for bottom 40% of the population by impact, by 2030 - Agriculture (original)\n",
       "CC.CHIC.BTFP.AI             Change in income (%) for bottom 40% of the population by impact, by 2030 - All Impacts (original)\n",
       "CC.CHIC.BTFP.DI             Change in income (%) for bottom 40% of the population by impact, by 2030 - Disasters (original)\n",
       "CC.CHIC.BTFP.HE             Change in income (%) for bottom 40% of the population by impact, by 2030 - Health (original)\n",
       "CC.CHIC.BTFP.TE             Change in income (%) for bottom 40% of the population by impact, by 2030 - Temperature (original)\n",
       "CC.CHIC.CFPI.AG             Change in income (%) for bottom 40% of the population by impact - Agriculture Revenues (update)\n",
       "CC.CHIC.CFPI.AI             Change in income (%) for bottom 40% of the population by impact - All impacts (update)\n",
       "CC.CHIC.CFPI.DI             Change in income (%) for bottom 40% of the population by impact - Disasters (update)\n",
       "CC.CHIC.CFPI.FP             Change in income (%) for bottom 40% of the population by impact - Food prices (update)\n",
       "CC.CHIC.CFPI.HE             Change in income (%) for bottom 40% of the population by impact - Health (update)\n",
       "CC.CHIC.CFPI.LP             Change in income (%) for bottom 40% of the population by impact - Labor productivity (update)\n",
       "CC.CO2.EMSE.BF              CO2 emissions by sector (Mt CO2 eq) - Bunker Fuels\n",
       "CC.CO2.EMSE.BL              CO2 emissions by sector (Mt CO2 eq) - Building\n",
       "CC.CO2.EMSE.EL              CO2 emissions by sector (Mt CO2 eq) - Total excluding LUCF\n",
       "CC.CO2.EMSE.EN              CO2 emissions by sector (Mt CO2 eq) - Energy\n",
       "CC.CO2.EMSE.FE              CO2 emissions by sector (Mt CO2 eq) - Fugitive Emissions\n",
       "CC.CO2.EMSE.IL              CO2 emissions by sector (Mt CO2 eq) - Total including LUCF\n",
       "CC.CO2.EMSE.IP              CO2 emissions by sector (Mt CO2 eq) - Industrial Processes\n",
       "CC.CO2.EMSE.LU              CO2 emissions by sector (Mt CO2 eq) - Land-Use Change and Forestry\n",
       "CC.CO2.EMSE.MC              CO2 emissions by sector (Mt CO2 eq) - Manufacturing/Construction\n",
       "CC.CO2.EMSE.TR              CO2 emissions by sector (Mt CO2 eq) - Transportation\n",
       "CC.COAL.EMIS.CH             Annual methane emissions at operating coal mines (Mt CO2e 100 years)\n",
       "CC.COAL.EMIS.CO             Annual CO2 combustion emissions at operating coal mines (Mt CO2)\n",
       "CC.COAL.EMPR.CH             Annual methane emisssions at proposed coal projects (Mt CO2e 100 years)\n",
       "CC.COAL.PROD.OP             Annual coal production (Mt per year) - Operating\n",
       "CC.COAL.PROD.PR             Annual coal production (Mt per year) - Proposed Projects (Total)\n",
       "CC.CPAT.ACAE.SI             Absolute change in annual CO2 emissions from a US$60 carbon tax in 2022 rising to US$100 by 2030 (MTCO2)\n",
       "CC.CPAT.ACAE.TE             Absolute change in annual CO2 emissions from a US$12 carbon tax in 2022 rising to US$20 by 2030 (MTCO2)\n",
       "CC.CPAT.ADRP.HU             Averted deaths as a result of reduced air pollution from a US$60 carbon tax in 2022 rising to US$100 by 2030 (count)\n",
       "CC.CPAT.ADRP.SI             Averted deaths as a result of reduced air pollution from a US$60 carbon tax in 2022 rising to US$100 by 2030 (%)\n",
       "CC.CPAT.ADRP.TE             Averted deaths as a result of reduced air pollution from a US$12 carbon tax in 2022 rising to US$20 by 2030 (%)\n",
       "CC.CPAT.ADRP.TW             Averted deaths as a result of reduced air pollution from a US$12 carbon tax in 2022 rising to US$20 by 2030 (count)\n",
       "CC.CPAT.NERE.HU             Net revenues from a US$60 carbon tax in 2022 rising to US$100 by 2030 (constant 2018 US$bn)\n",
       "CC.CPAT.NERE.TW             Net revenues from a US$12 carbon tax in 2022 rising to US$20 by 2030 (constant 2018 US$bn)\n",
       "CC.CPAT.NRRT.HU             Net revenues from a US$60 carbon tax in 2022 rising to US$100 by 2030 (% of GDP)\n",
       "CC.CPAT.NRRT.TW             Net revenues from a US$12 carbon tax in 2022 rising to US$20 by 2030 (% of GDP)\n",
       "CC.CPAT.RCAE.SI             Relative change in annual CO2 emissions from a US$60 carbon tax in 2022 rising to US$100 by 2030 (%)\n",
       "CC.CPAT.RCAE.TE             Relative change in annual CO2 emissions from a US$12 carbon tax in 2022 rising to US$20 by 2030 (%)\n",
       "CC.CPAT.TWCC.HU             Total welfare benefits including co-benefits from a US$60 carbon tax in 2022 rising to US$100 by 2030 (constant 2018 US$bn)\n",
       "CC.CPAT.TWCC.SI             Total welfare benefits including co-benefits from a US$60 carbon tax in 2022 rising to US$100 by 2030 (% of GDP)\n",
       "CC.CPAT.TWCC.TI             Total welfare benefits including co-benefits from a US$12 carbon tax in 2022 rising to US$20 by 2030 (% of GDP)\n",
       "CC.CPAT.TWCC.TW             Total welfare benefits including co-benefits from a US$12 carbon tax in 2022 rising to US$20 by 2030 (constant 2018 US$bn)\n",
       "CC.CPAT.WBRC.SI             Welfare benefits from reduced climate damages when introducing a US$60 carbon tax in 2022 rising to US$100 by 2030 (constant 2018 US$bn)\n",
       "CC.CPAT.WBRC.TW             Welfare benefits from reduced climate damages when introducing a US$12 carbon tax in 2022 rising to US$20 by 2030 (constant 2018 US$bn)\n",
       "CC.CUF.STUN                 Children under 5 years of age who are stunted (% of total)\n",
       "CC.ECA.GAEX.CA              Capacity of Liquefied Natural Gas export terminals (Mt per year) - Cancelled\n",
       "CC.ECA.GAEX.ID              Capacity of Liquefied Natural Gas export terminals (Mt per year) - In Development (Proposed + Construction)\n",
       "CC.ECA.GAEX.OP              Capacity of Liquefied Natural Gas export terminals (Mt per year) - Operating\n",
       "CC.ECA.GAEX.SH              Capacity of Liquefied Natural Gas export terminals (Mt per year) - Shelved\n",
       "CC.ECA.GAIM.CA              Capacity of Liquefied Natural Gas import terminals (Mt per year) - Cancelled\n",
       "CC.ECA.GAIM.ID              Capacity of Liquefied Natural Gas import terminals (Mt per year) - In Development (Proposed + Construction)\n",
       "CC.ECA.GAIM.OP              Capacity of Liquefied Natural Gas import terminals (Mt per year) - Operating\n",
       "CC.ECA.GAIM.SH              Capacity of Liquefied Natural Gas import terminals (Mt per year) - Shelved\n",
       "CC.EG.COAL.MW               Total operating coal power capacity (MW)\n",
       "CC.EG.CONS.COAL.PC          Per capita daily coal consumption (short tons per capita per day)\n",
       "CC.EG.CONS.GAS.PC           Per capita daily gas consumption (thousand cubic feet per capita per day)\n",
       "CC.EG.CONS.OIL.PC           Per capita daily oil consumption (barrels per capita per day)\n",
       "CC.EG.EMIS.MAN              CO2 emissions per dollar of manufacturing value added (kgCO2 per constant 2010 US$)\n",
       "CC.EG.INTS.KW               Energy intensity of the economy (kWh per 2011$PPP)\n",
       "CC.EG.SOLR.KW               Average practical solar potential (kWh/kWp/day)\n",
       "CC.EG.STL.PROD              Total steelmaking capacity (thousand tonnes per annum)\n",
       "CC.EG.SUBF.PC               Fossil-fuel pre-tax subsidies (consumption and production) USD per capita\n",
       "CC.EG.WIND.PC               Offshore wind potential - Per capita (kW/cap)\n",
       "CC.EG.WIND.TOTL             Offshore wind potential - Total (GW)\n",
       "CC.EN.ATM.COAL.CE           Lifetime CO2 emissions from coal plants (Mt CO2)\n",
       "CC.ENTX.ENE.ZS              Total energy tax revenue (% of GDP)\n",
       "CC.ENV.GDS.CADV             Comparative advantage in environmental goods (index)\n",
       "CC.ENV.TRAD.EX              Trade in environmental goods as share of total exports (%)\n",
       "CC.ENV.TRAD.IM              Trade in environmental goods as share of total imports (%)\n",
       "CC.ESG.AGFE                 Employment by sector and gender (% of total) - Agriculture - Female\n",
       "CC.ESG.AGMA                 Employment by sector and gender (% of total) - Agriculture - Male\n",
       "CC.ESG.CMFE                 Employment by sector and gender (% of total) - Commerce - Female\n",
       "CC.ESG.CMMA                 Employment by sector and gender (% of total) - Commerce - Male\n",
       "CC.ESG.CNFE                 Employment by sector and gender (% of total) - Construction - Female\n",
       "CC.ESG.CNMA                 Employment by sector and gender (% of total) - Construction - Male\n",
       "CC.ESG.EUFE                 Employment by sector and gender (% of total) - Electricity and utilities - Female\n",
       "CC.ESG.EUMA                 Employment by sector and gender (% of total) - Electricity and utilities - Male\n",
       "CC.ESG.FBFE                 Employment by sector and gender (% of total) - Financial and Business Services - Female\n",
       "CC.ESG.FBMA                 Employment by sector and gender (% of total) - Financial and Business Services - Male\n",
       "CC.ESG.INFE                 Employment by sector and gender (% of total) - Industry - Female\n",
       "CC.ESG.INMA                 Employment by sector and gender (% of total) - Industry - Male\n",
       "CC.ESG.MAFE                 Employment by sector and gender (% of total) - Manufacturing - Female\n",
       "CC.ESG.MAMA                 Employment by sector and gender (% of total) - Manufacturing - Male\n",
       "CC.ESG.MIFE                 Employment by sector and gender (% of total) - Mining - Female\n",
       "CC.ESG.MIMA                 Employment by sector and gender (% of total) - Mining - Male\n",
       "CC.ESG.OSFE                 Employment by sector and gender (% of total) - Other services - Female\n",
       "CC.ESG.OSMA                 Employment by sector and gender (% of total) - Other services - Male\n",
       "CC.ESG.PAFE                 Employment by sector and gender (% of total) - Public Administration - Female\n",
       "CC.ESG.PAMA                 Employment by sector and gender (% of total) - Public Administration - Male\n",
       "CC.ESG.PSFE                 Employment by sector and gender (% of total) - Public sector employment - Female\n",
       "CC.ESG.PSMA                 Employment by sector and gender (% of total) - Public sector employment - Male\n",
       "CC.ESG.SEFE                 Employment by sector and gender (% of total) - Services - Female\n",
       "CC.ESG.SEMA                 Employment by sector and gender (% of total) - Services - Male\n",
       "CC.ESG.TCFE                 Employment by sector and gender (% of total) - Transport & Communication - Female\n",
       "CC.ESG.TCMA                 Employment by sector and gender (% of total) - Transport & Communication - Male\n",
       "CC.FGHG.SYS.CS              Food GHG emissions by system stage (Share of total) - Consumption\n",
       "CC.FGHG.SYS.EO              Food GHG emissions by system stage (Share of total) - End_of_Life\n",
       "CC.FGHG.SYS.LU              Food GHG emissions by system stage (Share of total) - LULUC (Production)\n",
       "CC.FGHG.SYS.PC              Food GHG emissions by system stage (Share of total) - Packaging\n",
       "CC.FGHG.SYS.PD              Food GHG emissions by system stage (Share of total) - Production\n",
       "CC.FGHG.SYS.RE              Food GHG emissions by system stage (Share of total) - Retail\n",
       "CC.FGHG.SYS.TR              Food GHG emissions by system stage (Share of total) - Transport\n",
       "CC.FLD.BELW.ZS              Population exposed to floods (share of population below 5.5$)\n",
       "CC.FLD.TOTL.ZS              Population exposed to floods (share of total population)\n",
       "CC.FOOD.ANIM.ZS             Share of animal products in food supply (% of total)\n",
       "CC.FOOD.VEGT.ZS             Share of vegetal products in food supply (% of total)\n",
       "CC.FRVOL.MOD.AI             Freight volume by mode (billion tons-km) - Air transport\n",
       "CC.FRVOL.MOD.IW             Freight volume by mode (billion tons-km) - Inland waterway transport\n",
       "CC.FRVOL.MOD.RA             Freight volume by mode (billion tons-km) - Rail transport\n",
       "CC.FRVOL.MOD.RO             Freight volume by mode (billion tons-km) - Road transport\n",
       "CC.GAS.PPBC.CN              Gas pipeline capacity by project status (barrels of oil equivalent per day) - Cancelled\n",
       "CC.GAS.PPBC.CO              Gas pipeline capacity by project status (barrels of oil equivalent per day) - Construction\n",
       "CC.GAS.PPBC.ID              Gas pipeline capacity by project status (barrels of oil equivalent per day) - In Development (Proposed + Construction)\n",
       "CC.GAS.PPBC.MB              Gas pipeline capacity by project status (barrels of oil equivalent per day) - Mothballed\n",
       "CC.GAS.PPBC.OP              Gas pipeline capacity by project status (barrels of oil equivalent per day) - Operating\n",
       "CC.GAS.PPBC.PR              Gas pipeline capacity by project status (barrels of oil equivalent per day) - Proposed\n",
       "CC.GAS.PPBC.SH              Gas pipeline capacity by project status (barrels of oil equivalent per day) - Shelved\n",
       "CC.GHG.EMSE.AG              Total GHG emissions by sector (Mt CO2 eq) - Agriculture\n",
       "CC.GHG.EMSE.BF              Total GHG emissions by sector (Mt CO2 eq) - Bunker Fuels\n",
       "CC.GHG.EMSE.BL              Total GHG emissions by sector (Mt CO2 eq) - Building\n",
       "CC.GHG.EMSE.EH              Total GHG emissions by sector (Mt CO2 eq) - Electricity/Heat\n",
       "CC.GHG.EMSE.EL              Total GHG emissions by sector (Mt CO2 eq) - Total excluding LUCF\n",
       "CC.GHG.EMSE.EN              Total GHG emissions by sector (Mt CO2 eq) - Energy\n",
       "CC.GHG.EMSE.FE              Total GHG emissions by sector (Mt CO2 eq) - Fugitive Emissions\n",
       "CC.GHG.EMSE.IL              Total GHG emissions by sector (Mt CO2 eq) - Total including LUCF\n",
       "CC.GHG.EMSE.IP              Total GHG emissions by sector (Mt CO2 eq) - Industrial Processes\n",
       "CC.GHG.EMSE.LU              Total GHG emissions by sector (Mt CO2 eq) - Land-Use Change and Forestry\n",
       "CC.GHG.EMSE.MC              Total GHG emissions by sector (Mt CO2 eq) - Manufacturing/Construction\n",
       "CC.GHG.EMSE.OF              Total GHG emissions by sector (Mt CO2 eq) - Other Fuel Combustion\n",
       "CC.GHG.EMSE.TR              Total GHG emissions by sector (Mt CO2 eq) - Transportation\n",
       "CC.GHG.EMSE.WA              Total GHG emissions by sector (Mt CO2 eq) - Waste\n",
       "CC.GHG.FSYS.CH              GHG emissions from food systems, by gas (Mt CO2 eq) - Methane\n",
       "CC.GHG.FSYS.CO              GHG emissions from food systems, by gas (Mt CO2 eq) - CO2\n",
       "CC.GHG.FSYS.FG              GHG emissions from food systems, by gas (Mt CO2 eq) - F-gases\n",
       "CC.GHG.FSYS.NO              GHG emissions from food systems, by gas (Mt CO2 eq) - N2O\n",
       "CC.GHG.GRPE                 GHG growth (annual %)\n",
       "CC.GHG.MEMG.EI              Macro drivers of GHG emissions growth in the period 2012-2019 - Emission Intensity of GDP\n",
       "CC.GHG.MEMG.GC              Macro drivers of GHG emissions growth in the period 2012-2020 - GDP per capita\n",
       "CC.GHG.MEMG.PO              Macro drivers of GHG emissions growth in the period 2012-2018 - Population\n",
       "CC.GHG.PECA                 Per capita GHG emissions (tons/capita)\n",
       "CC.GHG.SDEG.AG              Sectoral drivers of GHG emissions growth in the period 2012-2018 - Agriculture (contribution to total growth, %)\n",
       "CC.GHG.SDEG.BU              Sectoral drivers of GHG emissions growth in the period 2012-2018 - Building (contribution to total growth, %)\n",
       "CC.GHG.SDEG.EH              Sectoral drivers of GHG emissions growth in the period 2012-2018 - Electricity/Heat (contribution to total growth, %)\n",
       "CC.GHG.SDEG.FE              Sectoral drivers of GHG emissions growth in the period 2012-2018 - Fugitive Emissions (contribution to total growth, %)\n",
       "CC.GHG.SDEG.LU              Sectoral drivers of GHG emissions growth in the period 2012-2018 - Land-Use Change and Forestry (contribution to total growth, %)\n",
       "CC.GHG.SDEG.MC              Sectoral drivers of GHG emissions growth in the period 2012-2018 - Manufacturing/Construction (contribution to total growth, %)\n",
       "CC.GHG.SDEG.OF              Sectoral drivers of GHG emissions growth in the period 2012-2018 - Other Fuel Combustion (contribution to total growth, %)\n",
       "CC.GHG.SDEG.TR              Sectoral drivers of GHG emissions growth in the period 2012-2018 - Transportation (contribution to total growth, %)\n",
       "CC.GHG.SDEG.WA              Sectoral drivers of GHG emissions growth in the period 2012-2018 - Waste (contribution to total growth, %)\n",
       "CC.GNBD.ISS.BD              Total sovereign green bonds issuance (billion US$)\n",
       "CC.INCP.ALRS                Annual investment needs for coastal protection, by risk strategy (% of GDP) - low risk tolerance\n",
       "CC.INCP.KRGC                Annual investment needs for coastal protection, by risk strategy (% of GDP) - constant relative flood risk\n",
       "CC.INCP.SPMC                Annual investment needs for coastal protection, by risk strategy (% of GDP) - optimal protection\n",
       "CC.ISG.FFFE                 Informal employment by sector and gender (% of total) - Agriculture, forestry and fishing - Female\n",
       "CC.ISG.FFMA                 Informal employment by sector and gender (% of total) - Agriculture, forestry and fishing - Male\n",
       "CC.ISG.NAFE                 Informal employment by sector and gender (% of total) - Non-agriculture - Female\n",
       "CC.ISG.NAMA                 Informal employment by sector and gender (% of total) - Non-agriculture - Male\n",
       "CC.ISG.NBFE                 Informal employment by sector and gender (% of total) - No breakdown - Female\n",
       "CC.ISG.NBMA                 Informal employment by sector and gender (% of total) - No breakdown - Male\n",
       "CC.KBA.MRN.ZS               Proportion of freshwater key biodiversity areas (KBAs) covered by protected areas (%)\n",
       "CC.KBA.TERR.ZS              Proportion of terrestrial key biodiversity areas (KBAs) covered by protected areas (%)\n",
       "CC.NCO.GHG.AG               Non-CO2 GHG emissions by sector (Mt CO2 eq) - Agriculture\n",
       "CC.NCO.GHG.EL               Non-CO2 GHG emissions by sector (Mt CO2 eq) - Total excluding LUCF\n",
       "CC.NCO.GHG.EN               Non-CO2 GHG emissions by sector (Mt CO2 eq) - Energy\n",
       "CC.NCO.GHG.FE               Non-CO2 GHG emissions by sector (Mt CO2 eq) - Fugitive Emissions\n",
       "CC.NCO.GHG.IL               Non-CO2 GHG emissions by sector (Mt CO2 eq) - Total including LUCF\n",
       "CC.NCO.GHG.IP               Non-CO2 GHG emissions by sector (Mt CO2 eq) - Industrial Processes\n",
       "CC.NCO.GHG.OF               Non-CO2 GHG emissions by sector (Mt CO2 eq) - Other Fuel Combustion\n",
       "CC.NCO.GHG.WA               Non-CO2 GHG emissions by sector (Mt CO2 eq) - Waste\n",
       "CC.NEFO.IMCR.BA             Net food imports by crop - Barley\n",
       "CC.NEFO.IMCR.BP             Net food imports by crop - Rice, paddy\n",
       "CC.NEFO.IMCR.MA             Net food imports by crop - Maize\n",
       "CC.NEFO.IMCR.RB             Net food imports by crop - Rice, broken\n",
       "CC.NEFO.IMCR.RE             Net food imports by crop - Rice, paddy (rice milled equivalent)\n",
       "CC.NEFO.IMCR.RH             Net food imports by crop - Rice, husked\n",
       "CC.NEFO.IMCR.RI             Net food imports by crop - Rice, milled/husked\n",
       "CC.NEFO.IMCR.RM             Net food imports by crop - Rice, milled\n",
       "CC.NEFO.IMCR.SB             Net food imports by crop - Soybeans\n",
       "CC.NEFO.IMCR.WH             Net food imports by crop - Wheat\n",
       "CC.OIL.PSBC.CN              Oil pipeline capacity by project status (barrels of oil equivalent per day) - Cancelled\n",
       "CC.OIL.PSBC.CO              Oil pipeline capacity by project status (barrels of oil equivalent per day) - Construction\n",
       "CC.OIL.PSBC.ID              Oil pipeline capacity by project status (barrels of oil equivalent per day) - In Development (Proposed + Construction)\n",
       "CC.OIL.PSBC.OP              Oil pipeline capacity by project status (barrels of oil equivalent per day) - Operating\n",
       "CC.OIL.PSBC.PR              Oil pipeline capacity by project status (barrels of oil equivalent per day) - Proposed\n",
       "CC.OIL.PSBC.RT              Oil pipeline capacity by project status (barrels of oil equivalent per day) - Retired\n",
       "CC.OIL.PSBC.SH              Oil pipeline capacity by project status (barrels of oil equivalent per day) - Shelved\n",
       "CC.OPCO.AG.CA1              Operating coal power capacity by plant age (MW) - Coal plant age (0-9 years)\n",
       "CC.OPCO.AG.CA2              Operating coal power capacity by plant age (MW) - Coal plant age (10-19 years)\n",
       "CC.OPCO.AG.CA3              Operating coal power capacity by plant age (MW) - Coal plant age (20-29 years)\n",
       "CC.OPCO.AG.CA4              Operating coal power capacity by plant age (MW) - Coal plant age (30-39 years)\n",
       "CC.OPCO.AG.CA5              Operating coal power capacity by plant age (MW) - Coal plant age (40-49 years)\n",
       "CC.OPCO.AG.CA6              Operating coal power capacity by plant age (MW) - Coal plant age (50-plus years)\n",
       "CC.OPCO.PLTY.CC             Operating coal power capacity by plant type (MW) - Plant Type (Subcritical/CCS)\n",
       "CC.OPCO.PLTY.CF             Operating coal power capacity by plant type (MW) - Plant Type (CFB)\n",
       "CC.OPCO.PLTY.IG             Operating coal power capacity by plant type (MW) - Plant Type (IGCC)\n",
       "CC.OPCO.PLTY.SC             Operating coal power capacity by plant type (MW) - Plant Type (Supercritical)\n",
       "CC.OPCO.PLTY.SU             Operating coal power capacity by plant type (MW) - Plant Type (Subcritical)\n",
       "CC.OPCO.PLTY.UK             Operating coal power capacity by plant type (MW) - Plant Type (Unknown)\n",
       "CC.OPCO.PLTY.US             Operating coal power capacity by plant type (MW) - Plant Type (Ultra-super)\n",
       "CC.PRNX.CAT1.ZS             Percentage of people who believe it is somewhat very likely that they could use the right to use their property of part of it against their will in the next 5 years\n",
       "CC.PRNX.CAT2.ZS             Percentage of people who believe it is very unlikely or unlikely that they could use the right to use their property of part of it against their will in the next 5 years\n",
       "CC.PRNX.CAT3.ZS             Percentage of people who say they have formal documents, legally-binding documents that demonstrate their right to live in or use any of their properties\n",
       "CC.PRNX.CAT4.ZS             Percentage of people who say they have informal documents that demonstrate their right to live in or use any of their properties\n",
       "CC.PRNX.CAT5.ZS             Percentage of people who say they have no documents or informal documents that demonstrate their right to live in or use any of their properties\n",
       "CC.PRO.ANI                  Average supply of protein of animal origin (g/cap/day)\n",
       "CC.PSVOL.MOD.RA             Passenger volume by mode (billion tons-km) - Rail transport\n",
       "CC.PSVOL.MOD.RO             Passenger volume by mode (billion tons-km) - Road transport\n",
       "CC.PUN.TOTL                 Prevalence of undernourishment (3-year average) (% of total)\n",
       "CC.RIC.PECA                 Rice supply quantity (g/capita/day)\n",
       "CC.RISK.AST.ZS              Risk to asset (average annual losses as % of GDP)\n",
       "CC.RISK.WELL.ZS             Risk to wellbeing (average annual losses as % of GDP)\n",
       "CC.SE.CAT2.ZS               Percentage of population with Primary Education\n",
       "CC.SE.CAT3.ZS               Percentage of population with Secondary Education\n",
       "CC.SE.NYRS.AVG              Mean number of years of education completed, aged 17 and older\n",
       "CC.SH.AIRP.AIR              Mortality rate attributable to household air pollution (deaths per 100 000 population)\n",
       "CC.SH.AIRP.AMB              Mortality rate attributable to ambient air pollution (deaths per 100 000 population)\n",
       "CC.SP.COV.ZS                Share of population covered by at least one social protection benefit (%)\n",
       "CC.SP.EXP.ZS                Public social protection expenditure (%of GDP)\n",
       "CC.TCFD.COMP.CB             Number of companies that are TCFD compliant by sector - Central Bank\n",
       "CC.TCFD.COMP.CD             Number of companies that are TCFD compliant by sector - Consumer Discretionary\n",
       "CC.TCFD.COMP.CM             Number of companies that are TCFD compliant by sector - Communication Services\n",
       "CC.TCFD.COMP.CS             Number of companies that are TCFD compliant by sector - Consumer Staples\n",
       "CC.TCFD.COMP.FI             Number of companies that are TCFD compliant by sector - Financials\n",
       "CC.TCFD.COMP.GO             Number of companies that are TCFD compliant by sector - Government\n",
       "CC.TCFD.COMP.HC             Number of companies that are TCFD compliant by sector - Health Care\n",
       "CC.TCFD.COMP.IT             Number of companies that are TCFD compliant by sector - Information Technology\n",
       "CC.TCFD.COMP.MT             Number of companies that are TCFD compliant by sector - Materials\n",
       "CC.TCFD.COMP.OT             Number of companies that are TCFD compliant by sector - Other\n",
       "CC.TCFD.COMP.RE             Number of companies that are TCFD compliant by sector - Real Estate\n",
       "CC.TCFD.COMP.TR             Number of companies that are TCFD compliant by sector - Transportation\n",
       "CC.TCFD.COMP.UT             Number of companies that are TCFD compliant by sector - Utilities\n",
       "CC.THHZ.RANK.CF             Natural hazard levels - Coastal flood\n",
       "CC.THHZ.RANK.CY             Natural hazard levels - Cyclone\n",
       "CC.THHZ.RANK.EH             Natural hazard levels - Extreme heat\n",
       "CC.THHZ.RANK.EQ             Natural hazard levels - Earthquake\n",
       "CC.THHZ.RANK.LS             Natural hazard levels - Landslide\n",
       "CC.THHZ.RANK.RF             Natural hazard levels - River flood\n",
       "CC.THHZ.RANK.TS             Natural hazard levels - Tsunami\n",
       "CC.THHZ.RANK.UF             Natural hazard levels - Urban flood\n",
       "CC.THHZ.RANK.WF             Natural hazard levels - Wildfire\n",
       "CC.TNET.CYC.ZS              Share of transport network exposed to cyclones (%)\n",
       "CC.TNET.EAR.ZS              Share of transport network exposed to earthquakes (%)\n",
       "CC.TNET.FLD.ZS              Share of transport network exposed to floods (%)\n",
       "CC.TNET.NAT.ZS              Share of transport network exposed to natural disasters (%)\n",
       "CC.TOT.GHG.GR               Total GHG emissions growth in the period 2012-2018 (%)\n",
       "CC.TOTL.COCA.CA             Total coal capacity by plant status (MW) - Cancelled\n",
       "CC.TOTL.COCA.CO             Total coal capacity by plant status (MW) - Construction\n",
       "CC.TOTL.COCA.MB             Total coal capacity by plant status (MW) - Mothballed\n",
       "CC.TOTL.COCA.OP             Total coal capacity by plant status (MW) - Operating\n",
       "CC.TOTL.COCA.PE             Total coal capacity by plant status (MW) - Permitted\n",
       "CC.TOTL.COCA.PP             Total coal capacity by plant status (MW) - Pre-permit\n",
       "CC.TOTL.COCA.RE             Total coal capacity by plant status (MW) - Retired\n",
       "CC.TOTL.COCA.SH             Total coal capacity by plant status (MW) - Shelved\n",
       "EG.ELC.ACCS.ZS              Access to electricity (% of population)\n",
       "EG.ELC.CARB.KT              Power generation carbon intensity (tCO2/MWh)\n",
       "EG.TEG.RNEW.ZS              Share of renewables in total electricity generation (%)\n",
       "EG.TEG.VAR.ZS               Share of variable renewables in total electricity generation (%)\n",
       "EN.POP.SLUM.UR.ZS           Population living in slums (% of urban population)\n",
       "ER.H2O.INTR.PC              Renewable internal freshwater resources per capita (cubic meters)\n",
       "fin18.t.d                   Saved any money in the past year (% age 15+)\n",
       "g20.t.made                  Made digital payments in the past year (% age 15+)\n",
       "GC.DOD.TOTL.GD.ZS           Central government debt, total (% of GDP)\n",
       "GC.TAX.TOTL.GD.ZS           Tax revenue (% of GDP)\n",
       "GE.EST                      Government Effectiveness: Estimate\n",
       "IC.ELC.OUTG                 Power outages in firms in a typical month (number)\n",
       "IC.ELC.OUTG.ZS              Firms experiencing electrical outages (% of firms)\n",
       "IC.FRM.FEMO.ZS              Firms with female participation in ownership (% of firms)\n",
       "IC.FRM.OUTG.ZS              Value lost due to electrical outages (% of sales for affected firms)\n",
       "NY.GDP.COAL.RT.ZS           Coal rents (% of GDP)\n",
       "NY.GDP.MINR.RT.ZS           Mineral rents (% of GDP)\n",
       "NY.GDP.MKTP.CD              GDP (current US$)\n",
       "NY.GDP.MKTP.KD.ZG           GDP growth (annual %)\n",
       "NY.GDP.NGAS.RT.ZS           Natural gas rents (% of GDP)\n",
       "NY.GDP.PCAP.CD              GDP per capita (current US$)\n",
       "NY.GDP.PETR.RT.ZS           Oil rents (% of GDP)\n",
       "NY.GDP.TOTL.RT.ZS           Total natural resources rents (% of GDP)\n",
       "per_allsp.avt_pop_preT_tot  Average per capita transfer -All Social Protection and Labor (preT)\n",
       "per_allsp.cov_pop_tot       Coverage of social protection and labor programs (% of population)\n",
       "per_allsp.cov_q1_tot        Coverage in 1st quintile (poorest) (%) -All Social Protection and Labor\n",
       "PV.EST                      Political Stability and Absence of Violence/Terrorism: Estimate\n",
       "RL.EST                      Rule of Law: Estimate\n",
       "RQ.EST                      Regulatory Quality: Estimate\n",
       "SE.ADT.LITR.ZS              Literacy rate, adult total (% of people ages 15 and above)\n",
       "SG.GEN.PARL.ZS              Proportion of seats held by women in national parliaments (%)\n",
       "SH.H2O.BASW.ZS              People using at least basic drinking water services (% of population)\n",
       "SH.STA.BASS.ZS              People using at least basic sanitation services (% of population)\n",
       "SH.STA.HYGN.ZS              People with basic handwashing facilities including soap and water (% of population)\n",
       "SI.POV.GINI                 Gini index (World Bank estimate)\n",
       "SI.POV.UMIC                 Poverty headcount ratio at $5.50 a day (2011 PPP) (% of population)\n",
       "SL.TLF.TOTL.FE.ZS           Labor force, female (% of total labor force)\n",
       "SL.UEM.TOTL.ZS              Unemployment, total (% of total labor force) (modeled ILO estimate)\n",
       "SP.POP.TOTL                 Population, total\n",
       "SP.URB.TOTL.IN.ZS           Urban population (% of total population)\n",
       "VA.EST                      Voice and Accountability: Estimate"
      ]
     },
     "execution_count": 2,
     "metadata": {},
     "output_type": "execute_result"
    }
   ],
   "source": [
    "# Later we will not need these cells, because they're only for reference\n",
    "# Delete now or later\n",
    "\n",
    "SOURCE = 87\n",
    "indicators = wbdata.get_indicator(source=SOURCE)\n",
    "indicators"
   ]
  },
  {
   "cell_type": "code",
   "execution_count": null,
   "id": "e3bdde2f",
   "metadata": {},
   "outputs": [],
   "source": [
    "# Later we will not need these cells, because they're only for reference\n",
    "# Delete now or later\n",
    "\n",
    "SOURCE = 87 \n",
    "# 40 - \"Population estimates and projections\"\n",
    "# 87 - 'Country Climate and Development Report'\n",
    "\n",
    "indicators = wbdata.get_indicator(source=SOURCE)\n",
    "indicators"
   ]
  },
  {
   "cell_type": "markdown",
   "id": "8dad7d00",
   "metadata": {},
   "source": [
    "## Population Statistic Function\n",
    "\n",
    "It's a long function, but it is incredibly specifc; you can estimate any combination of ages, including a single age. It can do much more than just capture the already-established bins. It creates corresponding ratios when an age lands somewhere in the middle of a bin."
   ]
  },
  {
   "cell_type": "code",
   "execution_count": 7,
   "id": "a5056831",
   "metadata": {},
   "outputs": [],
   "source": [
    "def population(country, year, sex, lower_age, upper_age):\n",
    "    '''Function returns a SINGLE computed statistic given all the variables.'''\n",
    "    # 'sex' inputs as either 'All' (for 'All people'), or 'Male' or 'Female'\n",
    "    \n",
    "    def build_year_labelled_df(variable_labels, year, country):\n",
    "        '''Creates a dataframe with 1 or multiple needed labels, so that it can be called in a variety of situations below.'''\n",
    "        df = wbdata.get_dataframe(variable_labels)\n",
    "        df = wbdata.get_dataframe(variable_labels, country=country)\n",
    "        df.reset_index(inplace=True)\n",
    "        df['date'] = df['date'].astype(int)\n",
    "        df.set_index(['date'], inplace=True)\n",
    "        df_with_year = df.query('date==@year')\n",
    "        return df_with_year\n",
    "    \n",
    "    \n",
    "    variable_labels = {}\n",
    "    \n",
    "    # Edge case: not working with age bins, just total population or total male/female population (which have different labels than age bins)\n",
    "    if lower_age==0 and upper_age>=80:\n",
    "        if sex==\"All\":\n",
    "            variable_labels[\"SP.POP.TOTL\"] = \"Total Population\"\n",
    "        elif sex==\"Male\":\n",
    "            variable_labels[\"SP.POP.TOTL.MA.IN\"] = \"Total Male Population\"\n",
    "        elif sex==\"Female\":\n",
    "            variable_labels[\"SP.POP.TOTL.FE.IN\"] = \"Total Female Population\"\n",
    "        return build_year_labelled_df(variable_labels, year=year, country=country)[list(variable_labels.values())[0]].iloc[0]\n",
    "    \n",
    "    \n",
    "    # Everything below works with age bins \n",
    "    \n",
    "    # First round up/round down the age boundaries so that all necessary bins will be included\n",
    "    # (The fraction will be multiplied to get a corresponding smaller ratio of an age-bracket population)\n",
    "    lower_age_rounded = lower_age\n",
    "    lower_fraction = 0\n",
    "    if lower_age%5 != 0:\n",
    "        if lower_age%5 == 4:\n",
    "            lower_age_rounded = lower_age - 4\n",
    "            lower_fraction = (1/5)\n",
    "        elif lower_age%5 == 3:\n",
    "            lower_age_rounded = lower_age - 3\n",
    "            lower_fraction = (2/5)\n",
    "        elif lower_age%5 == 2:\n",
    "            lower_age_rounded = lower_age - 2\n",
    "            lower_fraction = (3/5)\n",
    "        elif lower_age%5 == 1:\n",
    "            lower_age_rounded = lower_age - 1\n",
    "            lower_fraction = (4/5)\n",
    "    upper_age_rounded = upper_age\n",
    "    upper_fraction = 0\n",
    "    if upper_age%5 != 4:\n",
    "        if upper_age%5 == 3:\n",
    "            upper_age_rounded = upper_age + 1\n",
    "            upper_fraction = (4/5)\n",
    "        elif upper_age%5 == 2:\n",
    "            upper_age_rounded = upper_age + 2\n",
    "            upper_fraction = (3/5)\n",
    "        elif upper_age%5 == 1:\n",
    "            upper_age_rounded = upper_age + 3\n",
    "            upper_fraction = (2/5)\n",
    "        elif upper_age%5 == 0:\n",
    "            upper_age_rounded = upper_age + 4\n",
    "            upper_fraction = (1/5)\n",
    "    \n",
    "    \n",
    "    # Get the labels ONLY for the bins that YOU NEED, using a loop that adds to a dictionary as you go\n",
    "    placehold = lower_age_rounded\n",
    "    \n",
    "    def digit_adjust(placehold):\n",
    "        '''Function that will prepare ages to be used to make variable_labels; turns an int to a string, and reformats single-digit numbers.'''\n",
    "        if placehold < 10:\n",
    "            return str(0)+str(placehold)\n",
    "        else:\n",
    "            return str(placehold)\n",
    "    \n",
    "    while placehold <= upper_age_rounded:\n",
    "        while placehold < 80:\n",
    "            if sex==\"All\":\n",
    "                variable_labels[\"SP.POP.\"+digit_adjust(placehold)+digit_adjust(placehold+4)+\".MA\"] = str(placehold)+\"-\"+str(placehold+4)+\" Male\"\n",
    "                variable_labels[\"SP.POP.\"+digit_adjust(placehold)+digit_adjust(placehold+4)+\".FE\"] = str(placehold)+\"-\"+str(placehold+4)+\" Female\"\n",
    "            elif sex==\"Male\":\n",
    "                variable_labels[\"SP.POP.\"+digit_adjust(placehold)+digit_adjust(placehold+4)+\".MA\"] = str(placehold)+\"-\"+str(placehold+4)+\" \"+sex\n",
    "            elif sex==\"Female\":\n",
    "                variable_labels[\"SP.POP.\"+digit_adjust(placehold)+digit_adjust(placehold+4)+\".FE\"] = str(placehold)+\"-\"+str(placehold+4)+\" \"+sex\n",
    "            placehold += 5\n",
    "            \n",
    "            if placehold >= 80:\n",
    "                if sex==\"All\":\n",
    "                    variable_labels[\"SP.POP.80UP.MA\"] = \"80+ Male\"\n",
    "                    variable_labels[\"SP.POP.80UP.FE\"] = \"80+ Female\"\n",
    "                elif sex==\"Male\":\n",
    "                    variable_labels[\"SP.POP.80UP.MA\"] = \"80+ Male\"\n",
    "                elif sex==\"Female\":\n",
    "                    variable_labels[\"SP.POP.80UP.FE\"] = \"80+ Female\"\n",
    "            break\n",
    "            \n",
    "            \n",
    "    # Now you have a 'variable_labels' that is filled with every label you need; compute final calculations:\n",
    "    final_df = build_year_labelled_df(variable_labels, year=year, country=country)\n",
    "    bin_count = len(list(variable_labels.keys()))\n",
    "    added = 0\n",
    "    i = 0\n",
    "    \n",
    "    \n",
    "    # Edge case: if you're working with LESS THAN ONE AGE BIN\n",
    "    # (1) For when the ages are different, but smaller than a single age bin (ex: 3-4 year olds)\n",
    "    age_difference = upper_age - lower_age\n",
    "    if age_difference<4 and bin_count==2 and sex=='All': \n",
    "        fraction = (age_difference + 1)/5\n",
    "        while i < bin_count:\n",
    "            added += (fraction*final_df.iloc[:, i].tolist()[0])\n",
    "            i+=1\n",
    "    if age_difference<4 and bin_count==1 and (sex=='Male' or sex=='Female'): \n",
    "        fraction = (age_difference + 1)/5\n",
    "        return np.round(fraction * final_df.iloc[:, 0].tolist()[0])\n",
    "    \n",
    "    # (2) For when you're working with a single age (ex: 3-year-olds)\n",
    "    if lower_age == upper_age:\n",
    "        fraction = (1/5)\n",
    "        if sex==\"All\":\n",
    "            while i < 2:\n",
    "                added += (fraction*final_df.iloc[:, i].tolist()[0])\n",
    "                i+=1\n",
    "        else:\n",
    "            return np.round(fraction * final_df.sum(axis=1).tolist()[0])\n",
    "    \n",
    "    \n",
    "    \n",
    "    # FINAL OUTPUTS FOR 1 OR MORE AGE BINS: (4 different variations of cases)\n",
    "    \n",
    "    # CASE 1: If no rounding was needed (perfect bins):\n",
    "    if lower_age%5==0 and upper_age%5==4:\n",
    "        return final_df.sum(axis=1).tolist()[0]\n",
    "        \n",
    "        \n",
    "    # CASE 2: If lower_age was rounded and upper_age wasn't:\n",
    "    elif lower_age%5!=0 and upper_age%5==4:\n",
    "        # For sex=\"All\", TWO COLUMNS will need to be adjusted (Male AND Female)\n",
    "        if sex==\"All\":\n",
    "            while i < bin_count:\n",
    "                while i < 2:\n",
    "                    added += (lower_fraction*final_df.iloc[:, i].tolist()[0])\n",
    "                    i+=1\n",
    "                added += final_df.iloc[:, i].tolist()[0]\n",
    "                i+=1\n",
    "        else:\n",
    "            while i < bin_count:\n",
    "                while i < 1:\n",
    "                    added += (lower_fraction*final_df.iloc[:, i].tolist()[0])\n",
    "                    i+=1\n",
    "                added += final_df.iloc[:, i].tolist()[0]\n",
    "                i+=1\n",
    "            \n",
    "    \n",
    "    # CASE 3: If upper_age was rounded and lower_age wasn't:\n",
    "    elif lower_age%5==0 and upper_age%5!=4:\n",
    "        if sex==\"All\":\n",
    "            while i < bin_count:\n",
    "                while i < (bin_count - 2):\n",
    "                    added += final_df.iloc[:, i].tolist()[0]\n",
    "                    i+=1\n",
    "                added += (upper_fraction*final_df.iloc[:, i].tolist()[0])\n",
    "                i+=1\n",
    "            return np.round(added)\n",
    "        else:\n",
    "            while i < bin_count:\n",
    "                while i < (bin_count - 1):\n",
    "                    added += final_df.iloc[:, i].tolist()[0]\n",
    "                    i+=1\n",
    "                added += (upper_fraction*final_df.iloc[:, i].tolist()[0])\n",
    "                i+=1\n",
    "        \n",
    "            \n",
    "    # CASE 4: If both upper_age and lower_age were rounded:\n",
    "    else:\n",
    "        if sex==\"All\":\n",
    "            while i < bin_count:\n",
    "                while i < 2:\n",
    "                    added += (lower_fraction*final_df.iloc[:, i].tolist()[0])\n",
    "                    i+=1\n",
    "                while i>1 and i<(bin_count - 2):\n",
    "                    added += final_df.iloc[:, i].tolist()[0]\n",
    "                    i+=1\n",
    "                added += (upper_fraction*final_df.iloc[:, i].tolist()[0])\n",
    "                i+=1\n",
    "        else:\n",
    "            while i < bin_count:\n",
    "                while i < 1:\n",
    "                    added += (lower_fraction*final_df.iloc[:, i].tolist()[0])\n",
    "                    i+=1\n",
    "                while i>0 and i<(bin_count - 1):\n",
    "                    added += final_df.iloc[:, i].tolist()[0]\n",
    "                    i+=1\n",
    "                added += (upper_fraction*final_df.iloc[:, i].tolist()[0])\n",
    "                i+=1 \n",
    "                \n",
    "                \n",
    "    return np.round(added)\n",
    "                "
   ]
  },
  {
   "cell_type": "markdown",
   "id": "486b0f7f",
   "metadata": {},
   "source": [
    "#### Test cases for population statistic function:"
   ]
  },
  {
   "cell_type": "code",
   "execution_count": 11,
   "id": "8bd657fb",
   "metadata": {},
   "outputs": [
    {
     "data": {
      "text/plain": [
       "False"
      ]
     },
     "execution_count": 11,
     "metadata": {},
     "output_type": "execute_result"
    }
   ],
   "source": [
    "population(\"WLD\", 2000, \"Male\", 0, 100) > 7e9"
   ]
  },
  {
   "cell_type": "code",
   "execution_count": 8,
   "id": "f337b2ff",
   "metadata": {},
   "outputs": [
    {
     "data": {
      "text/plain": [
       "True"
      ]
     },
     "execution_count": 8,
     "metadata": {},
     "output_type": "execute_result"
    }
   ],
   "source": [
    "population(\"USA\", 1993, \"Female\", 66, 73, ) == 8269864.0\n",
    "population(\"USA\", 1993, \"All\", 3, 11) == 34293840.0\n",
    "population(\"USA\", 1993, \"All\", 3, 3) == 3976670.0\n",
    "population(\"USA\", 1993, \"Female\", 3, 4) == 3886545.0\n",
    "population(\"USA\", 1993, \"All\", 3, 4) == 7953340.0\n",
    "population(\"USA\", 1993, \"All\", 5, 6) == 7621651.0"
   ]
  },
  {
   "cell_type": "markdown",
   "id": "4290ba74",
   "metadata": {},
   "source": [
    "## Population Dataframes (Daysha, Hannah, William)\n",
    "\n",
    "(Describe here)"
   ]
  },
  {
   "cell_type": "code",
   "execution_count": null,
   "id": "abf259c4",
   "metadata": {},
   "outputs": [],
   "source": [
    "# code for population dataframes"
   ]
  },
  {
   "cell_type": "markdown",
   "id": "ee513903",
   "metadata": {},
   "source": [
    "## Hi Hannah (Title)\n",
    "\n",
    "Start to describe your rural/urban stuff here"
   ]
  },
  {
   "cell_type": "code",
   "execution_count": 11,
   "id": "ce97a762",
   "metadata": {},
   "outputs": [
    {
     "data": {
      "text/html": [
       "<div>\n",
       "<style scoped>\n",
       "    .dataframe tbody tr th:only-of-type {\n",
       "        vertical-align: middle;\n",
       "    }\n",
       "\n",
       "    .dataframe tbody tr th {\n",
       "        vertical-align: top;\n",
       "    }\n",
       "\n",
       "    .dataframe thead th {\n",
       "        text-align: right;\n",
       "    }\n",
       "</style>\n",
       "<table border=\"1\" class=\"dataframe\">\n",
       "  <thead>\n",
       "    <tr style=\"text-align: right;\">\n",
       "      <th></th>\n",
       "      <th>upg</th>\n",
       "      <th>rpg</th>\n",
       "    </tr>\n",
       "    <tr>\n",
       "      <th>date</th>\n",
       "      <th></th>\n",
       "      <th></th>\n",
       "    </tr>\n",
       "  </thead>\n",
       "  <tbody>\n",
       "    <tr>\n",
       "      <th>2020</th>\n",
       "      <td>0.834712</td>\n",
       "      <td>-0.216466</td>\n",
       "    </tr>\n",
       "    <tr>\n",
       "      <th>2019</th>\n",
       "      <td>0.834074</td>\n",
       "      <td>-0.163550</td>\n",
       "    </tr>\n",
       "    <tr>\n",
       "      <th>2018</th>\n",
       "      <td>0.827629</td>\n",
       "      <td>-0.108409</td>\n",
       "    </tr>\n",
       "    <tr>\n",
       "      <th>2017</th>\n",
       "      <td>0.817680</td>\n",
       "      <td>-0.057201</td>\n",
       "    </tr>\n",
       "    <tr>\n",
       "      <th>2016</th>\n",
       "      <td>0.806606</td>\n",
       "      <td>-0.011742</td>\n",
       "    </tr>\n",
       "    <tr>\n",
       "      <th>...</th>\n",
       "      <td>...</td>\n",
       "      <td>...</td>\n",
       "    </tr>\n",
       "    <tr>\n",
       "      <th>1964</th>\n",
       "      <td>4.043233</td>\n",
       "      <td>0.033564</td>\n",
       "    </tr>\n",
       "    <tr>\n",
       "      <th>1963</th>\n",
       "      <td>3.917962</td>\n",
       "      <td>-0.089348</td>\n",
       "    </tr>\n",
       "    <tr>\n",
       "      <th>1962</th>\n",
       "      <td>4.090284</td>\n",
       "      <td>0.082355</td>\n",
       "    </tr>\n",
       "    <tr>\n",
       "      <th>1961</th>\n",
       "      <td>4.468355</td>\n",
       "      <td>0.460937</td>\n",
       "    </tr>\n",
       "    <tr>\n",
       "      <th>1960</th>\n",
       "      <td>NaN</td>\n",
       "      <td>NaN</td>\n",
       "    </tr>\n",
       "  </tbody>\n",
       "</table>\n",
       "<p>61 rows × 2 columns</p>\n",
       "</div>"
      ],
      "text/plain": [
       "           upg       rpg\n",
       "date                    \n",
       "2020  0.834712 -0.216466\n",
       "2019  0.834074 -0.163550\n",
       "2018  0.827629 -0.108409\n",
       "2017  0.817680 -0.057201\n",
       "2016  0.806606 -0.011742\n",
       "...        ...       ...\n",
       "1964  4.043233  0.033564\n",
       "1963  3.917962 -0.089348\n",
       "1962  4.090284  0.082355\n",
       "1961  4.468355  0.460937\n",
       "1960       NaN       NaN\n",
       "\n",
       "[61 rows x 2 columns]"
      ]
     },
     "execution_count": 11,
     "metadata": {},
     "output_type": "execute_result"
    }
   ],
   "source": [
    "# Give variable for clarity\n",
    "variable_labels = {'SP.URB.GROW' : 'upg', 'SP.RUR.TOTL.ZG': 'rpg'}\n",
    "\n",
    "# world = wbdata.get_dataframe(variable_labels, country=\"WLD\")\n",
    "prk_pop_grow = wbdata.get_dataframe(variable_labels, country='PRK')\n",
    "prk_pop_grow\n",
    "# Date index is of type string; change to integers\n",
    "# nzl_gdp.index = world.index.astype(int)\n",
    "# usa_gdp.index = world.index.astype(int)\n"
   ]
  },
  {
   "cell_type": "code",
   "execution_count": 13,
   "id": "a951b425",
   "metadata": {},
   "outputs": [
    {
     "data": {
      "application/vnd.plotly.v1+json": {
       "config": {
        "plotlyServerURL": "https://plot.ly"
       },
       "data": [
        {
         "hovertemplate": "variable=upg<br>date=%{x}<br>value=%{y}<extra></extra>",
         "legendgroup": "upg",
         "line": {
          "color": "#636efa",
          "dash": "solid"
         },
         "marker": {
          "symbol": "circle"
         },
         "mode": "lines",
         "name": "upg",
         "orientation": "v",
         "showlegend": true,
         "type": "scatter",
         "x": [
          "2020",
          "2019",
          "2018",
          "2017",
          "2016",
          "2015",
          "2014",
          "2013",
          "2012",
          "2011",
          "2010",
          "2009",
          "2008",
          "2007",
          "2006",
          "2005",
          "2004",
          "2003",
          "2002",
          "2001",
          "2000",
          "1999",
          "1998",
          "1997",
          "1996",
          "1995",
          "1994",
          "1993",
          "1992",
          "1991",
          "1990",
          "1989",
          "1988",
          "1987",
          "1986",
          "1985",
          "1984",
          "1983",
          "1982",
          "1981",
          "1980",
          "1979",
          "1978",
          "1977",
          "1976",
          "1975",
          "1974",
          "1973",
          "1972",
          "1971",
          "1970",
          "1969",
          "1968",
          "1967",
          "1966",
          "1965",
          "1964",
          "1963",
          "1962",
          "1961",
          "1960"
         ],
         "xaxis": "x",
         "y": [
          0.83471159227682,
          0.834073787792425,
          0.827629166941799,
          0.817680365449629,
          0.806606196608505,
          0.794280173527056,
          0.80834341559503,
          0.814160811143926,
          0.812845640845071,
          0.803765493726027,
          0.793962355841937,
          0.742852100717495,
          0.63234034818948,
          0.683461848125964,
          0.760460574432746,
          0.850232377985095,
          0.937462400610863,
          0.996784059568305,
          1.02128624777223,
          1.01822826363063,
          0.996935086458799,
          0.993509166234227,
          1.03149168410839,
          1.13175443160088,
          1.27590645702219,
          1.44298464469822,
          1.64907505654067,
          1.80662857673287,
          1.83275603473287,
          1.79710607595284,
          1.73968868754316,
          1.69239511564087,
          1.66710581251278,
          1.68210945563099,
          1.7265290507595,
          1.79129582972108,
          1.84229371990017,
          1.85398730353299,
          1.81286046334106,
          1.73348106261427,
          1.43301071982537,
          1.35315788793814,
          1.36828044550139,
          1.52065345862497,
          1.77639116815926,
          2.88469036076669,
          3.16626578285749,
          3.40370747554226,
          3.56712046291549,
          3.65399492249872,
          7.7138808947558,
          8.06234992531153,
          6.90633225244491,
          4.88327166872813,
          4.67660975464513,
          4.35320727618922,
          4.0432333312117,
          3.91796155820863,
          4.09028360872586,
          4.46835495467757,
          null
         ],
         "yaxis": "y"
        },
        {
         "hovertemplate": "variable=rpg<br>date=%{x}<br>value=%{y}<extra></extra>",
         "legendgroup": "rpg",
         "line": {
          "color": "#EF553B",
          "dash": "solid"
         },
         "marker": {
          "symbol": "circle"
         },
         "mode": "lines",
         "name": "rpg",
         "orientation": "v",
         "showlegend": true,
         "type": "scatter",
         "x": [
          "2020",
          "2019",
          "2018",
          "2017",
          "2016",
          "2015",
          "2014",
          "2013",
          "2012",
          "2011",
          "2010",
          "2009",
          "2008",
          "2007",
          "2006",
          "2005",
          "2004",
          "2003",
          "2002",
          "2001",
          "2000",
          "1999",
          "1998",
          "1997",
          "1996",
          "1995",
          "1994",
          "1993",
          "1992",
          "1991",
          "1990",
          "1989",
          "1988",
          "1987",
          "1986",
          "1985",
          "1984",
          "1983",
          "1982",
          "1981",
          "1980",
          "1979",
          "1978",
          "1977",
          "1976",
          "1975",
          "1974",
          "1973",
          "1972",
          "1971",
          "1970",
          "1969",
          "1968",
          "1967",
          "1966",
          "1965",
          "1964",
          "1963",
          "1962",
          "1961",
          "1960"
         ],
         "xaxis": "x",
         "y": [
          -0.21646569602966,
          -0.163549836126003,
          -0.108409363883608,
          -0.057201467049758,
          -0.0117419488949919,
          0.0405335043368691,
          0.0516753188489674,
          0.0587366463786424,
          0.0544451050659183,
          0.050763371068688,
          0.0337880082315007,
          0.0963883562020257,
          0.30732762721258,
          0.358677629524562,
          0.431714445423357,
          0.525865383098188,
          0.609130074927365,
          0.672816794799705,
          0.693369281679098,
          0.690527342724826,
          0.673560911787086,
          0.666213991142627,
          0.704367564354985,
          0.804851375291719,
          0.949172350656428,
          1.11645873736604,
          1.18233942401418,
          1.20004611184945,
          1.22268385735183,
          1.19178169327373,
          1.13087254231275,
          1.08420262569895,
          1.05948416531983,
          1.07509624403925,
          1.12006790405211,
          1.18131545916331,
          1.23288124346659,
          1.24919225505371,
          1.20450951492977,
          1.12565143412592,
          1.26992549411,
          1.19009974561781,
          1.2052603838018,
          1.35768813868795,
          1.61344462277609,
          0.858940645657503,
          1.14154901789746,
          1.38368071141781,
          1.53920478344821,
          1.62992715835868,
          -2.68757587372764,
          -2.32840455465361,
          -0.830426325193817,
          0.876405922017617,
          0.673299961432636,
          0.350336900228236,
          0.0335641209693634,
          -0.0893482856109434,
          0.0823548313355887,
          0.460937070870891,
          null
         ],
         "yaxis": "y"
        }
       ],
       "layout": {
        "legend": {
         "title": {
          "text": "variable"
         },
         "tracegroupgap": 0
        },
        "margin": {
         "t": 60
        },
        "template": {
         "data": {
          "bar": [
           {
            "error_x": {
             "color": "#2a3f5f"
            },
            "error_y": {
             "color": "#2a3f5f"
            },
            "marker": {
             "line": {
              "color": "#E5ECF6",
              "width": 0.5
             },
             "pattern": {
              "fillmode": "overlay",
              "size": 10,
              "solidity": 0.2
             }
            },
            "type": "bar"
           }
          ],
          "barpolar": [
           {
            "marker": {
             "line": {
              "color": "#E5ECF6",
              "width": 0.5
             },
             "pattern": {
              "fillmode": "overlay",
              "size": 10,
              "solidity": 0.2
             }
            },
            "type": "barpolar"
           }
          ],
          "carpet": [
           {
            "aaxis": {
             "endlinecolor": "#2a3f5f",
             "gridcolor": "white",
             "linecolor": "white",
             "minorgridcolor": "white",
             "startlinecolor": "#2a3f5f"
            },
            "baxis": {
             "endlinecolor": "#2a3f5f",
             "gridcolor": "white",
             "linecolor": "white",
             "minorgridcolor": "white",
             "startlinecolor": "#2a3f5f"
            },
            "type": "carpet"
           }
          ],
          "choropleth": [
           {
            "colorbar": {
             "outlinewidth": 0,
             "ticks": ""
            },
            "type": "choropleth"
           }
          ],
          "contour": [
           {
            "colorbar": {
             "outlinewidth": 0,
             "ticks": ""
            },
            "colorscale": [
             [
              0,
              "#0d0887"
             ],
             [
              0.1111111111111111,
              "#46039f"
             ],
             [
              0.2222222222222222,
              "#7201a8"
             ],
             [
              0.3333333333333333,
              "#9c179e"
             ],
             [
              0.4444444444444444,
              "#bd3786"
             ],
             [
              0.5555555555555556,
              "#d8576b"
             ],
             [
              0.6666666666666666,
              "#ed7953"
             ],
             [
              0.7777777777777778,
              "#fb9f3a"
             ],
             [
              0.8888888888888888,
              "#fdca26"
             ],
             [
              1,
              "#f0f921"
             ]
            ],
            "type": "contour"
           }
          ],
          "contourcarpet": [
           {
            "colorbar": {
             "outlinewidth": 0,
             "ticks": ""
            },
            "type": "contourcarpet"
           }
          ],
          "heatmap": [
           {
            "colorbar": {
             "outlinewidth": 0,
             "ticks": ""
            },
            "colorscale": [
             [
              0,
              "#0d0887"
             ],
             [
              0.1111111111111111,
              "#46039f"
             ],
             [
              0.2222222222222222,
              "#7201a8"
             ],
             [
              0.3333333333333333,
              "#9c179e"
             ],
             [
              0.4444444444444444,
              "#bd3786"
             ],
             [
              0.5555555555555556,
              "#d8576b"
             ],
             [
              0.6666666666666666,
              "#ed7953"
             ],
             [
              0.7777777777777778,
              "#fb9f3a"
             ],
             [
              0.8888888888888888,
              "#fdca26"
             ],
             [
              1,
              "#f0f921"
             ]
            ],
            "type": "heatmap"
           }
          ],
          "heatmapgl": [
           {
            "colorbar": {
             "outlinewidth": 0,
             "ticks": ""
            },
            "colorscale": [
             [
              0,
              "#0d0887"
             ],
             [
              0.1111111111111111,
              "#46039f"
             ],
             [
              0.2222222222222222,
              "#7201a8"
             ],
             [
              0.3333333333333333,
              "#9c179e"
             ],
             [
              0.4444444444444444,
              "#bd3786"
             ],
             [
              0.5555555555555556,
              "#d8576b"
             ],
             [
              0.6666666666666666,
              "#ed7953"
             ],
             [
              0.7777777777777778,
              "#fb9f3a"
             ],
             [
              0.8888888888888888,
              "#fdca26"
             ],
             [
              1,
              "#f0f921"
             ]
            ],
            "type": "heatmapgl"
           }
          ],
          "histogram": [
           {
            "marker": {
             "pattern": {
              "fillmode": "overlay",
              "size": 10,
              "solidity": 0.2
             }
            },
            "type": "histogram"
           }
          ],
          "histogram2d": [
           {
            "colorbar": {
             "outlinewidth": 0,
             "ticks": ""
            },
            "colorscale": [
             [
              0,
              "#0d0887"
             ],
             [
              0.1111111111111111,
              "#46039f"
             ],
             [
              0.2222222222222222,
              "#7201a8"
             ],
             [
              0.3333333333333333,
              "#9c179e"
             ],
             [
              0.4444444444444444,
              "#bd3786"
             ],
             [
              0.5555555555555556,
              "#d8576b"
             ],
             [
              0.6666666666666666,
              "#ed7953"
             ],
             [
              0.7777777777777778,
              "#fb9f3a"
             ],
             [
              0.8888888888888888,
              "#fdca26"
             ],
             [
              1,
              "#f0f921"
             ]
            ],
            "type": "histogram2d"
           }
          ],
          "histogram2dcontour": [
           {
            "colorbar": {
             "outlinewidth": 0,
             "ticks": ""
            },
            "colorscale": [
             [
              0,
              "#0d0887"
             ],
             [
              0.1111111111111111,
              "#46039f"
             ],
             [
              0.2222222222222222,
              "#7201a8"
             ],
             [
              0.3333333333333333,
              "#9c179e"
             ],
             [
              0.4444444444444444,
              "#bd3786"
             ],
             [
              0.5555555555555556,
              "#d8576b"
             ],
             [
              0.6666666666666666,
              "#ed7953"
             ],
             [
              0.7777777777777778,
              "#fb9f3a"
             ],
             [
              0.8888888888888888,
              "#fdca26"
             ],
             [
              1,
              "#f0f921"
             ]
            ],
            "type": "histogram2dcontour"
           }
          ],
          "mesh3d": [
           {
            "colorbar": {
             "outlinewidth": 0,
             "ticks": ""
            },
            "type": "mesh3d"
           }
          ],
          "parcoords": [
           {
            "line": {
             "colorbar": {
              "outlinewidth": 0,
              "ticks": ""
             }
            },
            "type": "parcoords"
           }
          ],
          "pie": [
           {
            "automargin": true,
            "type": "pie"
           }
          ],
          "scatter": [
           {
            "marker": {
             "colorbar": {
              "outlinewidth": 0,
              "ticks": ""
             }
            },
            "type": "scatter"
           }
          ],
          "scatter3d": [
           {
            "line": {
             "colorbar": {
              "outlinewidth": 0,
              "ticks": ""
             }
            },
            "marker": {
             "colorbar": {
              "outlinewidth": 0,
              "ticks": ""
             }
            },
            "type": "scatter3d"
           }
          ],
          "scattercarpet": [
           {
            "marker": {
             "colorbar": {
              "outlinewidth": 0,
              "ticks": ""
             }
            },
            "type": "scattercarpet"
           }
          ],
          "scattergeo": [
           {
            "marker": {
             "colorbar": {
              "outlinewidth": 0,
              "ticks": ""
             }
            },
            "type": "scattergeo"
           }
          ],
          "scattergl": [
           {
            "marker": {
             "colorbar": {
              "outlinewidth": 0,
              "ticks": ""
             }
            },
            "type": "scattergl"
           }
          ],
          "scattermapbox": [
           {
            "marker": {
             "colorbar": {
              "outlinewidth": 0,
              "ticks": ""
             }
            },
            "type": "scattermapbox"
           }
          ],
          "scatterpolar": [
           {
            "marker": {
             "colorbar": {
              "outlinewidth": 0,
              "ticks": ""
             }
            },
            "type": "scatterpolar"
           }
          ],
          "scatterpolargl": [
           {
            "marker": {
             "colorbar": {
              "outlinewidth": 0,
              "ticks": ""
             }
            },
            "type": "scatterpolargl"
           }
          ],
          "scatterternary": [
           {
            "marker": {
             "colorbar": {
              "outlinewidth": 0,
              "ticks": ""
             }
            },
            "type": "scatterternary"
           }
          ],
          "surface": [
           {
            "colorbar": {
             "outlinewidth": 0,
             "ticks": ""
            },
            "colorscale": [
             [
              0,
              "#0d0887"
             ],
             [
              0.1111111111111111,
              "#46039f"
             ],
             [
              0.2222222222222222,
              "#7201a8"
             ],
             [
              0.3333333333333333,
              "#9c179e"
             ],
             [
              0.4444444444444444,
              "#bd3786"
             ],
             [
              0.5555555555555556,
              "#d8576b"
             ],
             [
              0.6666666666666666,
              "#ed7953"
             ],
             [
              0.7777777777777778,
              "#fb9f3a"
             ],
             [
              0.8888888888888888,
              "#fdca26"
             ],
             [
              1,
              "#f0f921"
             ]
            ],
            "type": "surface"
           }
          ],
          "table": [
           {
            "cells": {
             "fill": {
              "color": "#EBF0F8"
             },
             "line": {
              "color": "white"
             }
            },
            "header": {
             "fill": {
              "color": "#C8D4E3"
             },
             "line": {
              "color": "white"
             }
            },
            "type": "table"
           }
          ]
         },
         "layout": {
          "annotationdefaults": {
           "arrowcolor": "#2a3f5f",
           "arrowhead": 0,
           "arrowwidth": 1
          },
          "autotypenumbers": "strict",
          "coloraxis": {
           "colorbar": {
            "outlinewidth": 0,
            "ticks": ""
           }
          },
          "colorscale": {
           "diverging": [
            [
             0,
             "#8e0152"
            ],
            [
             0.1,
             "#c51b7d"
            ],
            [
             0.2,
             "#de77ae"
            ],
            [
             0.3,
             "#f1b6da"
            ],
            [
             0.4,
             "#fde0ef"
            ],
            [
             0.5,
             "#f7f7f7"
            ],
            [
             0.6,
             "#e6f5d0"
            ],
            [
             0.7,
             "#b8e186"
            ],
            [
             0.8,
             "#7fbc41"
            ],
            [
             0.9,
             "#4d9221"
            ],
            [
             1,
             "#276419"
            ]
           ],
           "sequential": [
            [
             0,
             "#0d0887"
            ],
            [
             0.1111111111111111,
             "#46039f"
            ],
            [
             0.2222222222222222,
             "#7201a8"
            ],
            [
             0.3333333333333333,
             "#9c179e"
            ],
            [
             0.4444444444444444,
             "#bd3786"
            ],
            [
             0.5555555555555556,
             "#d8576b"
            ],
            [
             0.6666666666666666,
             "#ed7953"
            ],
            [
             0.7777777777777778,
             "#fb9f3a"
            ],
            [
             0.8888888888888888,
             "#fdca26"
            ],
            [
             1,
             "#f0f921"
            ]
           ],
           "sequentialminus": [
            [
             0,
             "#0d0887"
            ],
            [
             0.1111111111111111,
             "#46039f"
            ],
            [
             0.2222222222222222,
             "#7201a8"
            ],
            [
             0.3333333333333333,
             "#9c179e"
            ],
            [
             0.4444444444444444,
             "#bd3786"
            ],
            [
             0.5555555555555556,
             "#d8576b"
            ],
            [
             0.6666666666666666,
             "#ed7953"
            ],
            [
             0.7777777777777778,
             "#fb9f3a"
            ],
            [
             0.8888888888888888,
             "#fdca26"
            ],
            [
             1,
             "#f0f921"
            ]
           ]
          },
          "colorway": [
           "#636efa",
           "#EF553B",
           "#00cc96",
           "#ab63fa",
           "#FFA15A",
           "#19d3f3",
           "#FF6692",
           "#B6E880",
           "#FF97FF",
           "#FECB52"
          ],
          "font": {
           "color": "#2a3f5f"
          },
          "geo": {
           "bgcolor": "white",
           "lakecolor": "white",
           "landcolor": "#E5ECF6",
           "showlakes": true,
           "showland": true,
           "subunitcolor": "white"
          },
          "hoverlabel": {
           "align": "left"
          },
          "hovermode": "closest",
          "mapbox": {
           "style": "light"
          },
          "paper_bgcolor": "white",
          "plot_bgcolor": "#E5ECF6",
          "polar": {
           "angularaxis": {
            "gridcolor": "white",
            "linecolor": "white",
            "ticks": ""
           },
           "bgcolor": "#E5ECF6",
           "radialaxis": {
            "gridcolor": "white",
            "linecolor": "white",
            "ticks": ""
           }
          },
          "scene": {
           "xaxis": {
            "backgroundcolor": "#E5ECF6",
            "gridcolor": "white",
            "gridwidth": 2,
            "linecolor": "white",
            "showbackground": true,
            "ticks": "",
            "zerolinecolor": "white"
           },
           "yaxis": {
            "backgroundcolor": "#E5ECF6",
            "gridcolor": "white",
            "gridwidth": 2,
            "linecolor": "white",
            "showbackground": true,
            "ticks": "",
            "zerolinecolor": "white"
           },
           "zaxis": {
            "backgroundcolor": "#E5ECF6",
            "gridcolor": "white",
            "gridwidth": 2,
            "linecolor": "white",
            "showbackground": true,
            "ticks": "",
            "zerolinecolor": "white"
           }
          },
          "shapedefaults": {
           "line": {
            "color": "#2a3f5f"
           }
          },
          "ternary": {
           "aaxis": {
            "gridcolor": "white",
            "linecolor": "white",
            "ticks": ""
           },
           "baxis": {
            "gridcolor": "white",
            "linecolor": "white",
            "ticks": ""
           },
           "bgcolor": "#E5ECF6",
           "caxis": {
            "gridcolor": "white",
            "linecolor": "white",
            "ticks": ""
           }
          },
          "title": {
           "x": 0.05
          },
          "xaxis": {
           "automargin": true,
           "gridcolor": "white",
           "linecolor": "white",
           "ticks": "",
           "title": {
            "standoff": 15
           },
           "zerolinecolor": "white",
           "zerolinewidth": 2
          },
          "yaxis": {
           "automargin": true,
           "gridcolor": "white",
           "linecolor": "white",
           "ticks": "",
           "title": {
            "standoff": 15
           },
           "zerolinecolor": "white",
           "zerolinewidth": 2
          }
         }
        },
        "xaxis": {
         "anchor": "y",
         "autorange": "reversed",
         "domain": [
          0,
          1
         ],
         "title": {
          "text": "date"
         }
        },
        "yaxis": {
         "anchor": "x",
         "domain": [
          0,
          1
         ],
         "title": {
          "text": "value"
         }
        }
       }
      },
      "text/html": [
       "<div>                            <div id=\"4946287a-cfa5-4eb9-9d53-f74af2ece1ef\" class=\"plotly-graph-div\" style=\"height:525px; width:100%;\"></div>            <script type=\"text/javascript\">                require([\"plotly\"], function(Plotly) {                    window.PLOTLYENV=window.PLOTLYENV || {};                                    if (document.getElementById(\"4946287a-cfa5-4eb9-9d53-f74af2ece1ef\")) {                    Plotly.newPlot(                        \"4946287a-cfa5-4eb9-9d53-f74af2ece1ef\",                        [{\"hovertemplate\":\"variable=upg<br>date=%{x}<br>value=%{y}<extra></extra>\",\"legendgroup\":\"upg\",\"line\":{\"color\":\"#636efa\",\"dash\":\"solid\"},\"marker\":{\"symbol\":\"circle\"},\"mode\":\"lines\",\"name\":\"upg\",\"orientation\":\"v\",\"showlegend\":true,\"type\":\"scatter\",\"x\":[\"2020\",\"2019\",\"2018\",\"2017\",\"2016\",\"2015\",\"2014\",\"2013\",\"2012\",\"2011\",\"2010\",\"2009\",\"2008\",\"2007\",\"2006\",\"2005\",\"2004\",\"2003\",\"2002\",\"2001\",\"2000\",\"1999\",\"1998\",\"1997\",\"1996\",\"1995\",\"1994\",\"1993\",\"1992\",\"1991\",\"1990\",\"1989\",\"1988\",\"1987\",\"1986\",\"1985\",\"1984\",\"1983\",\"1982\",\"1981\",\"1980\",\"1979\",\"1978\",\"1977\",\"1976\",\"1975\",\"1974\",\"1973\",\"1972\",\"1971\",\"1970\",\"1969\",\"1968\",\"1967\",\"1966\",\"1965\",\"1964\",\"1963\",\"1962\",\"1961\",\"1960\"],\"xaxis\":\"x\",\"y\":[0.83471159227682,0.834073787792425,0.827629166941799,0.817680365449629,0.806606196608505,0.794280173527056,0.80834341559503,0.814160811143926,0.812845640845071,0.803765493726027,0.793962355841937,0.742852100717495,0.63234034818948,0.683461848125964,0.760460574432746,0.850232377985095,0.937462400610863,0.996784059568305,1.02128624777223,1.01822826363063,0.996935086458799,0.993509166234227,1.03149168410839,1.13175443160088,1.27590645702219,1.44298464469822,1.64907505654067,1.80662857673287,1.83275603473287,1.79710607595284,1.73968868754316,1.69239511564087,1.66710581251278,1.68210945563099,1.7265290507595,1.79129582972108,1.84229371990017,1.85398730353299,1.81286046334106,1.73348106261427,1.43301071982537,1.35315788793814,1.36828044550139,1.52065345862497,1.77639116815926,2.88469036076669,3.16626578285749,3.40370747554226,3.56712046291549,3.65399492249872,7.7138808947558,8.06234992531153,6.90633225244491,4.88327166872813,4.67660975464513,4.35320727618922,4.0432333312117,3.91796155820863,4.09028360872586,4.46835495467757,null],\"yaxis\":\"y\"},{\"hovertemplate\":\"variable=rpg<br>date=%{x}<br>value=%{y}<extra></extra>\",\"legendgroup\":\"rpg\",\"line\":{\"color\":\"#EF553B\",\"dash\":\"solid\"},\"marker\":{\"symbol\":\"circle\"},\"mode\":\"lines\",\"name\":\"rpg\",\"orientation\":\"v\",\"showlegend\":true,\"type\":\"scatter\",\"x\":[\"2020\",\"2019\",\"2018\",\"2017\",\"2016\",\"2015\",\"2014\",\"2013\",\"2012\",\"2011\",\"2010\",\"2009\",\"2008\",\"2007\",\"2006\",\"2005\",\"2004\",\"2003\",\"2002\",\"2001\",\"2000\",\"1999\",\"1998\",\"1997\",\"1996\",\"1995\",\"1994\",\"1993\",\"1992\",\"1991\",\"1990\",\"1989\",\"1988\",\"1987\",\"1986\",\"1985\",\"1984\",\"1983\",\"1982\",\"1981\",\"1980\",\"1979\",\"1978\",\"1977\",\"1976\",\"1975\",\"1974\",\"1973\",\"1972\",\"1971\",\"1970\",\"1969\",\"1968\",\"1967\",\"1966\",\"1965\",\"1964\",\"1963\",\"1962\",\"1961\",\"1960\"],\"xaxis\":\"x\",\"y\":[-0.21646569602966,-0.163549836126003,-0.108409363883608,-0.057201467049758,-0.0117419488949919,0.0405335043368691,0.0516753188489674,0.0587366463786424,0.0544451050659183,0.050763371068688,0.0337880082315007,0.0963883562020257,0.30732762721258,0.358677629524562,0.431714445423357,0.525865383098188,0.609130074927365,0.672816794799705,0.693369281679098,0.690527342724826,0.673560911787086,0.666213991142627,0.704367564354985,0.804851375291719,0.949172350656428,1.11645873736604,1.18233942401418,1.20004611184945,1.22268385735183,1.19178169327373,1.13087254231275,1.08420262569895,1.05948416531983,1.07509624403925,1.12006790405211,1.18131545916331,1.23288124346659,1.24919225505371,1.20450951492977,1.12565143412592,1.26992549411,1.19009974561781,1.2052603838018,1.35768813868795,1.61344462277609,0.858940645657503,1.14154901789746,1.38368071141781,1.53920478344821,1.62992715835868,-2.68757587372764,-2.32840455465361,-0.830426325193817,0.876405922017617,0.673299961432636,0.350336900228236,0.0335641209693634,-0.0893482856109434,0.0823548313355887,0.460937070870891,null],\"yaxis\":\"y\"}],                        {\"legend\":{\"title\":{\"text\":\"variable\"},\"tracegroupgap\":0},\"margin\":{\"t\":60},\"template\":{\"data\":{\"bar\":[{\"error_x\":{\"color\":\"#2a3f5f\"},\"error_y\":{\"color\":\"#2a3f5f\"},\"marker\":{\"line\":{\"color\":\"#E5ECF6\",\"width\":0.5},\"pattern\":{\"fillmode\":\"overlay\",\"size\":10,\"solidity\":0.2}},\"type\":\"bar\"}],\"barpolar\":[{\"marker\":{\"line\":{\"color\":\"#E5ECF6\",\"width\":0.5},\"pattern\":{\"fillmode\":\"overlay\",\"size\":10,\"solidity\":0.2}},\"type\":\"barpolar\"}],\"carpet\":[{\"aaxis\":{\"endlinecolor\":\"#2a3f5f\",\"gridcolor\":\"white\",\"linecolor\":\"white\",\"minorgridcolor\":\"white\",\"startlinecolor\":\"#2a3f5f\"},\"baxis\":{\"endlinecolor\":\"#2a3f5f\",\"gridcolor\":\"white\",\"linecolor\":\"white\",\"minorgridcolor\":\"white\",\"startlinecolor\":\"#2a3f5f\"},\"type\":\"carpet\"}],\"choropleth\":[{\"colorbar\":{\"outlinewidth\":0,\"ticks\":\"\"},\"type\":\"choropleth\"}],\"contour\":[{\"colorbar\":{\"outlinewidth\":0,\"ticks\":\"\"},\"colorscale\":[[0.0,\"#0d0887\"],[0.1111111111111111,\"#46039f\"],[0.2222222222222222,\"#7201a8\"],[0.3333333333333333,\"#9c179e\"],[0.4444444444444444,\"#bd3786\"],[0.5555555555555556,\"#d8576b\"],[0.6666666666666666,\"#ed7953\"],[0.7777777777777778,\"#fb9f3a\"],[0.8888888888888888,\"#fdca26\"],[1.0,\"#f0f921\"]],\"type\":\"contour\"}],\"contourcarpet\":[{\"colorbar\":{\"outlinewidth\":0,\"ticks\":\"\"},\"type\":\"contourcarpet\"}],\"heatmap\":[{\"colorbar\":{\"outlinewidth\":0,\"ticks\":\"\"},\"colorscale\":[[0.0,\"#0d0887\"],[0.1111111111111111,\"#46039f\"],[0.2222222222222222,\"#7201a8\"],[0.3333333333333333,\"#9c179e\"],[0.4444444444444444,\"#bd3786\"],[0.5555555555555556,\"#d8576b\"],[0.6666666666666666,\"#ed7953\"],[0.7777777777777778,\"#fb9f3a\"],[0.8888888888888888,\"#fdca26\"],[1.0,\"#f0f921\"]],\"type\":\"heatmap\"}],\"heatmapgl\":[{\"colorbar\":{\"outlinewidth\":0,\"ticks\":\"\"},\"colorscale\":[[0.0,\"#0d0887\"],[0.1111111111111111,\"#46039f\"],[0.2222222222222222,\"#7201a8\"],[0.3333333333333333,\"#9c179e\"],[0.4444444444444444,\"#bd3786\"],[0.5555555555555556,\"#d8576b\"],[0.6666666666666666,\"#ed7953\"],[0.7777777777777778,\"#fb9f3a\"],[0.8888888888888888,\"#fdca26\"],[1.0,\"#f0f921\"]],\"type\":\"heatmapgl\"}],\"histogram\":[{\"marker\":{\"pattern\":{\"fillmode\":\"overlay\",\"size\":10,\"solidity\":0.2}},\"type\":\"histogram\"}],\"histogram2d\":[{\"colorbar\":{\"outlinewidth\":0,\"ticks\":\"\"},\"colorscale\":[[0.0,\"#0d0887\"],[0.1111111111111111,\"#46039f\"],[0.2222222222222222,\"#7201a8\"],[0.3333333333333333,\"#9c179e\"],[0.4444444444444444,\"#bd3786\"],[0.5555555555555556,\"#d8576b\"],[0.6666666666666666,\"#ed7953\"],[0.7777777777777778,\"#fb9f3a\"],[0.8888888888888888,\"#fdca26\"],[1.0,\"#f0f921\"]],\"type\":\"histogram2d\"}],\"histogram2dcontour\":[{\"colorbar\":{\"outlinewidth\":0,\"ticks\":\"\"},\"colorscale\":[[0.0,\"#0d0887\"],[0.1111111111111111,\"#46039f\"],[0.2222222222222222,\"#7201a8\"],[0.3333333333333333,\"#9c179e\"],[0.4444444444444444,\"#bd3786\"],[0.5555555555555556,\"#d8576b\"],[0.6666666666666666,\"#ed7953\"],[0.7777777777777778,\"#fb9f3a\"],[0.8888888888888888,\"#fdca26\"],[1.0,\"#f0f921\"]],\"type\":\"histogram2dcontour\"}],\"mesh3d\":[{\"colorbar\":{\"outlinewidth\":0,\"ticks\":\"\"},\"type\":\"mesh3d\"}],\"parcoords\":[{\"line\":{\"colorbar\":{\"outlinewidth\":0,\"ticks\":\"\"}},\"type\":\"parcoords\"}],\"pie\":[{\"automargin\":true,\"type\":\"pie\"}],\"scatter\":[{\"marker\":{\"colorbar\":{\"outlinewidth\":0,\"ticks\":\"\"}},\"type\":\"scatter\"}],\"scatter3d\":[{\"line\":{\"colorbar\":{\"outlinewidth\":0,\"ticks\":\"\"}},\"marker\":{\"colorbar\":{\"outlinewidth\":0,\"ticks\":\"\"}},\"type\":\"scatter3d\"}],\"scattercarpet\":[{\"marker\":{\"colorbar\":{\"outlinewidth\":0,\"ticks\":\"\"}},\"type\":\"scattercarpet\"}],\"scattergeo\":[{\"marker\":{\"colorbar\":{\"outlinewidth\":0,\"ticks\":\"\"}},\"type\":\"scattergeo\"}],\"scattergl\":[{\"marker\":{\"colorbar\":{\"outlinewidth\":0,\"ticks\":\"\"}},\"type\":\"scattergl\"}],\"scattermapbox\":[{\"marker\":{\"colorbar\":{\"outlinewidth\":0,\"ticks\":\"\"}},\"type\":\"scattermapbox\"}],\"scatterpolar\":[{\"marker\":{\"colorbar\":{\"outlinewidth\":0,\"ticks\":\"\"}},\"type\":\"scatterpolar\"}],\"scatterpolargl\":[{\"marker\":{\"colorbar\":{\"outlinewidth\":0,\"ticks\":\"\"}},\"type\":\"scatterpolargl\"}],\"scatterternary\":[{\"marker\":{\"colorbar\":{\"outlinewidth\":0,\"ticks\":\"\"}},\"type\":\"scatterternary\"}],\"surface\":[{\"colorbar\":{\"outlinewidth\":0,\"ticks\":\"\"},\"colorscale\":[[0.0,\"#0d0887\"],[0.1111111111111111,\"#46039f\"],[0.2222222222222222,\"#7201a8\"],[0.3333333333333333,\"#9c179e\"],[0.4444444444444444,\"#bd3786\"],[0.5555555555555556,\"#d8576b\"],[0.6666666666666666,\"#ed7953\"],[0.7777777777777778,\"#fb9f3a\"],[0.8888888888888888,\"#fdca26\"],[1.0,\"#f0f921\"]],\"type\":\"surface\"}],\"table\":[{\"cells\":{\"fill\":{\"color\":\"#EBF0F8\"},\"line\":{\"color\":\"white\"}},\"header\":{\"fill\":{\"color\":\"#C8D4E3\"},\"line\":{\"color\":\"white\"}},\"type\":\"table\"}]},\"layout\":{\"annotationdefaults\":{\"arrowcolor\":\"#2a3f5f\",\"arrowhead\":0,\"arrowwidth\":1},\"autotypenumbers\":\"strict\",\"coloraxis\":{\"colorbar\":{\"outlinewidth\":0,\"ticks\":\"\"}},\"colorscale\":{\"diverging\":[[0,\"#8e0152\"],[0.1,\"#c51b7d\"],[0.2,\"#de77ae\"],[0.3,\"#f1b6da\"],[0.4,\"#fde0ef\"],[0.5,\"#f7f7f7\"],[0.6,\"#e6f5d0\"],[0.7,\"#b8e186\"],[0.8,\"#7fbc41\"],[0.9,\"#4d9221\"],[1,\"#276419\"]],\"sequential\":[[0.0,\"#0d0887\"],[0.1111111111111111,\"#46039f\"],[0.2222222222222222,\"#7201a8\"],[0.3333333333333333,\"#9c179e\"],[0.4444444444444444,\"#bd3786\"],[0.5555555555555556,\"#d8576b\"],[0.6666666666666666,\"#ed7953\"],[0.7777777777777778,\"#fb9f3a\"],[0.8888888888888888,\"#fdca26\"],[1.0,\"#f0f921\"]],\"sequentialminus\":[[0.0,\"#0d0887\"],[0.1111111111111111,\"#46039f\"],[0.2222222222222222,\"#7201a8\"],[0.3333333333333333,\"#9c179e\"],[0.4444444444444444,\"#bd3786\"],[0.5555555555555556,\"#d8576b\"],[0.6666666666666666,\"#ed7953\"],[0.7777777777777778,\"#fb9f3a\"],[0.8888888888888888,\"#fdca26\"],[1.0,\"#f0f921\"]]},\"colorway\":[\"#636efa\",\"#EF553B\",\"#00cc96\",\"#ab63fa\",\"#FFA15A\",\"#19d3f3\",\"#FF6692\",\"#B6E880\",\"#FF97FF\",\"#FECB52\"],\"font\":{\"color\":\"#2a3f5f\"},\"geo\":{\"bgcolor\":\"white\",\"lakecolor\":\"white\",\"landcolor\":\"#E5ECF6\",\"showlakes\":true,\"showland\":true,\"subunitcolor\":\"white\"},\"hoverlabel\":{\"align\":\"left\"},\"hovermode\":\"closest\",\"mapbox\":{\"style\":\"light\"},\"paper_bgcolor\":\"white\",\"plot_bgcolor\":\"#E5ECF6\",\"polar\":{\"angularaxis\":{\"gridcolor\":\"white\",\"linecolor\":\"white\",\"ticks\":\"\"},\"bgcolor\":\"#E5ECF6\",\"radialaxis\":{\"gridcolor\":\"white\",\"linecolor\":\"white\",\"ticks\":\"\"}},\"scene\":{\"xaxis\":{\"backgroundcolor\":\"#E5ECF6\",\"gridcolor\":\"white\",\"gridwidth\":2,\"linecolor\":\"white\",\"showbackground\":true,\"ticks\":\"\",\"zerolinecolor\":\"white\"},\"yaxis\":{\"backgroundcolor\":\"#E5ECF6\",\"gridcolor\":\"white\",\"gridwidth\":2,\"linecolor\":\"white\",\"showbackground\":true,\"ticks\":\"\",\"zerolinecolor\":\"white\"},\"zaxis\":{\"backgroundcolor\":\"#E5ECF6\",\"gridcolor\":\"white\",\"gridwidth\":2,\"linecolor\":\"white\",\"showbackground\":true,\"ticks\":\"\",\"zerolinecolor\":\"white\"}},\"shapedefaults\":{\"line\":{\"color\":\"#2a3f5f\"}},\"ternary\":{\"aaxis\":{\"gridcolor\":\"white\",\"linecolor\":\"white\",\"ticks\":\"\"},\"baxis\":{\"gridcolor\":\"white\",\"linecolor\":\"white\",\"ticks\":\"\"},\"bgcolor\":\"#E5ECF6\",\"caxis\":{\"gridcolor\":\"white\",\"linecolor\":\"white\",\"ticks\":\"\"}},\"title\":{\"x\":0.05},\"xaxis\":{\"automargin\":true,\"gridcolor\":\"white\",\"linecolor\":\"white\",\"ticks\":\"\",\"title\":{\"standoff\":15},\"zerolinecolor\":\"white\",\"zerolinewidth\":2},\"yaxis\":{\"automargin\":true,\"gridcolor\":\"white\",\"linecolor\":\"white\",\"ticks\":\"\",\"title\":{\"standoff\":15},\"zerolinecolor\":\"white\",\"zerolinewidth\":2}}},\"xaxis\":{\"anchor\":\"y\",\"autorange\":\"reversed\",\"domain\":[0.0,1.0],\"title\":{\"text\":\"date\"}},\"yaxis\":{\"anchor\":\"x\",\"domain\":[0.0,1.0],\"title\":{\"text\":\"value\"}}},                        {\"responsive\": true}                    ).then(function(){\n",
       "                            \n",
       "var gd = document.getElementById('4946287a-cfa5-4eb9-9d53-f74af2ece1ef');\n",
       "var x = new MutationObserver(function (mutations, observer) {{\n",
       "        var display = window.getComputedStyle(gd).display;\n",
       "        if (!display || display === 'none') {{\n",
       "            console.log([gd, 'removed!']);\n",
       "            Plotly.purge(gd);\n",
       "            observer.disconnect();\n",
       "        }}\n",
       "}});\n",
       "\n",
       "// Listen for the removal of the full notebook cells\n",
       "var notebookContainer = gd.closest('#notebook-container');\n",
       "if (notebookContainer) {{\n",
       "    x.observe(notebookContainer, {childList: true});\n",
       "}}\n",
       "\n",
       "// Listen for the clearing of the current output cell\n",
       "var outputEl = gd.closest('.output');\n",
       "if (outputEl) {{\n",
       "    x.observe(outputEl, {childList: true});\n",
       "}}\n",
       "\n",
       "                        })                };                });            </script>        </div>"
      ]
     },
     "metadata": {},
     "output_type": "display_data"
    }
   ],
   "source": [
    "fig = px.line(prk_pop_grow, x=prk_pop_grow.index, y=['upg', 'rpg'])\n",
    "fig['layout']['xaxis']['autorange'] = \"reversed\"\n",
    "fig.show()"
   ]
  },
  {
   "cell_type": "markdown",
   "id": "5cd189b8",
   "metadata": {},
   "source": [
    "Growth rates are almost the same between 1971-1979. What might be the cause?\n",
    "Mirroring each other in the opposite directions between 1980 and 2000.\n",
    "Why do they both fall between 2016 and 2020?\n",
    "However, this visualization might be misleading because as we see below, the urban population remains relatively steady at around 50 M. "
   ]
  },
  {
   "cell_type": "code",
   "execution_count": 14,
   "id": "21837b03",
   "metadata": {},
   "outputs": [],
   "source": [
    "# Give variable for clarity\n",
    "variable_labels = {'SP.URB.TOTL' : 'urban pop', 'SP.RUR.TOTL': 'rural pop'}\n",
    "\n",
    "world_pop_urban_rural = wbdata.get_dataframe(variable_labels, country=\"WLD\")\n",
    "prk_pop_urban_rural = wbdata.get_dataframe(variable_labels, country='PRK')\n",
    "# Date index is of type string; change to integers\n",
    "# nzl_gdp.index = world.index.astype(int)\n",
    "# usa_gdp.index = world.index.astype(int)"
   ]
  },
  {
   "cell_type": "code",
   "execution_count": 15,
   "id": "e2a4f31a",
   "metadata": {},
   "outputs": [
    {
     "data": {
      "application/vnd.plotly.v1+json": {
       "config": {
        "plotlyServerURL": "https://plot.ly"
       },
       "data": [
        {
         "hovertemplate": "variable=urban pop<br>date=%{x}<br>value=%{y}<extra></extra>",
         "legendgroup": "urban pop",
         "line": {
          "color": "#636efa",
          "dash": "solid"
         },
         "marker": {
          "symbol": "circle"
         },
         "mode": "lines",
         "name": "urban pop",
         "orientation": "v",
         "showlegend": true,
         "type": "scatter",
         "x": [
          "2020",
          "2019",
          "2018",
          "2017",
          "2016",
          "2015",
          "2014",
          "2013",
          "2012",
          "2011",
          "2010",
          "2009",
          "2008",
          "2007",
          "2006",
          "2005",
          "2004",
          "2003",
          "2002",
          "2001",
          "2000",
          "1999",
          "1998",
          "1997",
          "1996",
          "1995",
          "1994",
          "1993",
          "1992",
          "1991",
          "1990",
          "1989",
          "1988",
          "1987",
          "1986",
          "1985",
          "1984",
          "1983",
          "1982",
          "1981",
          "1980",
          "1979",
          "1978",
          "1977",
          "1976",
          "1975",
          "1974",
          "1973",
          "1972",
          "1971",
          "1970",
          "1969",
          "1968",
          "1967",
          "1966",
          "1965",
          "1964",
          "1963",
          "1962",
          "1961",
          "1960"
         ],
         "xaxis": "x",
         "y": [
          16081083,
          15947411,
          15814951,
          15684602,
          15556875,
          15431897,
          15309810,
          15186553,
          15063412,
          14941466,
          14821853,
          14704639,
          14595810,
          14503806,
          14405016,
          14295887,
          14174854,
          14042591,
          13903312,
          13762042,
          13622624,
          13487490,
          13354154,
          13217115,
          13068373,
          12902692,
          12717845,
          12509838,
          12285861,
          12062742,
          11847898,
          11643564,
          11448167,
          11258896,
          11071093,
          10881588,
          10688402,
          10493293,
          10300541,
          10115489,
          9941650,
          9800201,
          9668482,
          9537091,
          9393162,
          9227776,
          8965386,
          8685965,
          8395295,
          8101103,
          7810432,
          7230596,
          6670521,
          6225381,
          5928682,
          5657804,
          5416792,
          5202147,
          5002270,
          4801791,
          4591953
         ],
         "yaxis": "y"
        },
        {
         "hovertemplate": "variable=rural pop<br>date=%{x}<br>value=%{y}<extra></extra>",
         "legendgroup": "rural pop",
         "line": {
          "color": "#EF553B",
          "dash": "solid"
         },
         "marker": {
          "symbol": "circle"
         },
         "mode": "lines",
         "name": "rural pop",
         "orientation": "v",
         "showlegend": true,
         "type": "scatter",
         "x": [
          "2020",
          "2019",
          "2018",
          "2017",
          "2016",
          "2015",
          "2014",
          "2013",
          "2012",
          "2011",
          "2010",
          "2009",
          "2008",
          "2007",
          "2006",
          "2005",
          "2004",
          "2003",
          "2002",
          "2001",
          "2000",
          "1999",
          "1998",
          "1997",
          "1996",
          "1995",
          "1994",
          "1993",
          "1992",
          "1991",
          "1990",
          "1989",
          "1988",
          "1987",
          "1986",
          "1985",
          "1984",
          "1983",
          "1982",
          "1981",
          "1980",
          "1979",
          "1978",
          "1977",
          "1976",
          "1975",
          "1974",
          "1973",
          "1972",
          "1971",
          "1970",
          "1969",
          "1968",
          "1967",
          "1966",
          "1965",
          "1964",
          "1963",
          "1962",
          "1961",
          "1960"
         ],
         "xaxis": "x",
         "y": [
          9697732,
          9718747,
          9734655,
          9745214,
          9750790,
          9751935,
          9747983,
          9742947,
          9737226,
          9731926,
          9726987,
          9723701,
          9714333,
          9684524,
          9649850,
          9608280,
          9557886,
          9499843,
          9436141,
          9370940,
          9306454,
          9243980,
          9182600,
          9118148,
          9045055,
          8959608,
          8860134,
          8755994,
          8651546,
          8546409,
          8445159,
          8350193,
          8260149,
          8173096,
          8085698,
          7995638,
          7901740,
          7804919,
          7708027,
          7615740,
          7530494,
          7435467,
          7347502,
          7259477,
          7161582,
          7046961,
          6986691,
          6907388,
          6812470,
          6708415,
          6599959,
          6779743,
          6939455,
          6997322,
          6936265,
          6889720,
          6865625,
          6863321,
          6869456,
          6863801,
          6832236
         ],
         "yaxis": "y"
        }
       ],
       "layout": {
        "legend": {
         "title": {
          "text": "variable"
         },
         "tracegroupgap": 0
        },
        "margin": {
         "t": 60
        },
        "template": {
         "data": {
          "bar": [
           {
            "error_x": {
             "color": "#2a3f5f"
            },
            "error_y": {
             "color": "#2a3f5f"
            },
            "marker": {
             "line": {
              "color": "#E5ECF6",
              "width": 0.5
             },
             "pattern": {
              "fillmode": "overlay",
              "size": 10,
              "solidity": 0.2
             }
            },
            "type": "bar"
           }
          ],
          "barpolar": [
           {
            "marker": {
             "line": {
              "color": "#E5ECF6",
              "width": 0.5
             },
             "pattern": {
              "fillmode": "overlay",
              "size": 10,
              "solidity": 0.2
             }
            },
            "type": "barpolar"
           }
          ],
          "carpet": [
           {
            "aaxis": {
             "endlinecolor": "#2a3f5f",
             "gridcolor": "white",
             "linecolor": "white",
             "minorgridcolor": "white",
             "startlinecolor": "#2a3f5f"
            },
            "baxis": {
             "endlinecolor": "#2a3f5f",
             "gridcolor": "white",
             "linecolor": "white",
             "minorgridcolor": "white",
             "startlinecolor": "#2a3f5f"
            },
            "type": "carpet"
           }
          ],
          "choropleth": [
           {
            "colorbar": {
             "outlinewidth": 0,
             "ticks": ""
            },
            "type": "choropleth"
           }
          ],
          "contour": [
           {
            "colorbar": {
             "outlinewidth": 0,
             "ticks": ""
            },
            "colorscale": [
             [
              0,
              "#0d0887"
             ],
             [
              0.1111111111111111,
              "#46039f"
             ],
             [
              0.2222222222222222,
              "#7201a8"
             ],
             [
              0.3333333333333333,
              "#9c179e"
             ],
             [
              0.4444444444444444,
              "#bd3786"
             ],
             [
              0.5555555555555556,
              "#d8576b"
             ],
             [
              0.6666666666666666,
              "#ed7953"
             ],
             [
              0.7777777777777778,
              "#fb9f3a"
             ],
             [
              0.8888888888888888,
              "#fdca26"
             ],
             [
              1,
              "#f0f921"
             ]
            ],
            "type": "contour"
           }
          ],
          "contourcarpet": [
           {
            "colorbar": {
             "outlinewidth": 0,
             "ticks": ""
            },
            "type": "contourcarpet"
           }
          ],
          "heatmap": [
           {
            "colorbar": {
             "outlinewidth": 0,
             "ticks": ""
            },
            "colorscale": [
             [
              0,
              "#0d0887"
             ],
             [
              0.1111111111111111,
              "#46039f"
             ],
             [
              0.2222222222222222,
              "#7201a8"
             ],
             [
              0.3333333333333333,
              "#9c179e"
             ],
             [
              0.4444444444444444,
              "#bd3786"
             ],
             [
              0.5555555555555556,
              "#d8576b"
             ],
             [
              0.6666666666666666,
              "#ed7953"
             ],
             [
              0.7777777777777778,
              "#fb9f3a"
             ],
             [
              0.8888888888888888,
              "#fdca26"
             ],
             [
              1,
              "#f0f921"
             ]
            ],
            "type": "heatmap"
           }
          ],
          "heatmapgl": [
           {
            "colorbar": {
             "outlinewidth": 0,
             "ticks": ""
            },
            "colorscale": [
             [
              0,
              "#0d0887"
             ],
             [
              0.1111111111111111,
              "#46039f"
             ],
             [
              0.2222222222222222,
              "#7201a8"
             ],
             [
              0.3333333333333333,
              "#9c179e"
             ],
             [
              0.4444444444444444,
              "#bd3786"
             ],
             [
              0.5555555555555556,
              "#d8576b"
             ],
             [
              0.6666666666666666,
              "#ed7953"
             ],
             [
              0.7777777777777778,
              "#fb9f3a"
             ],
             [
              0.8888888888888888,
              "#fdca26"
             ],
             [
              1,
              "#f0f921"
             ]
            ],
            "type": "heatmapgl"
           }
          ],
          "histogram": [
           {
            "marker": {
             "pattern": {
              "fillmode": "overlay",
              "size": 10,
              "solidity": 0.2
             }
            },
            "type": "histogram"
           }
          ],
          "histogram2d": [
           {
            "colorbar": {
             "outlinewidth": 0,
             "ticks": ""
            },
            "colorscale": [
             [
              0,
              "#0d0887"
             ],
             [
              0.1111111111111111,
              "#46039f"
             ],
             [
              0.2222222222222222,
              "#7201a8"
             ],
             [
              0.3333333333333333,
              "#9c179e"
             ],
             [
              0.4444444444444444,
              "#bd3786"
             ],
             [
              0.5555555555555556,
              "#d8576b"
             ],
             [
              0.6666666666666666,
              "#ed7953"
             ],
             [
              0.7777777777777778,
              "#fb9f3a"
             ],
             [
              0.8888888888888888,
              "#fdca26"
             ],
             [
              1,
              "#f0f921"
             ]
            ],
            "type": "histogram2d"
           }
          ],
          "histogram2dcontour": [
           {
            "colorbar": {
             "outlinewidth": 0,
             "ticks": ""
            },
            "colorscale": [
             [
              0,
              "#0d0887"
             ],
             [
              0.1111111111111111,
              "#46039f"
             ],
             [
              0.2222222222222222,
              "#7201a8"
             ],
             [
              0.3333333333333333,
              "#9c179e"
             ],
             [
              0.4444444444444444,
              "#bd3786"
             ],
             [
              0.5555555555555556,
              "#d8576b"
             ],
             [
              0.6666666666666666,
              "#ed7953"
             ],
             [
              0.7777777777777778,
              "#fb9f3a"
             ],
             [
              0.8888888888888888,
              "#fdca26"
             ],
             [
              1,
              "#f0f921"
             ]
            ],
            "type": "histogram2dcontour"
           }
          ],
          "mesh3d": [
           {
            "colorbar": {
             "outlinewidth": 0,
             "ticks": ""
            },
            "type": "mesh3d"
           }
          ],
          "parcoords": [
           {
            "line": {
             "colorbar": {
              "outlinewidth": 0,
              "ticks": ""
             }
            },
            "type": "parcoords"
           }
          ],
          "pie": [
           {
            "automargin": true,
            "type": "pie"
           }
          ],
          "scatter": [
           {
            "marker": {
             "colorbar": {
              "outlinewidth": 0,
              "ticks": ""
             }
            },
            "type": "scatter"
           }
          ],
          "scatter3d": [
           {
            "line": {
             "colorbar": {
              "outlinewidth": 0,
              "ticks": ""
             }
            },
            "marker": {
             "colorbar": {
              "outlinewidth": 0,
              "ticks": ""
             }
            },
            "type": "scatter3d"
           }
          ],
          "scattercarpet": [
           {
            "marker": {
             "colorbar": {
              "outlinewidth": 0,
              "ticks": ""
             }
            },
            "type": "scattercarpet"
           }
          ],
          "scattergeo": [
           {
            "marker": {
             "colorbar": {
              "outlinewidth": 0,
              "ticks": ""
             }
            },
            "type": "scattergeo"
           }
          ],
          "scattergl": [
           {
            "marker": {
             "colorbar": {
              "outlinewidth": 0,
              "ticks": ""
             }
            },
            "type": "scattergl"
           }
          ],
          "scattermapbox": [
           {
            "marker": {
             "colorbar": {
              "outlinewidth": 0,
              "ticks": ""
             }
            },
            "type": "scattermapbox"
           }
          ],
          "scatterpolar": [
           {
            "marker": {
             "colorbar": {
              "outlinewidth": 0,
              "ticks": ""
             }
            },
            "type": "scatterpolar"
           }
          ],
          "scatterpolargl": [
           {
            "marker": {
             "colorbar": {
              "outlinewidth": 0,
              "ticks": ""
             }
            },
            "type": "scatterpolargl"
           }
          ],
          "scatterternary": [
           {
            "marker": {
             "colorbar": {
              "outlinewidth": 0,
              "ticks": ""
             }
            },
            "type": "scatterternary"
           }
          ],
          "surface": [
           {
            "colorbar": {
             "outlinewidth": 0,
             "ticks": ""
            },
            "colorscale": [
             [
              0,
              "#0d0887"
             ],
             [
              0.1111111111111111,
              "#46039f"
             ],
             [
              0.2222222222222222,
              "#7201a8"
             ],
             [
              0.3333333333333333,
              "#9c179e"
             ],
             [
              0.4444444444444444,
              "#bd3786"
             ],
             [
              0.5555555555555556,
              "#d8576b"
             ],
             [
              0.6666666666666666,
              "#ed7953"
             ],
             [
              0.7777777777777778,
              "#fb9f3a"
             ],
             [
              0.8888888888888888,
              "#fdca26"
             ],
             [
              1,
              "#f0f921"
             ]
            ],
            "type": "surface"
           }
          ],
          "table": [
           {
            "cells": {
             "fill": {
              "color": "#EBF0F8"
             },
             "line": {
              "color": "white"
             }
            },
            "header": {
             "fill": {
              "color": "#C8D4E3"
             },
             "line": {
              "color": "white"
             }
            },
            "type": "table"
           }
          ]
         },
         "layout": {
          "annotationdefaults": {
           "arrowcolor": "#2a3f5f",
           "arrowhead": 0,
           "arrowwidth": 1
          },
          "autotypenumbers": "strict",
          "coloraxis": {
           "colorbar": {
            "outlinewidth": 0,
            "ticks": ""
           }
          },
          "colorscale": {
           "diverging": [
            [
             0,
             "#8e0152"
            ],
            [
             0.1,
             "#c51b7d"
            ],
            [
             0.2,
             "#de77ae"
            ],
            [
             0.3,
             "#f1b6da"
            ],
            [
             0.4,
             "#fde0ef"
            ],
            [
             0.5,
             "#f7f7f7"
            ],
            [
             0.6,
             "#e6f5d0"
            ],
            [
             0.7,
             "#b8e186"
            ],
            [
             0.8,
             "#7fbc41"
            ],
            [
             0.9,
             "#4d9221"
            ],
            [
             1,
             "#276419"
            ]
           ],
           "sequential": [
            [
             0,
             "#0d0887"
            ],
            [
             0.1111111111111111,
             "#46039f"
            ],
            [
             0.2222222222222222,
             "#7201a8"
            ],
            [
             0.3333333333333333,
             "#9c179e"
            ],
            [
             0.4444444444444444,
             "#bd3786"
            ],
            [
             0.5555555555555556,
             "#d8576b"
            ],
            [
             0.6666666666666666,
             "#ed7953"
            ],
            [
             0.7777777777777778,
             "#fb9f3a"
            ],
            [
             0.8888888888888888,
             "#fdca26"
            ],
            [
             1,
             "#f0f921"
            ]
           ],
           "sequentialminus": [
            [
             0,
             "#0d0887"
            ],
            [
             0.1111111111111111,
             "#46039f"
            ],
            [
             0.2222222222222222,
             "#7201a8"
            ],
            [
             0.3333333333333333,
             "#9c179e"
            ],
            [
             0.4444444444444444,
             "#bd3786"
            ],
            [
             0.5555555555555556,
             "#d8576b"
            ],
            [
             0.6666666666666666,
             "#ed7953"
            ],
            [
             0.7777777777777778,
             "#fb9f3a"
            ],
            [
             0.8888888888888888,
             "#fdca26"
            ],
            [
             1,
             "#f0f921"
            ]
           ]
          },
          "colorway": [
           "#636efa",
           "#EF553B",
           "#00cc96",
           "#ab63fa",
           "#FFA15A",
           "#19d3f3",
           "#FF6692",
           "#B6E880",
           "#FF97FF",
           "#FECB52"
          ],
          "font": {
           "color": "#2a3f5f"
          },
          "geo": {
           "bgcolor": "white",
           "lakecolor": "white",
           "landcolor": "#E5ECF6",
           "showlakes": true,
           "showland": true,
           "subunitcolor": "white"
          },
          "hoverlabel": {
           "align": "left"
          },
          "hovermode": "closest",
          "mapbox": {
           "style": "light"
          },
          "paper_bgcolor": "white",
          "plot_bgcolor": "#E5ECF6",
          "polar": {
           "angularaxis": {
            "gridcolor": "white",
            "linecolor": "white",
            "ticks": ""
           },
           "bgcolor": "#E5ECF6",
           "radialaxis": {
            "gridcolor": "white",
            "linecolor": "white",
            "ticks": ""
           }
          },
          "scene": {
           "xaxis": {
            "backgroundcolor": "#E5ECF6",
            "gridcolor": "white",
            "gridwidth": 2,
            "linecolor": "white",
            "showbackground": true,
            "ticks": "",
            "zerolinecolor": "white"
           },
           "yaxis": {
            "backgroundcolor": "#E5ECF6",
            "gridcolor": "white",
            "gridwidth": 2,
            "linecolor": "white",
            "showbackground": true,
            "ticks": "",
            "zerolinecolor": "white"
           },
           "zaxis": {
            "backgroundcolor": "#E5ECF6",
            "gridcolor": "white",
            "gridwidth": 2,
            "linecolor": "white",
            "showbackground": true,
            "ticks": "",
            "zerolinecolor": "white"
           }
          },
          "shapedefaults": {
           "line": {
            "color": "#2a3f5f"
           }
          },
          "ternary": {
           "aaxis": {
            "gridcolor": "white",
            "linecolor": "white",
            "ticks": ""
           },
           "baxis": {
            "gridcolor": "white",
            "linecolor": "white",
            "ticks": ""
           },
           "bgcolor": "#E5ECF6",
           "caxis": {
            "gridcolor": "white",
            "linecolor": "white",
            "ticks": ""
           }
          },
          "title": {
           "x": 0.05
          },
          "xaxis": {
           "automargin": true,
           "gridcolor": "white",
           "linecolor": "white",
           "ticks": "",
           "title": {
            "standoff": 15
           },
           "zerolinecolor": "white",
           "zerolinewidth": 2
          },
          "yaxis": {
           "automargin": true,
           "gridcolor": "white",
           "linecolor": "white",
           "ticks": "",
           "title": {
            "standoff": 15
           },
           "zerolinecolor": "white",
           "zerolinewidth": 2
          }
         }
        },
        "xaxis": {
         "anchor": "y",
         "autorange": "reversed",
         "domain": [
          0,
          1
         ],
         "title": {
          "text": "date"
         }
        },
        "yaxis": {
         "anchor": "x",
         "domain": [
          0,
          1
         ],
         "title": {
          "text": "value"
         }
        }
       }
      },
      "text/html": [
       "<div>                            <div id=\"bc896fa0-fab5-409d-b65b-d7af1537aede\" class=\"plotly-graph-div\" style=\"height:525px; width:100%;\"></div>            <script type=\"text/javascript\">                require([\"plotly\"], function(Plotly) {                    window.PLOTLYENV=window.PLOTLYENV || {};                                    if (document.getElementById(\"bc896fa0-fab5-409d-b65b-d7af1537aede\")) {                    Plotly.newPlot(                        \"bc896fa0-fab5-409d-b65b-d7af1537aede\",                        [{\"hovertemplate\":\"variable=urban pop<br>date=%{x}<br>value=%{y}<extra></extra>\",\"legendgroup\":\"urban pop\",\"line\":{\"color\":\"#636efa\",\"dash\":\"solid\"},\"marker\":{\"symbol\":\"circle\"},\"mode\":\"lines\",\"name\":\"urban pop\",\"orientation\":\"v\",\"showlegend\":true,\"type\":\"scatter\",\"x\":[\"2020\",\"2019\",\"2018\",\"2017\",\"2016\",\"2015\",\"2014\",\"2013\",\"2012\",\"2011\",\"2010\",\"2009\",\"2008\",\"2007\",\"2006\",\"2005\",\"2004\",\"2003\",\"2002\",\"2001\",\"2000\",\"1999\",\"1998\",\"1997\",\"1996\",\"1995\",\"1994\",\"1993\",\"1992\",\"1991\",\"1990\",\"1989\",\"1988\",\"1987\",\"1986\",\"1985\",\"1984\",\"1983\",\"1982\",\"1981\",\"1980\",\"1979\",\"1978\",\"1977\",\"1976\",\"1975\",\"1974\",\"1973\",\"1972\",\"1971\",\"1970\",\"1969\",\"1968\",\"1967\",\"1966\",\"1965\",\"1964\",\"1963\",\"1962\",\"1961\",\"1960\"],\"xaxis\":\"x\",\"y\":[16081083.0,15947411.0,15814951.0,15684602.0,15556875.0,15431897.0,15309810.0,15186553.0,15063412.0,14941466.0,14821853.0,14704639.0,14595810.0,14503806.0,14405016.0,14295887.0,14174854.0,14042591.0,13903312.0,13762042.0,13622624.0,13487490.0,13354154.0,13217115.0,13068373.0,12902692.0,12717845.0,12509838.0,12285861.0,12062742.0,11847898.0,11643564.0,11448167.0,11258896.0,11071093.0,10881588.0,10688402.0,10493293.0,10300541.0,10115489.0,9941650.0,9800201.0,9668482.0,9537091.0,9393162.0,9227776.0,8965386.0,8685965.0,8395295.0,8101103.0,7810432.0,7230596.0,6670521.0,6225381.0,5928682.0,5657804.0,5416792.0,5202147.0,5002270.0,4801791.0,4591953.0],\"yaxis\":\"y\"},{\"hovertemplate\":\"variable=rural pop<br>date=%{x}<br>value=%{y}<extra></extra>\",\"legendgroup\":\"rural pop\",\"line\":{\"color\":\"#EF553B\",\"dash\":\"solid\"},\"marker\":{\"symbol\":\"circle\"},\"mode\":\"lines\",\"name\":\"rural pop\",\"orientation\":\"v\",\"showlegend\":true,\"type\":\"scatter\",\"x\":[\"2020\",\"2019\",\"2018\",\"2017\",\"2016\",\"2015\",\"2014\",\"2013\",\"2012\",\"2011\",\"2010\",\"2009\",\"2008\",\"2007\",\"2006\",\"2005\",\"2004\",\"2003\",\"2002\",\"2001\",\"2000\",\"1999\",\"1998\",\"1997\",\"1996\",\"1995\",\"1994\",\"1993\",\"1992\",\"1991\",\"1990\",\"1989\",\"1988\",\"1987\",\"1986\",\"1985\",\"1984\",\"1983\",\"1982\",\"1981\",\"1980\",\"1979\",\"1978\",\"1977\",\"1976\",\"1975\",\"1974\",\"1973\",\"1972\",\"1971\",\"1970\",\"1969\",\"1968\",\"1967\",\"1966\",\"1965\",\"1964\",\"1963\",\"1962\",\"1961\",\"1960\"],\"xaxis\":\"x\",\"y\":[9697732.0,9718747.0,9734655.0,9745214.0,9750790.0,9751935.0,9747983.0,9742947.0,9737226.0,9731926.0,9726987.0,9723701.0,9714333.0,9684524.0,9649850.0,9608280.0,9557886.0,9499843.0,9436141.0,9370940.0,9306454.0,9243980.0,9182600.0,9118148.0,9045055.0,8959608.0,8860134.0,8755994.0,8651546.0,8546409.0,8445159.0,8350193.0,8260149.0,8173096.0,8085698.0,7995638.0,7901740.0,7804919.0,7708027.0,7615740.0,7530494.0,7435467.0,7347502.0,7259477.0,7161582.0,7046961.0,6986691.0,6907388.0,6812470.0,6708415.0,6599959.0,6779743.0,6939455.0,6997322.0,6936265.0,6889720.0,6865625.0,6863321.0,6869456.0,6863801.0,6832236.0],\"yaxis\":\"y\"}],                        {\"legend\":{\"title\":{\"text\":\"variable\"},\"tracegroupgap\":0},\"margin\":{\"t\":60},\"template\":{\"data\":{\"bar\":[{\"error_x\":{\"color\":\"#2a3f5f\"},\"error_y\":{\"color\":\"#2a3f5f\"},\"marker\":{\"line\":{\"color\":\"#E5ECF6\",\"width\":0.5},\"pattern\":{\"fillmode\":\"overlay\",\"size\":10,\"solidity\":0.2}},\"type\":\"bar\"}],\"barpolar\":[{\"marker\":{\"line\":{\"color\":\"#E5ECF6\",\"width\":0.5},\"pattern\":{\"fillmode\":\"overlay\",\"size\":10,\"solidity\":0.2}},\"type\":\"barpolar\"}],\"carpet\":[{\"aaxis\":{\"endlinecolor\":\"#2a3f5f\",\"gridcolor\":\"white\",\"linecolor\":\"white\",\"minorgridcolor\":\"white\",\"startlinecolor\":\"#2a3f5f\"},\"baxis\":{\"endlinecolor\":\"#2a3f5f\",\"gridcolor\":\"white\",\"linecolor\":\"white\",\"minorgridcolor\":\"white\",\"startlinecolor\":\"#2a3f5f\"},\"type\":\"carpet\"}],\"choropleth\":[{\"colorbar\":{\"outlinewidth\":0,\"ticks\":\"\"},\"type\":\"choropleth\"}],\"contour\":[{\"colorbar\":{\"outlinewidth\":0,\"ticks\":\"\"},\"colorscale\":[[0.0,\"#0d0887\"],[0.1111111111111111,\"#46039f\"],[0.2222222222222222,\"#7201a8\"],[0.3333333333333333,\"#9c179e\"],[0.4444444444444444,\"#bd3786\"],[0.5555555555555556,\"#d8576b\"],[0.6666666666666666,\"#ed7953\"],[0.7777777777777778,\"#fb9f3a\"],[0.8888888888888888,\"#fdca26\"],[1.0,\"#f0f921\"]],\"type\":\"contour\"}],\"contourcarpet\":[{\"colorbar\":{\"outlinewidth\":0,\"ticks\":\"\"},\"type\":\"contourcarpet\"}],\"heatmap\":[{\"colorbar\":{\"outlinewidth\":0,\"ticks\":\"\"},\"colorscale\":[[0.0,\"#0d0887\"],[0.1111111111111111,\"#46039f\"],[0.2222222222222222,\"#7201a8\"],[0.3333333333333333,\"#9c179e\"],[0.4444444444444444,\"#bd3786\"],[0.5555555555555556,\"#d8576b\"],[0.6666666666666666,\"#ed7953\"],[0.7777777777777778,\"#fb9f3a\"],[0.8888888888888888,\"#fdca26\"],[1.0,\"#f0f921\"]],\"type\":\"heatmap\"}],\"heatmapgl\":[{\"colorbar\":{\"outlinewidth\":0,\"ticks\":\"\"},\"colorscale\":[[0.0,\"#0d0887\"],[0.1111111111111111,\"#46039f\"],[0.2222222222222222,\"#7201a8\"],[0.3333333333333333,\"#9c179e\"],[0.4444444444444444,\"#bd3786\"],[0.5555555555555556,\"#d8576b\"],[0.6666666666666666,\"#ed7953\"],[0.7777777777777778,\"#fb9f3a\"],[0.8888888888888888,\"#fdca26\"],[1.0,\"#f0f921\"]],\"type\":\"heatmapgl\"}],\"histogram\":[{\"marker\":{\"pattern\":{\"fillmode\":\"overlay\",\"size\":10,\"solidity\":0.2}},\"type\":\"histogram\"}],\"histogram2d\":[{\"colorbar\":{\"outlinewidth\":0,\"ticks\":\"\"},\"colorscale\":[[0.0,\"#0d0887\"],[0.1111111111111111,\"#46039f\"],[0.2222222222222222,\"#7201a8\"],[0.3333333333333333,\"#9c179e\"],[0.4444444444444444,\"#bd3786\"],[0.5555555555555556,\"#d8576b\"],[0.6666666666666666,\"#ed7953\"],[0.7777777777777778,\"#fb9f3a\"],[0.8888888888888888,\"#fdca26\"],[1.0,\"#f0f921\"]],\"type\":\"histogram2d\"}],\"histogram2dcontour\":[{\"colorbar\":{\"outlinewidth\":0,\"ticks\":\"\"},\"colorscale\":[[0.0,\"#0d0887\"],[0.1111111111111111,\"#46039f\"],[0.2222222222222222,\"#7201a8\"],[0.3333333333333333,\"#9c179e\"],[0.4444444444444444,\"#bd3786\"],[0.5555555555555556,\"#d8576b\"],[0.6666666666666666,\"#ed7953\"],[0.7777777777777778,\"#fb9f3a\"],[0.8888888888888888,\"#fdca26\"],[1.0,\"#f0f921\"]],\"type\":\"histogram2dcontour\"}],\"mesh3d\":[{\"colorbar\":{\"outlinewidth\":0,\"ticks\":\"\"},\"type\":\"mesh3d\"}],\"parcoords\":[{\"line\":{\"colorbar\":{\"outlinewidth\":0,\"ticks\":\"\"}},\"type\":\"parcoords\"}],\"pie\":[{\"automargin\":true,\"type\":\"pie\"}],\"scatter\":[{\"marker\":{\"colorbar\":{\"outlinewidth\":0,\"ticks\":\"\"}},\"type\":\"scatter\"}],\"scatter3d\":[{\"line\":{\"colorbar\":{\"outlinewidth\":0,\"ticks\":\"\"}},\"marker\":{\"colorbar\":{\"outlinewidth\":0,\"ticks\":\"\"}},\"type\":\"scatter3d\"}],\"scattercarpet\":[{\"marker\":{\"colorbar\":{\"outlinewidth\":0,\"ticks\":\"\"}},\"type\":\"scattercarpet\"}],\"scattergeo\":[{\"marker\":{\"colorbar\":{\"outlinewidth\":0,\"ticks\":\"\"}},\"type\":\"scattergeo\"}],\"scattergl\":[{\"marker\":{\"colorbar\":{\"outlinewidth\":0,\"ticks\":\"\"}},\"type\":\"scattergl\"}],\"scattermapbox\":[{\"marker\":{\"colorbar\":{\"outlinewidth\":0,\"ticks\":\"\"}},\"type\":\"scattermapbox\"}],\"scatterpolar\":[{\"marker\":{\"colorbar\":{\"outlinewidth\":0,\"ticks\":\"\"}},\"type\":\"scatterpolar\"}],\"scatterpolargl\":[{\"marker\":{\"colorbar\":{\"outlinewidth\":0,\"ticks\":\"\"}},\"type\":\"scatterpolargl\"}],\"scatterternary\":[{\"marker\":{\"colorbar\":{\"outlinewidth\":0,\"ticks\":\"\"}},\"type\":\"scatterternary\"}],\"surface\":[{\"colorbar\":{\"outlinewidth\":0,\"ticks\":\"\"},\"colorscale\":[[0.0,\"#0d0887\"],[0.1111111111111111,\"#46039f\"],[0.2222222222222222,\"#7201a8\"],[0.3333333333333333,\"#9c179e\"],[0.4444444444444444,\"#bd3786\"],[0.5555555555555556,\"#d8576b\"],[0.6666666666666666,\"#ed7953\"],[0.7777777777777778,\"#fb9f3a\"],[0.8888888888888888,\"#fdca26\"],[1.0,\"#f0f921\"]],\"type\":\"surface\"}],\"table\":[{\"cells\":{\"fill\":{\"color\":\"#EBF0F8\"},\"line\":{\"color\":\"white\"}},\"header\":{\"fill\":{\"color\":\"#C8D4E3\"},\"line\":{\"color\":\"white\"}},\"type\":\"table\"}]},\"layout\":{\"annotationdefaults\":{\"arrowcolor\":\"#2a3f5f\",\"arrowhead\":0,\"arrowwidth\":1},\"autotypenumbers\":\"strict\",\"coloraxis\":{\"colorbar\":{\"outlinewidth\":0,\"ticks\":\"\"}},\"colorscale\":{\"diverging\":[[0,\"#8e0152\"],[0.1,\"#c51b7d\"],[0.2,\"#de77ae\"],[0.3,\"#f1b6da\"],[0.4,\"#fde0ef\"],[0.5,\"#f7f7f7\"],[0.6,\"#e6f5d0\"],[0.7,\"#b8e186\"],[0.8,\"#7fbc41\"],[0.9,\"#4d9221\"],[1,\"#276419\"]],\"sequential\":[[0.0,\"#0d0887\"],[0.1111111111111111,\"#46039f\"],[0.2222222222222222,\"#7201a8\"],[0.3333333333333333,\"#9c179e\"],[0.4444444444444444,\"#bd3786\"],[0.5555555555555556,\"#d8576b\"],[0.6666666666666666,\"#ed7953\"],[0.7777777777777778,\"#fb9f3a\"],[0.8888888888888888,\"#fdca26\"],[1.0,\"#f0f921\"]],\"sequentialminus\":[[0.0,\"#0d0887\"],[0.1111111111111111,\"#46039f\"],[0.2222222222222222,\"#7201a8\"],[0.3333333333333333,\"#9c179e\"],[0.4444444444444444,\"#bd3786\"],[0.5555555555555556,\"#d8576b\"],[0.6666666666666666,\"#ed7953\"],[0.7777777777777778,\"#fb9f3a\"],[0.8888888888888888,\"#fdca26\"],[1.0,\"#f0f921\"]]},\"colorway\":[\"#636efa\",\"#EF553B\",\"#00cc96\",\"#ab63fa\",\"#FFA15A\",\"#19d3f3\",\"#FF6692\",\"#B6E880\",\"#FF97FF\",\"#FECB52\"],\"font\":{\"color\":\"#2a3f5f\"},\"geo\":{\"bgcolor\":\"white\",\"lakecolor\":\"white\",\"landcolor\":\"#E5ECF6\",\"showlakes\":true,\"showland\":true,\"subunitcolor\":\"white\"},\"hoverlabel\":{\"align\":\"left\"},\"hovermode\":\"closest\",\"mapbox\":{\"style\":\"light\"},\"paper_bgcolor\":\"white\",\"plot_bgcolor\":\"#E5ECF6\",\"polar\":{\"angularaxis\":{\"gridcolor\":\"white\",\"linecolor\":\"white\",\"ticks\":\"\"},\"bgcolor\":\"#E5ECF6\",\"radialaxis\":{\"gridcolor\":\"white\",\"linecolor\":\"white\",\"ticks\":\"\"}},\"scene\":{\"xaxis\":{\"backgroundcolor\":\"#E5ECF6\",\"gridcolor\":\"white\",\"gridwidth\":2,\"linecolor\":\"white\",\"showbackground\":true,\"ticks\":\"\",\"zerolinecolor\":\"white\"},\"yaxis\":{\"backgroundcolor\":\"#E5ECF6\",\"gridcolor\":\"white\",\"gridwidth\":2,\"linecolor\":\"white\",\"showbackground\":true,\"ticks\":\"\",\"zerolinecolor\":\"white\"},\"zaxis\":{\"backgroundcolor\":\"#E5ECF6\",\"gridcolor\":\"white\",\"gridwidth\":2,\"linecolor\":\"white\",\"showbackground\":true,\"ticks\":\"\",\"zerolinecolor\":\"white\"}},\"shapedefaults\":{\"line\":{\"color\":\"#2a3f5f\"}},\"ternary\":{\"aaxis\":{\"gridcolor\":\"white\",\"linecolor\":\"white\",\"ticks\":\"\"},\"baxis\":{\"gridcolor\":\"white\",\"linecolor\":\"white\",\"ticks\":\"\"},\"bgcolor\":\"#E5ECF6\",\"caxis\":{\"gridcolor\":\"white\",\"linecolor\":\"white\",\"ticks\":\"\"}},\"title\":{\"x\":0.05},\"xaxis\":{\"automargin\":true,\"gridcolor\":\"white\",\"linecolor\":\"white\",\"ticks\":\"\",\"title\":{\"standoff\":15},\"zerolinecolor\":\"white\",\"zerolinewidth\":2},\"yaxis\":{\"automargin\":true,\"gridcolor\":\"white\",\"linecolor\":\"white\",\"ticks\":\"\",\"title\":{\"standoff\":15},\"zerolinecolor\":\"white\",\"zerolinewidth\":2}}},\"xaxis\":{\"anchor\":\"y\",\"autorange\":\"reversed\",\"domain\":[0.0,1.0],\"title\":{\"text\":\"date\"}},\"yaxis\":{\"anchor\":\"x\",\"domain\":[0.0,1.0],\"title\":{\"text\":\"value\"}}},                        {\"responsive\": true}                    ).then(function(){\n",
       "                            \n",
       "var gd = document.getElementById('bc896fa0-fab5-409d-b65b-d7af1537aede');\n",
       "var x = new MutationObserver(function (mutations, observer) {{\n",
       "        var display = window.getComputedStyle(gd).display;\n",
       "        if (!display || display === 'none') {{\n",
       "            console.log([gd, 'removed!']);\n",
       "            Plotly.purge(gd);\n",
       "            observer.disconnect();\n",
       "        }}\n",
       "}});\n",
       "\n",
       "// Listen for the removal of the full notebook cells\n",
       "var notebookContainer = gd.closest('#notebook-container');\n",
       "if (notebookContainer) {{\n",
       "    x.observe(notebookContainer, {childList: true});\n",
       "}}\n",
       "\n",
       "// Listen for the clearing of the current output cell\n",
       "var outputEl = gd.closest('.output');\n",
       "if (outputEl) {{\n",
       "    x.observe(outputEl, {childList: true});\n",
       "}}\n",
       "\n",
       "                        })                };                });            </script>        </div>"
      ]
     },
     "metadata": {},
     "output_type": "display_data"
    }
   ],
   "source": [
    "fig = px.line(prk_pop_urban_rural, x=prk_pop_urban_rural.index, y=['urban pop', 'rural pop'])\n",
    "fig['layout']['xaxis']['autorange'] = \"reversed\"\n",
    "fig.show()"
   ]
  }
 ],
 "metadata": {
  "kernelspec": {
   "display_name": "Python 3 (ipykernel)",
   "language": "python",
   "name": "python3"
  },
  "language_info": {
   "codemirror_mode": {
    "name": "ipython",
    "version": 3
   },
   "file_extension": ".py",
   "mimetype": "text/x-python",
   "name": "python",
   "nbconvert_exporter": "python",
   "pygments_lexer": "ipython3",
   "version": "3.9.10"
  }
 },
 "nbformat": 4,
 "nbformat_minor": 5
}
