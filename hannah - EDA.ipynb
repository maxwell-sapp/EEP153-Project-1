{
 "cells": [
  {
   "cell_type": "code",
   "execution_count": 11,
   "id": "392b7494",
   "metadata": {},
   "outputs": [
    {
     "name": "stdout",
     "output_type": "stream",
     "text": [
      "Requirement already satisfied: wbdata in /opt/conda/lib/python3.9/site-packages (0.3.0)\n",
      "Requirement already satisfied: decorator>=4.0 in /opt/conda/lib/python3.9/site-packages (from wbdata) (5.0.9)\n",
      "Requirement already satisfied: requests>=2.0 in /opt/conda/lib/python3.9/site-packages (from wbdata) (2.26.0)\n",
      "Requirement already satisfied: appdirs<2.0,>=1.4 in /opt/conda/lib/python3.9/site-packages (from wbdata) (1.4.4)\n",
      "Requirement already satisfied: tabulate>=0.8.5 in /opt/conda/lib/python3.9/site-packages (from wbdata) (0.8.9)\n",
      "Requirement already satisfied: certifi>=2017.4.17 in /opt/conda/lib/python3.9/site-packages (from requests>=2.0->wbdata) (2019.11.28)\n",
      "Requirement already satisfied: charset-normalizer~=2.0.0; python_version >= \"3\" in /opt/conda/lib/python3.9/site-packages (from requests>=2.0->wbdata) (2.0.0)\n",
      "Requirement already satisfied: urllib3<1.27,>=1.21.1 in /opt/conda/lib/python3.9/site-packages (from requests>=2.0->wbdata) (1.25.7)\n",
      "Requirement already satisfied: idna<4,>=2.5; python_version >= \"3\" in /opt/conda/lib/python3.9/site-packages (from requests>=2.0->wbdata) (2.8)\n",
      "Requirement already satisfied: cufflinks in /opt/conda/lib/python3.9/site-packages (0.17.3)\n",
      "Requirement already satisfied: setuptools>=34.4.1 in /opt/conda/lib/python3.9/site-packages (from cufflinks) (58.2.0)\n",
      "Requirement already satisfied: colorlover>=0.2.1 in /opt/conda/lib/python3.9/site-packages (from cufflinks) (0.3.0)\n",
      "Requirement already satisfied: ipywidgets>=7.0.0 in /opt/conda/lib/python3.9/site-packages (from cufflinks) (7.6.5)\n",
      "Requirement already satisfied: pandas>=0.19.2 in /opt/conda/lib/python3.9/site-packages (from cufflinks) (1.3.5)\n",
      "Requirement already satisfied: plotly>=4.1.1 in /opt/conda/lib/python3.9/site-packages (from cufflinks) (5.2.1)\n",
      "Requirement already satisfied: six>=1.9.0 in /opt/conda/lib/python3.9/site-packages (from cufflinks) (1.16.0)\n",
      "Requirement already satisfied: ipython>=5.3.0 in /opt/conda/lib/python3.9/site-packages (from cufflinks) (8.0.1)\n",
      "Requirement already satisfied: numpy>=1.9.2 in /opt/conda/lib/python3.9/site-packages (from cufflinks) (1.21.5)\n",
      "Requirement already satisfied: ipython-genutils~=0.2.0 in /opt/conda/lib/python3.9/site-packages (from ipywidgets>=7.0.0->cufflinks) (0.2.0)\n",
      "Requirement already satisfied: widgetsnbextension~=3.5.0 in /opt/conda/lib/python3.9/site-packages (from ipywidgets>=7.0.0->cufflinks) (3.5.2)\n",
      "Requirement already satisfied: nbformat>=4.2.0 in /opt/conda/lib/python3.9/site-packages (from ipywidgets>=7.0.0->cufflinks) (5.1.3)\n",
      "Requirement already satisfied: ipykernel>=4.5.1 in /opt/conda/lib/python3.9/site-packages (from ipywidgets>=7.0.0->cufflinks) (6.7.0)\n",
      "Requirement already satisfied: jupyterlab-widgets>=1.0.0; python_version >= \"3.6\" in /opt/conda/lib/python3.9/site-packages (from ipywidgets>=7.0.0->cufflinks) (1.0.2)\n",
      "Requirement already satisfied: traitlets>=4.3.1 in /opt/conda/lib/python3.9/site-packages (from ipywidgets>=7.0.0->cufflinks) (5.1.1)\n",
      "Requirement already satisfied: python-dateutil>=2.7.3 in /opt/conda/lib/python3.9/site-packages (from pandas>=0.19.2->cufflinks) (2.8.0)\n",
      "Requirement already satisfied: pytz>=2017.3 in /opt/conda/lib/python3.9/site-packages (from pandas>=0.19.2->cufflinks) (2021.1)\n",
      "Requirement already satisfied: tenacity>=6.2.0 in /opt/conda/lib/python3.9/site-packages (from plotly>=4.1.1->cufflinks) (8.0.1)\n",
      "Requirement already satisfied: matplotlib-inline in /opt/conda/lib/python3.9/site-packages (from ipython>=5.3.0->cufflinks) (0.1.3)\n",
      "Requirement already satisfied: stack-data in /opt/conda/lib/python3.9/site-packages (from ipython>=5.3.0->cufflinks) (0.1.4)\n",
      "Requirement already satisfied: pexpect>4.3; sys_platform != \"win32\" in /opt/conda/lib/python3.9/site-packages (from ipython>=5.3.0->cufflinks) (4.8.0)\n",
      "Requirement already satisfied: backcall in /opt/conda/lib/python3.9/site-packages (from ipython>=5.3.0->cufflinks) (0.2.0)\n",
      "Requirement already satisfied: pygments in /opt/conda/lib/python3.9/site-packages (from ipython>=5.3.0->cufflinks) (2.11.2)\n",
      "Requirement already satisfied: jedi>=0.16 in /opt/conda/lib/python3.9/site-packages (from ipython>=5.3.0->cufflinks) (0.18.1)\n",
      "Requirement already satisfied: prompt-toolkit!=3.0.0,!=3.0.1,<3.1.0,>=2.0.0 in /opt/conda/lib/python3.9/site-packages (from ipython>=5.3.0->cufflinks) (3.0.26)\n",
      "Requirement already satisfied: black in /opt/conda/lib/python3.9/site-packages (from ipython>=5.3.0->cufflinks) (22.1.0)\n",
      "Requirement already satisfied: pickleshare in /opt/conda/lib/python3.9/site-packages (from ipython>=5.3.0->cufflinks) (0.7.5)\n",
      "Requirement already satisfied: decorator in /opt/conda/lib/python3.9/site-packages (from ipython>=5.3.0->cufflinks) (5.0.9)\n",
      "Requirement already satisfied: notebook>=4.4.1 in /opt/conda/lib/python3.9/site-packages (from widgetsnbextension~=3.5.0->ipywidgets>=7.0.0->cufflinks) (6.4.7)\n",
      "Requirement already satisfied: jupyter-core in /opt/conda/lib/python3.9/site-packages (from nbformat>=4.2.0->ipywidgets>=7.0.0->cufflinks) (4.9.1)\n",
      "Requirement already satisfied: jsonschema!=2.5.0,>=2.4 in /opt/conda/lib/python3.9/site-packages (from nbformat>=4.2.0->ipywidgets>=7.0.0->cufflinks) (4.4.0)\n",
      "Requirement already satisfied: nest-asyncio in /opt/conda/lib/python3.9/site-packages (from ipykernel>=4.5.1->ipywidgets>=7.0.0->cufflinks) (1.5.4)\n",
      "Requirement already satisfied: tornado<7.0,>=4.2 in /opt/conda/lib/python3.9/site-packages (from ipykernel>=4.5.1->ipywidgets>=7.0.0->cufflinks) (6.1)\n",
      "Requirement already satisfied: debugpy<2.0,>=1.0.0 in /opt/conda/lib/python3.9/site-packages (from ipykernel>=4.5.1->ipywidgets>=7.0.0->cufflinks) (1.5.1)\n",
      "Requirement already satisfied: jupyter-client<8.0 in /opt/conda/lib/python3.9/site-packages (from ipykernel>=4.5.1->ipywidgets>=7.0.0->cufflinks) (7.1.2)\n",
      "Requirement already satisfied: pure-eval in /opt/conda/lib/python3.9/site-packages (from stack-data->ipython>=5.3.0->cufflinks) (0.2.2)\n",
      "Requirement already satisfied: asttokens in /opt/conda/lib/python3.9/site-packages (from stack-data->ipython>=5.3.0->cufflinks) (2.0.5)\n",
      "Requirement already satisfied: executing in /opt/conda/lib/python3.9/site-packages (from stack-data->ipython>=5.3.0->cufflinks) (0.8.2)\n",
      "Requirement already satisfied: ptyprocess>=0.5 in /opt/conda/lib/python3.9/site-packages (from pexpect>4.3; sys_platform != \"win32\"->ipython>=5.3.0->cufflinks) (0.7.0)\n",
      "Requirement already satisfied: parso<0.9.0,>=0.8.0 in /opt/conda/lib/python3.9/site-packages (from jedi>=0.16->ipython>=5.3.0->cufflinks) (0.8.3)\n",
      "Requirement already satisfied: wcwidth in /opt/conda/lib/python3.9/site-packages (from prompt-toolkit!=3.0.0,!=3.0.1,<3.1.0,>=2.0.0->ipython>=5.3.0->cufflinks) (0.2.5)\n",
      "Requirement already satisfied: pathspec>=0.9.0 in /opt/conda/lib/python3.9/site-packages (from black->ipython>=5.3.0->cufflinks) (0.9.0)\n",
      "Requirement already satisfied: platformdirs>=2 in /opt/conda/lib/python3.9/site-packages (from black->ipython>=5.3.0->cufflinks) (2.3.0)\n",
      "Requirement already satisfied: mypy-extensions>=0.4.3 in /opt/conda/lib/python3.9/site-packages (from black->ipython>=5.3.0->cufflinks) (0.4.3)\n",
      "Requirement already satisfied: typing-extensions>=3.10.0.0; python_version < \"3.10\" in /opt/conda/lib/python3.9/site-packages (from black->ipython>=5.3.0->cufflinks) (4.0.1)\n",
      "Requirement already satisfied: tomli>=1.1.0 in /opt/conda/lib/python3.9/site-packages (from black->ipython>=5.3.0->cufflinks) (2.0.0)\n",
      "Requirement already satisfied: click>=8.0.0 in /opt/conda/lib/python3.9/site-packages (from black->ipython>=5.3.0->cufflinks) (8.0.3)\n",
      "Requirement already satisfied: pyzmq>=17 in /opt/conda/lib/python3.9/site-packages (from notebook>=4.4.1->widgetsnbextension~=3.5.0->ipywidgets>=7.0.0->cufflinks) (22.3.0)\n",
      "Requirement already satisfied: nbconvert in /opt/conda/lib/python3.9/site-packages (from notebook>=4.4.1->widgetsnbextension~=3.5.0->ipywidgets>=7.0.0->cufflinks) (6.4.0)\n",
      "Requirement already satisfied: terminado>=0.8.3 in /opt/conda/lib/python3.9/site-packages (from notebook>=4.4.1->widgetsnbextension~=3.5.0->ipywidgets>=7.0.0->cufflinks) (0.13.1)\n",
      "Requirement already satisfied: Send2Trash>=1.8.0 in /opt/conda/lib/python3.9/site-packages (from notebook>=4.4.1->widgetsnbextension~=3.5.0->ipywidgets>=7.0.0->cufflinks) (1.8.0)\n",
      "Requirement already satisfied: argon2-cffi in /opt/conda/lib/python3.9/site-packages (from notebook>=4.4.1->widgetsnbextension~=3.5.0->ipywidgets>=7.0.0->cufflinks) (21.3.0)\n",
      "Requirement already satisfied: jinja2 in /opt/conda/lib/python3.9/site-packages (from notebook>=4.4.1->widgetsnbextension~=3.5.0->ipywidgets>=7.0.0->cufflinks) (3.0.3)\n",
      "Requirement already satisfied: prometheus-client in /opt/conda/lib/python3.9/site-packages (from notebook>=4.4.1->widgetsnbextension~=3.5.0->ipywidgets>=7.0.0->cufflinks) (0.13.1)\n",
      "Requirement already satisfied: pyrsistent!=0.17.0,!=0.17.1,!=0.17.2,>=0.14.0 in /opt/conda/lib/python3.9/site-packages (from jsonschema!=2.5.0,>=2.4->nbformat>=4.2.0->ipywidgets>=7.0.0->cufflinks) (0.18.1)\n",
      "Requirement already satisfied: attrs>=17.4.0 in /opt/conda/lib/python3.9/site-packages (from jsonschema!=2.5.0,>=2.4->nbformat>=4.2.0->ipywidgets>=7.0.0->cufflinks) (19.3.0)\n"
     ]
    },
    {
     "name": "stdout",
     "output_type": "stream",
     "text": [
      "Requirement already satisfied: entrypoints in /opt/conda/lib/python3.9/site-packages (from jupyter-client<8.0->ipykernel>=4.5.1->ipywidgets>=7.0.0->cufflinks) (0.3)\n",
      "Requirement already satisfied: testpath in /opt/conda/lib/python3.9/site-packages (from nbconvert->notebook>=4.4.1->widgetsnbextension~=3.5.0->ipywidgets>=7.0.0->cufflinks) (0.5.0)\n",
      "Requirement already satisfied: defusedxml in /opt/conda/lib/python3.9/site-packages (from nbconvert->notebook>=4.4.1->widgetsnbextension~=3.5.0->ipywidgets>=7.0.0->cufflinks) (0.7.1)\n",
      "Requirement already satisfied: nbclient<0.6.0,>=0.5.0 in /opt/conda/lib/python3.9/site-packages (from nbconvert->notebook>=4.4.1->widgetsnbextension~=3.5.0->ipywidgets>=7.0.0->cufflinks) (0.5.10)\n",
      "Requirement already satisfied: mistune<2,>=0.8.1 in /opt/conda/lib/python3.9/site-packages (from nbconvert->notebook>=4.4.1->widgetsnbextension~=3.5.0->ipywidgets>=7.0.0->cufflinks) (0.8.4)\n",
      "Requirement already satisfied: bleach in /opt/conda/lib/python3.9/site-packages (from nbconvert->notebook>=4.4.1->widgetsnbextension~=3.5.0->ipywidgets>=7.0.0->cufflinks) (4.1.0)\n",
      "Requirement already satisfied: jupyterlab-pygments in /opt/conda/lib/python3.9/site-packages (from nbconvert->notebook>=4.4.1->widgetsnbextension~=3.5.0->ipywidgets>=7.0.0->cufflinks) (0.1.2)\n",
      "Requirement already satisfied: pandocfilters>=1.4.1 in /opt/conda/lib/python3.9/site-packages (from nbconvert->notebook>=4.4.1->widgetsnbextension~=3.5.0->ipywidgets>=7.0.0->cufflinks) (1.5.0)\n",
      "Requirement already satisfied: argon2-cffi-bindings in /opt/conda/lib/python3.9/site-packages (from argon2-cffi->notebook>=4.4.1->widgetsnbextension~=3.5.0->ipywidgets>=7.0.0->cufflinks) (21.2.0)\n",
      "Requirement already satisfied: MarkupSafe>=2.0 in /opt/conda/lib/python3.9/site-packages (from jinja2->notebook>=4.4.1->widgetsnbextension~=3.5.0->ipywidgets>=7.0.0->cufflinks) (2.0.1)\n",
      "Requirement already satisfied: webencodings in /opt/conda/lib/python3.9/site-packages (from bleach->nbconvert->notebook>=4.4.1->widgetsnbextension~=3.5.0->ipywidgets>=7.0.0->cufflinks) (0.5.1)\n",
      "Requirement already satisfied: packaging in /opt/conda/lib/python3.9/site-packages (from bleach->nbconvert->notebook>=4.4.1->widgetsnbextension~=3.5.0->ipywidgets>=7.0.0->cufflinks) (21.3)\n",
      "Requirement already satisfied: cffi>=1.0.1 in /opt/conda/lib/python3.9/site-packages (from argon2-cffi-bindings->argon2-cffi->notebook>=4.4.1->widgetsnbextension~=3.5.0->ipywidgets>=7.0.0->cufflinks) (1.14.6)\n",
      "Requirement already satisfied: pyparsing!=3.0.5,>=2.0.2 in /opt/conda/lib/python3.9/site-packages (from packaging->bleach->nbconvert->notebook>=4.4.1->widgetsnbextension~=3.5.0->ipywidgets>=7.0.0->cufflinks) (3.0.7)\n",
      "Requirement already satisfied: pycparser in /opt/conda/lib/python3.9/site-packages (from cffi>=1.0.1->argon2-cffi-bindings->argon2-cffi->notebook>=4.4.1->widgetsnbextension~=3.5.0->ipywidgets>=7.0.0->cufflinks) (2.20)\n"
     ]
    }
   ],
   "source": [
    "\"\"\"\n",
    "If necessary, uncomment and install:\n",
    "\"\"\"\n",
    "!pip install wbdata\n",
    "!pip install cufflinks\n",
    "\n",
    "\n",
    "import wbdata\n",
    "import cufflinks as cf\n",
    "import pandas as pd\n",
    "import numpy as np\n",
    "import plotly.express as px\n",
    "import matplotlib.pyplot as plt"
   ]
  },
  {
   "cell_type": "code",
   "execution_count": 8,
   "id": "6ed30ca2",
   "metadata": {},
   "outputs": [
    {
     "data": {
      "text/plain": [
       "  id  name\n",
       "----  --------------------------------------------------------------------\n",
       "   1  Doing Business\n",
       "   2  World Development Indicators\n",
       "   3  Worldwide Governance Indicators\n",
       "   5  Subnational Malnutrition Database\n",
       "   6  International Debt Statistics\n",
       "  11  Africa Development Indicators\n",
       "  12  Education Statistics\n",
       "  13  Enterprise Surveys\n",
       "  14  Gender Statistics\n",
       "  15  Global Economic Monitor\n",
       "  16  Health Nutrition and Population Statistics\n",
       "  18  IDA Results Measurement System\n",
       "  19  Millennium Development Goals\n",
       "  20  Quarterly Public Sector Debt\n",
       "  22  Quarterly External Debt Statistics SDDS\n",
       "  23  Quarterly External Debt Statistics GDDS\n",
       "  24  Poverty and Equity\n",
       "  25  Jobs\n",
       "  27  Global Economic Prospects\n",
       "  28  Global Financial Inclusion\n",
       "  29  The Atlas of Social Protection: Indicators of Resilience and Equity\n",
       "  30  Exporter Dynamics Database – Indicators at Country-Year Level\n",
       "  31  Country Policy and Institutional Assessment\n",
       "  32  Global Financial Development\n",
       "  33  G20 Financial Inclusion Indicators\n",
       "  34  Global Partnership for Education\n",
       "  35  Sustainable Energy for All\n",
       "  36  Statistical Capacity Indicators\n",
       "  37  LAC Equity Lab\n",
       "  38  Subnational Poverty\n",
       "  39  Health Nutrition and Population Statistics by Wealth Quintile\n",
       "  40  Population estimates and projections\n",
       "  41  Country Partnership Strategy for India (FY2013 - 17)\n",
       "  43  Adjusted Net Savings\n",
       "  45  Indonesia Database for Policy and Economic Research\n",
       "  46  Sustainable Development Goals\n",
       "  50  Subnational Population\n",
       "  54  Joint External Debt Hub\n",
       "  57  WDI Database Archives\n",
       "  58  Universal Health Coverage\n",
       "  59  Wealth Accounts\n",
       "  60  Economic Fitness\n",
       "  61  PPPs Regulatory Quality\n",
       "  62  International Comparison Program (ICP) 2011\n",
       "  63  Human Capital Index\n",
       "  64  Worldwide Bureaucracy Indicators\n",
       "  65  Health Equity and Financial Protection Indicators\n",
       "  66  Logistics Performance Index\n",
       "  67  PEFA 2011\n",
       "  68  PEFA 2016\n",
       "  69  Global Financial Inclusion and Consumer Protection Survey\n",
       "  70  Economic Fitness 2\n",
       "  71  International Comparison Program (ICP) 2005\n",
       "  73  Global Financial Inclusion and Consumer Protection Survey (Internal)\n",
       "  75  Environment, Social and Governance (ESG) Data\n",
       "  76  Remittance Prices Worldwide (Sending Countries)\n",
       "  77  Remittance Prices Worldwide (Receiving Countries)\n",
       "  78  ICP 2017\n",
       "  79  PEFA_GRPFM\n",
       "  80  Gender Disaggregated Labor Database (GDLD)\n",
       "  81  International Debt Statistics: DSSI\n",
       "  82  Global Public Procurement\n",
       "  83  Statistical Performance Indicators (SPI)\n",
       "  84  Education Policy\n",
       "  85  PEFA_2021_SNG\n",
       "  86  Global Jobs Indicators Database (JOIN)\n",
       "  87  Country Climate and Development Report (CCDR)\n",
       "  88  FPN Data Hub"
      ]
     },
     "execution_count": 8,
     "metadata": {},
     "output_type": "execute_result"
    }
   ],
   "source": [
    "wbdata.get_source()"
   ]
  },
  {
   "cell_type": "code",
   "execution_count": 31,
   "id": "e3bdde2f",
   "metadata": {},
   "outputs": [
    {
     "data": {
      "text/plain": [
       "id                          name\n",
       "--------------------------  -------------------------------------------------------------------------------------------------------------------------------------------------------------------------\n",
       "account.t.d                 Account (% age 15+)\n",
       "account.t.d.7               Account, income, poorest 40% (% ages 15+)\n",
       "AG.LND.AGRI.ZS              Agricultural land (% of land area)\n",
       "AG.LND.ARBL.ZS              Arable land (% of land area)\n",
       "AG.LND.FRST.ZS              Forest area (% of land area)\n",
       "CC.ADPO.MAEX.AA             Additional population exposed to annual coastal floods due to sea level rise, as a share of actual population (%) - Min. exposure, 2100\n",
       "CC.ADPO.MAEX.BB             Additional population exposed to annual coastal floods due to sea level rise, as a share of actual population (%) - Max exposure, 2100\n",
       "CC.ADPO.MIEX.AA             Additional population exposed to annual coastal floods due to sea level rise, as a share of actual population (%) - Min. exposure, 2050\n",
       "CC.ADPO.MIEX.BB             Additional population exposed to annual coastal floods due to sea level rise, as a share of actual population (%) - Max exposure, 2050\n",
       "CC.AG.NTR.TOHA              Nitrogen application (tons per ha)\n",
       "CC.AVPB.PTPI.AI             Additional people below $1.90 as % of total population by impact - All impacts\n",
       "CC.AVPB.PTPI.AR             Additional people below $1.90 as % of total population by impact - Agriculture Revenues\n",
       "CC.AVPB.PTPI.DI             Additional people below $1.90 as % of total population by impact - Disasters\n",
       "CC.AVPB.PTPI.FP             Additional people below $1.90 as % of total population by impact - Food prices\n",
       "CC.AVPB.PTPI.HE             Additional people below $1.90 as % of total population by impact - Health\n",
       "CC.AVPB.PTPI.LP             Additional people below $1.90 as % of total population by impact - Labor productivity\n",
       "CC.AVPB.TPOP.AG             Additional people below $4 as % of total population by impact, by 2030 - Agriculture\n",
       "CC.AVPB.TPOP.AI             Additional people below $4 as % of total population by impact, by 2030 - All Impacts\n",
       "CC.AVPB.TPOP.DI             Additional people below $4 as % of total population by impact, by 2030 - Disasters\n",
       "CC.AVPB.TPOP.HE             Additional people below $4 as % of total population by impact, by 2030 - Health\n",
       "CC.AVPB.TPOP.TE             Additional people below $4 as % of total population by impact, by 2030 - Temperature\n",
       "CC.CHIC.BTFP.AG             Change in income (%) for bottom 40% of the population by impact, by 2030 - Agriculture (original)\n",
       "CC.CHIC.BTFP.AI             Change in income (%) for bottom 40% of the population by impact, by 2030 - All Impacts (original)\n",
       "CC.CHIC.BTFP.DI             Change in income (%) for bottom 40% of the population by impact, by 2030 - Disasters (original)\n",
       "CC.CHIC.BTFP.HE             Change in income (%) for bottom 40% of the population by impact, by 2030 - Health (original)\n",
       "CC.CHIC.BTFP.TE             Change in income (%) for bottom 40% of the population by impact, by 2030 - Temperature (original)\n",
       "CC.CHIC.CFPI.AG             Change in income (%) for bottom 40% of the population by impact - Agriculture Revenues (update)\n",
       "CC.CHIC.CFPI.AI             Change in income (%) for bottom 40% of the population by impact - All impacts (update)\n",
       "CC.CHIC.CFPI.DI             Change in income (%) for bottom 40% of the population by impact - Disasters (update)\n",
       "CC.CHIC.CFPI.FP             Change in income (%) for bottom 40% of the population by impact - Food prices (update)\n",
       "CC.CHIC.CFPI.HE             Change in income (%) for bottom 40% of the population by impact - Health (update)\n",
       "CC.CHIC.CFPI.LP             Change in income (%) for bottom 40% of the population by impact - Labor productivity (update)\n",
       "CC.CO2.EMSE.BF              CO2 emissions by sector (Mt CO2 eq) - Bunker Fuels\n",
       "CC.CO2.EMSE.BL              CO2 emissions by sector (Mt CO2 eq) - Building\n",
       "CC.CO2.EMSE.EL              CO2 emissions by sector (Mt CO2 eq) - Total excluding LUCF\n",
       "CC.CO2.EMSE.EN              CO2 emissions by sector (Mt CO2 eq) - Energy\n",
       "CC.CO2.EMSE.FE              CO2 emissions by sector (Mt CO2 eq) - Fugitive Emissions\n",
       "CC.CO2.EMSE.IL              CO2 emissions by sector (Mt CO2 eq) - Total including LUCF\n",
       "CC.CO2.EMSE.IP              CO2 emissions by sector (Mt CO2 eq) - Industrial Processes\n",
       "CC.CO2.EMSE.LU              CO2 emissions by sector (Mt CO2 eq) - Land-Use Change and Forestry\n",
       "CC.CO2.EMSE.MC              CO2 emissions by sector (Mt CO2 eq) - Manufacturing/Construction\n",
       "CC.CO2.EMSE.TR              CO2 emissions by sector (Mt CO2 eq) - Transportation\n",
       "CC.COAL.EMIS.CH             Annual methane emissions at operating coal mines (Mt CO2e 100 years)\n",
       "CC.COAL.EMIS.CO             Annual CO2 combustion emissions at operating coal mines (Mt CO2)\n",
       "CC.COAL.EMPR.CH             Annual methane emisssions at proposed coal projects (Mt CO2e 100 years)\n",
       "CC.COAL.PROD.OP             Annual coal production (Mt per year) - Operating\n",
       "CC.COAL.PROD.PR             Annual coal production (Mt per year) - Proposed Projects (Total)\n",
       "CC.CPAT.ACAE.SI             Absolute change in annual CO2 emissions from a US$60 carbon tax in 2022 rising to US$100 by 2030 (MTCO2)\n",
       "CC.CPAT.ACAE.TE             Absolute change in annual CO2 emissions from a US$12 carbon tax in 2022 rising to US$20 by 2030 (MTCO2)\n",
       "CC.CPAT.ADRP.HU             Averted deaths as a result of reduced air pollution from a US$60 carbon tax in 2022 rising to US$100 by 2030 (count)\n",
       "CC.CPAT.ADRP.SI             Averted deaths as a result of reduced air pollution from a US$60 carbon tax in 2022 rising to US$100 by 2030 (%)\n",
       "CC.CPAT.ADRP.TE             Averted deaths as a result of reduced air pollution from a US$12 carbon tax in 2022 rising to US$20 by 2030 (%)\n",
       "CC.CPAT.ADRP.TW             Averted deaths as a result of reduced air pollution from a US$12 carbon tax in 2022 rising to US$20 by 2030 (count)\n",
       "CC.CPAT.NERE.HU             Net revenues from a US$60 carbon tax in 2022 rising to US$100 by 2030 (constant 2018 US$bn)\n",
       "CC.CPAT.NERE.TW             Net revenues from a US$12 carbon tax in 2022 rising to US$20 by 2030 (constant 2018 US$bn)\n",
       "CC.CPAT.NRRT.HU             Net revenues from a US$60 carbon tax in 2022 rising to US$100 by 2030 (% of GDP)\n",
       "CC.CPAT.NRRT.TW             Net revenues from a US$12 carbon tax in 2022 rising to US$20 by 2030 (% of GDP)\n",
       "CC.CPAT.RCAE.SI             Relative change in annual CO2 emissions from a US$60 carbon tax in 2022 rising to US$100 by 2030 (%)\n",
       "CC.CPAT.RCAE.TE             Relative change in annual CO2 emissions from a US$12 carbon tax in 2022 rising to US$20 by 2030 (%)\n",
       "CC.CPAT.TWCC.HU             Total welfare benefits including co-benefits from a US$60 carbon tax in 2022 rising to US$100 by 2030 (constant 2018 US$bn)\n",
       "CC.CPAT.TWCC.SI             Total welfare benefits including co-benefits from a US$60 carbon tax in 2022 rising to US$100 by 2030 (% of GDP)\n",
       "CC.CPAT.TWCC.TI             Total welfare benefits including co-benefits from a US$12 carbon tax in 2022 rising to US$20 by 2030 (% of GDP)\n",
       "CC.CPAT.TWCC.TW             Total welfare benefits including co-benefits from a US$12 carbon tax in 2022 rising to US$20 by 2030 (constant 2018 US$bn)\n",
       "CC.CPAT.WBRC.SI             Welfare benefits from reduced climate damages when introducing a US$60 carbon tax in 2022 rising to US$100 by 2030 (constant 2018 US$bn)\n",
       "CC.CPAT.WBRC.TW             Welfare benefits from reduced climate damages when introducing a US$12 carbon tax in 2022 rising to US$20 by 2030 (constant 2018 US$bn)\n",
       "CC.CUF.STUN                 Children under 5 years of age who are stunted (% of total)\n",
       "CC.ECA.GAEX.CA              Capacity of Liquefied Natural Gas export terminals (Mt per year) - Cancelled\n",
       "CC.ECA.GAEX.ID              Capacity of Liquefied Natural Gas export terminals (Mt per year) - In Development (Proposed + Construction)\n",
       "CC.ECA.GAEX.OP              Capacity of Liquefied Natural Gas export terminals (Mt per year) - Operating\n",
       "CC.ECA.GAEX.SH              Capacity of Liquefied Natural Gas export terminals (Mt per year) - Shelved\n",
       "CC.ECA.GAIM.CA              Capacity of Liquefied Natural Gas import terminals (Mt per year) - Cancelled\n",
       "CC.ECA.GAIM.ID              Capacity of Liquefied Natural Gas import terminals (Mt per year) - In Development (Proposed + Construction)\n",
       "CC.ECA.GAIM.OP              Capacity of Liquefied Natural Gas import terminals (Mt per year) - Operating\n",
       "CC.ECA.GAIM.SH              Capacity of Liquefied Natural Gas import terminals (Mt per year) - Shelved\n",
       "CC.EG.COAL.MW               Total operating coal power capacity (MW)\n",
       "CC.EG.CONS.COAL.PC          Per capita daily coal consumption (short tons per capita per day)\n",
       "CC.EG.CONS.GAS.PC           Per capita daily gas consumption (thousand cubic feet per capita per day)\n",
       "CC.EG.CONS.OIL.PC           Per capita daily oil consumption (barrels per capita per day)\n",
       "CC.EG.EMIS.MAN              CO2 emissions per dollar of manufacturing value added (kgCO2 per constant 2010 US$)\n",
       "CC.EG.INTS.KW               Energy intensity of the economy (kWh per 2011$PPP)\n",
       "CC.EG.SOLR.KW               Average practical solar potential (kWh/kWp/day)\n",
       "CC.EG.STL.PROD              Total steelmaking capacity (thousand tonnes per annum)\n",
       "CC.EG.SUBF.PC               Fossil-fuel pre-tax subsidies (consumption and production) USD per capita\n",
       "CC.EG.WIND.PC               Offshore wind potential - Per capita (kW/cap)\n",
       "CC.EG.WIND.TOTL             Offshore wind potential - Total (GW)\n",
       "CC.EN.ATM.COAL.CE           Lifetime CO2 emissions from coal plants (Mt CO2)\n",
       "CC.ENTX.ENE.ZS              Total energy tax revenue (% of GDP)\n",
       "CC.ENV.GDS.CADV             Comparative advantage in environmental goods (index)\n",
       "CC.ENV.TRAD.EX              Trade in environmental goods as share of total exports (%)\n",
       "CC.ENV.TRAD.IM              Trade in environmental goods as share of total imports (%)\n",
       "CC.ESG.AGFE                 Employment by sector and gender (% of total) - Agriculture - Female\n",
       "CC.ESG.AGMA                 Employment by sector and gender (% of total) - Agriculture - Male\n",
       "CC.ESG.CMFE                 Employment by sector and gender (% of total) - Commerce - Female\n",
       "CC.ESG.CMMA                 Employment by sector and gender (% of total) - Commerce - Male\n",
       "CC.ESG.CNFE                 Employment by sector and gender (% of total) - Construction - Female\n",
       "CC.ESG.CNMA                 Employment by sector and gender (% of total) - Construction - Male\n",
       "CC.ESG.EUFE                 Employment by sector and gender (% of total) - Electricity and utilities - Female\n",
       "CC.ESG.EUMA                 Employment by sector and gender (% of total) - Electricity and utilities - Male\n",
       "CC.ESG.FBFE                 Employment by sector and gender (% of total) - Financial and Business Services - Female\n",
       "CC.ESG.FBMA                 Employment by sector and gender (% of total) - Financial and Business Services - Male\n",
       "CC.ESG.INFE                 Employment by sector and gender (% of total) - Industry - Female\n",
       "CC.ESG.INMA                 Employment by sector and gender (% of total) - Industry - Male\n",
       "CC.ESG.MAFE                 Employment by sector and gender (% of total) - Manufacturing - Female\n",
       "CC.ESG.MAMA                 Employment by sector and gender (% of total) - Manufacturing - Male\n",
       "CC.ESG.MIFE                 Employment by sector and gender (% of total) - Mining - Female\n",
       "CC.ESG.MIMA                 Employment by sector and gender (% of total) - Mining - Male\n",
       "CC.ESG.OSFE                 Employment by sector and gender (% of total) - Other services - Female\n",
       "CC.ESG.OSMA                 Employment by sector and gender (% of total) - Other services - Male\n",
       "CC.ESG.PAFE                 Employment by sector and gender (% of total) - Public Administration - Female\n",
       "CC.ESG.PAMA                 Employment by sector and gender (% of total) - Public Administration - Male\n",
       "CC.ESG.PSFE                 Employment by sector and gender (% of total) - Public sector employment - Female\n",
       "CC.ESG.PSMA                 Employment by sector and gender (% of total) - Public sector employment - Male\n",
       "CC.ESG.SEFE                 Employment by sector and gender (% of total) - Services - Female\n",
       "CC.ESG.SEMA                 Employment by sector and gender (% of total) - Services - Male\n",
       "CC.ESG.TCFE                 Employment by sector and gender (% of total) - Transport & Communication - Female\n",
       "CC.ESG.TCMA                 Employment by sector and gender (% of total) - Transport & Communication - Male\n",
       "CC.FGHG.SYS.CS              Food GHG emissions by system stage (Share of total) - Consumption\n",
       "CC.FGHG.SYS.EO              Food GHG emissions by system stage (Share of total) - End_of_Life\n",
       "CC.FGHG.SYS.LU              Food GHG emissions by system stage (Share of total) - LULUC (Production)\n",
       "CC.FGHG.SYS.PC              Food GHG emissions by system stage (Share of total) - Packaging\n",
       "CC.FGHG.SYS.PD              Food GHG emissions by system stage (Share of total) - Production\n",
       "CC.FGHG.SYS.RE              Food GHG emissions by system stage (Share of total) - Retail\n",
       "CC.FGHG.SYS.TR              Food GHG emissions by system stage (Share of total) - Transport\n",
       "CC.FLD.BELW.ZS              Population exposed to floods (share of population below 5.5$)\n",
       "CC.FLD.TOTL.ZS              Population exposed to floods (share of total population)\n",
       "CC.FOOD.ANIM.ZS             Share of animal products in food supply (% of total)\n",
       "CC.FOOD.VEGT.ZS             Share of vegetal products in food supply (% of total)\n",
       "CC.FRVOL.MOD.AI             Freight volume by mode (billion tons-km) - Air transport\n",
       "CC.FRVOL.MOD.IW             Freight volume by mode (billion tons-km) - Inland waterway transport\n",
       "CC.FRVOL.MOD.RA             Freight volume by mode (billion tons-km) - Rail transport\n",
       "CC.FRVOL.MOD.RO             Freight volume by mode (billion tons-km) - Road transport\n",
       "CC.GAS.PPBC.CN              Gas pipeline capacity by project status (barrels of oil equivalent per day) - Cancelled\n",
       "CC.GAS.PPBC.CO              Gas pipeline capacity by project status (barrels of oil equivalent per day) - Construction\n",
       "CC.GAS.PPBC.ID              Gas pipeline capacity by project status (barrels of oil equivalent per day) - In Development (Proposed + Construction)\n",
       "CC.GAS.PPBC.MB              Gas pipeline capacity by project status (barrels of oil equivalent per day) - Mothballed\n",
       "CC.GAS.PPBC.OP              Gas pipeline capacity by project status (barrels of oil equivalent per day) - Operating\n",
       "CC.GAS.PPBC.PR              Gas pipeline capacity by project status (barrels of oil equivalent per day) - Proposed\n",
       "CC.GAS.PPBC.SH              Gas pipeline capacity by project status (barrels of oil equivalent per day) - Shelved\n",
       "CC.GHG.EMSE.AG              Total GHG emissions by sector (Mt CO2 eq) - Agriculture\n",
       "CC.GHG.EMSE.BF              Total GHG emissions by sector (Mt CO2 eq) - Bunker Fuels\n",
       "CC.GHG.EMSE.BL              Total GHG emissions by sector (Mt CO2 eq) - Building\n",
       "CC.GHG.EMSE.EH              Total GHG emissions by sector (Mt CO2 eq) - Electricity/Heat\n",
       "CC.GHG.EMSE.EL              Total GHG emissions by sector (Mt CO2 eq) - Total excluding LUCF\n",
       "CC.GHG.EMSE.EN              Total GHG emissions by sector (Mt CO2 eq) - Energy\n",
       "CC.GHG.EMSE.FE              Total GHG emissions by sector (Mt CO2 eq) - Fugitive Emissions\n",
       "CC.GHG.EMSE.IL              Total GHG emissions by sector (Mt CO2 eq) - Total including LUCF\n",
       "CC.GHG.EMSE.IP              Total GHG emissions by sector (Mt CO2 eq) - Industrial Processes\n",
       "CC.GHG.EMSE.LU              Total GHG emissions by sector (Mt CO2 eq) - Land-Use Change and Forestry\n",
       "CC.GHG.EMSE.MC              Total GHG emissions by sector (Mt CO2 eq) - Manufacturing/Construction\n",
       "CC.GHG.EMSE.OF              Total GHG emissions by sector (Mt CO2 eq) - Other Fuel Combustion\n",
       "CC.GHG.EMSE.TR              Total GHG emissions by sector (Mt CO2 eq) - Transportation\n",
       "CC.GHG.EMSE.WA              Total GHG emissions by sector (Mt CO2 eq) - Waste\n",
       "CC.GHG.FSYS.CH              GHG emissions from food systems, by gas (Mt CO2 eq) - Methane\n",
       "CC.GHG.FSYS.CO              GHG emissions from food systems, by gas (Mt CO2 eq) - CO2\n",
       "CC.GHG.FSYS.FG              GHG emissions from food systems, by gas (Mt CO2 eq) - F-gases\n",
       "CC.GHG.FSYS.NO              GHG emissions from food systems, by gas (Mt CO2 eq) - N2O\n",
       "CC.GHG.GRPE                 GHG growth (annual %)\n",
       "CC.GHG.MEMG.EI              Macro drivers of GHG emissions growth in the period 2012-2019 - Emission Intensity of GDP\n",
       "CC.GHG.MEMG.GC              Macro drivers of GHG emissions growth in the period 2012-2020 - GDP per capita\n",
       "CC.GHG.MEMG.PO              Macro drivers of GHG emissions growth in the period 2012-2018 - Population\n",
       "CC.GHG.PECA                 Per capita GHG emissions (tons/capita)\n",
       "CC.GHG.SDEG.AG              Sectoral drivers of GHG emissions growth in the period 2012-2018 - Agriculture (contribution to total growth, %)\n",
       "CC.GHG.SDEG.BU              Sectoral drivers of GHG emissions growth in the period 2012-2018 - Building (contribution to total growth, %)\n",
       "CC.GHG.SDEG.EH              Sectoral drivers of GHG emissions growth in the period 2012-2018 - Electricity/Heat (contribution to total growth, %)\n",
       "CC.GHG.SDEG.FE              Sectoral drivers of GHG emissions growth in the period 2012-2018 - Fugitive Emissions (contribution to total growth, %)\n",
       "CC.GHG.SDEG.LU              Sectoral drivers of GHG emissions growth in the period 2012-2018 - Land-Use Change and Forestry (contribution to total growth, %)\n",
       "CC.GHG.SDEG.MC              Sectoral drivers of GHG emissions growth in the period 2012-2018 - Manufacturing/Construction (contribution to total growth, %)\n",
       "CC.GHG.SDEG.OF              Sectoral drivers of GHG emissions growth in the period 2012-2018 - Other Fuel Combustion (contribution to total growth, %)\n",
       "CC.GHG.SDEG.TR              Sectoral drivers of GHG emissions growth in the period 2012-2018 - Transportation (contribution to total growth, %)\n",
       "CC.GHG.SDEG.WA              Sectoral drivers of GHG emissions growth in the period 2012-2018 - Waste (contribution to total growth, %)\n",
       "CC.GNBD.ISS.BD              Total sovereign green bonds issuance (billion US$)\n",
       "CC.INCP.ALRS                Annual investment needs for coastal protection, by risk strategy (% of GDP) - low risk tolerance\n",
       "CC.INCP.KRGC                Annual investment needs for coastal protection, by risk strategy (% of GDP) - constant relative flood risk\n",
       "CC.INCP.SPMC                Annual investment needs for coastal protection, by risk strategy (% of GDP) - optimal protection\n",
       "CC.ISG.FFFE                 Informal employment by sector and gender (% of total) - Agriculture, forestry and fishing - Female\n",
       "CC.ISG.FFMA                 Informal employment by sector and gender (% of total) - Agriculture, forestry and fishing - Male\n",
       "CC.ISG.NAFE                 Informal employment by sector and gender (% of total) - Non-agriculture - Female\n",
       "CC.ISG.NAMA                 Informal employment by sector and gender (% of total) - Non-agriculture - Male\n",
       "CC.ISG.NBFE                 Informal employment by sector and gender (% of total) - No breakdown - Female\n",
       "CC.ISG.NBMA                 Informal employment by sector and gender (% of total) - No breakdown - Male\n",
       "CC.KBA.MRN.ZS               Proportion of freshwater key biodiversity areas (KBAs) covered by protected areas (%)\n",
       "CC.KBA.TERR.ZS              Proportion of terrestrial key biodiversity areas (KBAs) covered by protected areas (%)\n",
       "CC.NCO.GHG.AG               Non-CO2 GHG emissions by sector (Mt CO2 eq) - Agriculture\n",
       "CC.NCO.GHG.EL               Non-CO2 GHG emissions by sector (Mt CO2 eq) - Total excluding LUCF\n",
       "CC.NCO.GHG.EN               Non-CO2 GHG emissions by sector (Mt CO2 eq) - Energy\n",
       "CC.NCO.GHG.FE               Non-CO2 GHG emissions by sector (Mt CO2 eq) - Fugitive Emissions\n",
       "CC.NCO.GHG.IL               Non-CO2 GHG emissions by sector (Mt CO2 eq) - Total including LUCF\n",
       "CC.NCO.GHG.IP               Non-CO2 GHG emissions by sector (Mt CO2 eq) - Industrial Processes\n",
       "CC.NCO.GHG.OF               Non-CO2 GHG emissions by sector (Mt CO2 eq) - Other Fuel Combustion\n",
       "CC.NCO.GHG.WA               Non-CO2 GHG emissions by sector (Mt CO2 eq) - Waste\n",
       "CC.NEFO.IMCR.BA             Net food imports by crop - Barley\n",
       "CC.NEFO.IMCR.BP             Net food imports by crop - Rice, paddy\n",
       "CC.NEFO.IMCR.MA             Net food imports by crop - Maize\n",
       "CC.NEFO.IMCR.RB             Net food imports by crop - Rice, broken\n",
       "CC.NEFO.IMCR.RE             Net food imports by crop - Rice, paddy (rice milled equivalent)\n",
       "CC.NEFO.IMCR.RH             Net food imports by crop - Rice, husked\n",
       "CC.NEFO.IMCR.RI             Net food imports by crop - Rice, milled/husked\n",
       "CC.NEFO.IMCR.RM             Net food imports by crop - Rice, milled\n",
       "CC.NEFO.IMCR.SB             Net food imports by crop - Soybeans\n",
       "CC.NEFO.IMCR.WH             Net food imports by crop - Wheat\n",
       "CC.OIL.PSBC.CN              Oil pipeline capacity by project status (barrels of oil equivalent per day) - Cancelled\n",
       "CC.OIL.PSBC.CO              Oil pipeline capacity by project status (barrels of oil equivalent per day) - Construction\n",
       "CC.OIL.PSBC.ID              Oil pipeline capacity by project status (barrels of oil equivalent per day) - In Development (Proposed + Construction)\n",
       "CC.OIL.PSBC.OP              Oil pipeline capacity by project status (barrels of oil equivalent per day) - Operating\n",
       "CC.OIL.PSBC.PR              Oil pipeline capacity by project status (barrels of oil equivalent per day) - Proposed\n",
       "CC.OIL.PSBC.RT              Oil pipeline capacity by project status (barrels of oil equivalent per day) - Retired\n",
       "CC.OIL.PSBC.SH              Oil pipeline capacity by project status (barrels of oil equivalent per day) - Shelved\n",
       "CC.OPCO.AG.CA1              Operating coal power capacity by plant age (MW) - Coal plant age (0-9 years)\n",
       "CC.OPCO.AG.CA2              Operating coal power capacity by plant age (MW) - Coal plant age (10-19 years)\n",
       "CC.OPCO.AG.CA3              Operating coal power capacity by plant age (MW) - Coal plant age (20-29 years)\n",
       "CC.OPCO.AG.CA4              Operating coal power capacity by plant age (MW) - Coal plant age (30-39 years)\n",
       "CC.OPCO.AG.CA5              Operating coal power capacity by plant age (MW) - Coal plant age (40-49 years)\n",
       "CC.OPCO.AG.CA6              Operating coal power capacity by plant age (MW) - Coal plant age (50-plus years)\n",
       "CC.OPCO.PLTY.CC             Operating coal power capacity by plant type (MW) - Plant Type (Subcritical/CCS)\n",
       "CC.OPCO.PLTY.CF             Operating coal power capacity by plant type (MW) - Plant Type (CFB)\n",
       "CC.OPCO.PLTY.IG             Operating coal power capacity by plant type (MW) - Plant Type (IGCC)\n",
       "CC.OPCO.PLTY.SC             Operating coal power capacity by plant type (MW) - Plant Type (Supercritical)\n",
       "CC.OPCO.PLTY.SU             Operating coal power capacity by plant type (MW) - Plant Type (Subcritical)\n",
       "CC.OPCO.PLTY.UK             Operating coal power capacity by plant type (MW) - Plant Type (Unknown)\n",
       "CC.OPCO.PLTY.US             Operating coal power capacity by plant type (MW) - Plant Type (Ultra-super)\n",
       "CC.PRNX.CAT1.ZS             Percentage of people who believe it is somewhat very likely that they could use the right to use their property of part of it against their will in the next 5 years\n",
       "CC.PRNX.CAT2.ZS             Percentage of people who believe it is very unlikely or unlikely that they could use the right to use their property of part of it against their will in the next 5 years\n",
       "CC.PRNX.CAT3.ZS             Percentage of people who say they have formal documents, legally-binding documents that demonstrate their right to live in or use any of their properties\n",
       "CC.PRNX.CAT4.ZS             Percentage of people who say they have informal documents that demonstrate their right to live in or use any of their properties\n",
       "CC.PRNX.CAT5.ZS             Percentage of people who say they have no documents or informal documents that demonstrate their right to live in or use any of their properties\n",
       "CC.PRO.ANI                  Average supply of protein of animal origin (g/cap/day)\n",
       "CC.PSVOL.MOD.RA             Passenger volume by mode (billion tons-km) - Rail transport\n",
       "CC.PSVOL.MOD.RO             Passenger volume by mode (billion tons-km) - Road transport\n",
       "CC.PUN.TOTL                 Prevalence of undernourishment (3-year average) (% of total)\n",
       "CC.RIC.PECA                 Rice supply quantity (g/capita/day)\n",
       "CC.RISK.AST.ZS              Risk to asset (average annual losses as % of GDP)\n",
       "CC.RISK.WELL.ZS             Risk to wellbeing (average annual losses as % of GDP)\n",
       "CC.SE.CAT2.ZS               Percentage of population with Primary Education\n",
       "CC.SE.CAT3.ZS               Percentage of population with Secondary Education\n",
       "CC.SE.NYRS.AVG              Mean number of years of education completed, aged 17 and older\n",
       "CC.SH.AIRP.AIR              Mortality rate attributable to household air pollution (deaths per 100 000 population)\n",
       "CC.SH.AIRP.AMB              Mortality rate attributable to ambient air pollution (deaths per 100 000 population)\n",
       "CC.SP.COV.ZS                Share of population covered by at least one social protection benefit (%)\n",
       "CC.SP.EXP.ZS                Public social protection expenditure (%of GDP)\n",
       "CC.TCFD.COMP.CB             Number of companies that are TCFD compliant by sector - Central Bank\n",
       "CC.TCFD.COMP.CD             Number of companies that are TCFD compliant by sector - Consumer Discretionary\n",
       "CC.TCFD.COMP.CM             Number of companies that are TCFD compliant by sector - Communication Services\n",
       "CC.TCFD.COMP.CS             Number of companies that are TCFD compliant by sector - Consumer Staples\n",
       "CC.TCFD.COMP.FI             Number of companies that are TCFD compliant by sector - Financials\n",
       "CC.TCFD.COMP.GO             Number of companies that are TCFD compliant by sector - Government\n",
       "CC.TCFD.COMP.HC             Number of companies that are TCFD compliant by sector - Health Care\n",
       "CC.TCFD.COMP.IT             Number of companies that are TCFD compliant by sector - Information Technology\n",
       "CC.TCFD.COMP.MT             Number of companies that are TCFD compliant by sector - Materials\n",
       "CC.TCFD.COMP.OT             Number of companies that are TCFD compliant by sector - Other\n",
       "CC.TCFD.COMP.RE             Number of companies that are TCFD compliant by sector - Real Estate\n",
       "CC.TCFD.COMP.TR             Number of companies that are TCFD compliant by sector - Transportation\n",
       "CC.TCFD.COMP.UT             Number of companies that are TCFD compliant by sector - Utilities\n",
       "CC.THHZ.RANK.CF             Natural hazard levels - Coastal flood\n",
       "CC.THHZ.RANK.CY             Natural hazard levels - Cyclone\n",
       "CC.THHZ.RANK.EH             Natural hazard levels - Extreme heat\n",
       "CC.THHZ.RANK.EQ             Natural hazard levels - Earthquake\n",
       "CC.THHZ.RANK.LS             Natural hazard levels - Landslide\n",
       "CC.THHZ.RANK.RF             Natural hazard levels - River flood\n",
       "CC.THHZ.RANK.TS             Natural hazard levels - Tsunami\n",
       "CC.THHZ.RANK.UF             Natural hazard levels - Urban flood\n",
       "CC.THHZ.RANK.WF             Natural hazard levels - Wildfire\n",
       "CC.TNET.CYC.ZS              Share of transport network exposed to cyclones (%)\n",
       "CC.TNET.EAR.ZS              Share of transport network exposed to earthquakes (%)\n",
       "CC.TNET.FLD.ZS              Share of transport network exposed to floods (%)\n",
       "CC.TNET.NAT.ZS              Share of transport network exposed to natural disasters (%)\n",
       "CC.TOT.GHG.GR               Total GHG emissions growth in the period 2012-2018 (%)\n",
       "CC.TOTL.COCA.CA             Total coal capacity by plant status (MW) - Cancelled\n",
       "CC.TOTL.COCA.CO             Total coal capacity by plant status (MW) - Construction\n",
       "CC.TOTL.COCA.MB             Total coal capacity by plant status (MW) - Mothballed\n",
       "CC.TOTL.COCA.OP             Total coal capacity by plant status (MW) - Operating\n",
       "CC.TOTL.COCA.PE             Total coal capacity by plant status (MW) - Permitted\n",
       "CC.TOTL.COCA.PP             Total coal capacity by plant status (MW) - Pre-permit\n",
       "CC.TOTL.COCA.RE             Total coal capacity by plant status (MW) - Retired\n",
       "CC.TOTL.COCA.SH             Total coal capacity by plant status (MW) - Shelved\n",
       "EG.ELC.ACCS.ZS              Access to electricity (% of population)\n",
       "EG.ELC.CARB.KT              Power generation carbon intensity (tCO2/MWh)\n",
       "EG.TEG.RNEW.ZS              Share of renewables in total electricity generation (%)\n",
       "EG.TEG.VAR.ZS               Share of variable renewables in total electricity generation (%)\n",
       "EN.POP.SLUM.UR.ZS           Population living in slums (% of urban population)\n",
       "ER.H2O.INTR.PC              Renewable internal freshwater resources per capita (cubic meters)\n",
       "fin18.t.d                   Saved any money in the past year (% age 15+)\n",
       "g20.t.made                  Made digital payments in the past year (% age 15+)\n",
       "GC.DOD.TOTL.GD.ZS           Central government debt, total (% of GDP)\n",
       "GC.TAX.TOTL.GD.ZS           Tax revenue (% of GDP)\n",
       "GE.EST                      Government Effectiveness: Estimate\n",
       "IC.ELC.OUTG                 Power outages in firms in a typical month (number)\n",
       "IC.ELC.OUTG.ZS              Firms experiencing electrical outages (% of firms)\n",
       "IC.FRM.FEMO.ZS              Firms with female participation in ownership (% of firms)\n",
       "IC.FRM.OUTG.ZS              Value lost due to electrical outages (% of sales for affected firms)\n",
       "NY.GDP.COAL.RT.ZS           Coal rents (% of GDP)\n",
       "NY.GDP.MINR.RT.ZS           Mineral rents (% of GDP)\n",
       "NY.GDP.MKTP.CD              GDP (current US$)\n",
       "NY.GDP.MKTP.KD.ZG           GDP growth (annual %)\n",
       "NY.GDP.NGAS.RT.ZS           Natural gas rents (% of GDP)\n",
       "NY.GDP.PCAP.CD              GDP per capita (current US$)\n",
       "NY.GDP.PETR.RT.ZS           Oil rents (% of GDP)\n",
       "NY.GDP.TOTL.RT.ZS           Total natural resources rents (% of GDP)\n",
       "per_allsp.avt_pop_preT_tot  Average per capita transfer -All Social Protection and Labor (preT)\n",
       "per_allsp.cov_pop_tot       Coverage of social protection and labor programs (% of population)\n",
       "per_allsp.cov_q1_tot        Coverage in 1st quintile (poorest) (%) -All Social Protection and Labor\n",
       "PV.EST                      Political Stability and Absence of Violence/Terrorism: Estimate\n",
       "RL.EST                      Rule of Law: Estimate\n",
       "RQ.EST                      Regulatory Quality: Estimate\n",
       "SE.ADT.LITR.ZS              Literacy rate, adult total (% of people ages 15 and above)\n",
       "SG.GEN.PARL.ZS              Proportion of seats held by women in national parliaments (%)\n",
       "SH.H2O.BASW.ZS              People using at least basic drinking water services (% of population)\n",
       "SH.STA.BASS.ZS              People using at least basic sanitation services (% of population)\n",
       "SH.STA.HYGN.ZS              People with basic handwashing facilities including soap and water (% of population)\n",
       "SI.POV.GINI                 Gini index (World Bank estimate)\n",
       "SI.POV.UMIC                 Poverty headcount ratio at $5.50 a day (2011 PPP) (% of population)\n",
       "SL.TLF.TOTL.FE.ZS           Labor force, female (% of total labor force)\n",
       "SL.UEM.TOTL.ZS              Unemployment, total (% of total labor force) (modeled ILO estimate)\n",
       "SP.POP.TOTL                 Population, total\n",
       "SP.URB.TOTL.IN.ZS           Urban population (% of total population)\n",
       "VA.EST                      Voice and Accountability: Estimate"
      ]
     },
     "execution_count": 31,
     "metadata": {},
     "output_type": "execute_result"
    }
   ],
   "source": [
    "SOURCE = 87 \n",
    "# 40 - \"Population estimates and projections\"\n",
    "# 87 - 'Country Climate and Development Report'\n",
    "\n",
    "indicators = wbdata.get_indicator(source=SOURCE)\n",
    "indicators"
   ]
  },
  {
   "cell_type": "code",
   "execution_count": 12,
   "id": "ce97a762",
   "metadata": {},
   "outputs": [
    {
     "data": {
      "text/html": [
       "<div>\n",
       "<style scoped>\n",
       "    .dataframe tbody tr th:only-of-type {\n",
       "        vertical-align: middle;\n",
       "    }\n",
       "\n",
       "    .dataframe tbody tr th {\n",
       "        vertical-align: top;\n",
       "    }\n",
       "\n",
       "    .dataframe thead th {\n",
       "        text-align: right;\n",
       "    }\n",
       "</style>\n",
       "<table border=\"1\" class=\"dataframe\">\n",
       "  <thead>\n",
       "    <tr style=\"text-align: right;\">\n",
       "      <th></th>\n",
       "      <th>upg</th>\n",
       "      <th>rpg</th>\n",
       "    </tr>\n",
       "    <tr>\n",
       "      <th>date</th>\n",
       "      <th></th>\n",
       "      <th></th>\n",
       "    </tr>\n",
       "  </thead>\n",
       "  <tbody>\n",
       "    <tr>\n",
       "      <th>2020</th>\n",
       "      <td>0.599211</td>\n",
       "      <td>-0.824661</td>\n",
       "    </tr>\n",
       "    <tr>\n",
       "      <th>2019</th>\n",
       "      <td>0.701868</td>\n",
       "      <td>-0.695262</td>\n",
       "    </tr>\n",
       "    <tr>\n",
       "      <th>2018</th>\n",
       "      <td>0.767437</td>\n",
       "      <td>-0.583255</td>\n",
       "    </tr>\n",
       "    <tr>\n",
       "      <th>2017</th>\n",
       "      <td>0.871785</td>\n",
       "      <td>-0.453842</td>\n",
       "    </tr>\n",
       "    <tr>\n",
       "      <th>2016</th>\n",
       "      <td>0.958268</td>\n",
       "      <td>-0.322855</td>\n",
       "    </tr>\n",
       "    <tr>\n",
       "      <th>...</th>\n",
       "      <td>...</td>\n",
       "      <td>...</td>\n",
       "    </tr>\n",
       "    <tr>\n",
       "      <th>1964</th>\n",
       "      <td>1.913437</td>\n",
       "      <td>0.084937</td>\n",
       "    </tr>\n",
       "    <tr>\n",
       "      <th>1963</th>\n",
       "      <td>1.970559</td>\n",
       "      <td>0.141586</td>\n",
       "    </tr>\n",
       "    <tr>\n",
       "      <th>1962</th>\n",
       "      <td>2.076494</td>\n",
       "      <td>0.246911</td>\n",
       "    </tr>\n",
       "    <tr>\n",
       "      <th>1961</th>\n",
       "      <td>2.200571</td>\n",
       "      <td>0.379768</td>\n",
       "    </tr>\n",
       "    <tr>\n",
       "      <th>1960</th>\n",
       "      <td>NaN</td>\n",
       "      <td>NaN</td>\n",
       "    </tr>\n",
       "  </tbody>\n",
       "</table>\n",
       "<p>61 rows × 2 columns</p>\n",
       "</div>"
      ],
      "text/plain": [
       "           upg       rpg\n",
       "date                    \n",
       "2020  0.599211 -0.824661\n",
       "2019  0.701868 -0.695262\n",
       "2018  0.767437 -0.583255\n",
       "2017  0.871785 -0.453842\n",
       "2016  0.958268 -0.322855\n",
       "...        ...       ...\n",
       "1964  1.913437  0.084937\n",
       "1963  1.970559  0.141586\n",
       "1962  2.076494  0.246911\n",
       "1961  2.200571  0.379768\n",
       "1960       NaN       NaN\n",
       "\n",
       "[61 rows x 2 columns]"
      ]
     },
     "execution_count": 12,
     "metadata": {},
     "output_type": "execute_result"
    }
   ],
   "source": [
    "# Give variable for clarity\n",
    "variable_labels = {'SP.URB.GROW' : 'upg', 'SP.RUR.TOTL.ZG': 'rpg'}\n",
    "\n",
    "# world = wbdata.get_dataframe(variable_labels, country=\"WLD\")\n",
    "usa_pop_grow = wbdata.get_dataframe(variable_labels, country='USA')\n",
    "usa_pop_grow\n",
    "# Date index is of type string; change to integers\n",
    "# nzl_gdp.index = world.index.astype(int)\n",
    "# usa_gdp.index = world.index.astype(int)\n"
   ]
  },
  {
   "cell_type": "code",
   "execution_count": 33,
   "id": "a951b425",
   "metadata": {},
   "outputs": [
    {
     "data": {
      "application/vnd.plotly.v1+json": {
       "config": {
        "plotlyServerURL": "https://plot.ly"
       },
       "data": [
        {
         "hovertemplate": "variable=upg<br>date=%{x}<br>value=%{y}<extra></extra>",
         "legendgroup": "upg",
         "line": {
          "color": "#636efa",
          "dash": "solid"
         },
         "marker": {
          "symbol": "circle"
         },
         "mode": "lines",
         "name": "upg",
         "orientation": "v",
         "showlegend": true,
         "type": "scatter",
         "x": [
          "2020",
          "2019",
          "2018",
          "2017",
          "2016",
          "2015",
          "2014",
          "2013",
          "2012",
          "2011",
          "2010",
          "2009",
          "2008",
          "2007",
          "2006",
          "2005",
          "2004",
          "2003",
          "2002",
          "2001",
          "2000",
          "1999",
          "1998",
          "1997",
          "1996",
          "1995",
          "1994",
          "1993",
          "1992",
          "1991",
          "1990",
          "1989",
          "1988",
          "1987",
          "1986",
          "1985",
          "1984",
          "1983",
          "1982",
          "1981",
          "1980",
          "1979",
          "1978",
          "1977",
          "1976",
          "1975",
          "1974",
          "1973",
          "1972",
          "1971",
          "1970",
          "1969",
          "1968",
          "1967",
          "1966",
          "1965",
          "1964",
          "1963",
          "1962",
          "1961",
          "1960"
         ],
         "xaxis": "x",
         "y": [
          0.599210762260319,
          0.701867775195684,
          0.767437430461766,
          0.871785260117191,
          0.958268060593122,
          0.966674782180289,
          0.95943078191871,
          0.914510413562637,
          0.94956550837067,
          0.93950541093758,
          1.03534480069191,
          1.08529029428822,
          1.15618567133535,
          1.16306776101756,
          1.17796815968651,
          1.13588459113456,
          1.14388530085121,
          1.07836038438036,
          1.14841884658312,
          1.21338042170418,
          1.51201139138713,
          1.61295677155673,
          1.63762765741403,
          1.68197526681483,
          1.65278297800739,
          1.68646666337335,
          1.7309822295661,
          1.83118227604993,
          1.90863299657144,
          1.86738439894312,
          1.41025628541903,
          1.14036493918274,
          1.10701747375615,
          1.09324426439828,
          1.12532022077028,
          1.08769078654837,
          1.06778620152612,
          1.11945662708531,
          1.15881776860062,
          1.18733797133269,
          1.02199247812023,
          1.1171475381994,
          1.07178895113162,
          1.01934615261149,
          0.963796080842526,
          0.999564503181063,
          0.927239982306409,
          0.968058589105531,
          1.08410628926962,
          1.27927789350898,
          1.531151622153,
          1.46799272604928,
          1.49576263761729,
          1.59282042208749,
          1.66555870446276,
          1.76765328716456,
          1.91343710832917,
          1.97055936295003,
          2.07649430194512,
          2.20057087771013,
          null
         ],
         "yaxis": "y"
        },
        {
         "hovertemplate": "variable=rpg<br>date=%{x}<br>value=%{y}<extra></extra>",
         "legendgroup": "rpg",
         "line": {
          "color": "#EF553B",
          "dash": "solid"
         },
         "marker": {
          "symbol": "circle"
         },
         "mode": "lines",
         "name": "rpg",
         "orientation": "v",
         "showlegend": true,
         "type": "scatter",
         "x": [
          "2020",
          "2019",
          "2018",
          "2017",
          "2016",
          "2015",
          "2014",
          "2013",
          "2012",
          "2011",
          "2010",
          "2009",
          "2008",
          "2007",
          "2006",
          "2005",
          "2004",
          "2003",
          "2002",
          "2001",
          "2000",
          "1999",
          "1998",
          "1997",
          "1996",
          "1995",
          "1994",
          "1993",
          "1992",
          "1991",
          "1990",
          "1989",
          "1988",
          "1987",
          "1986",
          "1985",
          "1984",
          "1983",
          "1982",
          "1981",
          "1980",
          "1979",
          "1978",
          "1977",
          "1976",
          "1975",
          "1974",
          "1973",
          "1972",
          "1971",
          "1970",
          "1969",
          "1968",
          "1967",
          "1966",
          "1965",
          "1964",
          "1963",
          "1962",
          "1961",
          "1960"
         ],
         "xaxis": "x",
         "y": [
          -0.824661438105005,
          -0.695262032744607,
          -0.58325455730801,
          -0.453841679756109,
          -0.322855438046257,
          -0.284256234098651,
          -0.255415159548918,
          -0.265051290084759,
          -0.188989154899031,
          -0.17176717755585,
          -0.0300018427486857,
          0.0141332145804876,
          0.0856572616332229,
          0.0931570901609545,
          0.108670280303657,
          0.0733898148736528,
          0.0695993923250513,
          0.010863083289361,
          0.0815023117954436,
          0.140997827475435,
          -0.380113564334052,
          -0.554086373778248,
          -0.526404231035566,
          -0.473417401349692,
          -0.517077662960284,
          -0.474899093415709,
          -0.433368846491766,
          -0.330624269008791,
          -0.256236999797331,
          -0.300544208104832,
          0.279027731366681,
          0.356039611103647,
          0.315139141363312,
          0.304464142782628,
          0.334331075505947,
          0.299753937179451,
          0.282860476837012,
          0.327097084926625,
          0.369463154438247,
          0.400952470198684,
          0.784584960237542,
          1.065572372745,
          1.02538047607355,
          0.967796112834577,
          0.912258490743726,
          0.9480373479402,
          0.875727250645759,
          0.916557524902912,
          1.03261839221807,
          1.22265498245156,
          0.151142360094357,
          -0.360009209533016,
          -0.332098518017465,
          -0.235016470709165,
          -0.162375692830794,
          -0.0604996895264814,
          0.0849371791731306,
          0.141586212319302,
          0.246910823324667,
          0.379767922918795,
          null
         ],
         "yaxis": "y"
        }
       ],
       "layout": {
        "legend": {
         "title": {
          "text": "variable"
         },
         "tracegroupgap": 0
        },
        "margin": {
         "t": 60
        },
        "template": {
         "data": {
          "bar": [
           {
            "error_x": {
             "color": "#2a3f5f"
            },
            "error_y": {
             "color": "#2a3f5f"
            },
            "marker": {
             "line": {
              "color": "#E5ECF6",
              "width": 0.5
             },
             "pattern": {
              "fillmode": "overlay",
              "size": 10,
              "solidity": 0.2
             }
            },
            "type": "bar"
           }
          ],
          "barpolar": [
           {
            "marker": {
             "line": {
              "color": "#E5ECF6",
              "width": 0.5
             },
             "pattern": {
              "fillmode": "overlay",
              "size": 10,
              "solidity": 0.2
             }
            },
            "type": "barpolar"
           }
          ],
          "carpet": [
           {
            "aaxis": {
             "endlinecolor": "#2a3f5f",
             "gridcolor": "white",
             "linecolor": "white",
             "minorgridcolor": "white",
             "startlinecolor": "#2a3f5f"
            },
            "baxis": {
             "endlinecolor": "#2a3f5f",
             "gridcolor": "white",
             "linecolor": "white",
             "minorgridcolor": "white",
             "startlinecolor": "#2a3f5f"
            },
            "type": "carpet"
           }
          ],
          "choropleth": [
           {
            "colorbar": {
             "outlinewidth": 0,
             "ticks": ""
            },
            "type": "choropleth"
           }
          ],
          "contour": [
           {
            "colorbar": {
             "outlinewidth": 0,
             "ticks": ""
            },
            "colorscale": [
             [
              0,
              "#0d0887"
             ],
             [
              0.1111111111111111,
              "#46039f"
             ],
             [
              0.2222222222222222,
              "#7201a8"
             ],
             [
              0.3333333333333333,
              "#9c179e"
             ],
             [
              0.4444444444444444,
              "#bd3786"
             ],
             [
              0.5555555555555556,
              "#d8576b"
             ],
             [
              0.6666666666666666,
              "#ed7953"
             ],
             [
              0.7777777777777778,
              "#fb9f3a"
             ],
             [
              0.8888888888888888,
              "#fdca26"
             ],
             [
              1,
              "#f0f921"
             ]
            ],
            "type": "contour"
           }
          ],
          "contourcarpet": [
           {
            "colorbar": {
             "outlinewidth": 0,
             "ticks": ""
            },
            "type": "contourcarpet"
           }
          ],
          "heatmap": [
           {
            "colorbar": {
             "outlinewidth": 0,
             "ticks": ""
            },
            "colorscale": [
             [
              0,
              "#0d0887"
             ],
             [
              0.1111111111111111,
              "#46039f"
             ],
             [
              0.2222222222222222,
              "#7201a8"
             ],
             [
              0.3333333333333333,
              "#9c179e"
             ],
             [
              0.4444444444444444,
              "#bd3786"
             ],
             [
              0.5555555555555556,
              "#d8576b"
             ],
             [
              0.6666666666666666,
              "#ed7953"
             ],
             [
              0.7777777777777778,
              "#fb9f3a"
             ],
             [
              0.8888888888888888,
              "#fdca26"
             ],
             [
              1,
              "#f0f921"
             ]
            ],
            "type": "heatmap"
           }
          ],
          "heatmapgl": [
           {
            "colorbar": {
             "outlinewidth": 0,
             "ticks": ""
            },
            "colorscale": [
             [
              0,
              "#0d0887"
             ],
             [
              0.1111111111111111,
              "#46039f"
             ],
             [
              0.2222222222222222,
              "#7201a8"
             ],
             [
              0.3333333333333333,
              "#9c179e"
             ],
             [
              0.4444444444444444,
              "#bd3786"
             ],
             [
              0.5555555555555556,
              "#d8576b"
             ],
             [
              0.6666666666666666,
              "#ed7953"
             ],
             [
              0.7777777777777778,
              "#fb9f3a"
             ],
             [
              0.8888888888888888,
              "#fdca26"
             ],
             [
              1,
              "#f0f921"
             ]
            ],
            "type": "heatmapgl"
           }
          ],
          "histogram": [
           {
            "marker": {
             "pattern": {
              "fillmode": "overlay",
              "size": 10,
              "solidity": 0.2
             }
            },
            "type": "histogram"
           }
          ],
          "histogram2d": [
           {
            "colorbar": {
             "outlinewidth": 0,
             "ticks": ""
            },
            "colorscale": [
             [
              0,
              "#0d0887"
             ],
             [
              0.1111111111111111,
              "#46039f"
             ],
             [
              0.2222222222222222,
              "#7201a8"
             ],
             [
              0.3333333333333333,
              "#9c179e"
             ],
             [
              0.4444444444444444,
              "#bd3786"
             ],
             [
              0.5555555555555556,
              "#d8576b"
             ],
             [
              0.6666666666666666,
              "#ed7953"
             ],
             [
              0.7777777777777778,
              "#fb9f3a"
             ],
             [
              0.8888888888888888,
              "#fdca26"
             ],
             [
              1,
              "#f0f921"
             ]
            ],
            "type": "histogram2d"
           }
          ],
          "histogram2dcontour": [
           {
            "colorbar": {
             "outlinewidth": 0,
             "ticks": ""
            },
            "colorscale": [
             [
              0,
              "#0d0887"
             ],
             [
              0.1111111111111111,
              "#46039f"
             ],
             [
              0.2222222222222222,
              "#7201a8"
             ],
             [
              0.3333333333333333,
              "#9c179e"
             ],
             [
              0.4444444444444444,
              "#bd3786"
             ],
             [
              0.5555555555555556,
              "#d8576b"
             ],
             [
              0.6666666666666666,
              "#ed7953"
             ],
             [
              0.7777777777777778,
              "#fb9f3a"
             ],
             [
              0.8888888888888888,
              "#fdca26"
             ],
             [
              1,
              "#f0f921"
             ]
            ],
            "type": "histogram2dcontour"
           }
          ],
          "mesh3d": [
           {
            "colorbar": {
             "outlinewidth": 0,
             "ticks": ""
            },
            "type": "mesh3d"
           }
          ],
          "parcoords": [
           {
            "line": {
             "colorbar": {
              "outlinewidth": 0,
              "ticks": ""
             }
            },
            "type": "parcoords"
           }
          ],
          "pie": [
           {
            "automargin": true,
            "type": "pie"
           }
          ],
          "scatter": [
           {
            "marker": {
             "colorbar": {
              "outlinewidth": 0,
              "ticks": ""
             }
            },
            "type": "scatter"
           }
          ],
          "scatter3d": [
           {
            "line": {
             "colorbar": {
              "outlinewidth": 0,
              "ticks": ""
             }
            },
            "marker": {
             "colorbar": {
              "outlinewidth": 0,
              "ticks": ""
             }
            },
            "type": "scatter3d"
           }
          ],
          "scattercarpet": [
           {
            "marker": {
             "colorbar": {
              "outlinewidth": 0,
              "ticks": ""
             }
            },
            "type": "scattercarpet"
           }
          ],
          "scattergeo": [
           {
            "marker": {
             "colorbar": {
              "outlinewidth": 0,
              "ticks": ""
             }
            },
            "type": "scattergeo"
           }
          ],
          "scattergl": [
           {
            "marker": {
             "colorbar": {
              "outlinewidth": 0,
              "ticks": ""
             }
            },
            "type": "scattergl"
           }
          ],
          "scattermapbox": [
           {
            "marker": {
             "colorbar": {
              "outlinewidth": 0,
              "ticks": ""
             }
            },
            "type": "scattermapbox"
           }
          ],
          "scatterpolar": [
           {
            "marker": {
             "colorbar": {
              "outlinewidth": 0,
              "ticks": ""
             }
            },
            "type": "scatterpolar"
           }
          ],
          "scatterpolargl": [
           {
            "marker": {
             "colorbar": {
              "outlinewidth": 0,
              "ticks": ""
             }
            },
            "type": "scatterpolargl"
           }
          ],
          "scatterternary": [
           {
            "marker": {
             "colorbar": {
              "outlinewidth": 0,
              "ticks": ""
             }
            },
            "type": "scatterternary"
           }
          ],
          "surface": [
           {
            "colorbar": {
             "outlinewidth": 0,
             "ticks": ""
            },
            "colorscale": [
             [
              0,
              "#0d0887"
             ],
             [
              0.1111111111111111,
              "#46039f"
             ],
             [
              0.2222222222222222,
              "#7201a8"
             ],
             [
              0.3333333333333333,
              "#9c179e"
             ],
             [
              0.4444444444444444,
              "#bd3786"
             ],
             [
              0.5555555555555556,
              "#d8576b"
             ],
             [
              0.6666666666666666,
              "#ed7953"
             ],
             [
              0.7777777777777778,
              "#fb9f3a"
             ],
             [
              0.8888888888888888,
              "#fdca26"
             ],
             [
              1,
              "#f0f921"
             ]
            ],
            "type": "surface"
           }
          ],
          "table": [
           {
            "cells": {
             "fill": {
              "color": "#EBF0F8"
             },
             "line": {
              "color": "white"
             }
            },
            "header": {
             "fill": {
              "color": "#C8D4E3"
             },
             "line": {
              "color": "white"
             }
            },
            "type": "table"
           }
          ]
         },
         "layout": {
          "annotationdefaults": {
           "arrowcolor": "#2a3f5f",
           "arrowhead": 0,
           "arrowwidth": 1
          },
          "autotypenumbers": "strict",
          "coloraxis": {
           "colorbar": {
            "outlinewidth": 0,
            "ticks": ""
           }
          },
          "colorscale": {
           "diverging": [
            [
             0,
             "#8e0152"
            ],
            [
             0.1,
             "#c51b7d"
            ],
            [
             0.2,
             "#de77ae"
            ],
            [
             0.3,
             "#f1b6da"
            ],
            [
             0.4,
             "#fde0ef"
            ],
            [
             0.5,
             "#f7f7f7"
            ],
            [
             0.6,
             "#e6f5d0"
            ],
            [
             0.7,
             "#b8e186"
            ],
            [
             0.8,
             "#7fbc41"
            ],
            [
             0.9,
             "#4d9221"
            ],
            [
             1,
             "#276419"
            ]
           ],
           "sequential": [
            [
             0,
             "#0d0887"
            ],
            [
             0.1111111111111111,
             "#46039f"
            ],
            [
             0.2222222222222222,
             "#7201a8"
            ],
            [
             0.3333333333333333,
             "#9c179e"
            ],
            [
             0.4444444444444444,
             "#bd3786"
            ],
            [
             0.5555555555555556,
             "#d8576b"
            ],
            [
             0.6666666666666666,
             "#ed7953"
            ],
            [
             0.7777777777777778,
             "#fb9f3a"
            ],
            [
             0.8888888888888888,
             "#fdca26"
            ],
            [
             1,
             "#f0f921"
            ]
           ],
           "sequentialminus": [
            [
             0,
             "#0d0887"
            ],
            [
             0.1111111111111111,
             "#46039f"
            ],
            [
             0.2222222222222222,
             "#7201a8"
            ],
            [
             0.3333333333333333,
             "#9c179e"
            ],
            [
             0.4444444444444444,
             "#bd3786"
            ],
            [
             0.5555555555555556,
             "#d8576b"
            ],
            [
             0.6666666666666666,
             "#ed7953"
            ],
            [
             0.7777777777777778,
             "#fb9f3a"
            ],
            [
             0.8888888888888888,
             "#fdca26"
            ],
            [
             1,
             "#f0f921"
            ]
           ]
          },
          "colorway": [
           "#636efa",
           "#EF553B",
           "#00cc96",
           "#ab63fa",
           "#FFA15A",
           "#19d3f3",
           "#FF6692",
           "#B6E880",
           "#FF97FF",
           "#FECB52"
          ],
          "font": {
           "color": "#2a3f5f"
          },
          "geo": {
           "bgcolor": "white",
           "lakecolor": "white",
           "landcolor": "#E5ECF6",
           "showlakes": true,
           "showland": true,
           "subunitcolor": "white"
          },
          "hoverlabel": {
           "align": "left"
          },
          "hovermode": "closest",
          "mapbox": {
           "style": "light"
          },
          "paper_bgcolor": "white",
          "plot_bgcolor": "#E5ECF6",
          "polar": {
           "angularaxis": {
            "gridcolor": "white",
            "linecolor": "white",
            "ticks": ""
           },
           "bgcolor": "#E5ECF6",
           "radialaxis": {
            "gridcolor": "white",
            "linecolor": "white",
            "ticks": ""
           }
          },
          "scene": {
           "xaxis": {
            "backgroundcolor": "#E5ECF6",
            "gridcolor": "white",
            "gridwidth": 2,
            "linecolor": "white",
            "showbackground": true,
            "ticks": "",
            "zerolinecolor": "white"
           },
           "yaxis": {
            "backgroundcolor": "#E5ECF6",
            "gridcolor": "white",
            "gridwidth": 2,
            "linecolor": "white",
            "showbackground": true,
            "ticks": "",
            "zerolinecolor": "white"
           },
           "zaxis": {
            "backgroundcolor": "#E5ECF6",
            "gridcolor": "white",
            "gridwidth": 2,
            "linecolor": "white",
            "showbackground": true,
            "ticks": "",
            "zerolinecolor": "white"
           }
          },
          "shapedefaults": {
           "line": {
            "color": "#2a3f5f"
           }
          },
          "ternary": {
           "aaxis": {
            "gridcolor": "white",
            "linecolor": "white",
            "ticks": ""
           },
           "baxis": {
            "gridcolor": "white",
            "linecolor": "white",
            "ticks": ""
           },
           "bgcolor": "#E5ECF6",
           "caxis": {
            "gridcolor": "white",
            "linecolor": "white",
            "ticks": ""
           }
          },
          "title": {
           "x": 0.05
          },
          "xaxis": {
           "automargin": true,
           "gridcolor": "white",
           "linecolor": "white",
           "ticks": "",
           "title": {
            "standoff": 15
           },
           "zerolinecolor": "white",
           "zerolinewidth": 2
          },
          "yaxis": {
           "automargin": true,
           "gridcolor": "white",
           "linecolor": "white",
           "ticks": "",
           "title": {
            "standoff": 15
           },
           "zerolinecolor": "white",
           "zerolinewidth": 2
          }
         }
        },
        "xaxis": {
         "anchor": "y",
         "autorange": "reversed",
         "domain": [
          0,
          1
         ],
         "title": {
          "text": "date"
         }
        },
        "yaxis": {
         "anchor": "x",
         "domain": [
          0,
          1
         ],
         "title": {
          "text": "value"
         }
        }
       }
      },
      "text/html": [
       "<div>                            <div id=\"dd3ac3b5-11e4-43f9-b0a8-00decadffefc\" class=\"plotly-graph-div\" style=\"height:525px; width:100%;\"></div>            <script type=\"text/javascript\">                require([\"plotly\"], function(Plotly) {                    window.PLOTLYENV=window.PLOTLYENV || {};                                    if (document.getElementById(\"dd3ac3b5-11e4-43f9-b0a8-00decadffefc\")) {                    Plotly.newPlot(                        \"dd3ac3b5-11e4-43f9-b0a8-00decadffefc\",                        [{\"hovertemplate\":\"variable=upg<br>date=%{x}<br>value=%{y}<extra></extra>\",\"legendgroup\":\"upg\",\"line\":{\"color\":\"#636efa\",\"dash\":\"solid\"},\"marker\":{\"symbol\":\"circle\"},\"mode\":\"lines\",\"name\":\"upg\",\"orientation\":\"v\",\"showlegend\":true,\"type\":\"scatter\",\"x\":[\"2020\",\"2019\",\"2018\",\"2017\",\"2016\",\"2015\",\"2014\",\"2013\",\"2012\",\"2011\",\"2010\",\"2009\",\"2008\",\"2007\",\"2006\",\"2005\",\"2004\",\"2003\",\"2002\",\"2001\",\"2000\",\"1999\",\"1998\",\"1997\",\"1996\",\"1995\",\"1994\",\"1993\",\"1992\",\"1991\",\"1990\",\"1989\",\"1988\",\"1987\",\"1986\",\"1985\",\"1984\",\"1983\",\"1982\",\"1981\",\"1980\",\"1979\",\"1978\",\"1977\",\"1976\",\"1975\",\"1974\",\"1973\",\"1972\",\"1971\",\"1970\",\"1969\",\"1968\",\"1967\",\"1966\",\"1965\",\"1964\",\"1963\",\"1962\",\"1961\",\"1960\"],\"xaxis\":\"x\",\"y\":[0.599210762260319,0.701867775195684,0.767437430461766,0.871785260117191,0.958268060593122,0.966674782180289,0.95943078191871,0.914510413562637,0.94956550837067,0.93950541093758,1.03534480069191,1.08529029428822,1.15618567133535,1.16306776101756,1.17796815968651,1.13588459113456,1.14388530085121,1.07836038438036,1.14841884658312,1.21338042170418,1.51201139138713,1.61295677155673,1.63762765741403,1.68197526681483,1.65278297800739,1.68646666337335,1.7309822295661,1.83118227604993,1.90863299657144,1.86738439894312,1.41025628541903,1.14036493918274,1.10701747375615,1.09324426439828,1.12532022077028,1.08769078654837,1.06778620152612,1.11945662708531,1.15881776860062,1.18733797133269,1.02199247812023,1.1171475381994,1.07178895113162,1.01934615261149,0.963796080842526,0.999564503181063,0.927239982306409,0.968058589105531,1.08410628926962,1.27927789350898,1.531151622153,1.46799272604928,1.49576263761729,1.59282042208749,1.66555870446276,1.76765328716456,1.91343710832917,1.97055936295003,2.07649430194512,2.20057087771013,null],\"yaxis\":\"y\"},{\"hovertemplate\":\"variable=rpg<br>date=%{x}<br>value=%{y}<extra></extra>\",\"legendgroup\":\"rpg\",\"line\":{\"color\":\"#EF553B\",\"dash\":\"solid\"},\"marker\":{\"symbol\":\"circle\"},\"mode\":\"lines\",\"name\":\"rpg\",\"orientation\":\"v\",\"showlegend\":true,\"type\":\"scatter\",\"x\":[\"2020\",\"2019\",\"2018\",\"2017\",\"2016\",\"2015\",\"2014\",\"2013\",\"2012\",\"2011\",\"2010\",\"2009\",\"2008\",\"2007\",\"2006\",\"2005\",\"2004\",\"2003\",\"2002\",\"2001\",\"2000\",\"1999\",\"1998\",\"1997\",\"1996\",\"1995\",\"1994\",\"1993\",\"1992\",\"1991\",\"1990\",\"1989\",\"1988\",\"1987\",\"1986\",\"1985\",\"1984\",\"1983\",\"1982\",\"1981\",\"1980\",\"1979\",\"1978\",\"1977\",\"1976\",\"1975\",\"1974\",\"1973\",\"1972\",\"1971\",\"1970\",\"1969\",\"1968\",\"1967\",\"1966\",\"1965\",\"1964\",\"1963\",\"1962\",\"1961\",\"1960\"],\"xaxis\":\"x\",\"y\":[-0.824661438105005,-0.695262032744607,-0.58325455730801,-0.453841679756109,-0.322855438046257,-0.284256234098651,-0.255415159548918,-0.265051290084759,-0.188989154899031,-0.17176717755585,-0.0300018427486857,0.0141332145804876,0.0856572616332229,0.0931570901609545,0.108670280303657,0.0733898148736528,0.0695993923250513,0.010863083289361,0.0815023117954436,0.140997827475435,-0.380113564334052,-0.554086373778248,-0.526404231035566,-0.473417401349692,-0.517077662960284,-0.474899093415709,-0.433368846491766,-0.330624269008791,-0.256236999797331,-0.300544208104832,0.279027731366681,0.356039611103647,0.315139141363312,0.304464142782628,0.334331075505947,0.299753937179451,0.282860476837012,0.327097084926625,0.369463154438247,0.400952470198684,0.784584960237542,1.065572372745,1.02538047607355,0.967796112834577,0.912258490743726,0.9480373479402,0.875727250645759,0.916557524902912,1.03261839221807,1.22265498245156,0.151142360094357,-0.360009209533016,-0.332098518017465,-0.235016470709165,-0.162375692830794,-0.0604996895264814,0.0849371791731306,0.141586212319302,0.246910823324667,0.379767922918795,null],\"yaxis\":\"y\"}],                        {\"legend\":{\"title\":{\"text\":\"variable\"},\"tracegroupgap\":0},\"margin\":{\"t\":60},\"template\":{\"data\":{\"bar\":[{\"error_x\":{\"color\":\"#2a3f5f\"},\"error_y\":{\"color\":\"#2a3f5f\"},\"marker\":{\"line\":{\"color\":\"#E5ECF6\",\"width\":0.5},\"pattern\":{\"fillmode\":\"overlay\",\"size\":10,\"solidity\":0.2}},\"type\":\"bar\"}],\"barpolar\":[{\"marker\":{\"line\":{\"color\":\"#E5ECF6\",\"width\":0.5},\"pattern\":{\"fillmode\":\"overlay\",\"size\":10,\"solidity\":0.2}},\"type\":\"barpolar\"}],\"carpet\":[{\"aaxis\":{\"endlinecolor\":\"#2a3f5f\",\"gridcolor\":\"white\",\"linecolor\":\"white\",\"minorgridcolor\":\"white\",\"startlinecolor\":\"#2a3f5f\"},\"baxis\":{\"endlinecolor\":\"#2a3f5f\",\"gridcolor\":\"white\",\"linecolor\":\"white\",\"minorgridcolor\":\"white\",\"startlinecolor\":\"#2a3f5f\"},\"type\":\"carpet\"}],\"choropleth\":[{\"colorbar\":{\"outlinewidth\":0,\"ticks\":\"\"},\"type\":\"choropleth\"}],\"contour\":[{\"colorbar\":{\"outlinewidth\":0,\"ticks\":\"\"},\"colorscale\":[[0.0,\"#0d0887\"],[0.1111111111111111,\"#46039f\"],[0.2222222222222222,\"#7201a8\"],[0.3333333333333333,\"#9c179e\"],[0.4444444444444444,\"#bd3786\"],[0.5555555555555556,\"#d8576b\"],[0.6666666666666666,\"#ed7953\"],[0.7777777777777778,\"#fb9f3a\"],[0.8888888888888888,\"#fdca26\"],[1.0,\"#f0f921\"]],\"type\":\"contour\"}],\"contourcarpet\":[{\"colorbar\":{\"outlinewidth\":0,\"ticks\":\"\"},\"type\":\"contourcarpet\"}],\"heatmap\":[{\"colorbar\":{\"outlinewidth\":0,\"ticks\":\"\"},\"colorscale\":[[0.0,\"#0d0887\"],[0.1111111111111111,\"#46039f\"],[0.2222222222222222,\"#7201a8\"],[0.3333333333333333,\"#9c179e\"],[0.4444444444444444,\"#bd3786\"],[0.5555555555555556,\"#d8576b\"],[0.6666666666666666,\"#ed7953\"],[0.7777777777777778,\"#fb9f3a\"],[0.8888888888888888,\"#fdca26\"],[1.0,\"#f0f921\"]],\"type\":\"heatmap\"}],\"heatmapgl\":[{\"colorbar\":{\"outlinewidth\":0,\"ticks\":\"\"},\"colorscale\":[[0.0,\"#0d0887\"],[0.1111111111111111,\"#46039f\"],[0.2222222222222222,\"#7201a8\"],[0.3333333333333333,\"#9c179e\"],[0.4444444444444444,\"#bd3786\"],[0.5555555555555556,\"#d8576b\"],[0.6666666666666666,\"#ed7953\"],[0.7777777777777778,\"#fb9f3a\"],[0.8888888888888888,\"#fdca26\"],[1.0,\"#f0f921\"]],\"type\":\"heatmapgl\"}],\"histogram\":[{\"marker\":{\"pattern\":{\"fillmode\":\"overlay\",\"size\":10,\"solidity\":0.2}},\"type\":\"histogram\"}],\"histogram2d\":[{\"colorbar\":{\"outlinewidth\":0,\"ticks\":\"\"},\"colorscale\":[[0.0,\"#0d0887\"],[0.1111111111111111,\"#46039f\"],[0.2222222222222222,\"#7201a8\"],[0.3333333333333333,\"#9c179e\"],[0.4444444444444444,\"#bd3786\"],[0.5555555555555556,\"#d8576b\"],[0.6666666666666666,\"#ed7953\"],[0.7777777777777778,\"#fb9f3a\"],[0.8888888888888888,\"#fdca26\"],[1.0,\"#f0f921\"]],\"type\":\"histogram2d\"}],\"histogram2dcontour\":[{\"colorbar\":{\"outlinewidth\":0,\"ticks\":\"\"},\"colorscale\":[[0.0,\"#0d0887\"],[0.1111111111111111,\"#46039f\"],[0.2222222222222222,\"#7201a8\"],[0.3333333333333333,\"#9c179e\"],[0.4444444444444444,\"#bd3786\"],[0.5555555555555556,\"#d8576b\"],[0.6666666666666666,\"#ed7953\"],[0.7777777777777778,\"#fb9f3a\"],[0.8888888888888888,\"#fdca26\"],[1.0,\"#f0f921\"]],\"type\":\"histogram2dcontour\"}],\"mesh3d\":[{\"colorbar\":{\"outlinewidth\":0,\"ticks\":\"\"},\"type\":\"mesh3d\"}],\"parcoords\":[{\"line\":{\"colorbar\":{\"outlinewidth\":0,\"ticks\":\"\"}},\"type\":\"parcoords\"}],\"pie\":[{\"automargin\":true,\"type\":\"pie\"}],\"scatter\":[{\"marker\":{\"colorbar\":{\"outlinewidth\":0,\"ticks\":\"\"}},\"type\":\"scatter\"}],\"scatter3d\":[{\"line\":{\"colorbar\":{\"outlinewidth\":0,\"ticks\":\"\"}},\"marker\":{\"colorbar\":{\"outlinewidth\":0,\"ticks\":\"\"}},\"type\":\"scatter3d\"}],\"scattercarpet\":[{\"marker\":{\"colorbar\":{\"outlinewidth\":0,\"ticks\":\"\"}},\"type\":\"scattercarpet\"}],\"scattergeo\":[{\"marker\":{\"colorbar\":{\"outlinewidth\":0,\"ticks\":\"\"}},\"type\":\"scattergeo\"}],\"scattergl\":[{\"marker\":{\"colorbar\":{\"outlinewidth\":0,\"ticks\":\"\"}},\"type\":\"scattergl\"}],\"scattermapbox\":[{\"marker\":{\"colorbar\":{\"outlinewidth\":0,\"ticks\":\"\"}},\"type\":\"scattermapbox\"}],\"scatterpolar\":[{\"marker\":{\"colorbar\":{\"outlinewidth\":0,\"ticks\":\"\"}},\"type\":\"scatterpolar\"}],\"scatterpolargl\":[{\"marker\":{\"colorbar\":{\"outlinewidth\":0,\"ticks\":\"\"}},\"type\":\"scatterpolargl\"}],\"scatterternary\":[{\"marker\":{\"colorbar\":{\"outlinewidth\":0,\"ticks\":\"\"}},\"type\":\"scatterternary\"}],\"surface\":[{\"colorbar\":{\"outlinewidth\":0,\"ticks\":\"\"},\"colorscale\":[[0.0,\"#0d0887\"],[0.1111111111111111,\"#46039f\"],[0.2222222222222222,\"#7201a8\"],[0.3333333333333333,\"#9c179e\"],[0.4444444444444444,\"#bd3786\"],[0.5555555555555556,\"#d8576b\"],[0.6666666666666666,\"#ed7953\"],[0.7777777777777778,\"#fb9f3a\"],[0.8888888888888888,\"#fdca26\"],[1.0,\"#f0f921\"]],\"type\":\"surface\"}],\"table\":[{\"cells\":{\"fill\":{\"color\":\"#EBF0F8\"},\"line\":{\"color\":\"white\"}},\"header\":{\"fill\":{\"color\":\"#C8D4E3\"},\"line\":{\"color\":\"white\"}},\"type\":\"table\"}]},\"layout\":{\"annotationdefaults\":{\"arrowcolor\":\"#2a3f5f\",\"arrowhead\":0,\"arrowwidth\":1},\"autotypenumbers\":\"strict\",\"coloraxis\":{\"colorbar\":{\"outlinewidth\":0,\"ticks\":\"\"}},\"colorscale\":{\"diverging\":[[0,\"#8e0152\"],[0.1,\"#c51b7d\"],[0.2,\"#de77ae\"],[0.3,\"#f1b6da\"],[0.4,\"#fde0ef\"],[0.5,\"#f7f7f7\"],[0.6,\"#e6f5d0\"],[0.7,\"#b8e186\"],[0.8,\"#7fbc41\"],[0.9,\"#4d9221\"],[1,\"#276419\"]],\"sequential\":[[0.0,\"#0d0887\"],[0.1111111111111111,\"#46039f\"],[0.2222222222222222,\"#7201a8\"],[0.3333333333333333,\"#9c179e\"],[0.4444444444444444,\"#bd3786\"],[0.5555555555555556,\"#d8576b\"],[0.6666666666666666,\"#ed7953\"],[0.7777777777777778,\"#fb9f3a\"],[0.8888888888888888,\"#fdca26\"],[1.0,\"#f0f921\"]],\"sequentialminus\":[[0.0,\"#0d0887\"],[0.1111111111111111,\"#46039f\"],[0.2222222222222222,\"#7201a8\"],[0.3333333333333333,\"#9c179e\"],[0.4444444444444444,\"#bd3786\"],[0.5555555555555556,\"#d8576b\"],[0.6666666666666666,\"#ed7953\"],[0.7777777777777778,\"#fb9f3a\"],[0.8888888888888888,\"#fdca26\"],[1.0,\"#f0f921\"]]},\"colorway\":[\"#636efa\",\"#EF553B\",\"#00cc96\",\"#ab63fa\",\"#FFA15A\",\"#19d3f3\",\"#FF6692\",\"#B6E880\",\"#FF97FF\",\"#FECB52\"],\"font\":{\"color\":\"#2a3f5f\"},\"geo\":{\"bgcolor\":\"white\",\"lakecolor\":\"white\",\"landcolor\":\"#E5ECF6\",\"showlakes\":true,\"showland\":true,\"subunitcolor\":\"white\"},\"hoverlabel\":{\"align\":\"left\"},\"hovermode\":\"closest\",\"mapbox\":{\"style\":\"light\"},\"paper_bgcolor\":\"white\",\"plot_bgcolor\":\"#E5ECF6\",\"polar\":{\"angularaxis\":{\"gridcolor\":\"white\",\"linecolor\":\"white\",\"ticks\":\"\"},\"bgcolor\":\"#E5ECF6\",\"radialaxis\":{\"gridcolor\":\"white\",\"linecolor\":\"white\",\"ticks\":\"\"}},\"scene\":{\"xaxis\":{\"backgroundcolor\":\"#E5ECF6\",\"gridcolor\":\"white\",\"gridwidth\":2,\"linecolor\":\"white\",\"showbackground\":true,\"ticks\":\"\",\"zerolinecolor\":\"white\"},\"yaxis\":{\"backgroundcolor\":\"#E5ECF6\",\"gridcolor\":\"white\",\"gridwidth\":2,\"linecolor\":\"white\",\"showbackground\":true,\"ticks\":\"\",\"zerolinecolor\":\"white\"},\"zaxis\":{\"backgroundcolor\":\"#E5ECF6\",\"gridcolor\":\"white\",\"gridwidth\":2,\"linecolor\":\"white\",\"showbackground\":true,\"ticks\":\"\",\"zerolinecolor\":\"white\"}},\"shapedefaults\":{\"line\":{\"color\":\"#2a3f5f\"}},\"ternary\":{\"aaxis\":{\"gridcolor\":\"white\",\"linecolor\":\"white\",\"ticks\":\"\"},\"baxis\":{\"gridcolor\":\"white\",\"linecolor\":\"white\",\"ticks\":\"\"},\"bgcolor\":\"#E5ECF6\",\"caxis\":{\"gridcolor\":\"white\",\"linecolor\":\"white\",\"ticks\":\"\"}},\"title\":{\"x\":0.05},\"xaxis\":{\"automargin\":true,\"gridcolor\":\"white\",\"linecolor\":\"white\",\"ticks\":\"\",\"title\":{\"standoff\":15},\"zerolinecolor\":\"white\",\"zerolinewidth\":2},\"yaxis\":{\"automargin\":true,\"gridcolor\":\"white\",\"linecolor\":\"white\",\"ticks\":\"\",\"title\":{\"standoff\":15},\"zerolinecolor\":\"white\",\"zerolinewidth\":2}}},\"xaxis\":{\"anchor\":\"y\",\"autorange\":\"reversed\",\"domain\":[0.0,1.0],\"title\":{\"text\":\"date\"}},\"yaxis\":{\"anchor\":\"x\",\"domain\":[0.0,1.0],\"title\":{\"text\":\"value\"}}},                        {\"responsive\": true}                    ).then(function(){\n",
       "                            \n",
       "var gd = document.getElementById('dd3ac3b5-11e4-43f9-b0a8-00decadffefc');\n",
       "var x = new MutationObserver(function (mutations, observer) {{\n",
       "        var display = window.getComputedStyle(gd).display;\n",
       "        if (!display || display === 'none') {{\n",
       "            console.log([gd, 'removed!']);\n",
       "            Plotly.purge(gd);\n",
       "            observer.disconnect();\n",
       "        }}\n",
       "}});\n",
       "\n",
       "// Listen for the removal of the full notebook cells\n",
       "var notebookContainer = gd.closest('#notebook-container');\n",
       "if (notebookContainer) {{\n",
       "    x.observe(notebookContainer, {childList: true});\n",
       "}}\n",
       "\n",
       "// Listen for the clearing of the current output cell\n",
       "var outputEl = gd.closest('.output');\n",
       "if (outputEl) {{\n",
       "    x.observe(outputEl, {childList: true});\n",
       "}}\n",
       "\n",
       "                        })                };                });            </script>        </div>"
      ]
     },
     "metadata": {},
     "output_type": "display_data"
    }
   ],
   "source": [
    "fig = px.line(usa_pop_grow, x=usa_pop_grow.index, y=['upg', 'rpg'])\n",
    "fig['layout']['xaxis']['autorange'] = \"reversed\"\n",
    "fig.show()"
   ]
  },
  {
   "cell_type": "markdown",
   "id": "5cd189b8",
   "metadata": {},
   "source": [
    "Growth rates are almost the same between 1971-1979. What might be the cause?\n",
    "Mirroring each other in the opposite directions between 1980 and 2000.\n",
    "Why do they both fall between 2016 and 2020?\n",
    "However, this visualization might be misleading because as we see below, the urban population remains relatively steady at around 50 M. "
   ]
  },
  {
   "cell_type": "code",
   "execution_count": 34,
   "id": "21837b03",
   "metadata": {},
   "outputs": [],
   "source": [
    "# Give variable for clarity\n",
    "variable_labels = {'SP.URB.TOTL' : 'urban pop', 'SP.RUR.TOTL': 'rural pop'}\n",
    "\n",
    "world_pop_urban_rural = wbdata.get_dataframe(variable_labels, country=\"WLD\")\n",
    "usa_pop_urban_rural = wbdata.get_dataframe(variable_labels, country='USA')\n",
    "# Date index is of type string; change to integers\n",
    "# nzl_gdp.index = world.index.astype(int)\n",
    "# usa_gdp.index = world.index.astype(int)"
   ]
  },
  {
   "cell_type": "code",
   "execution_count": 35,
   "id": "e2a4f31a",
   "metadata": {},
   "outputs": [
    {
     "data": {
      "application/vnd.plotly.v1+json": {
       "config": {
        "plotlyServerURL": "https://plot.ly"
       },
       "data": [
        {
         "hovertemplate": "variable=urban pop<br>date=%{x}<br>value=%{y}<extra></extra>",
         "legendgroup": "urban pop",
         "line": {
          "color": "#636efa",
          "dash": "solid"
         },
         "marker": {
          "symbol": "circle"
         },
         "mode": "lines",
         "name": "urban pop",
         "orientation": "v",
         "showlegend": true,
         "type": "scatter",
         "x": [
          "2020",
          "2019",
          "2018",
          "2017",
          "2016",
          "2015",
          "2014",
          "2013",
          "2012",
          "2011",
          "2010",
          "2009",
          "2008",
          "2007",
          "2006",
          "2005",
          "2004",
          "2003",
          "2002",
          "2001",
          "2000",
          "1999",
          "1998",
          "1997",
          "1996",
          "1995",
          "1994",
          "1993",
          "1992",
          "1991",
          "1990",
          "1989",
          "1988",
          "1987",
          "1986",
          "1985",
          "1984",
          "1983",
          "1982",
          "1981",
          "1980",
          "1979",
          "1978",
          "1977",
          "1976",
          "1975",
          "1974",
          "1973",
          "1972",
          "1971",
          "1970",
          "1969",
          "1968",
          "1967",
          "1966",
          "1965",
          "1964",
          "1963",
          "1962",
          "1961",
          "1960"
         ],
         "xaxis": "x",
         "y": [
          272364755,
          270737596,
          268844029,
          266788716,
          264473000,
          261950744,
          259430732,
          256953576,
          254614421,
          252208133,
          249849720,
          247276259,
          244607104,
          241795278,
          238999326,
          236200507,
          233532722,
          230876596,
          228400290,
          225792302,
          223069137,
          219721677,
          216206090,
          212694273,
          209146726,
          205718394,
          202278113,
          198806845,
          195199459,
          191509147,
          187966119,
          185333919,
          183232441,
          181215212,
          179244877,
          177239105,
          175321738,
          173459636,
          171528659,
          169552427,
          167551171,
          165847531,
          164005080,
          162256678,
          160611122,
          159070594,
          157488501,
          156034954,
          154531732,
          152865492,
          150922373,
          148629124,
          146463196,
          144288757,
          142008703,
          139663053,
          137215986,
          134615404,
          131988693,
          129276215,
          126462473
         ],
         "yaxis": "y"
        },
        {
         "hovertemplate": "variable=rural pop<br>date=%{x}<br>value=%{y}<extra></extra>",
         "legendgroup": "rural pop",
         "line": {
          "color": "#EF553B",
          "dash": "solid"
         },
         "marker": {
          "symbol": "circle"
         },
         "mode": "lines",
         "name": "rural pop",
         "orientation": "v",
         "showlegend": true,
         "type": "scatter",
         "x": [
          "2020",
          "2019",
          "2018",
          "2017",
          "2016",
          "2015",
          "2014",
          "2013",
          "2012",
          "2011",
          "2010",
          "2009",
          "2008",
          "2007",
          "2006",
          "2005",
          "2004",
          "2003",
          "2002",
          "2001",
          "2000",
          "1999",
          "1998",
          "1997",
          "1996",
          "1995",
          "1994",
          "1993",
          "1992",
          "1991",
          "1990",
          "1989",
          "1988",
          "1987",
          "1986",
          "1985",
          "1984",
          "1983",
          "1982",
          "1981",
          "1980",
          "1979",
          "1978",
          "1977",
          "1976",
          "1975",
          "1974",
          "1973",
          "1972",
          "1971",
          "1970",
          "1969",
          "1968",
          "1967",
          "1966",
          "1965",
          "1964",
          "1963",
          "1962",
          "1961",
          "1960"
         ],
         "xaxis": "x",
         "y": [
          57119368,
          57592357,
          57994170,
          58333412,
          58598755,
          58788250,
          58955597,
          59106371,
          59263241,
          59375348,
          59477423,
          59495270,
          59486862,
          59435929,
          59380586,
          59316092,
          59272576,
          59231337,
          59224903,
          59176653,
          59093274,
          59318323,
          59647910,
          59962727,
          60247274,
          60559606,
          60847887,
          61112155,
          61314541,
          61471853,
          61656881,
          61485081,
          61266559,
          61073788,
          60888123,
          60684895,
          60503262,
          60332364,
          60135341,
          59913573,
          59673829,
          59207469,
          58579920,
          57982322,
          57423878,
          56902406,
          56365499,
          55874046,
          55364268,
          54795508,
          54129627,
          54047876,
          54242804,
          54423243,
          54551297,
          54639947,
          54673014,
          54626596,
          54549307,
          54414785,
          54208527
         ],
         "yaxis": "y"
        }
       ],
       "layout": {
        "legend": {
         "title": {
          "text": "variable"
         },
         "tracegroupgap": 0
        },
        "margin": {
         "t": 60
        },
        "template": {
         "data": {
          "bar": [
           {
            "error_x": {
             "color": "#2a3f5f"
            },
            "error_y": {
             "color": "#2a3f5f"
            },
            "marker": {
             "line": {
              "color": "#E5ECF6",
              "width": 0.5
             },
             "pattern": {
              "fillmode": "overlay",
              "size": 10,
              "solidity": 0.2
             }
            },
            "type": "bar"
           }
          ],
          "barpolar": [
           {
            "marker": {
             "line": {
              "color": "#E5ECF6",
              "width": 0.5
             },
             "pattern": {
              "fillmode": "overlay",
              "size": 10,
              "solidity": 0.2
             }
            },
            "type": "barpolar"
           }
          ],
          "carpet": [
           {
            "aaxis": {
             "endlinecolor": "#2a3f5f",
             "gridcolor": "white",
             "linecolor": "white",
             "minorgridcolor": "white",
             "startlinecolor": "#2a3f5f"
            },
            "baxis": {
             "endlinecolor": "#2a3f5f",
             "gridcolor": "white",
             "linecolor": "white",
             "minorgridcolor": "white",
             "startlinecolor": "#2a3f5f"
            },
            "type": "carpet"
           }
          ],
          "choropleth": [
           {
            "colorbar": {
             "outlinewidth": 0,
             "ticks": ""
            },
            "type": "choropleth"
           }
          ],
          "contour": [
           {
            "colorbar": {
             "outlinewidth": 0,
             "ticks": ""
            },
            "colorscale": [
             [
              0,
              "#0d0887"
             ],
             [
              0.1111111111111111,
              "#46039f"
             ],
             [
              0.2222222222222222,
              "#7201a8"
             ],
             [
              0.3333333333333333,
              "#9c179e"
             ],
             [
              0.4444444444444444,
              "#bd3786"
             ],
             [
              0.5555555555555556,
              "#d8576b"
             ],
             [
              0.6666666666666666,
              "#ed7953"
             ],
             [
              0.7777777777777778,
              "#fb9f3a"
             ],
             [
              0.8888888888888888,
              "#fdca26"
             ],
             [
              1,
              "#f0f921"
             ]
            ],
            "type": "contour"
           }
          ],
          "contourcarpet": [
           {
            "colorbar": {
             "outlinewidth": 0,
             "ticks": ""
            },
            "type": "contourcarpet"
           }
          ],
          "heatmap": [
           {
            "colorbar": {
             "outlinewidth": 0,
             "ticks": ""
            },
            "colorscale": [
             [
              0,
              "#0d0887"
             ],
             [
              0.1111111111111111,
              "#46039f"
             ],
             [
              0.2222222222222222,
              "#7201a8"
             ],
             [
              0.3333333333333333,
              "#9c179e"
             ],
             [
              0.4444444444444444,
              "#bd3786"
             ],
             [
              0.5555555555555556,
              "#d8576b"
             ],
             [
              0.6666666666666666,
              "#ed7953"
             ],
             [
              0.7777777777777778,
              "#fb9f3a"
             ],
             [
              0.8888888888888888,
              "#fdca26"
             ],
             [
              1,
              "#f0f921"
             ]
            ],
            "type": "heatmap"
           }
          ],
          "heatmapgl": [
           {
            "colorbar": {
             "outlinewidth": 0,
             "ticks": ""
            },
            "colorscale": [
             [
              0,
              "#0d0887"
             ],
             [
              0.1111111111111111,
              "#46039f"
             ],
             [
              0.2222222222222222,
              "#7201a8"
             ],
             [
              0.3333333333333333,
              "#9c179e"
             ],
             [
              0.4444444444444444,
              "#bd3786"
             ],
             [
              0.5555555555555556,
              "#d8576b"
             ],
             [
              0.6666666666666666,
              "#ed7953"
             ],
             [
              0.7777777777777778,
              "#fb9f3a"
             ],
             [
              0.8888888888888888,
              "#fdca26"
             ],
             [
              1,
              "#f0f921"
             ]
            ],
            "type": "heatmapgl"
           }
          ],
          "histogram": [
           {
            "marker": {
             "pattern": {
              "fillmode": "overlay",
              "size": 10,
              "solidity": 0.2
             }
            },
            "type": "histogram"
           }
          ],
          "histogram2d": [
           {
            "colorbar": {
             "outlinewidth": 0,
             "ticks": ""
            },
            "colorscale": [
             [
              0,
              "#0d0887"
             ],
             [
              0.1111111111111111,
              "#46039f"
             ],
             [
              0.2222222222222222,
              "#7201a8"
             ],
             [
              0.3333333333333333,
              "#9c179e"
             ],
             [
              0.4444444444444444,
              "#bd3786"
             ],
             [
              0.5555555555555556,
              "#d8576b"
             ],
             [
              0.6666666666666666,
              "#ed7953"
             ],
             [
              0.7777777777777778,
              "#fb9f3a"
             ],
             [
              0.8888888888888888,
              "#fdca26"
             ],
             [
              1,
              "#f0f921"
             ]
            ],
            "type": "histogram2d"
           }
          ],
          "histogram2dcontour": [
           {
            "colorbar": {
             "outlinewidth": 0,
             "ticks": ""
            },
            "colorscale": [
             [
              0,
              "#0d0887"
             ],
             [
              0.1111111111111111,
              "#46039f"
             ],
             [
              0.2222222222222222,
              "#7201a8"
             ],
             [
              0.3333333333333333,
              "#9c179e"
             ],
             [
              0.4444444444444444,
              "#bd3786"
             ],
             [
              0.5555555555555556,
              "#d8576b"
             ],
             [
              0.6666666666666666,
              "#ed7953"
             ],
             [
              0.7777777777777778,
              "#fb9f3a"
             ],
             [
              0.8888888888888888,
              "#fdca26"
             ],
             [
              1,
              "#f0f921"
             ]
            ],
            "type": "histogram2dcontour"
           }
          ],
          "mesh3d": [
           {
            "colorbar": {
             "outlinewidth": 0,
             "ticks": ""
            },
            "type": "mesh3d"
           }
          ],
          "parcoords": [
           {
            "line": {
             "colorbar": {
              "outlinewidth": 0,
              "ticks": ""
             }
            },
            "type": "parcoords"
           }
          ],
          "pie": [
           {
            "automargin": true,
            "type": "pie"
           }
          ],
          "scatter": [
           {
            "marker": {
             "colorbar": {
              "outlinewidth": 0,
              "ticks": ""
             }
            },
            "type": "scatter"
           }
          ],
          "scatter3d": [
           {
            "line": {
             "colorbar": {
              "outlinewidth": 0,
              "ticks": ""
             }
            },
            "marker": {
             "colorbar": {
              "outlinewidth": 0,
              "ticks": ""
             }
            },
            "type": "scatter3d"
           }
          ],
          "scattercarpet": [
           {
            "marker": {
             "colorbar": {
              "outlinewidth": 0,
              "ticks": ""
             }
            },
            "type": "scattercarpet"
           }
          ],
          "scattergeo": [
           {
            "marker": {
             "colorbar": {
              "outlinewidth": 0,
              "ticks": ""
             }
            },
            "type": "scattergeo"
           }
          ],
          "scattergl": [
           {
            "marker": {
             "colorbar": {
              "outlinewidth": 0,
              "ticks": ""
             }
            },
            "type": "scattergl"
           }
          ],
          "scattermapbox": [
           {
            "marker": {
             "colorbar": {
              "outlinewidth": 0,
              "ticks": ""
             }
            },
            "type": "scattermapbox"
           }
          ],
          "scatterpolar": [
           {
            "marker": {
             "colorbar": {
              "outlinewidth": 0,
              "ticks": ""
             }
            },
            "type": "scatterpolar"
           }
          ],
          "scatterpolargl": [
           {
            "marker": {
             "colorbar": {
              "outlinewidth": 0,
              "ticks": ""
             }
            },
            "type": "scatterpolargl"
           }
          ],
          "scatterternary": [
           {
            "marker": {
             "colorbar": {
              "outlinewidth": 0,
              "ticks": ""
             }
            },
            "type": "scatterternary"
           }
          ],
          "surface": [
           {
            "colorbar": {
             "outlinewidth": 0,
             "ticks": ""
            },
            "colorscale": [
             [
              0,
              "#0d0887"
             ],
             [
              0.1111111111111111,
              "#46039f"
             ],
             [
              0.2222222222222222,
              "#7201a8"
             ],
             [
              0.3333333333333333,
              "#9c179e"
             ],
             [
              0.4444444444444444,
              "#bd3786"
             ],
             [
              0.5555555555555556,
              "#d8576b"
             ],
             [
              0.6666666666666666,
              "#ed7953"
             ],
             [
              0.7777777777777778,
              "#fb9f3a"
             ],
             [
              0.8888888888888888,
              "#fdca26"
             ],
             [
              1,
              "#f0f921"
             ]
            ],
            "type": "surface"
           }
          ],
          "table": [
           {
            "cells": {
             "fill": {
              "color": "#EBF0F8"
             },
             "line": {
              "color": "white"
             }
            },
            "header": {
             "fill": {
              "color": "#C8D4E3"
             },
             "line": {
              "color": "white"
             }
            },
            "type": "table"
           }
          ]
         },
         "layout": {
          "annotationdefaults": {
           "arrowcolor": "#2a3f5f",
           "arrowhead": 0,
           "arrowwidth": 1
          },
          "autotypenumbers": "strict",
          "coloraxis": {
           "colorbar": {
            "outlinewidth": 0,
            "ticks": ""
           }
          },
          "colorscale": {
           "diverging": [
            [
             0,
             "#8e0152"
            ],
            [
             0.1,
             "#c51b7d"
            ],
            [
             0.2,
             "#de77ae"
            ],
            [
             0.3,
             "#f1b6da"
            ],
            [
             0.4,
             "#fde0ef"
            ],
            [
             0.5,
             "#f7f7f7"
            ],
            [
             0.6,
             "#e6f5d0"
            ],
            [
             0.7,
             "#b8e186"
            ],
            [
             0.8,
             "#7fbc41"
            ],
            [
             0.9,
             "#4d9221"
            ],
            [
             1,
             "#276419"
            ]
           ],
           "sequential": [
            [
             0,
             "#0d0887"
            ],
            [
             0.1111111111111111,
             "#46039f"
            ],
            [
             0.2222222222222222,
             "#7201a8"
            ],
            [
             0.3333333333333333,
             "#9c179e"
            ],
            [
             0.4444444444444444,
             "#bd3786"
            ],
            [
             0.5555555555555556,
             "#d8576b"
            ],
            [
             0.6666666666666666,
             "#ed7953"
            ],
            [
             0.7777777777777778,
             "#fb9f3a"
            ],
            [
             0.8888888888888888,
             "#fdca26"
            ],
            [
             1,
             "#f0f921"
            ]
           ],
           "sequentialminus": [
            [
             0,
             "#0d0887"
            ],
            [
             0.1111111111111111,
             "#46039f"
            ],
            [
             0.2222222222222222,
             "#7201a8"
            ],
            [
             0.3333333333333333,
             "#9c179e"
            ],
            [
             0.4444444444444444,
             "#bd3786"
            ],
            [
             0.5555555555555556,
             "#d8576b"
            ],
            [
             0.6666666666666666,
             "#ed7953"
            ],
            [
             0.7777777777777778,
             "#fb9f3a"
            ],
            [
             0.8888888888888888,
             "#fdca26"
            ],
            [
             1,
             "#f0f921"
            ]
           ]
          },
          "colorway": [
           "#636efa",
           "#EF553B",
           "#00cc96",
           "#ab63fa",
           "#FFA15A",
           "#19d3f3",
           "#FF6692",
           "#B6E880",
           "#FF97FF",
           "#FECB52"
          ],
          "font": {
           "color": "#2a3f5f"
          },
          "geo": {
           "bgcolor": "white",
           "lakecolor": "white",
           "landcolor": "#E5ECF6",
           "showlakes": true,
           "showland": true,
           "subunitcolor": "white"
          },
          "hoverlabel": {
           "align": "left"
          },
          "hovermode": "closest",
          "mapbox": {
           "style": "light"
          },
          "paper_bgcolor": "white",
          "plot_bgcolor": "#E5ECF6",
          "polar": {
           "angularaxis": {
            "gridcolor": "white",
            "linecolor": "white",
            "ticks": ""
           },
           "bgcolor": "#E5ECF6",
           "radialaxis": {
            "gridcolor": "white",
            "linecolor": "white",
            "ticks": ""
           }
          },
          "scene": {
           "xaxis": {
            "backgroundcolor": "#E5ECF6",
            "gridcolor": "white",
            "gridwidth": 2,
            "linecolor": "white",
            "showbackground": true,
            "ticks": "",
            "zerolinecolor": "white"
           },
           "yaxis": {
            "backgroundcolor": "#E5ECF6",
            "gridcolor": "white",
            "gridwidth": 2,
            "linecolor": "white",
            "showbackground": true,
            "ticks": "",
            "zerolinecolor": "white"
           },
           "zaxis": {
            "backgroundcolor": "#E5ECF6",
            "gridcolor": "white",
            "gridwidth": 2,
            "linecolor": "white",
            "showbackground": true,
            "ticks": "",
            "zerolinecolor": "white"
           }
          },
          "shapedefaults": {
           "line": {
            "color": "#2a3f5f"
           }
          },
          "ternary": {
           "aaxis": {
            "gridcolor": "white",
            "linecolor": "white",
            "ticks": ""
           },
           "baxis": {
            "gridcolor": "white",
            "linecolor": "white",
            "ticks": ""
           },
           "bgcolor": "#E5ECF6",
           "caxis": {
            "gridcolor": "white",
            "linecolor": "white",
            "ticks": ""
           }
          },
          "title": {
           "x": 0.05
          },
          "xaxis": {
           "automargin": true,
           "gridcolor": "white",
           "linecolor": "white",
           "ticks": "",
           "title": {
            "standoff": 15
           },
           "zerolinecolor": "white",
           "zerolinewidth": 2
          },
          "yaxis": {
           "automargin": true,
           "gridcolor": "white",
           "linecolor": "white",
           "ticks": "",
           "title": {
            "standoff": 15
           },
           "zerolinecolor": "white",
           "zerolinewidth": 2
          }
         }
        },
        "xaxis": {
         "anchor": "y",
         "autorange": "reversed",
         "domain": [
          0,
          1
         ],
         "title": {
          "text": "date"
         }
        },
        "yaxis": {
         "anchor": "x",
         "domain": [
          0,
          1
         ],
         "title": {
          "text": "value"
         }
        }
       }
      },
      "text/html": [
       "<div>                            <div id=\"4bb5b439-113d-4e4b-b3ce-1718ebb460f4\" class=\"plotly-graph-div\" style=\"height:525px; width:100%;\"></div>            <script type=\"text/javascript\">                require([\"plotly\"], function(Plotly) {                    window.PLOTLYENV=window.PLOTLYENV || {};                                    if (document.getElementById(\"4bb5b439-113d-4e4b-b3ce-1718ebb460f4\")) {                    Plotly.newPlot(                        \"4bb5b439-113d-4e4b-b3ce-1718ebb460f4\",                        [{\"hovertemplate\":\"variable=urban pop<br>date=%{x}<br>value=%{y}<extra></extra>\",\"legendgroup\":\"urban pop\",\"line\":{\"color\":\"#636efa\",\"dash\":\"solid\"},\"marker\":{\"symbol\":\"circle\"},\"mode\":\"lines\",\"name\":\"urban pop\",\"orientation\":\"v\",\"showlegend\":true,\"type\":\"scatter\",\"x\":[\"2020\",\"2019\",\"2018\",\"2017\",\"2016\",\"2015\",\"2014\",\"2013\",\"2012\",\"2011\",\"2010\",\"2009\",\"2008\",\"2007\",\"2006\",\"2005\",\"2004\",\"2003\",\"2002\",\"2001\",\"2000\",\"1999\",\"1998\",\"1997\",\"1996\",\"1995\",\"1994\",\"1993\",\"1992\",\"1991\",\"1990\",\"1989\",\"1988\",\"1987\",\"1986\",\"1985\",\"1984\",\"1983\",\"1982\",\"1981\",\"1980\",\"1979\",\"1978\",\"1977\",\"1976\",\"1975\",\"1974\",\"1973\",\"1972\",\"1971\",\"1970\",\"1969\",\"1968\",\"1967\",\"1966\",\"1965\",\"1964\",\"1963\",\"1962\",\"1961\",\"1960\"],\"xaxis\":\"x\",\"y\":[272364755.0,270737596.0,268844029.0,266788716.0,264473000.0,261950744.0,259430732.0,256953576.0,254614421.0,252208133.0,249849720.0,247276259.0,244607104.0,241795278.0,238999326.0,236200507.0,233532722.0,230876596.0,228400290.0,225792302.0,223069137.0,219721677.0,216206090.0,212694273.0,209146726.0,205718394.0,202278113.0,198806845.0,195199459.0,191509147.0,187966119.0,185333919.0,183232441.0,181215212.0,179244877.0,177239105.0,175321738.0,173459636.0,171528659.0,169552427.0,167551171.0,165847531.0,164005080.0,162256678.0,160611122.0,159070594.0,157488501.0,156034954.0,154531732.0,152865492.0,150922373.0,148629124.0,146463196.0,144288757.0,142008703.0,139663053.0,137215986.0,134615404.0,131988693.0,129276215.0,126462473.0],\"yaxis\":\"y\"},{\"hovertemplate\":\"variable=rural pop<br>date=%{x}<br>value=%{y}<extra></extra>\",\"legendgroup\":\"rural pop\",\"line\":{\"color\":\"#EF553B\",\"dash\":\"solid\"},\"marker\":{\"symbol\":\"circle\"},\"mode\":\"lines\",\"name\":\"rural pop\",\"orientation\":\"v\",\"showlegend\":true,\"type\":\"scatter\",\"x\":[\"2020\",\"2019\",\"2018\",\"2017\",\"2016\",\"2015\",\"2014\",\"2013\",\"2012\",\"2011\",\"2010\",\"2009\",\"2008\",\"2007\",\"2006\",\"2005\",\"2004\",\"2003\",\"2002\",\"2001\",\"2000\",\"1999\",\"1998\",\"1997\",\"1996\",\"1995\",\"1994\",\"1993\",\"1992\",\"1991\",\"1990\",\"1989\",\"1988\",\"1987\",\"1986\",\"1985\",\"1984\",\"1983\",\"1982\",\"1981\",\"1980\",\"1979\",\"1978\",\"1977\",\"1976\",\"1975\",\"1974\",\"1973\",\"1972\",\"1971\",\"1970\",\"1969\",\"1968\",\"1967\",\"1966\",\"1965\",\"1964\",\"1963\",\"1962\",\"1961\",\"1960\"],\"xaxis\":\"x\",\"y\":[57119368.0,57592357.0,57994170.0,58333412.0,58598755.0,58788250.0,58955597.0,59106371.0,59263241.0,59375348.0,59477423.0,59495270.0,59486862.0,59435929.0,59380586.0,59316092.0,59272576.0,59231337.0,59224903.0,59176653.0,59093274.0,59318323.0,59647910.0,59962727.0,60247274.0,60559606.0,60847887.0,61112155.0,61314541.0,61471853.0,61656881.0,61485081.0,61266559.0,61073788.0,60888123.0,60684895.0,60503262.0,60332364.0,60135341.0,59913573.0,59673829.0,59207469.0,58579920.0,57982322.0,57423878.0,56902406.0,56365499.0,55874046.0,55364268.0,54795508.0,54129627.0,54047876.0,54242804.0,54423243.0,54551297.0,54639947.0,54673014.0,54626596.0,54549307.0,54414785.0,54208527.0],\"yaxis\":\"y\"}],                        {\"legend\":{\"title\":{\"text\":\"variable\"},\"tracegroupgap\":0},\"margin\":{\"t\":60},\"template\":{\"data\":{\"bar\":[{\"error_x\":{\"color\":\"#2a3f5f\"},\"error_y\":{\"color\":\"#2a3f5f\"},\"marker\":{\"line\":{\"color\":\"#E5ECF6\",\"width\":0.5},\"pattern\":{\"fillmode\":\"overlay\",\"size\":10,\"solidity\":0.2}},\"type\":\"bar\"}],\"barpolar\":[{\"marker\":{\"line\":{\"color\":\"#E5ECF6\",\"width\":0.5},\"pattern\":{\"fillmode\":\"overlay\",\"size\":10,\"solidity\":0.2}},\"type\":\"barpolar\"}],\"carpet\":[{\"aaxis\":{\"endlinecolor\":\"#2a3f5f\",\"gridcolor\":\"white\",\"linecolor\":\"white\",\"minorgridcolor\":\"white\",\"startlinecolor\":\"#2a3f5f\"},\"baxis\":{\"endlinecolor\":\"#2a3f5f\",\"gridcolor\":\"white\",\"linecolor\":\"white\",\"minorgridcolor\":\"white\",\"startlinecolor\":\"#2a3f5f\"},\"type\":\"carpet\"}],\"choropleth\":[{\"colorbar\":{\"outlinewidth\":0,\"ticks\":\"\"},\"type\":\"choropleth\"}],\"contour\":[{\"colorbar\":{\"outlinewidth\":0,\"ticks\":\"\"},\"colorscale\":[[0.0,\"#0d0887\"],[0.1111111111111111,\"#46039f\"],[0.2222222222222222,\"#7201a8\"],[0.3333333333333333,\"#9c179e\"],[0.4444444444444444,\"#bd3786\"],[0.5555555555555556,\"#d8576b\"],[0.6666666666666666,\"#ed7953\"],[0.7777777777777778,\"#fb9f3a\"],[0.8888888888888888,\"#fdca26\"],[1.0,\"#f0f921\"]],\"type\":\"contour\"}],\"contourcarpet\":[{\"colorbar\":{\"outlinewidth\":0,\"ticks\":\"\"},\"type\":\"contourcarpet\"}],\"heatmap\":[{\"colorbar\":{\"outlinewidth\":0,\"ticks\":\"\"},\"colorscale\":[[0.0,\"#0d0887\"],[0.1111111111111111,\"#46039f\"],[0.2222222222222222,\"#7201a8\"],[0.3333333333333333,\"#9c179e\"],[0.4444444444444444,\"#bd3786\"],[0.5555555555555556,\"#d8576b\"],[0.6666666666666666,\"#ed7953\"],[0.7777777777777778,\"#fb9f3a\"],[0.8888888888888888,\"#fdca26\"],[1.0,\"#f0f921\"]],\"type\":\"heatmap\"}],\"heatmapgl\":[{\"colorbar\":{\"outlinewidth\":0,\"ticks\":\"\"},\"colorscale\":[[0.0,\"#0d0887\"],[0.1111111111111111,\"#46039f\"],[0.2222222222222222,\"#7201a8\"],[0.3333333333333333,\"#9c179e\"],[0.4444444444444444,\"#bd3786\"],[0.5555555555555556,\"#d8576b\"],[0.6666666666666666,\"#ed7953\"],[0.7777777777777778,\"#fb9f3a\"],[0.8888888888888888,\"#fdca26\"],[1.0,\"#f0f921\"]],\"type\":\"heatmapgl\"}],\"histogram\":[{\"marker\":{\"pattern\":{\"fillmode\":\"overlay\",\"size\":10,\"solidity\":0.2}},\"type\":\"histogram\"}],\"histogram2d\":[{\"colorbar\":{\"outlinewidth\":0,\"ticks\":\"\"},\"colorscale\":[[0.0,\"#0d0887\"],[0.1111111111111111,\"#46039f\"],[0.2222222222222222,\"#7201a8\"],[0.3333333333333333,\"#9c179e\"],[0.4444444444444444,\"#bd3786\"],[0.5555555555555556,\"#d8576b\"],[0.6666666666666666,\"#ed7953\"],[0.7777777777777778,\"#fb9f3a\"],[0.8888888888888888,\"#fdca26\"],[1.0,\"#f0f921\"]],\"type\":\"histogram2d\"}],\"histogram2dcontour\":[{\"colorbar\":{\"outlinewidth\":0,\"ticks\":\"\"},\"colorscale\":[[0.0,\"#0d0887\"],[0.1111111111111111,\"#46039f\"],[0.2222222222222222,\"#7201a8\"],[0.3333333333333333,\"#9c179e\"],[0.4444444444444444,\"#bd3786\"],[0.5555555555555556,\"#d8576b\"],[0.6666666666666666,\"#ed7953\"],[0.7777777777777778,\"#fb9f3a\"],[0.8888888888888888,\"#fdca26\"],[1.0,\"#f0f921\"]],\"type\":\"histogram2dcontour\"}],\"mesh3d\":[{\"colorbar\":{\"outlinewidth\":0,\"ticks\":\"\"},\"type\":\"mesh3d\"}],\"parcoords\":[{\"line\":{\"colorbar\":{\"outlinewidth\":0,\"ticks\":\"\"}},\"type\":\"parcoords\"}],\"pie\":[{\"automargin\":true,\"type\":\"pie\"}],\"scatter\":[{\"marker\":{\"colorbar\":{\"outlinewidth\":0,\"ticks\":\"\"}},\"type\":\"scatter\"}],\"scatter3d\":[{\"line\":{\"colorbar\":{\"outlinewidth\":0,\"ticks\":\"\"}},\"marker\":{\"colorbar\":{\"outlinewidth\":0,\"ticks\":\"\"}},\"type\":\"scatter3d\"}],\"scattercarpet\":[{\"marker\":{\"colorbar\":{\"outlinewidth\":0,\"ticks\":\"\"}},\"type\":\"scattercarpet\"}],\"scattergeo\":[{\"marker\":{\"colorbar\":{\"outlinewidth\":0,\"ticks\":\"\"}},\"type\":\"scattergeo\"}],\"scattergl\":[{\"marker\":{\"colorbar\":{\"outlinewidth\":0,\"ticks\":\"\"}},\"type\":\"scattergl\"}],\"scattermapbox\":[{\"marker\":{\"colorbar\":{\"outlinewidth\":0,\"ticks\":\"\"}},\"type\":\"scattermapbox\"}],\"scatterpolar\":[{\"marker\":{\"colorbar\":{\"outlinewidth\":0,\"ticks\":\"\"}},\"type\":\"scatterpolar\"}],\"scatterpolargl\":[{\"marker\":{\"colorbar\":{\"outlinewidth\":0,\"ticks\":\"\"}},\"type\":\"scatterpolargl\"}],\"scatterternary\":[{\"marker\":{\"colorbar\":{\"outlinewidth\":0,\"ticks\":\"\"}},\"type\":\"scatterternary\"}],\"surface\":[{\"colorbar\":{\"outlinewidth\":0,\"ticks\":\"\"},\"colorscale\":[[0.0,\"#0d0887\"],[0.1111111111111111,\"#46039f\"],[0.2222222222222222,\"#7201a8\"],[0.3333333333333333,\"#9c179e\"],[0.4444444444444444,\"#bd3786\"],[0.5555555555555556,\"#d8576b\"],[0.6666666666666666,\"#ed7953\"],[0.7777777777777778,\"#fb9f3a\"],[0.8888888888888888,\"#fdca26\"],[1.0,\"#f0f921\"]],\"type\":\"surface\"}],\"table\":[{\"cells\":{\"fill\":{\"color\":\"#EBF0F8\"},\"line\":{\"color\":\"white\"}},\"header\":{\"fill\":{\"color\":\"#C8D4E3\"},\"line\":{\"color\":\"white\"}},\"type\":\"table\"}]},\"layout\":{\"annotationdefaults\":{\"arrowcolor\":\"#2a3f5f\",\"arrowhead\":0,\"arrowwidth\":1},\"autotypenumbers\":\"strict\",\"coloraxis\":{\"colorbar\":{\"outlinewidth\":0,\"ticks\":\"\"}},\"colorscale\":{\"diverging\":[[0,\"#8e0152\"],[0.1,\"#c51b7d\"],[0.2,\"#de77ae\"],[0.3,\"#f1b6da\"],[0.4,\"#fde0ef\"],[0.5,\"#f7f7f7\"],[0.6,\"#e6f5d0\"],[0.7,\"#b8e186\"],[0.8,\"#7fbc41\"],[0.9,\"#4d9221\"],[1,\"#276419\"]],\"sequential\":[[0.0,\"#0d0887\"],[0.1111111111111111,\"#46039f\"],[0.2222222222222222,\"#7201a8\"],[0.3333333333333333,\"#9c179e\"],[0.4444444444444444,\"#bd3786\"],[0.5555555555555556,\"#d8576b\"],[0.6666666666666666,\"#ed7953\"],[0.7777777777777778,\"#fb9f3a\"],[0.8888888888888888,\"#fdca26\"],[1.0,\"#f0f921\"]],\"sequentialminus\":[[0.0,\"#0d0887\"],[0.1111111111111111,\"#46039f\"],[0.2222222222222222,\"#7201a8\"],[0.3333333333333333,\"#9c179e\"],[0.4444444444444444,\"#bd3786\"],[0.5555555555555556,\"#d8576b\"],[0.6666666666666666,\"#ed7953\"],[0.7777777777777778,\"#fb9f3a\"],[0.8888888888888888,\"#fdca26\"],[1.0,\"#f0f921\"]]},\"colorway\":[\"#636efa\",\"#EF553B\",\"#00cc96\",\"#ab63fa\",\"#FFA15A\",\"#19d3f3\",\"#FF6692\",\"#B6E880\",\"#FF97FF\",\"#FECB52\"],\"font\":{\"color\":\"#2a3f5f\"},\"geo\":{\"bgcolor\":\"white\",\"lakecolor\":\"white\",\"landcolor\":\"#E5ECF6\",\"showlakes\":true,\"showland\":true,\"subunitcolor\":\"white\"},\"hoverlabel\":{\"align\":\"left\"},\"hovermode\":\"closest\",\"mapbox\":{\"style\":\"light\"},\"paper_bgcolor\":\"white\",\"plot_bgcolor\":\"#E5ECF6\",\"polar\":{\"angularaxis\":{\"gridcolor\":\"white\",\"linecolor\":\"white\",\"ticks\":\"\"},\"bgcolor\":\"#E5ECF6\",\"radialaxis\":{\"gridcolor\":\"white\",\"linecolor\":\"white\",\"ticks\":\"\"}},\"scene\":{\"xaxis\":{\"backgroundcolor\":\"#E5ECF6\",\"gridcolor\":\"white\",\"gridwidth\":2,\"linecolor\":\"white\",\"showbackground\":true,\"ticks\":\"\",\"zerolinecolor\":\"white\"},\"yaxis\":{\"backgroundcolor\":\"#E5ECF6\",\"gridcolor\":\"white\",\"gridwidth\":2,\"linecolor\":\"white\",\"showbackground\":true,\"ticks\":\"\",\"zerolinecolor\":\"white\"},\"zaxis\":{\"backgroundcolor\":\"#E5ECF6\",\"gridcolor\":\"white\",\"gridwidth\":2,\"linecolor\":\"white\",\"showbackground\":true,\"ticks\":\"\",\"zerolinecolor\":\"white\"}},\"shapedefaults\":{\"line\":{\"color\":\"#2a3f5f\"}},\"ternary\":{\"aaxis\":{\"gridcolor\":\"white\",\"linecolor\":\"white\",\"ticks\":\"\"},\"baxis\":{\"gridcolor\":\"white\",\"linecolor\":\"white\",\"ticks\":\"\"},\"bgcolor\":\"#E5ECF6\",\"caxis\":{\"gridcolor\":\"white\",\"linecolor\":\"white\",\"ticks\":\"\"}},\"title\":{\"x\":0.05},\"xaxis\":{\"automargin\":true,\"gridcolor\":\"white\",\"linecolor\":\"white\",\"ticks\":\"\",\"title\":{\"standoff\":15},\"zerolinecolor\":\"white\",\"zerolinewidth\":2},\"yaxis\":{\"automargin\":true,\"gridcolor\":\"white\",\"linecolor\":\"white\",\"ticks\":\"\",\"title\":{\"standoff\":15},\"zerolinecolor\":\"white\",\"zerolinewidth\":2}}},\"xaxis\":{\"anchor\":\"y\",\"autorange\":\"reversed\",\"domain\":[0.0,1.0],\"title\":{\"text\":\"date\"}},\"yaxis\":{\"anchor\":\"x\",\"domain\":[0.0,1.0],\"title\":{\"text\":\"value\"}}},                        {\"responsive\": true}                    ).then(function(){\n",
       "                            \n",
       "var gd = document.getElementById('4bb5b439-113d-4e4b-b3ce-1718ebb460f4');\n",
       "var x = new MutationObserver(function (mutations, observer) {{\n",
       "        var display = window.getComputedStyle(gd).display;\n",
       "        if (!display || display === 'none') {{\n",
       "            console.log([gd, 'removed!']);\n",
       "            Plotly.purge(gd);\n",
       "            observer.disconnect();\n",
       "        }}\n",
       "}});\n",
       "\n",
       "// Listen for the removal of the full notebook cells\n",
       "var notebookContainer = gd.closest('#notebook-container');\n",
       "if (notebookContainer) {{\n",
       "    x.observe(notebookContainer, {childList: true});\n",
       "}}\n",
       "\n",
       "// Listen for the clearing of the current output cell\n",
       "var outputEl = gd.closest('.output');\n",
       "if (outputEl) {{\n",
       "    x.observe(outputEl, {childList: true});\n",
       "}}\n",
       "\n",
       "                        })                };                });            </script>        </div>"
      ]
     },
     "metadata": {},
     "output_type": "display_data"
    }
   ],
   "source": [
    "fig = px.line(usa_pop_urban_rural, x=usa_pop_urban_rural.index, y=['urban pop', 'rural pop'])\n",
    "fig['layout']['xaxis']['autorange'] = \"reversed\"\n",
    "fig.show()"
   ]
  },
  {
   "cell_type": "code",
   "execution_count": 36,
   "id": "8ddc2148",
   "metadata": {},
   "outputs": [
    {
     "data": {
      "text/html": [
       "<div>\n",
       "<style scoped>\n",
       "    .dataframe tbody tr th:only-of-type {\n",
       "        vertical-align: middle;\n",
       "    }\n",
       "\n",
       "    .dataframe tbody tr th {\n",
       "        vertical-align: top;\n",
       "    }\n",
       "\n",
       "    .dataframe thead th {\n",
       "        text-align: right;\n",
       "    }\n",
       "</style>\n",
       "<table border=\"1\" class=\"dataframe\">\n",
       "  <thead>\n",
       "    <tr style=\"text-align: right;\">\n",
       "      <th></th>\n",
       "      <th>country_code</th>\n",
       "      <th>cname</th>\n",
       "      <th>iso2</th>\n",
       "      <th>continent</th>\n",
       "      <th>iso3</th>\n",
       "      <th>year</th>\n",
       "      <th>week</th>\n",
       "      <th>sex</th>\n",
       "      <th>split</th>\n",
       "      <th>split_sex</th>\n",
       "      <th>forecast</th>\n",
       "      <th>approx_date</th>\n",
       "      <th>age_group</th>\n",
       "      <th>death_count</th>\n",
       "      <th>death_rate</th>\n",
       "      <th>deaths_total</th>\n",
       "      <th>rate_total</th>\n",
       "    </tr>\n",
       "  </thead>\n",
       "  <tbody>\n",
       "    <tr>\n",
       "      <th>0</th>\n",
       "      <td>AUS</td>\n",
       "      <td>Australia</td>\n",
       "      <td>AU</td>\n",
       "      <td>Oceania</td>\n",
       "      <td>AUS</td>\n",
       "      <td>2015</td>\n",
       "      <td>1</td>\n",
       "      <td>m</td>\n",
       "      <td>1</td>\n",
       "      <td>0</td>\n",
       "      <td>0</td>\n",
       "      <td>2015-01-04</td>\n",
       "      <td>0-14</td>\n",
       "      <td>5.800872</td>\n",
       "      <td>0.000130</td>\n",
       "      <td>1189.0</td>\n",
       "      <td>0.005225</td>\n",
       "    </tr>\n",
       "    <tr>\n",
       "      <th>1</th>\n",
       "      <td>AUS</td>\n",
       "      <td>Australia</td>\n",
       "      <td>AU</td>\n",
       "      <td>Oceania</td>\n",
       "      <td>AUS</td>\n",
       "      <td>2015</td>\n",
       "      <td>1</td>\n",
       "      <td>m</td>\n",
       "      <td>1</td>\n",
       "      <td>0</td>\n",
       "      <td>0</td>\n",
       "      <td>2015-01-04</td>\n",
       "      <td>15-64</td>\n",
       "      <td>202.199128</td>\n",
       "      <td>0.001337</td>\n",
       "      <td>1189.0</td>\n",
       "      <td>0.005225</td>\n",
       "    </tr>\n",
       "    <tr>\n",
       "      <th>2</th>\n",
       "      <td>AUS</td>\n",
       "      <td>Australia</td>\n",
       "      <td>AU</td>\n",
       "      <td>Oceania</td>\n",
       "      <td>AUS</td>\n",
       "      <td>2015</td>\n",
       "      <td>1</td>\n",
       "      <td>m</td>\n",
       "      <td>1</td>\n",
       "      <td>0</td>\n",
       "      <td>0</td>\n",
       "      <td>2015-01-04</td>\n",
       "      <td>65-74</td>\n",
       "      <td>206.000000</td>\n",
       "      <td>0.010821</td>\n",
       "      <td>1189.0</td>\n",
       "      <td>0.005225</td>\n",
       "    </tr>\n",
       "    <tr>\n",
       "      <th>3</th>\n",
       "      <td>AUS</td>\n",
       "      <td>Australia</td>\n",
       "      <td>AU</td>\n",
       "      <td>Oceania</td>\n",
       "      <td>AUS</td>\n",
       "      <td>2015</td>\n",
       "      <td>1</td>\n",
       "      <td>m</td>\n",
       "      <td>1</td>\n",
       "      <td>0</td>\n",
       "      <td>0</td>\n",
       "      <td>2015-01-04</td>\n",
       "      <td>75-84</td>\n",
       "      <td>382.000000</td>\n",
       "      <td>0.040008</td>\n",
       "      <td>1189.0</td>\n",
       "      <td>0.005225</td>\n",
       "    </tr>\n",
       "    <tr>\n",
       "      <th>4</th>\n",
       "      <td>AUS</td>\n",
       "      <td>Australia</td>\n",
       "      <td>AU</td>\n",
       "      <td>Oceania</td>\n",
       "      <td>AUS</td>\n",
       "      <td>2015</td>\n",
       "      <td>1</td>\n",
       "      <td>m</td>\n",
       "      <td>1</td>\n",
       "      <td>0</td>\n",
       "      <td>0</td>\n",
       "      <td>2015-01-04</td>\n",
       "      <td>85+</td>\n",
       "      <td>393.000000</td>\n",
       "      <td>0.118851</td>\n",
       "      <td>1189.0</td>\n",
       "      <td>0.005225</td>\n",
       "    </tr>\n",
       "    <tr>\n",
       "      <th>...</th>\n",
       "      <td>...</td>\n",
       "      <td>...</td>\n",
       "      <td>...</td>\n",
       "      <td>...</td>\n",
       "      <td>...</td>\n",
       "      <td>...</td>\n",
       "      <td>...</td>\n",
       "      <td>...</td>\n",
       "      <td>...</td>\n",
       "      <td>...</td>\n",
       "      <td>...</td>\n",
       "      <td>...</td>\n",
       "      <td>...</td>\n",
       "      <td>...</td>\n",
       "      <td>...</td>\n",
       "      <td>...</td>\n",
       "      <td>...</td>\n",
       "    </tr>\n",
       "    <tr>\n",
       "      <th>507670</th>\n",
       "      <td>USA</td>\n",
       "      <td>United States</td>\n",
       "      <td>US</td>\n",
       "      <td>North America</td>\n",
       "      <td>USA</td>\n",
       "      <td>2021</td>\n",
       "      <td>5</td>\n",
       "      <td>b</td>\n",
       "      <td>0</td>\n",
       "      <td>0</td>\n",
       "      <td>1</td>\n",
       "      <td>2021-02-07</td>\n",
       "      <td>0-14</td>\n",
       "      <td>389.000000</td>\n",
       "      <td>0.000339</td>\n",
       "      <td>67383.0</td>\n",
       "      <td>0.010633</td>\n",
       "    </tr>\n",
       "    <tr>\n",
       "      <th>507671</th>\n",
       "      <td>USA</td>\n",
       "      <td>United States</td>\n",
       "      <td>US</td>\n",
       "      <td>North America</td>\n",
       "      <td>USA</td>\n",
       "      <td>2021</td>\n",
       "      <td>5</td>\n",
       "      <td>b</td>\n",
       "      <td>0</td>\n",
       "      <td>0</td>\n",
       "      <td>1</td>\n",
       "      <td>2021-02-07</td>\n",
       "      <td>15-64</td>\n",
       "      <td>15853.000000</td>\n",
       "      <td>0.003880</td>\n",
       "      <td>67383.0</td>\n",
       "      <td>0.010633</td>\n",
       "    </tr>\n",
       "    <tr>\n",
       "      <th>507672</th>\n",
       "      <td>USA</td>\n",
       "      <td>United States</td>\n",
       "      <td>US</td>\n",
       "      <td>North America</td>\n",
       "      <td>USA</td>\n",
       "      <td>2021</td>\n",
       "      <td>5</td>\n",
       "      <td>b</td>\n",
       "      <td>0</td>\n",
       "      <td>0</td>\n",
       "      <td>1</td>\n",
       "      <td>2021-02-07</td>\n",
       "      <td>65-74</td>\n",
       "      <td>14295.000000</td>\n",
       "      <td>0.022178</td>\n",
       "      <td>67383.0</td>\n",
       "      <td>0.010633</td>\n",
       "    </tr>\n",
       "    <tr>\n",
       "      <th>507673</th>\n",
       "      <td>USA</td>\n",
       "      <td>United States</td>\n",
       "      <td>US</td>\n",
       "      <td>North America</td>\n",
       "      <td>USA</td>\n",
       "      <td>2021</td>\n",
       "      <td>5</td>\n",
       "      <td>b</td>\n",
       "      <td>0</td>\n",
       "      <td>0</td>\n",
       "      <td>1</td>\n",
       "      <td>2021-02-07</td>\n",
       "      <td>75-84</td>\n",
       "      <td>16915.000000</td>\n",
       "      <td>0.051328</td>\n",
       "      <td>67383.0</td>\n",
       "      <td>0.010633</td>\n",
       "    </tr>\n",
       "    <tr>\n",
       "      <th>507674</th>\n",
       "      <td>USA</td>\n",
       "      <td>United States</td>\n",
       "      <td>US</td>\n",
       "      <td>North America</td>\n",
       "      <td>USA</td>\n",
       "      <td>2021</td>\n",
       "      <td>5</td>\n",
       "      <td>b</td>\n",
       "      <td>0</td>\n",
       "      <td>0</td>\n",
       "      <td>1</td>\n",
       "      <td>2021-02-07</td>\n",
       "      <td>85+</td>\n",
       "      <td>19931.000000</td>\n",
       "      <td>0.152375</td>\n",
       "      <td>67383.0</td>\n",
       "      <td>0.010633</td>\n",
       "    </tr>\n",
       "  </tbody>\n",
       "</table>\n",
       "<p>507675 rows × 17 columns</p>\n",
       "</div>"
      ],
      "text/plain": [
       "       country_code          cname iso2      continent iso3  year  week sex  \\\n",
       "0               AUS      Australia   AU        Oceania  AUS  2015     1   m   \n",
       "1               AUS      Australia   AU        Oceania  AUS  2015     1   m   \n",
       "2               AUS      Australia   AU        Oceania  AUS  2015     1   m   \n",
       "3               AUS      Australia   AU        Oceania  AUS  2015     1   m   \n",
       "4               AUS      Australia   AU        Oceania  AUS  2015     1   m   \n",
       "...             ...            ...  ...            ...  ...   ...   ...  ..   \n",
       "507670          USA  United States   US  North America  USA  2021     5   b   \n",
       "507671          USA  United States   US  North America  USA  2021     5   b   \n",
       "507672          USA  United States   US  North America  USA  2021     5   b   \n",
       "507673          USA  United States   US  North America  USA  2021     5   b   \n",
       "507674          USA  United States   US  North America  USA  2021     5   b   \n",
       "\n",
       "        split  split_sex  forecast approx_date age_group   death_count  \\\n",
       "0           1          0         0  2015-01-04      0-14      5.800872   \n",
       "1           1          0         0  2015-01-04     15-64    202.199128   \n",
       "2           1          0         0  2015-01-04     65-74    206.000000   \n",
       "3           1          0         0  2015-01-04     75-84    382.000000   \n",
       "4           1          0         0  2015-01-04       85+    393.000000   \n",
       "...       ...        ...       ...         ...       ...           ...   \n",
       "507670      0          0         1  2021-02-07      0-14    389.000000   \n",
       "507671      0          0         1  2021-02-07     15-64  15853.000000   \n",
       "507672      0          0         1  2021-02-07     65-74  14295.000000   \n",
       "507673      0          0         1  2021-02-07     75-84  16915.000000   \n",
       "507674      0          0         1  2021-02-07       85+  19931.000000   \n",
       "\n",
       "        death_rate  deaths_total  rate_total  \n",
       "0         0.000130        1189.0    0.005225  \n",
       "1         0.001337        1189.0    0.005225  \n",
       "2         0.010821        1189.0    0.005225  \n",
       "3         0.040008        1189.0    0.005225  \n",
       "4         0.118851        1189.0    0.005225  \n",
       "...            ...           ...         ...  \n",
       "507670    0.000339       67383.0    0.010633  \n",
       "507671    0.003880       67383.0    0.010633  \n",
       "507672    0.022178       67383.0    0.010633  \n",
       "507673    0.051328       67383.0    0.010633  \n",
       "507674    0.152375       67383.0    0.010633  \n",
       "\n",
       "[507675 rows x 17 columns]"
      ]
     },
     "execution_count": 36,
     "metadata": {},
     "output_type": "execute_result"
    }
   ],
   "source": [
    "stmf = pd.read_csv('stmf.csv.gz')\n",
    "stmf"
   ]
  },
  {
   "cell_type": "code",
   "execution_count": 37,
   "id": "0d61f964",
   "metadata": {},
   "outputs": [
    {
     "data": {
      "text/html": [
       "<div>\n",
       "<style scoped>\n",
       "    .dataframe tbody tr th:only-of-type {\n",
       "        vertical-align: middle;\n",
       "    }\n",
       "\n",
       "    .dataframe tbody tr th {\n",
       "        vertical-align: top;\n",
       "    }\n",
       "\n",
       "    .dataframe thead th {\n",
       "        text-align: right;\n",
       "    }\n",
       "</style>\n",
       "<table border=\"1\" class=\"dataframe\">\n",
       "  <thead>\n",
       "    <tr style=\"text-align: right;\">\n",
       "      <th></th>\n",
       "      <th>cname</th>\n",
       "      <th>continent</th>\n",
       "      <th>approx_date</th>\n",
       "      <th>year</th>\n",
       "      <th>week</th>\n",
       "      <th>split</th>\n",
       "      <th>split_sex</th>\n",
       "      <th>forecast</th>\n",
       "      <th>death_count</th>\n",
       "      <th>death_rate</th>\n",
       "      <th>deaths_total</th>\n",
       "      <th>rate_total</th>\n",
       "    </tr>\n",
       "  </thead>\n",
       "  <tbody>\n",
       "    <tr>\n",
       "      <th>1027</th>\n",
       "      <td>New Zealand</td>\n",
       "      <td>Oceania</td>\n",
       "      <td>2020-02-23</td>\n",
       "      <td>2020.0</td>\n",
       "      <td>8.0</td>\n",
       "      <td>1.0</td>\n",
       "      <td>0.0</td>\n",
       "      <td>1.0</td>\n",
       "      <td>82.933333</td>\n",
       "      <td>0.035488</td>\n",
       "      <td>414.666667</td>\n",
       "      <td>0.006489</td>\n",
       "    </tr>\n",
       "    <tr>\n",
       "      <th>1028</th>\n",
       "      <td>New Zealand</td>\n",
       "      <td>Oceania</td>\n",
       "      <td>2020-03-01</td>\n",
       "      <td>2020.0</td>\n",
       "      <td>9.0</td>\n",
       "      <td>1.0</td>\n",
       "      <td>0.0</td>\n",
       "      <td>1.0</td>\n",
       "      <td>79.200000</td>\n",
       "      <td>0.035937</td>\n",
       "      <td>396.000000</td>\n",
       "      <td>0.006202</td>\n",
       "    </tr>\n",
       "    <tr>\n",
       "      <th>1029</th>\n",
       "      <td>New Zealand</td>\n",
       "      <td>Oceania</td>\n",
       "      <td>2020-03-08</td>\n",
       "      <td>2020.0</td>\n",
       "      <td>10.0</td>\n",
       "      <td>1.0</td>\n",
       "      <td>0.0</td>\n",
       "      <td>1.0</td>\n",
       "      <td>81.600000</td>\n",
       "      <td>0.036071</td>\n",
       "      <td>408.000000</td>\n",
       "      <td>0.006386</td>\n",
       "    </tr>\n",
       "    <tr>\n",
       "      <th>1030</th>\n",
       "      <td>New Zealand</td>\n",
       "      <td>Oceania</td>\n",
       "      <td>2020-03-15</td>\n",
       "      <td>2020.0</td>\n",
       "      <td>11.0</td>\n",
       "      <td>1.0</td>\n",
       "      <td>0.0</td>\n",
       "      <td>1.0</td>\n",
       "      <td>80.000000</td>\n",
       "      <td>0.034209</td>\n",
       "      <td>400.000000</td>\n",
       "      <td>0.006257</td>\n",
       "    </tr>\n",
       "    <tr>\n",
       "      <th>1031</th>\n",
       "      <td>New Zealand</td>\n",
       "      <td>Oceania</td>\n",
       "      <td>2020-03-22</td>\n",
       "      <td>2020.0</td>\n",
       "      <td>12.0</td>\n",
       "      <td>1.0</td>\n",
       "      <td>0.0</td>\n",
       "      <td>1.0</td>\n",
       "      <td>82.400000</td>\n",
       "      <td>0.035507</td>\n",
       "      <td>412.000000</td>\n",
       "      <td>0.006453</td>\n",
       "    </tr>\n",
       "    <tr>\n",
       "      <th>1032</th>\n",
       "      <td>New Zealand</td>\n",
       "      <td>Oceania</td>\n",
       "      <td>2020-03-29</td>\n",
       "      <td>2020.0</td>\n",
       "      <td>13.0</td>\n",
       "      <td>1.0</td>\n",
       "      <td>0.0</td>\n",
       "      <td>1.0</td>\n",
       "      <td>81.733333</td>\n",
       "      <td>0.035726</td>\n",
       "      <td>408.666667</td>\n",
       "      <td>0.006397</td>\n",
       "    </tr>\n",
       "    <tr>\n",
       "      <th>1033</th>\n",
       "      <td>New Zealand</td>\n",
       "      <td>Oceania</td>\n",
       "      <td>2020-04-05</td>\n",
       "      <td>2020.0</td>\n",
       "      <td>14.0</td>\n",
       "      <td>1.0</td>\n",
       "      <td>0.0</td>\n",
       "      <td>1.0</td>\n",
       "      <td>83.733333</td>\n",
       "      <td>0.036723</td>\n",
       "      <td>418.666667</td>\n",
       "      <td>0.006557</td>\n",
       "    </tr>\n",
       "    <tr>\n",
       "      <th>1034</th>\n",
       "      <td>New Zealand</td>\n",
       "      <td>Oceania</td>\n",
       "      <td>2020-04-12</td>\n",
       "      <td>2020.0</td>\n",
       "      <td>15.0</td>\n",
       "      <td>1.0</td>\n",
       "      <td>0.0</td>\n",
       "      <td>1.0</td>\n",
       "      <td>86.800000</td>\n",
       "      <td>0.037666</td>\n",
       "      <td>434.000000</td>\n",
       "      <td>0.006797</td>\n",
       "    </tr>\n",
       "    <tr>\n",
       "      <th>1035</th>\n",
       "      <td>New Zealand</td>\n",
       "      <td>Oceania</td>\n",
       "      <td>2020-04-19</td>\n",
       "      <td>2020.0</td>\n",
       "      <td>16.0</td>\n",
       "      <td>1.0</td>\n",
       "      <td>0.0</td>\n",
       "      <td>1.0</td>\n",
       "      <td>88.533333</td>\n",
       "      <td>0.039464</td>\n",
       "      <td>442.666667</td>\n",
       "      <td>0.006925</td>\n",
       "    </tr>\n",
       "    <tr>\n",
       "      <th>1036</th>\n",
       "      <td>New Zealand</td>\n",
       "      <td>Oceania</td>\n",
       "      <td>2020-04-26</td>\n",
       "      <td>2020.0</td>\n",
       "      <td>17.0</td>\n",
       "      <td>1.0</td>\n",
       "      <td>0.0</td>\n",
       "      <td>1.0</td>\n",
       "      <td>84.133333</td>\n",
       "      <td>0.037690</td>\n",
       "      <td>420.666667</td>\n",
       "      <td>0.006585</td>\n",
       "    </tr>\n",
       "    <tr>\n",
       "      <th>1037</th>\n",
       "      <td>New Zealand</td>\n",
       "      <td>Oceania</td>\n",
       "      <td>2020-05-03</td>\n",
       "      <td>2020.0</td>\n",
       "      <td>18.0</td>\n",
       "      <td>1.0</td>\n",
       "      <td>0.0</td>\n",
       "      <td>1.0</td>\n",
       "      <td>74.800000</td>\n",
       "      <td>0.033432</td>\n",
       "      <td>374.000000</td>\n",
       "      <td>0.005857</td>\n",
       "    </tr>\n",
       "    <tr>\n",
       "      <th>1038</th>\n",
       "      <td>New Zealand</td>\n",
       "      <td>Oceania</td>\n",
       "      <td>2020-05-10</td>\n",
       "      <td>2020.0</td>\n",
       "      <td>19.0</td>\n",
       "      <td>1.0</td>\n",
       "      <td>0.0</td>\n",
       "      <td>1.0</td>\n",
       "      <td>83.866667</td>\n",
       "      <td>0.036552</td>\n",
       "      <td>419.333333</td>\n",
       "      <td>0.006565</td>\n",
       "    </tr>\n",
       "    <tr>\n",
       "      <th>1039</th>\n",
       "      <td>New Zealand</td>\n",
       "      <td>Oceania</td>\n",
       "      <td>2020-05-17</td>\n",
       "      <td>2020.0</td>\n",
       "      <td>20.0</td>\n",
       "      <td>1.0</td>\n",
       "      <td>0.0</td>\n",
       "      <td>1.0</td>\n",
       "      <td>82.266667</td>\n",
       "      <td>0.035887</td>\n",
       "      <td>411.333333</td>\n",
       "      <td>0.006441</td>\n",
       "    </tr>\n",
       "    <tr>\n",
       "      <th>1040</th>\n",
       "      <td>New Zealand</td>\n",
       "      <td>Oceania</td>\n",
       "      <td>2020-05-24</td>\n",
       "      <td>2020.0</td>\n",
       "      <td>21.0</td>\n",
       "      <td>1.0</td>\n",
       "      <td>0.0</td>\n",
       "      <td>1.0</td>\n",
       "      <td>81.066667</td>\n",
       "      <td>0.035462</td>\n",
       "      <td>405.333333</td>\n",
       "      <td>0.006346</td>\n",
       "    </tr>\n",
       "    <tr>\n",
       "      <th>1041</th>\n",
       "      <td>New Zealand</td>\n",
       "      <td>Oceania</td>\n",
       "      <td>2020-05-31</td>\n",
       "      <td>2020.0</td>\n",
       "      <td>22.0</td>\n",
       "      <td>1.0</td>\n",
       "      <td>0.0</td>\n",
       "      <td>1.0</td>\n",
       "      <td>80.266667</td>\n",
       "      <td>0.034220</td>\n",
       "      <td>401.333333</td>\n",
       "      <td>0.006284</td>\n",
       "    </tr>\n",
       "    <tr>\n",
       "      <th>1042</th>\n",
       "      <td>New Zealand</td>\n",
       "      <td>Oceania</td>\n",
       "      <td>2020-06-07</td>\n",
       "      <td>2020.0</td>\n",
       "      <td>23.0</td>\n",
       "      <td>1.0</td>\n",
       "      <td>0.0</td>\n",
       "      <td>1.0</td>\n",
       "      <td>83.066667</td>\n",
       "      <td>0.035852</td>\n",
       "      <td>415.333333</td>\n",
       "      <td>0.006510</td>\n",
       "    </tr>\n",
       "    <tr>\n",
       "      <th>1043</th>\n",
       "      <td>New Zealand</td>\n",
       "      <td>Oceania</td>\n",
       "      <td>2020-06-14</td>\n",
       "      <td>2020.0</td>\n",
       "      <td>24.0</td>\n",
       "      <td>1.0</td>\n",
       "      <td>0.0</td>\n",
       "      <td>1.0</td>\n",
       "      <td>85.733333</td>\n",
       "      <td>0.038895</td>\n",
       "      <td>428.666667</td>\n",
       "      <td>0.006708</td>\n",
       "    </tr>\n",
       "    <tr>\n",
       "      <th>1044</th>\n",
       "      <td>New Zealand</td>\n",
       "      <td>Oceania</td>\n",
       "      <td>2020-06-21</td>\n",
       "      <td>2020.0</td>\n",
       "      <td>25.0</td>\n",
       "      <td>1.0</td>\n",
       "      <td>0.0</td>\n",
       "      <td>1.0</td>\n",
       "      <td>85.200000</td>\n",
       "      <td>0.039594</td>\n",
       "      <td>426.000000</td>\n",
       "      <td>0.006668</td>\n",
       "    </tr>\n",
       "    <tr>\n",
       "      <th>1045</th>\n",
       "      <td>New Zealand</td>\n",
       "      <td>Oceania</td>\n",
       "      <td>2020-06-28</td>\n",
       "      <td>2020.0</td>\n",
       "      <td>26.0</td>\n",
       "      <td>1.0</td>\n",
       "      <td>0.0</td>\n",
       "      <td>1.0</td>\n",
       "      <td>82.933333</td>\n",
       "      <td>0.036546</td>\n",
       "      <td>414.666667</td>\n",
       "      <td>0.006495</td>\n",
       "    </tr>\n",
       "    <tr>\n",
       "      <th>1046</th>\n",
       "      <td>New Zealand</td>\n",
       "      <td>Oceania</td>\n",
       "      <td>2020-07-05</td>\n",
       "      <td>2020.0</td>\n",
       "      <td>27.0</td>\n",
       "      <td>1.0</td>\n",
       "      <td>0.0</td>\n",
       "      <td>1.0</td>\n",
       "      <td>82.400000</td>\n",
       "      <td>0.035833</td>\n",
       "      <td>412.000000</td>\n",
       "      <td>0.006452</td>\n",
       "    </tr>\n",
       "    <tr>\n",
       "      <th>1047</th>\n",
       "      <td>New Zealand</td>\n",
       "      <td>Oceania</td>\n",
       "      <td>2020-07-12</td>\n",
       "      <td>2020.0</td>\n",
       "      <td>28.0</td>\n",
       "      <td>1.0</td>\n",
       "      <td>0.0</td>\n",
       "      <td>1.0</td>\n",
       "      <td>82.133333</td>\n",
       "      <td>0.036434</td>\n",
       "      <td>410.666667</td>\n",
       "      <td>0.006426</td>\n",
       "    </tr>\n",
       "    <tr>\n",
       "      <th>1048</th>\n",
       "      <td>New Zealand</td>\n",
       "      <td>Oceania</td>\n",
       "      <td>2020-07-19</td>\n",
       "      <td>2020.0</td>\n",
       "      <td>29.0</td>\n",
       "      <td>1.0</td>\n",
       "      <td>0.0</td>\n",
       "      <td>1.0</td>\n",
       "      <td>92.533333</td>\n",
       "      <td>0.042213</td>\n",
       "      <td>462.666667</td>\n",
       "      <td>0.007248</td>\n",
       "    </tr>\n",
       "    <tr>\n",
       "      <th>1049</th>\n",
       "      <td>New Zealand</td>\n",
       "      <td>Oceania</td>\n",
       "      <td>2020-07-26</td>\n",
       "      <td>2020.0</td>\n",
       "      <td>30.0</td>\n",
       "      <td>1.0</td>\n",
       "      <td>0.0</td>\n",
       "      <td>1.0</td>\n",
       "      <td>91.066667</td>\n",
       "      <td>0.038492</td>\n",
       "      <td>455.333333</td>\n",
       "      <td>0.007131</td>\n",
       "    </tr>\n",
       "    <tr>\n",
       "      <th>1050</th>\n",
       "      <td>New Zealand</td>\n",
       "      <td>Oceania</td>\n",
       "      <td>2020-08-02</td>\n",
       "      <td>2020.0</td>\n",
       "      <td>31.0</td>\n",
       "      <td>1.0</td>\n",
       "      <td>0.0</td>\n",
       "      <td>1.0</td>\n",
       "      <td>90.000000</td>\n",
       "      <td>0.039430</td>\n",
       "      <td>450.000000</td>\n",
       "      <td>0.007047</td>\n",
       "    </tr>\n",
       "    <tr>\n",
       "      <th>1051</th>\n",
       "      <td>New Zealand</td>\n",
       "      <td>Oceania</td>\n",
       "      <td>2020-08-09</td>\n",
       "      <td>2020.0</td>\n",
       "      <td>32.0</td>\n",
       "      <td>1.0</td>\n",
       "      <td>0.0</td>\n",
       "      <td>1.0</td>\n",
       "      <td>85.733333</td>\n",
       "      <td>0.038274</td>\n",
       "      <td>428.666667</td>\n",
       "      <td>0.006713</td>\n",
       "    </tr>\n",
       "    <tr>\n",
       "      <th>1052</th>\n",
       "      <td>New Zealand</td>\n",
       "      <td>Oceania</td>\n",
       "      <td>2020-08-16</td>\n",
       "      <td>2020.0</td>\n",
       "      <td>33.0</td>\n",
       "      <td>1.0</td>\n",
       "      <td>0.0</td>\n",
       "      <td>1.0</td>\n",
       "      <td>84.533333</td>\n",
       "      <td>0.039103</td>\n",
       "      <td>422.666667</td>\n",
       "      <td>0.006616</td>\n",
       "    </tr>\n",
       "    <tr>\n",
       "      <th>1053</th>\n",
       "      <td>New Zealand</td>\n",
       "      <td>Oceania</td>\n",
       "      <td>2020-08-23</td>\n",
       "      <td>2020.0</td>\n",
       "      <td>34.0</td>\n",
       "      <td>1.0</td>\n",
       "      <td>0.0</td>\n",
       "      <td>1.0</td>\n",
       "      <td>87.333333</td>\n",
       "      <td>0.040316</td>\n",
       "      <td>436.666667</td>\n",
       "      <td>0.006838</td>\n",
       "    </tr>\n",
       "    <tr>\n",
       "      <th>1054</th>\n",
       "      <td>New Zealand</td>\n",
       "      <td>Oceania</td>\n",
       "      <td>2020-08-30</td>\n",
       "      <td>2020.0</td>\n",
       "      <td>35.0</td>\n",
       "      <td>1.0</td>\n",
       "      <td>0.0</td>\n",
       "      <td>1.0</td>\n",
       "      <td>80.266667</td>\n",
       "      <td>0.033128</td>\n",
       "      <td>401.333333</td>\n",
       "      <td>0.006286</td>\n",
       "    </tr>\n",
       "    <tr>\n",
       "      <th>1055</th>\n",
       "      <td>New Zealand</td>\n",
       "      <td>Oceania</td>\n",
       "      <td>2020-09-06</td>\n",
       "      <td>2020.0</td>\n",
       "      <td>36.0</td>\n",
       "      <td>1.0</td>\n",
       "      <td>0.0</td>\n",
       "      <td>1.0</td>\n",
       "      <td>84.000000</td>\n",
       "      <td>0.036895</td>\n",
       "      <td>420.000000</td>\n",
       "      <td>0.006580</td>\n",
       "    </tr>\n",
       "    <tr>\n",
       "      <th>1056</th>\n",
       "      <td>New Zealand</td>\n",
       "      <td>Oceania</td>\n",
       "      <td>2020-09-13</td>\n",
       "      <td>2020.0</td>\n",
       "      <td>37.0</td>\n",
       "      <td>1.0</td>\n",
       "      <td>0.0</td>\n",
       "      <td>1.0</td>\n",
       "      <td>83.200000</td>\n",
       "      <td>0.036416</td>\n",
       "      <td>416.000000</td>\n",
       "      <td>0.006513</td>\n",
       "    </tr>\n",
       "    <tr>\n",
       "      <th>1057</th>\n",
       "      <td>New Zealand</td>\n",
       "      <td>Oceania</td>\n",
       "      <td>2020-09-20</td>\n",
       "      <td>2020.0</td>\n",
       "      <td>38.0</td>\n",
       "      <td>1.0</td>\n",
       "      <td>0.0</td>\n",
       "      <td>1.0</td>\n",
       "      <td>80.533333</td>\n",
       "      <td>0.033594</td>\n",
       "      <td>402.666667</td>\n",
       "      <td>0.006308</td>\n",
       "    </tr>\n",
       "    <tr>\n",
       "      <th>1058</th>\n",
       "      <td>New Zealand</td>\n",
       "      <td>Oceania</td>\n",
       "      <td>2020-09-27</td>\n",
       "      <td>2020.0</td>\n",
       "      <td>39.0</td>\n",
       "      <td>1.0</td>\n",
       "      <td>0.0</td>\n",
       "      <td>1.0</td>\n",
       "      <td>81.466667</td>\n",
       "      <td>0.035671</td>\n",
       "      <td>407.333333</td>\n",
       "      <td>0.006375</td>\n",
       "    </tr>\n",
       "    <tr>\n",
       "      <th>1059</th>\n",
       "      <td>New Zealand</td>\n",
       "      <td>Oceania</td>\n",
       "      <td>2020-10-04</td>\n",
       "      <td>2020.0</td>\n",
       "      <td>40.0</td>\n",
       "      <td>1.0</td>\n",
       "      <td>0.0</td>\n",
       "      <td>1.0</td>\n",
       "      <td>86.800000</td>\n",
       "      <td>0.036545</td>\n",
       "      <td>434.000000</td>\n",
       "      <td>0.006794</td>\n",
       "    </tr>\n",
       "    <tr>\n",
       "      <th>1060</th>\n",
       "      <td>New Zealand</td>\n",
       "      <td>Oceania</td>\n",
       "      <td>2020-10-11</td>\n",
       "      <td>2020.0</td>\n",
       "      <td>41.0</td>\n",
       "      <td>1.0</td>\n",
       "      <td>0.0</td>\n",
       "      <td>1.0</td>\n",
       "      <td>81.333333</td>\n",
       "      <td>0.034547</td>\n",
       "      <td>406.666667</td>\n",
       "      <td>0.006363</td>\n",
       "    </tr>\n",
       "    <tr>\n",
       "      <th>1061</th>\n",
       "      <td>New Zealand</td>\n",
       "      <td>Oceania</td>\n",
       "      <td>2020-10-18</td>\n",
       "      <td>2020.0</td>\n",
       "      <td>42.0</td>\n",
       "      <td>1.0</td>\n",
       "      <td>0.0</td>\n",
       "      <td>1.0</td>\n",
       "      <td>81.866667</td>\n",
       "      <td>0.035839</td>\n",
       "      <td>409.333333</td>\n",
       "      <td>0.006410</td>\n",
       "    </tr>\n",
       "    <tr>\n",
       "      <th>1062</th>\n",
       "      <td>New Zealand</td>\n",
       "      <td>Oceania</td>\n",
       "      <td>2020-10-25</td>\n",
       "      <td>2020.0</td>\n",
       "      <td>43.0</td>\n",
       "      <td>1.0</td>\n",
       "      <td>0.0</td>\n",
       "      <td>1.0</td>\n",
       "      <td>91.866667</td>\n",
       "      <td>0.039181</td>\n",
       "      <td>459.333333</td>\n",
       "      <td>0.007195</td>\n",
       "    </tr>\n",
       "    <tr>\n",
       "      <th>1063</th>\n",
       "      <td>New Zealand</td>\n",
       "      <td>Oceania</td>\n",
       "      <td>2020-11-01</td>\n",
       "      <td>2020.0</td>\n",
       "      <td>44.0</td>\n",
       "      <td>1.0</td>\n",
       "      <td>0.0</td>\n",
       "      <td>1.0</td>\n",
       "      <td>77.733333</td>\n",
       "      <td>0.032959</td>\n",
       "      <td>388.666667</td>\n",
       "      <td>0.006090</td>\n",
       "    </tr>\n",
       "    <tr>\n",
       "      <th>1064</th>\n",
       "      <td>New Zealand</td>\n",
       "      <td>Oceania</td>\n",
       "      <td>2020-11-08</td>\n",
       "      <td>2020.0</td>\n",
       "      <td>45.0</td>\n",
       "      <td>1.0</td>\n",
       "      <td>0.0</td>\n",
       "      <td>1.0</td>\n",
       "      <td>84.000000</td>\n",
       "      <td>0.037152</td>\n",
       "      <td>420.000000</td>\n",
       "      <td>0.006580</td>\n",
       "    </tr>\n",
       "    <tr>\n",
       "      <th>1065</th>\n",
       "      <td>New Zealand</td>\n",
       "      <td>Oceania</td>\n",
       "      <td>2020-11-15</td>\n",
       "      <td>2020.0</td>\n",
       "      <td>46.0</td>\n",
       "      <td>1.0</td>\n",
       "      <td>0.0</td>\n",
       "      <td>1.0</td>\n",
       "      <td>78.133333</td>\n",
       "      <td>0.033929</td>\n",
       "      <td>390.666667</td>\n",
       "      <td>0.006111</td>\n",
       "    </tr>\n",
       "    <tr>\n",
       "      <th>1066</th>\n",
       "      <td>New Zealand</td>\n",
       "      <td>Oceania</td>\n",
       "      <td>2020-11-22</td>\n",
       "      <td>2020.0</td>\n",
       "      <td>47.0</td>\n",
       "      <td>1.0</td>\n",
       "      <td>0.0</td>\n",
       "      <td>1.0</td>\n",
       "      <td>81.466667</td>\n",
       "      <td>0.033633</td>\n",
       "      <td>407.333333</td>\n",
       "      <td>0.006379</td>\n",
       "    </tr>\n",
       "    <tr>\n",
       "      <th>1067</th>\n",
       "      <td>New Zealand</td>\n",
       "      <td>Oceania</td>\n",
       "      <td>2020-11-29</td>\n",
       "      <td>2020.0</td>\n",
       "      <td>48.0</td>\n",
       "      <td>1.0</td>\n",
       "      <td>0.0</td>\n",
       "      <td>1.0</td>\n",
       "      <td>86.400000</td>\n",
       "      <td>0.036481</td>\n",
       "      <td>432.000000</td>\n",
       "      <td>0.006758</td>\n",
       "    </tr>\n",
       "    <tr>\n",
       "      <th>1068</th>\n",
       "      <td>New Zealand</td>\n",
       "      <td>Oceania</td>\n",
       "      <td>2020-12-06</td>\n",
       "      <td>2020.0</td>\n",
       "      <td>49.0</td>\n",
       "      <td>1.0</td>\n",
       "      <td>0.0</td>\n",
       "      <td>1.0</td>\n",
       "      <td>85.600000</td>\n",
       "      <td>0.035126</td>\n",
       "      <td>428.000000</td>\n",
       "      <td>0.006701</td>\n",
       "    </tr>\n",
       "    <tr>\n",
       "      <th>1069</th>\n",
       "      <td>New Zealand</td>\n",
       "      <td>Oceania</td>\n",
       "      <td>2020-12-13</td>\n",
       "      <td>2020.0</td>\n",
       "      <td>50.0</td>\n",
       "      <td>1.0</td>\n",
       "      <td>0.0</td>\n",
       "      <td>1.0</td>\n",
       "      <td>85.200000</td>\n",
       "      <td>0.038373</td>\n",
       "      <td>426.000000</td>\n",
       "      <td>0.006668</td>\n",
       "    </tr>\n",
       "    <tr>\n",
       "      <th>1070</th>\n",
       "      <td>New Zealand</td>\n",
       "      <td>Oceania</td>\n",
       "      <td>2020-12-20</td>\n",
       "      <td>2020.0</td>\n",
       "      <td>51.0</td>\n",
       "      <td>1.0</td>\n",
       "      <td>0.0</td>\n",
       "      <td>1.0</td>\n",
       "      <td>89.333333</td>\n",
       "      <td>0.038899</td>\n",
       "      <td>446.666667</td>\n",
       "      <td>0.006992</td>\n",
       "    </tr>\n",
       "    <tr>\n",
       "      <th>1071</th>\n",
       "      <td>New Zealand</td>\n",
       "      <td>Oceania</td>\n",
       "      <td>2020-12-27</td>\n",
       "      <td>2020.0</td>\n",
       "      <td>52.0</td>\n",
       "      <td>1.0</td>\n",
       "      <td>0.0</td>\n",
       "      <td>1.0</td>\n",
       "      <td>83.200000</td>\n",
       "      <td>0.035854</td>\n",
       "      <td>416.000000</td>\n",
       "      <td>0.006512</td>\n",
       "    </tr>\n",
       "    <tr>\n",
       "      <th>1072</th>\n",
       "      <td>New Zealand</td>\n",
       "      <td>Oceania</td>\n",
       "      <td>2021-01-03</td>\n",
       "      <td>2020.0</td>\n",
       "      <td>53.0</td>\n",
       "      <td>1.0</td>\n",
       "      <td>0.0</td>\n",
       "      <td>1.0</td>\n",
       "      <td>89.600000</td>\n",
       "      <td>0.039283</td>\n",
       "      <td>448.000000</td>\n",
       "      <td>0.007016</td>\n",
       "    </tr>\n",
       "    <tr>\n",
       "      <th>1073</th>\n",
       "      <td>New Zealand</td>\n",
       "      <td>Oceania</td>\n",
       "      <td>2021-02-28</td>\n",
       "      <td>2021.0</td>\n",
       "      <td>8.0</td>\n",
       "      <td>1.0</td>\n",
       "      <td>0.0</td>\n",
       "      <td>1.0</td>\n",
       "      <td>75.733333</td>\n",
       "      <td>0.031775</td>\n",
       "      <td>378.666667</td>\n",
       "      <td>0.005902</td>\n",
       "    </tr>\n",
       "  </tbody>\n",
       "</table>\n",
       "</div>"
      ],
      "text/plain": [
       "            cname continent approx_date    year  week  split  split_sex  \\\n",
       "1027  New Zealand   Oceania  2020-02-23  2020.0   8.0    1.0        0.0   \n",
       "1028  New Zealand   Oceania  2020-03-01  2020.0   9.0    1.0        0.0   \n",
       "1029  New Zealand   Oceania  2020-03-08  2020.0  10.0    1.0        0.0   \n",
       "1030  New Zealand   Oceania  2020-03-15  2020.0  11.0    1.0        0.0   \n",
       "1031  New Zealand   Oceania  2020-03-22  2020.0  12.0    1.0        0.0   \n",
       "1032  New Zealand   Oceania  2020-03-29  2020.0  13.0    1.0        0.0   \n",
       "1033  New Zealand   Oceania  2020-04-05  2020.0  14.0    1.0        0.0   \n",
       "1034  New Zealand   Oceania  2020-04-12  2020.0  15.0    1.0        0.0   \n",
       "1035  New Zealand   Oceania  2020-04-19  2020.0  16.0    1.0        0.0   \n",
       "1036  New Zealand   Oceania  2020-04-26  2020.0  17.0    1.0        0.0   \n",
       "1037  New Zealand   Oceania  2020-05-03  2020.0  18.0    1.0        0.0   \n",
       "1038  New Zealand   Oceania  2020-05-10  2020.0  19.0    1.0        0.0   \n",
       "1039  New Zealand   Oceania  2020-05-17  2020.0  20.0    1.0        0.0   \n",
       "1040  New Zealand   Oceania  2020-05-24  2020.0  21.0    1.0        0.0   \n",
       "1041  New Zealand   Oceania  2020-05-31  2020.0  22.0    1.0        0.0   \n",
       "1042  New Zealand   Oceania  2020-06-07  2020.0  23.0    1.0        0.0   \n",
       "1043  New Zealand   Oceania  2020-06-14  2020.0  24.0    1.0        0.0   \n",
       "1044  New Zealand   Oceania  2020-06-21  2020.0  25.0    1.0        0.0   \n",
       "1045  New Zealand   Oceania  2020-06-28  2020.0  26.0    1.0        0.0   \n",
       "1046  New Zealand   Oceania  2020-07-05  2020.0  27.0    1.0        0.0   \n",
       "1047  New Zealand   Oceania  2020-07-12  2020.0  28.0    1.0        0.0   \n",
       "1048  New Zealand   Oceania  2020-07-19  2020.0  29.0    1.0        0.0   \n",
       "1049  New Zealand   Oceania  2020-07-26  2020.0  30.0    1.0        0.0   \n",
       "1050  New Zealand   Oceania  2020-08-02  2020.0  31.0    1.0        0.0   \n",
       "1051  New Zealand   Oceania  2020-08-09  2020.0  32.0    1.0        0.0   \n",
       "1052  New Zealand   Oceania  2020-08-16  2020.0  33.0    1.0        0.0   \n",
       "1053  New Zealand   Oceania  2020-08-23  2020.0  34.0    1.0        0.0   \n",
       "1054  New Zealand   Oceania  2020-08-30  2020.0  35.0    1.0        0.0   \n",
       "1055  New Zealand   Oceania  2020-09-06  2020.0  36.0    1.0        0.0   \n",
       "1056  New Zealand   Oceania  2020-09-13  2020.0  37.0    1.0        0.0   \n",
       "1057  New Zealand   Oceania  2020-09-20  2020.0  38.0    1.0        0.0   \n",
       "1058  New Zealand   Oceania  2020-09-27  2020.0  39.0    1.0        0.0   \n",
       "1059  New Zealand   Oceania  2020-10-04  2020.0  40.0    1.0        0.0   \n",
       "1060  New Zealand   Oceania  2020-10-11  2020.0  41.0    1.0        0.0   \n",
       "1061  New Zealand   Oceania  2020-10-18  2020.0  42.0    1.0        0.0   \n",
       "1062  New Zealand   Oceania  2020-10-25  2020.0  43.0    1.0        0.0   \n",
       "1063  New Zealand   Oceania  2020-11-01  2020.0  44.0    1.0        0.0   \n",
       "1064  New Zealand   Oceania  2020-11-08  2020.0  45.0    1.0        0.0   \n",
       "1065  New Zealand   Oceania  2020-11-15  2020.0  46.0    1.0        0.0   \n",
       "1066  New Zealand   Oceania  2020-11-22  2020.0  47.0    1.0        0.0   \n",
       "1067  New Zealand   Oceania  2020-11-29  2020.0  48.0    1.0        0.0   \n",
       "1068  New Zealand   Oceania  2020-12-06  2020.0  49.0    1.0        0.0   \n",
       "1069  New Zealand   Oceania  2020-12-13  2020.0  50.0    1.0        0.0   \n",
       "1070  New Zealand   Oceania  2020-12-20  2020.0  51.0    1.0        0.0   \n",
       "1071  New Zealand   Oceania  2020-12-27  2020.0  52.0    1.0        0.0   \n",
       "1072  New Zealand   Oceania  2021-01-03  2020.0  53.0    1.0        0.0   \n",
       "1073  New Zealand   Oceania  2021-02-28  2021.0   8.0    1.0        0.0   \n",
       "\n",
       "      forecast  death_count  death_rate  deaths_total  rate_total  \n",
       "1027       1.0    82.933333    0.035488    414.666667    0.006489  \n",
       "1028       1.0    79.200000    0.035937    396.000000    0.006202  \n",
       "1029       1.0    81.600000    0.036071    408.000000    0.006386  \n",
       "1030       1.0    80.000000    0.034209    400.000000    0.006257  \n",
       "1031       1.0    82.400000    0.035507    412.000000    0.006453  \n",
       "1032       1.0    81.733333    0.035726    408.666667    0.006397  \n",
       "1033       1.0    83.733333    0.036723    418.666667    0.006557  \n",
       "1034       1.0    86.800000    0.037666    434.000000    0.006797  \n",
       "1035       1.0    88.533333    0.039464    442.666667    0.006925  \n",
       "1036       1.0    84.133333    0.037690    420.666667    0.006585  \n",
       "1037       1.0    74.800000    0.033432    374.000000    0.005857  \n",
       "1038       1.0    83.866667    0.036552    419.333333    0.006565  \n",
       "1039       1.0    82.266667    0.035887    411.333333    0.006441  \n",
       "1040       1.0    81.066667    0.035462    405.333333    0.006346  \n",
       "1041       1.0    80.266667    0.034220    401.333333    0.006284  \n",
       "1042       1.0    83.066667    0.035852    415.333333    0.006510  \n",
       "1043       1.0    85.733333    0.038895    428.666667    0.006708  \n",
       "1044       1.0    85.200000    0.039594    426.000000    0.006668  \n",
       "1045       1.0    82.933333    0.036546    414.666667    0.006495  \n",
       "1046       1.0    82.400000    0.035833    412.000000    0.006452  \n",
       "1047       1.0    82.133333    0.036434    410.666667    0.006426  \n",
       "1048       1.0    92.533333    0.042213    462.666667    0.007248  \n",
       "1049       1.0    91.066667    0.038492    455.333333    0.007131  \n",
       "1050       1.0    90.000000    0.039430    450.000000    0.007047  \n",
       "1051       1.0    85.733333    0.038274    428.666667    0.006713  \n",
       "1052       1.0    84.533333    0.039103    422.666667    0.006616  \n",
       "1053       1.0    87.333333    0.040316    436.666667    0.006838  \n",
       "1054       1.0    80.266667    0.033128    401.333333    0.006286  \n",
       "1055       1.0    84.000000    0.036895    420.000000    0.006580  \n",
       "1056       1.0    83.200000    0.036416    416.000000    0.006513  \n",
       "1057       1.0    80.533333    0.033594    402.666667    0.006308  \n",
       "1058       1.0    81.466667    0.035671    407.333333    0.006375  \n",
       "1059       1.0    86.800000    0.036545    434.000000    0.006794  \n",
       "1060       1.0    81.333333    0.034547    406.666667    0.006363  \n",
       "1061       1.0    81.866667    0.035839    409.333333    0.006410  \n",
       "1062       1.0    91.866667    0.039181    459.333333    0.007195  \n",
       "1063       1.0    77.733333    0.032959    388.666667    0.006090  \n",
       "1064       1.0    84.000000    0.037152    420.000000    0.006580  \n",
       "1065       1.0    78.133333    0.033929    390.666667    0.006111  \n",
       "1066       1.0    81.466667    0.033633    407.333333    0.006379  \n",
       "1067       1.0    86.400000    0.036481    432.000000    0.006758  \n",
       "1068       1.0    85.600000    0.035126    428.000000    0.006701  \n",
       "1069       1.0    85.200000    0.038373    426.000000    0.006668  \n",
       "1070       1.0    89.333333    0.038899    446.666667    0.006992  \n",
       "1071       1.0    83.200000    0.035854    416.000000    0.006512  \n",
       "1072       1.0    89.600000    0.039283    448.000000    0.007016  \n",
       "1073       1.0    75.733333    0.031775    378.666667    0.005902  "
      ]
     },
     "execution_count": 37,
     "metadata": {},
     "output_type": "execute_result"
    }
   ],
   "source": [
    "#filter stmf for new zealand and US death rates per week\n",
    "us = stmf.loc[(stmf['year'] >= 2020) & (stmf['week'] >= 8)]\n",
    "us = us.groupby(['cname', 'continent', 'approx_date']).agg(np.mean).reset_index()\n",
    "us = us.loc[(us['cname'] == 'United States')]\n",
    "us\n",
    "nz = stmf.loc[(stmf['year'] >= 2020) & (stmf['week'] >= 8)]\n",
    "nz = nz.groupby(['cname', 'continent', 'approx_date']).agg(np.mean).reset_index()\n",
    "nz = nz.loc[(nz['cname'] == 'New Zealand')]\n",
    "nz"
   ]
  },
  {
   "cell_type": "code",
   "execution_count": null,
   "id": "051adab2",
   "metadata": {},
   "outputs": [],
   "source": [
    "def standard_units(any_numbers):\n",
    "    \"Convert any array of numbers to standard units.\"\n",
    "    return (any_numbers - np.mean(any_numbers))/np.std(any_numbers)  "
   ]
  },
  {
   "cell_type": "code",
   "execution_count": null,
   "id": "aaca918f",
   "metadata": {},
   "outputs": [],
   "source": [
    "def correlation(t, x, y):\n",
    "    return np.mean(standard_units(t.column(x))*standard_units(t.column(y)))"
   ]
  },
  {
   "cell_type": "code",
   "execution_count": null,
   "id": "8e4bb314",
   "metadata": {},
   "outputs": [],
   "source": [
    "joined_stmf_with_wb = pd.stmf.merge('wbdata')"
   ]
  }
 ],
 "metadata": {
  "kernelspec": {
   "display_name": "Python 3 (ipykernel)",
   "language": "python",
   "name": "python3"
  },
  "language_info": {
   "codemirror_mode": {
    "name": "ipython",
    "version": 3
   },
   "file_extension": ".py",
   "mimetype": "text/x-python",
   "name": "python",
   "nbconvert_exporter": "python",
   "pygments_lexer": "ipython3",
   "version": "3.9.10"
  }
 },
 "nbformat": 4,
 "nbformat_minor": 5
}
