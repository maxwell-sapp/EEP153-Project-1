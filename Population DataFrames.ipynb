{
 "cells": [
  {
   "cell_type": "markdown",
   "id": "d6da3536",
   "metadata": {},
   "source": [
    "## Population DataFrames\n",
    "\n",
    "A function that returns a pandas DataFrame indexed by Country and Year, with columns giving counts of people in different age-sex groups.\n",
    "Start by looking at Lecture 1 code\n",
    "Df = df.set_index([‘Country’, ‘Year’])\n",
    "Groupby age and sex \n"
   ]
  },
  {
   "cell_type": "code",
   "execution_count": 12,
   "id": "0c9dbb9f",
   "metadata": {},
   "outputs": [
    {
     "name": "stdout",
     "output_type": "stream",
     "text": [
      "Requirement already satisfied: wbdata in /opt/conda/lib/python3.9/site-packages (0.3.0)\n",
      "Requirement already satisfied: tabulate>=0.8.5 in /opt/conda/lib/python3.9/site-packages (from wbdata) (0.8.9)\n",
      "Requirement already satisfied: appdirs<2.0,>=1.4 in /opt/conda/lib/python3.9/site-packages (from wbdata) (1.4.4)\n",
      "Requirement already satisfied: decorator>=4.0 in /opt/conda/lib/python3.9/site-packages (from wbdata) (5.0.9)\n",
      "Requirement already satisfied: requests>=2.0 in /opt/conda/lib/python3.9/site-packages (from wbdata) (2.26.0)\n",
      "Requirement already satisfied: certifi>=2017.4.17 in /opt/conda/lib/python3.9/site-packages (from requests>=2.0->wbdata) (2019.11.28)\n",
      "Requirement already satisfied: idna<4,>=2.5; python_version >= \"3\" in /opt/conda/lib/python3.9/site-packages (from requests>=2.0->wbdata) (2.8)\n",
      "Requirement already satisfied: urllib3<1.27,>=1.21.1 in /opt/conda/lib/python3.9/site-packages (from requests>=2.0->wbdata) (1.25.7)\n",
      "Requirement already satisfied: charset-normalizer~=2.0.0; python_version >= \"3\" in /opt/conda/lib/python3.9/site-packages (from requests>=2.0->wbdata) (2.0.0)\n"
     ]
    }
   ],
   "source": [
    "!pip install wbdata\n"
   ]
  },
  {
   "cell_type": "code",
   "execution_count": 13,
   "id": "1662fd07",
   "metadata": {},
   "outputs": [],
   "source": [
    "import wbdata\n",
    "\n",
    "# Return list of all country/region codes:\n",
    "wbdata.get_country()\n",
    "\n",
    "# Return list matching a query term:\n",
    "#wbdata.search_countries(\"World\")\n",
    "\n",
    "## Try your own search!\n",
    "# wbdata.search_countries(\"\")\n",
    "import numpy as np"
   ]
  },
  {
   "cell_type": "code",
   "execution_count": 14,
   "id": "5ec5d75d",
   "metadata": {},
   "outputs": [
    {
     "data": {
      "text/plain": [
       "  id  name\n",
       "----  --------------------------------------------------------------------\n",
       "   1  Doing Business\n",
       "   2  World Development Indicators\n",
       "   3  Worldwide Governance Indicators\n",
       "   5  Subnational Malnutrition Database\n",
       "   6  International Debt Statistics\n",
       "  11  Africa Development Indicators\n",
       "  12  Education Statistics\n",
       "  13  Enterprise Surveys\n",
       "  14  Gender Statistics\n",
       "  15  Global Economic Monitor\n",
       "  16  Health Nutrition and Population Statistics\n",
       "  18  IDA Results Measurement System\n",
       "  19  Millennium Development Goals\n",
       "  20  Quarterly Public Sector Debt\n",
       "  22  Quarterly External Debt Statistics SDDS\n",
       "  23  Quarterly External Debt Statistics GDDS\n",
       "  24  Poverty and Equity\n",
       "  25  Jobs\n",
       "  27  Global Economic Prospects\n",
       "  28  Global Financial Inclusion\n",
       "  29  The Atlas of Social Protection: Indicators of Resilience and Equity\n",
       "  30  Exporter Dynamics Database – Indicators at Country-Year Level\n",
       "  31  Country Policy and Institutional Assessment\n",
       "  32  Global Financial Development\n",
       "  33  G20 Financial Inclusion Indicators\n",
       "  34  Global Partnership for Education\n",
       "  35  Sustainable Energy for All\n",
       "  36  Statistical Capacity Indicators\n",
       "  37  LAC Equity Lab\n",
       "  38  Subnational Poverty\n",
       "  39  Health Nutrition and Population Statistics by Wealth Quintile\n",
       "  40  Population estimates and projections\n",
       "  41  Country Partnership Strategy for India (FY2013 - 17)\n",
       "  43  Adjusted Net Savings\n",
       "  45  Indonesia Database for Policy and Economic Research\n",
       "  46  Sustainable Development Goals\n",
       "  50  Subnational Population\n",
       "  54  Joint External Debt Hub\n",
       "  57  WDI Database Archives\n",
       "  58  Universal Health Coverage\n",
       "  59  Wealth Accounts\n",
       "  60  Economic Fitness\n",
       "  61  PPPs Regulatory Quality\n",
       "  62  International Comparison Program (ICP) 2011\n",
       "  63  Human Capital Index\n",
       "  64  Worldwide Bureaucracy Indicators\n",
       "  65  Health Equity and Financial Protection Indicators\n",
       "  66  Logistics Performance Index\n",
       "  67  PEFA 2011\n",
       "  68  PEFA 2016\n",
       "  69  Global Financial Inclusion and Consumer Protection Survey\n",
       "  70  Economic Fitness 2\n",
       "  71  International Comparison Program (ICP) 2005\n",
       "  73  Global Financial Inclusion and Consumer Protection Survey (Internal)\n",
       "  75  Environment, Social and Governance (ESG) Data\n",
       "  76  Remittance Prices Worldwide (Sending Countries)\n",
       "  77  Remittance Prices Worldwide (Receiving Countries)\n",
       "  78  ICP 2017\n",
       "  79  PEFA_GRPFM\n",
       "  80  Gender Disaggregated Labor Database (GDLD)\n",
       "  81  International Debt Statistics: DSSI\n",
       "  82  Global Public Procurement\n",
       "  83  Statistical Performance Indicators (SPI)\n",
       "  84  Education Policy\n",
       "  85  PEFA_2021_SNG\n",
       "  86  Global Jobs Indicators Database (JOIN)\n",
       "  87  Country Climate and Development Report (CCDR)\n",
       "  88  FPN Data Hub"
      ]
     },
     "execution_count": 14,
     "metadata": {},
     "output_type": "execute_result"
    }
   ],
   "source": [
    "#navigate to source and indicator\n",
    "SOURCE = 40\n",
    "indicators = wbdata.get_indicator(source=SOURCE)\n",
    "indicators\n",
    "\n",
    "wbdata.get_source()"
   ]
  },
  {
   "cell_type": "markdown",
   "id": "fd1a5771",
   "metadata": {},
   "source": [
    "A function that returns a pandas DataFrame indexed by Country and Year, with columns giving counts of people in different age-sex groups."
   ]
  },
  {
   "cell_type": "code",
   "execution_count": null,
   "id": "79a97e13",
   "metadata": {},
   "outputs": [],
   "source": []
  },
  {
   "cell_type": "code",
   "execution_count": 32,
   "id": "90b1f389",
   "metadata": {},
   "outputs": [
    {
     "data": {
      "text/plain": [
       "['0004',\n",
       " '0509',\n",
       " '1014',\n",
       " '1519',\n",
       " '2024',\n",
       " '2529',\n",
       " '3034',\n",
       " '3539',\n",
       " '4044',\n",
       " '4549',\n",
       " '5054',\n",
       " '5559',\n",
       " '6064',\n",
       " '6569',\n",
       " '7074',\n",
       " '7579',\n",
       " '80UP']"
      ]
     },
     "execution_count": 32,
     "metadata": {},
     "output_type": "execute_result"
    }
   ],
   "source": [
    "#create empty list for age-ranges\n",
    "age_ranges = []\n",
    "\n",
    "for i in range(0, 80, 5):\n",
    "    age_ranges.append(f\"{i:02d}\"+f\"{i+4:02d}\")\n",
    "#add 80 and up\n",
    "age_ranges.append('80UP')\n",
    "age_ranges"
   ]
  },
  {
   "cell_type": "code",
   "execution_count": 33,
   "id": "53a219ff",
   "metadata": {},
   "outputs": [
    {
     "data": {
      "text/html": [
       "<div>\n",
       "<style scoped>\n",
       "    .dataframe tbody tr th:only-of-type {\n",
       "        vertical-align: middle;\n",
       "    }\n",
       "\n",
       "    .dataframe tbody tr th {\n",
       "        vertical-align: top;\n",
       "    }\n",
       "\n",
       "    .dataframe thead th {\n",
       "        text-align: right;\n",
       "    }\n",
       "</style>\n",
       "<table border=\"1\" class=\"dataframe\">\n",
       "  <thead>\n",
       "    <tr style=\"text-align: right;\">\n",
       "      <th></th>\n",
       "      <th>Total Population</th>\n",
       "    </tr>\n",
       "    <tr>\n",
       "      <th>date</th>\n",
       "      <th></th>\n",
       "    </tr>\n",
       "  </thead>\n",
       "  <tbody>\n",
       "    <tr>\n",
       "      <th>2000</th>\n",
       "      <td>22929078.0</td>\n",
       "    </tr>\n",
       "  </tbody>\n",
       "</table>\n",
       "</div>"
      ],
      "text/plain": [
       "      Total Population\n",
       "date                  \n",
       "2000        22929078.0"
      ]
     },
     "execution_count": 33,
     "metadata": {},
     "output_type": "execute_result"
    }
   ],
   "source": [
    "def population(place, year):\n",
    "\n",
    "    variable_labels = {\"SP.POP.TOTL\": \"Total Population\"}\n",
    "    world = wbdata.get_dataframe(variable_labels)\n",
    "    world = wbdata.get_dataframe(variable_labels, country=place)\n",
    "\n",
    "    world.reset_index(inplace=True)\n",
    "    world['date'] = world['date'].astype(int)\n",
    "    world.set_index(['date'], inplace=True)\n",
    "    new=world.query('date==@year')\n",
    "    return new\n",
    "\n",
    "population('PRK', 2000)"
   ]
  },
  {
   "cell_type": "code",
   "execution_count": 37,
   "id": "dc725520",
   "metadata": {},
   "outputs": [
    {
     "name": "stdout",
     "output_type": "stream",
     "text": [
      "{'SF.POP.0004.MA': 'Males 0004', 'SF.POP.0509.MA': 'Males 0509', 'SF.POP.1014.MA': 'Males 1014', 'SF.POP.1519.MA': 'Males 1519', 'SF.POP.2024.MA': 'Males 2024', 'SF.POP.2529.MA': 'Males 2529', 'SF.POP.3034.MA': 'Males 3034', 'SF.POP.3539.MA': 'Males 3539', 'SF.POP.4044.MA': 'Males 4044', 'SF.POP.4549.MA': 'Males 4549', 'SF.POP.5054.MA': 'Males 5054', 'SF.POP.5559.MA': 'Males 5559', 'SF.POP.6064.MA': 'Males 6064', 'SF.POP.6569.MA': 'Males 6569', 'SF.POP.7074.MA': 'Males 7074', 'SF.POP.7579.MA': 'Males 7579', 'SF.POP.80UP.MA': 'Males 80UP', 'SF.POP.0004.FE': 'Females 0004', 'SF.POP.0509.FE': 'Females 0509', 'SF.POP.1014.FE': 'Females 1014', 'SF.POP.1519.FE': 'Females 1519', 'SF.POP.2024.FE': 'Females 2024', 'SF.POP.2529.FE': 'Females 2529', 'SF.POP.3034.FE': 'Females 3034', 'SF.POP.3539.FE': 'Females 3539', 'SF.POP.4044.FE': 'Females 4044', 'SF.POP.4549.FE': 'Females 4549', 'SF.POP.5054.FE': 'Females 5054', 'SF.POP.5559.FE': 'Females 5559', 'SF.POP.6064.FE': 'Females 6064', 'SF.POP.6569.FE': 'Females 6569', 'SF.POP.7074.FE': 'Females 7074', 'SF.POP.7579.FE': 'Females 7579', 'SF.POP.80UP.FE': 'Females 80UP'}\n"
     ]
    }
   ],
   "source": [
    "#Create dictionary of age-sex indicators from wbdata \n",
    "male_age_indicators = {'SF.POP.'+ages+'.MA':'Males '+ages for ages in age_ranges}\n",
    "female_age_indicators = {'SF.POP.'+ages+'.FE':'Females '+ages for ages in age_ranges}\n",
    "\n",
    "gendered_indicators = male_age_indicators\n",
    "gendered_indicators.update(female_age_indicators)\n",
    "print(gendered_indicators)    \n"
   ]
  },
  {
   "cell_type": "code",
   "execution_count": 41,
   "id": "073ad95d",
   "metadata": {},
   "outputs": [
    {
     "ename": "RuntimeError",
     "evalue": "Got error 120 (Invalid value): The provided parameter value is not valid",
     "output_type": "error",
     "traceback": [
      "\u001b[0;31m---------------------------------------------------------------------------\u001b[0m",
      "\u001b[0;31mIndexError\u001b[0m                                Traceback (most recent call last)",
      "File \u001b[0;32m/opt/conda/lib/python3.9/site-packages/wbdata/fetcher.py:124\u001b[0m, in \u001b[0;36mfetch\u001b[0;34m(url, args, cache)\u001b[0m\n\u001b[1;32m    123\u001b[0m \u001b[38;5;28;01mtry\u001b[39;00m:\n\u001b[0;32m--> 124\u001b[0m     results\u001b[38;5;241m.\u001b[39mextend(\u001b[43mresponse\u001b[49m\u001b[43m[\u001b[49m\u001b[38;5;241;43m1\u001b[39;49m\u001b[43m]\u001b[49m)\n\u001b[1;32m    125\u001b[0m     this_page \u001b[38;5;241m=\u001b[39m response[\u001b[38;5;241m0\u001b[39m][\u001b[38;5;124m\"\u001b[39m\u001b[38;5;124mpage\u001b[39m\u001b[38;5;124m\"\u001b[39m]\n",
      "\u001b[0;31mIndexError\u001b[0m: list index out of range",
      "\nDuring handling of the above exception, another exception occurred:\n",
      "\u001b[0;31mRuntimeError\u001b[0m                              Traceback (most recent call last)",
      "Input \u001b[0;32mIn [41]\u001b[0m, in \u001b[0;36m<module>\u001b[0;34m\u001b[0m\n\u001b[0;32m----> 1\u001b[0m df \u001b[38;5;241m=\u001b[39m \u001b[43mwbdata\u001b[49m\u001b[38;5;241;43m.\u001b[39;49m\u001b[43mget_dataframe\u001b[49m\u001b[43m(\u001b[49m\u001b[43mgendered_indicators\u001b[49m\u001b[43m)\u001b[49m\n\u001b[1;32m      2\u001b[0m df\n",
      "File \u001b[0;32m/opt/conda/lib/python3.9/site-packages/decorator.py:232\u001b[0m, in \u001b[0;36mdecorate.<locals>.fun\u001b[0;34m(*args, **kw)\u001b[0m\n\u001b[1;32m    230\u001b[0m \u001b[38;5;28;01mif\u001b[39;00m \u001b[38;5;129;01mnot\u001b[39;00m kwsyntax:\n\u001b[1;32m    231\u001b[0m     args, kw \u001b[38;5;241m=\u001b[39m fix(args, kw, sig)\n\u001b[0;32m--> 232\u001b[0m \u001b[38;5;28;01mreturn\u001b[39;00m \u001b[43mcaller\u001b[49m\u001b[43m(\u001b[49m\u001b[43mfunc\u001b[49m\u001b[43m,\u001b[49m\u001b[43m \u001b[49m\u001b[38;5;241;43m*\u001b[39;49m\u001b[43m(\u001b[49m\u001b[43mextras\u001b[49m\u001b[43m \u001b[49m\u001b[38;5;241;43m+\u001b[39;49m\u001b[43m \u001b[49m\u001b[43margs\u001b[49m\u001b[43m)\u001b[49m\u001b[43m,\u001b[49m\u001b[43m \u001b[49m\u001b[38;5;241;43m*\u001b[39;49m\u001b[38;5;241;43m*\u001b[39;49m\u001b[43mkw\u001b[49m\u001b[43m)\u001b[49m\n",
      "File \u001b[0;32m/opt/conda/lib/python3.9/site-packages/wbdata/api.py:85\u001b[0m, in \u001b[0;36muses_pandas\u001b[0;34m(f, *args, **kwargs)\u001b[0m\n\u001b[1;32m     83\u001b[0m \u001b[38;5;28;01mif\u001b[39;00m \u001b[38;5;129;01mnot\u001b[39;00m pd:\n\u001b[1;32m     84\u001b[0m     \u001b[38;5;28;01mraise\u001b[39;00m \u001b[38;5;167;01mValueError\u001b[39;00m(\u001b[38;5;124m\"\u001b[39m\u001b[38;5;124mPandas must be installed to be used\u001b[39m\u001b[38;5;124m\"\u001b[39m)\n\u001b[0;32m---> 85\u001b[0m \u001b[38;5;28;01mreturn\u001b[39;00m \u001b[43mf\u001b[49m\u001b[43m(\u001b[49m\u001b[38;5;241;43m*\u001b[39;49m\u001b[43margs\u001b[49m\u001b[43m,\u001b[49m\u001b[43m \u001b[49m\u001b[38;5;241;43m*\u001b[39;49m\u001b[38;5;241;43m*\u001b[39;49m\u001b[43mkwargs\u001b[49m\u001b[43m)\u001b[49m\n",
      "File \u001b[0;32m/opt/conda/lib/python3.9/site-packages/wbdata/api.py:482\u001b[0m, in \u001b[0;36mget_dataframe\u001b[0;34m(indicators, country, data_date, freq, source, convert_date, keep_levels, cache)\u001b[0m\n\u001b[1;32m    450\u001b[0m \u001b[38;5;129m@uses_pandas\u001b[39m\n\u001b[1;32m    451\u001b[0m \u001b[38;5;28;01mdef\u001b[39;00m \u001b[38;5;21mget_dataframe\u001b[39m(\n\u001b[1;32m    452\u001b[0m     indicators,\n\u001b[0;32m   (...)\u001b[0m\n\u001b[1;32m    459\u001b[0m     cache\u001b[38;5;241m=\u001b[39m\u001b[38;5;28;01mTrue\u001b[39;00m,\n\u001b[1;32m    460\u001b[0m ):\n\u001b[1;32m    461\u001b[0m     \u001b[38;5;124;03m\"\"\"\u001b[39;00m\n\u001b[1;32m    462\u001b[0m \u001b[38;5;124;03m    Convenience function to download a set of indicators and  merge them into a\u001b[39;00m\n\u001b[1;32m    463\u001b[0m \u001b[38;5;124;03m        pandas DataFrame.  The index will be the same as if calls were made to\u001b[39;00m\n\u001b[0;32m   (...)\u001b[0m\n\u001b[1;32m    480\u001b[0m \u001b[38;5;124;03m    :returns: a WBDataFrame\u001b[39;00m\n\u001b[1;32m    481\u001b[0m \u001b[38;5;124;03m    \"\"\"\u001b[39;00m\n\u001b[0;32m--> 482\u001b[0m     serieses \u001b[38;5;241m=\u001b[39m [\n\u001b[1;32m    483\u001b[0m         (\n\u001b[1;32m    484\u001b[0m             get_series(\n\u001b[1;32m    485\u001b[0m                 indicator\u001b[38;5;241m=\u001b[39mindicator,\n\u001b[1;32m    486\u001b[0m                 country\u001b[38;5;241m=\u001b[39mcountry,\n\u001b[1;32m    487\u001b[0m                 data_date\u001b[38;5;241m=\u001b[39mdata_date,\n\u001b[1;32m    488\u001b[0m                 freq\u001b[38;5;241m=\u001b[39mfreq,\n\u001b[1;32m    489\u001b[0m                 source\u001b[38;5;241m=\u001b[39msource,\n\u001b[1;32m    490\u001b[0m                 convert_date\u001b[38;5;241m=\u001b[39mconvert_date,\n\u001b[1;32m    491\u001b[0m                 keep_levels\u001b[38;5;241m=\u001b[39mkeep_levels,\n\u001b[1;32m    492\u001b[0m                 cache\u001b[38;5;241m=\u001b[39mcache,\n\u001b[1;32m    493\u001b[0m             )\u001b[38;5;241m.\u001b[39mrename(name)\n\u001b[1;32m    494\u001b[0m         )\n\u001b[1;32m    495\u001b[0m         \u001b[38;5;28;01mfor\u001b[39;00m indicator, name \u001b[38;5;129;01min\u001b[39;00m indicators\u001b[38;5;241m.\u001b[39mitems()\n\u001b[1;32m    496\u001b[0m     ]\n\u001b[1;32m    497\u001b[0m     result \u001b[38;5;241m=\u001b[39m \u001b[38;5;28;01mNone\u001b[39;00m\n\u001b[1;32m    498\u001b[0m     \u001b[38;5;28;01mfor\u001b[39;00m series \u001b[38;5;129;01min\u001b[39;00m serieses:\n",
      "File \u001b[0;32m/opt/conda/lib/python3.9/site-packages/wbdata/api.py:484\u001b[0m, in \u001b[0;36m<listcomp>\u001b[0;34m(.0)\u001b[0m\n\u001b[1;32m    450\u001b[0m \u001b[38;5;129m@uses_pandas\u001b[39m\n\u001b[1;32m    451\u001b[0m \u001b[38;5;28;01mdef\u001b[39;00m \u001b[38;5;21mget_dataframe\u001b[39m(\n\u001b[1;32m    452\u001b[0m     indicators,\n\u001b[0;32m   (...)\u001b[0m\n\u001b[1;32m    459\u001b[0m     cache\u001b[38;5;241m=\u001b[39m\u001b[38;5;28;01mTrue\u001b[39;00m,\n\u001b[1;32m    460\u001b[0m ):\n\u001b[1;32m    461\u001b[0m     \u001b[38;5;124;03m\"\"\"\u001b[39;00m\n\u001b[1;32m    462\u001b[0m \u001b[38;5;124;03m    Convenience function to download a set of indicators and  merge them into a\u001b[39;00m\n\u001b[1;32m    463\u001b[0m \u001b[38;5;124;03m        pandas DataFrame.  The index will be the same as if calls were made to\u001b[39;00m\n\u001b[0;32m   (...)\u001b[0m\n\u001b[1;32m    480\u001b[0m \u001b[38;5;124;03m    :returns: a WBDataFrame\u001b[39;00m\n\u001b[1;32m    481\u001b[0m \u001b[38;5;124;03m    \"\"\"\u001b[39;00m\n\u001b[1;32m    482\u001b[0m     serieses \u001b[38;5;241m=\u001b[39m [\n\u001b[1;32m    483\u001b[0m         (\n\u001b[0;32m--> 484\u001b[0m             \u001b[43mget_series\u001b[49m\u001b[43m(\u001b[49m\n\u001b[1;32m    485\u001b[0m \u001b[43m                \u001b[49m\u001b[43mindicator\u001b[49m\u001b[38;5;241;43m=\u001b[39;49m\u001b[43mindicator\u001b[49m\u001b[43m,\u001b[49m\n\u001b[1;32m    486\u001b[0m \u001b[43m                \u001b[49m\u001b[43mcountry\u001b[49m\u001b[38;5;241;43m=\u001b[39;49m\u001b[43mcountry\u001b[49m\u001b[43m,\u001b[49m\n\u001b[1;32m    487\u001b[0m \u001b[43m                \u001b[49m\u001b[43mdata_date\u001b[49m\u001b[38;5;241;43m=\u001b[39;49m\u001b[43mdata_date\u001b[49m\u001b[43m,\u001b[49m\n\u001b[1;32m    488\u001b[0m \u001b[43m                \u001b[49m\u001b[43mfreq\u001b[49m\u001b[38;5;241;43m=\u001b[39;49m\u001b[43mfreq\u001b[49m\u001b[43m,\u001b[49m\n\u001b[1;32m    489\u001b[0m \u001b[43m                \u001b[49m\u001b[43msource\u001b[49m\u001b[38;5;241;43m=\u001b[39;49m\u001b[43msource\u001b[49m\u001b[43m,\u001b[49m\n\u001b[1;32m    490\u001b[0m \u001b[43m                \u001b[49m\u001b[43mconvert_date\u001b[49m\u001b[38;5;241;43m=\u001b[39;49m\u001b[43mconvert_date\u001b[49m\u001b[43m,\u001b[49m\n\u001b[1;32m    491\u001b[0m \u001b[43m                \u001b[49m\u001b[43mkeep_levels\u001b[49m\u001b[38;5;241;43m=\u001b[39;49m\u001b[43mkeep_levels\u001b[49m\u001b[43m,\u001b[49m\n\u001b[1;32m    492\u001b[0m \u001b[43m                \u001b[49m\u001b[43mcache\u001b[49m\u001b[38;5;241;43m=\u001b[39;49m\u001b[43mcache\u001b[49m\u001b[43m,\u001b[49m\n\u001b[1;32m    493\u001b[0m \u001b[43m            \u001b[49m\u001b[43m)\u001b[49m\u001b[38;5;241m.\u001b[39mrename(name)\n\u001b[1;32m    494\u001b[0m         )\n\u001b[1;32m    495\u001b[0m         \u001b[38;5;28;01mfor\u001b[39;00m indicator, name \u001b[38;5;129;01min\u001b[39;00m indicators\u001b[38;5;241m.\u001b[39mitems()\n\u001b[1;32m    496\u001b[0m     ]\n\u001b[1;32m    497\u001b[0m     result \u001b[38;5;241m=\u001b[39m \u001b[38;5;28;01mNone\u001b[39;00m\n\u001b[1;32m    498\u001b[0m     \u001b[38;5;28;01mfor\u001b[39;00m series \u001b[38;5;129;01min\u001b[39;00m serieses:\n",
      "File \u001b[0;32m/opt/conda/lib/python3.9/site-packages/wbdata/api.py:186\u001b[0m, in \u001b[0;36mget_series\u001b[0;34m(indicator, country, data_date, freq, source, convert_date, column_name, keep_levels, cache)\u001b[0m\n\u001b[1;32m    156\u001b[0m \u001b[38;5;28;01mdef\u001b[39;00m \u001b[38;5;21mget_series\u001b[39m(\n\u001b[1;32m    157\u001b[0m     indicator,\n\u001b[1;32m    158\u001b[0m     country\u001b[38;5;241m=\u001b[39m\u001b[38;5;124m\"\u001b[39m\u001b[38;5;124mall\u001b[39m\u001b[38;5;124m\"\u001b[39m,\n\u001b[0;32m   (...)\u001b[0m\n\u001b[1;32m    165\u001b[0m     cache\u001b[38;5;241m=\u001b[39m\u001b[38;5;28;01mTrue\u001b[39;00m,\n\u001b[1;32m    166\u001b[0m ):\n\u001b[1;32m    167\u001b[0m     \u001b[38;5;124;03m\"\"\"\u001b[39;00m\n\u001b[1;32m    168\u001b[0m \u001b[38;5;124;03m    Retrieve indicators for given countries and years\u001b[39;00m\n\u001b[1;32m    169\u001b[0m \n\u001b[0;32m   (...)\u001b[0m\n\u001b[1;32m    184\u001b[0m \u001b[38;5;124;03m    :returns: WBSeries\u001b[39;00m\n\u001b[1;32m    185\u001b[0m \u001b[38;5;124;03m    \"\"\"\u001b[39;00m\n\u001b[0;32m--> 186\u001b[0m     raw_data \u001b[38;5;241m=\u001b[39m \u001b[43mget_data\u001b[49m\u001b[43m(\u001b[49m\n\u001b[1;32m    187\u001b[0m \u001b[43m        \u001b[49m\u001b[43mindicator\u001b[49m\u001b[38;5;241;43m=\u001b[39;49m\u001b[43mindicator\u001b[49m\u001b[43m,\u001b[49m\n\u001b[1;32m    188\u001b[0m \u001b[43m        \u001b[49m\u001b[43mcountry\u001b[49m\u001b[38;5;241;43m=\u001b[39;49m\u001b[43mcountry\u001b[49m\u001b[43m,\u001b[49m\n\u001b[1;32m    189\u001b[0m \u001b[43m        \u001b[49m\u001b[43mdata_date\u001b[49m\u001b[38;5;241;43m=\u001b[39;49m\u001b[43mdata_date\u001b[49m\u001b[43m,\u001b[49m\n\u001b[1;32m    190\u001b[0m \u001b[43m        \u001b[49m\u001b[43mfreq\u001b[49m\u001b[38;5;241;43m=\u001b[39;49m\u001b[43mfreq\u001b[49m\u001b[43m,\u001b[49m\n\u001b[1;32m    191\u001b[0m \u001b[43m        \u001b[49m\u001b[43msource\u001b[49m\u001b[38;5;241;43m=\u001b[39;49m\u001b[43msource\u001b[49m\u001b[43m,\u001b[49m\n\u001b[1;32m    192\u001b[0m \u001b[43m        \u001b[49m\u001b[43mconvert_date\u001b[49m\u001b[38;5;241;43m=\u001b[39;49m\u001b[43mconvert_date\u001b[49m\u001b[43m,\u001b[49m\n\u001b[1;32m    193\u001b[0m \u001b[43m        \u001b[49m\u001b[43mcache\u001b[49m\u001b[38;5;241;43m=\u001b[39;49m\u001b[43mcache\u001b[49m\u001b[43m,\u001b[49m\n\u001b[1;32m    194\u001b[0m \u001b[43m    \u001b[49m\u001b[43m)\u001b[49m\n\u001b[1;32m    195\u001b[0m     df \u001b[38;5;241m=\u001b[39m pd\u001b[38;5;241m.\u001b[39mDataFrame(\n\u001b[1;32m    196\u001b[0m         [[i[\u001b[38;5;124m\"\u001b[39m\u001b[38;5;124mcountry\u001b[39m\u001b[38;5;124m\"\u001b[39m][\u001b[38;5;124m\"\u001b[39m\u001b[38;5;124mvalue\u001b[39m\u001b[38;5;124m\"\u001b[39m], i[\u001b[38;5;124m\"\u001b[39m\u001b[38;5;124mdate\u001b[39m\u001b[38;5;124m\"\u001b[39m], i[\u001b[38;5;124m\"\u001b[39m\u001b[38;5;124mvalue\u001b[39m\u001b[38;5;124m\"\u001b[39m]] \u001b[38;5;28;01mfor\u001b[39;00m i \u001b[38;5;129;01min\u001b[39;00m raw_data],\n\u001b[1;32m    197\u001b[0m         columns\u001b[38;5;241m=\u001b[39m[\u001b[38;5;124m\"\u001b[39m\u001b[38;5;124mcountry\u001b[39m\u001b[38;5;124m\"\u001b[39m, \u001b[38;5;124m\"\u001b[39m\u001b[38;5;124mdate\u001b[39m\u001b[38;5;124m\"\u001b[39m, column_name],\n\u001b[1;32m    198\u001b[0m     )\n\u001b[1;32m    199\u001b[0m     df[column_name] \u001b[38;5;241m=\u001b[39m df[column_name]\u001b[38;5;241m.\u001b[39mmap(cast_float)\n",
      "File \u001b[0;32m/opt/conda/lib/python3.9/site-packages/wbdata/api.py:289\u001b[0m, in \u001b[0;36mget_data\u001b[0;34m(indicator, country, data_date, freq, source, convert_date, pandas, column_name, keep_levels, cache)\u001b[0m\n\u001b[1;32m    287\u001b[0m \u001b[38;5;28;01mif\u001b[39;00m source:\n\u001b[1;32m    288\u001b[0m     args[\u001b[38;5;124m\"\u001b[39m\u001b[38;5;124msource\u001b[39m\u001b[38;5;124m\"\u001b[39m] \u001b[38;5;241m=\u001b[39m source\n\u001b[0;32m--> 289\u001b[0m data \u001b[38;5;241m=\u001b[39m \u001b[43mfetcher\u001b[49m\u001b[38;5;241;43m.\u001b[39;49m\u001b[43mfetch\u001b[49m\u001b[43m(\u001b[49m\u001b[43mquery_url\u001b[49m\u001b[43m,\u001b[49m\u001b[43m \u001b[49m\u001b[43margs\u001b[49m\u001b[43m,\u001b[49m\u001b[43m \u001b[49m\u001b[43mcache\u001b[49m\u001b[38;5;241;43m=\u001b[39;49m\u001b[43mcache\u001b[49m\u001b[43m)\u001b[49m\n\u001b[1;32m    290\u001b[0m \u001b[38;5;28;01mif\u001b[39;00m convert_date:\n\u001b[1;32m    291\u001b[0m     data \u001b[38;5;241m=\u001b[39m convert_dates_to_datetime(data)\n",
      "File \u001b[0;32m/opt/conda/lib/python3.9/site-packages/wbdata/fetcher.py:130\u001b[0m, in \u001b[0;36mfetch\u001b[0;34m(url, args, cache)\u001b[0m\n\u001b[1;32m    128\u001b[0m \u001b[38;5;28;01mtry\u001b[39;00m:\n\u001b[1;32m    129\u001b[0m     message \u001b[38;5;241m=\u001b[39m response[\u001b[38;5;241m0\u001b[39m][\u001b[38;5;124m\"\u001b[39m\u001b[38;5;124mmessage\u001b[39m\u001b[38;5;124m\"\u001b[39m][\u001b[38;5;241m0\u001b[39m]\n\u001b[0;32m--> 130\u001b[0m     \u001b[38;5;28;01mraise\u001b[39;00m \u001b[38;5;167;01mRuntimeError\u001b[39;00m(\n\u001b[1;32m    131\u001b[0m         \u001b[38;5;124mf\u001b[39m\u001b[38;5;124m\"\u001b[39m\u001b[38;5;124mGot error \u001b[39m\u001b[38;5;132;01m{\u001b[39;00mmessage[\u001b[38;5;124m'\u001b[39m\u001b[38;5;124mid\u001b[39m\u001b[38;5;124m'\u001b[39m]\u001b[38;5;132;01m}\u001b[39;00m\u001b[38;5;124m (\u001b[39m\u001b[38;5;132;01m{\u001b[39;00mmessage[\u001b[38;5;124m'\u001b[39m\u001b[38;5;124mkey\u001b[39m\u001b[38;5;124m'\u001b[39m]\u001b[38;5;132;01m}\u001b[39;00m\u001b[38;5;124m): \u001b[39m\u001b[38;5;124m\"\u001b[39m\n\u001b[1;32m    132\u001b[0m         \u001b[38;5;124mf\u001b[39m\u001b[38;5;124m\"\u001b[39m\u001b[38;5;132;01m{\u001b[39;00mmessage[\u001b[38;5;124m'\u001b[39m\u001b[38;5;124mvalue\u001b[39m\u001b[38;5;124m'\u001b[39m]\u001b[38;5;132;01m}\u001b[39;00m\u001b[38;5;124m\"\u001b[39m\n\u001b[1;32m    133\u001b[0m     )\n\u001b[1;32m    134\u001b[0m \u001b[38;5;28;01mexcept\u001b[39;00m (\u001b[38;5;167;01mIndexError\u001b[39;00m, \u001b[38;5;167;01mKeyError\u001b[39;00m):\n\u001b[1;32m    135\u001b[0m     \u001b[38;5;28;01mraise\u001b[39;00m \u001b[38;5;167;01mRuntimeError\u001b[39;00m(\n\u001b[1;32m    136\u001b[0m         \u001b[38;5;124mf\u001b[39m\u001b[38;5;124m\"\u001b[39m\u001b[38;5;124mGot unexpected response:\u001b[39m\u001b[38;5;130;01m\\n\u001b[39;00m\u001b[38;5;132;01m{\u001b[39;00mpprint\u001b[38;5;241m.\u001b[39mpformat(response)\u001b[38;5;132;01m}\u001b[39;00m\u001b[38;5;124m\"\u001b[39m\n\u001b[1;32m    137\u001b[0m     )\n",
      "\u001b[0;31mRuntimeError\u001b[0m: Got error 120 (Invalid value): The provided parameter value is not valid"
     ]
    }
   ],
   "source": [
    "df = wbdata.get_dataframe(gendered_indicators)\n",
    "df\n",
    "# print(df.query(\"date=='2018'\").sum(axis=0))"
   ]
  },
  {
   "cell_type": "code",
   "execution_count": null,
   "id": "a56dbb33",
   "metadata": {},
   "outputs": [],
   "source": []
  }
 ],
 "metadata": {
  "kernelspec": {
   "display_name": "Python 3 (ipykernel)",
   "language": "python",
   "name": "python3"
  },
  "language_info": {
   "codemirror_mode": {
    "name": "ipython",
    "version": 3
   },
   "file_extension": ".py",
   "mimetype": "text/x-python",
   "name": "python",
   "nbconvert_exporter": "python",
   "pygments_lexer": "ipython3",
   "version": "3.9.10"
  }
 },
 "nbformat": 4,
 "nbformat_minor": 5
}
