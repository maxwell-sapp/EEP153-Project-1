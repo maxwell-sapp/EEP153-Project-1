{
 "cells": [
  {
   "cell_type": "code",
   "execution_count": null,
   "id": "canadian-suicide",
   "metadata": {
    "deletable": false,
    "editable": false
   },
   "outputs": [],
   "source": [
    "# Initialize Otter\n",
    "import otter\n",
    "grader = otter.Notebook(\"final_project.ipynb\")"
   ]
  },
  {
   "cell_type": "code",
   "execution_count": 1,
   "metadata": {},
   "outputs": [],
   "source": [
    "from IPython.core.display import HTML\n",
    "from datascience import *\n",
    "import plotly.express as px\n",
    "\n",
    "import matplotlib\n",
    "matplotlib.use('Agg')\n",
    "%matplotlib inline\n",
    "import matplotlib.pyplot as plt\n",
    "import numpy as np\n",
    "import os\n",
    "plt.style.use('fivethirtyeight')\n",
    "\n",
    "import pandas as pd\n",
    "import zipfile\n",
    "import io\n",
    "import math"
   ]
  },
  {
   "cell_type": "markdown",
   "metadata": {},
   "source": [
    "# Final project"
   ]
  },
  {
   "cell_type": "markdown",
   "metadata": {},
   "source": [
    "## The final project"
   ]
  },
  {
   "cell_type": "markdown",
   "metadata": {},
   "source": [
    "There is a detailed description of the final project in this Google Doc:\n",
    "\n",
    "[https://docs.google.com/document/d/1BCs5wu50_XHgrbQaR3vutUAIEGs_RiplPlnBB9ZNcGE/edit?usp=sharing](https://docs.google.com/document/d/1BCs5wu50_XHgrbQaR3vutUAIEGs_RiplPlnBB9ZNcGE/edit?usp=sharing)\n",
    "\n",
    "Please read this document carefully. It has important due dates and outlines exactly what the project's goals and requirements are."
   ]
  },
  {
   "cell_type": "markdown",
   "metadata": {},
   "source": [
    "### Partner"
   ]
  },
  {
   "cell_type": "markdown",
   "metadata": {
    "deletable": false,
    "editable": false
   },
   "source": [
    "<!-- BEGIN QUESTION -->\n",
    "\n",
    "**What is your partner's name?**\n",
    "<!--\n",
    "BEGIN QUESTION\n",
    "name: q_introname\n",
    "points: 1\n",
    "manual: True\n",
    "-->"
   ]
  },
  {
   "cell_type": "markdown",
   "id": "distinct-arabic",
   "metadata": {},
   "source": [
    "_Type your answer here, replacing this text._"
   ]
  },
  {
   "cell_type": "markdown",
   "metadata": {},
   "source": [
    "<!-- END QUESTION -->\n",
    "\n",
    "\n",
    "\n",
    "## COVID-19 Data"
   ]
  },
  {
   "cell_type": "markdown",
   "metadata": {},
   "source": [
    "For the final project, we will be analyzing data related to the Covid-19 pandemic.\n",
    "\n",
    "To get you started, we're providing you with the datsets that are contained in the `R` package `covdata`, whose website is here: \n",
    "\n",
    "[https://kjhealy.github.io/covdata/](https://kjhealy.github.io/covdata/) (website)   \n",
    "[https://kjhealy.github.io/covdata/articles/codebook.html](https://kjhealy.github.io/covdata/articles/codebook.html) (codebook)\n",
    "\n",
    "We've copied the datasets into datahub, so you won't have to use `R` at all. But you should look at the `covdata` website to get a sense of the different datasets that are available.\n",
    "For some of these datasets, you might have to dig a little deeper to the source who created the data to get more information.\n",
    "\n",
    "Of course, you might also want to either combine these datasets with other data that you find or even just use other data entirely. That is OK as long as you clear it with me first.\n",
    "\n",
    "Here is a list of all of the files we are including. There are many! You should not feel like you have to use more than one of these (though you are welcome to do so). The goal is to have a lot of different options, so that you can explore a question that is interesting to you."
   ]
  },
  {
   "cell_type": "markdown",
   "metadata": {},
   "source": [
    "    - project-data/apple_mobility.csv.gz\n",
    "    - project-data/cdc_catchments.csv.gz \n",
    "    - project-data/cdc_deaths_by_age.csv.gz \n",
    "    - project-data/cdc_deaths_by_sex.csv.gz \n",
    "    - project-data/cdc_deaths_by_state.csv.gz \n",
    "    - project-data/cdc_deaths_by_week.csv.gz \n",
    "    - project-data/countries.csv.gz \n",
    "    - project-data/covnat_daily.csv.gz \n",
    "    - project-data/covnat_weekly.csv.gz \n",
    "    - project-data/covus.csv.gz \n",
    "    - project-data/covus_ethnicity.csv.gz \n",
    "    - project-data/covus_race.csv.gz \n",
    "    - project-data/nchs_sas.csv.gz \n",
    "    - project-data/nchs_wdc.csv.gz \n",
    "    - project-data/nchs_wss.csv.gz \n",
    "    - project-data/nssp_covid_er_nat.csv.gz \n",
    "    - project-data/nssp_covid_er_reg.csv.gz \n",
    "    - project-data/nytcovcounty.csv.gz \n",
    "    - project-data/nytcovstate.csv.gz \n",
    "    - project-data/nytcovus.csv.gz \n",
    "    - project-data/nytexcess.csv.gz \n",
    "    - project-data/stmf.csv.gz \n",
    "    - project-data/uspop.csv.gz"
   ]
  },
  {
   "cell_type": "markdown",
   "metadata": {},
   "source": [
    "# Project analysis"
   ]
  },
  {
   "cell_type": "markdown",
   "metadata": {},
   "source": [
    "Please include your code below here."
   ]
  },
  {
   "cell_type": "code",
   "execution_count": null,
   "metadata": {},
   "outputs": [],
   "source": []
  },
  {
   "cell_type": "markdown",
   "id": "cleared-associate",
   "metadata": {
    "deletable": false,
    "editable": false
   },
   "source": [
    "---\n",
    "\n",
    "To double-check your work, the cell below will rerun all of the autograder tests."
   ]
  },
  {
   "cell_type": "code",
   "execution_count": null,
   "id": "certified-completion",
   "metadata": {
    "deletable": false,
    "editable": false
   },
   "outputs": [],
   "source": [
    "grader.check_all()"
   ]
  },
  {
   "cell_type": "markdown",
   "id": "missing-section",
   "metadata": {
    "deletable": false,
    "editable": false
   },
   "source": [
    "## Submission\n",
    "\n",
    "Make sure you have run all cells in your notebook in order before running the cell below, so that all images/graphs appear in the output. The cell below will generate a zip file for you to submit. **Please save before exporting!**"
   ]
  },
  {
   "cell_type": "code",
   "execution_count": null,
   "id": "thorough-titanium",
   "metadata": {
    "deletable": false,
    "editable": false
   },
   "outputs": [],
   "source": [
    "# Save your notebook first, then run this cell to export your submission.\n",
    "grader.export()"
   ]
  },
  {
   "cell_type": "markdown",
   "id": "accurate-subscription",
   "metadata": {},
   "source": [
    " "
   ]
  }
 ],
 "metadata": {
  "anaconda-cloud": {},
  "kernelspec": {
   "display_name": "Python 3",
   "language": "python",
   "name": "python3"
  },
  "language_info": {
   "codemirror_mode": {
    "name": "ipython",
    "version": 3
   },
   "file_extension": ".py",
   "mimetype": "text/x-python",
   "name": "python",
   "nbconvert_exporter": "python",
   "pygments_lexer": "ipython3",
   "version": "3.8.8"
  }
 },
 "nbformat": 4,
 "nbformat_minor": 1
}
