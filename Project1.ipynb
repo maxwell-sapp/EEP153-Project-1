{
 "cells": [
  {
   "cell_type": "markdown",
   "id": "33e647d4",
   "metadata": {},
   "source": [
    "## Group Quetelet Project 1"
   ]
  },
  {
   "cell_type": "markdown",
   "id": "d27b9760",
   "metadata": {},
   "source": [
    "### Topic & Goals"
   ]
  },
  {
   "cell_type": "markdown",
   "id": "2e134c0a",
   "metadata": {},
   "source": [
    "For Project 1"
   ]
  },
  {
   "cell_type": "markdown",
   "id": "d8aa16d1",
   "metadata": {},
   "source": [
    "### How to use terminal to edit and update notebook:\n",
    " \n",
    "Open Terminal and paste in \"  cd * **Paste here the address of EEP153-Project-1 folder** *  \"\n",
    "    \n",
    "       For example: Mine reads cd C:\\Users\\Maxwell Sapp\\Desktop\\EEP153-Project-1\n",
    "       \n",
    "Use: **\"Git status\"** to get an updated message on if your computer files are up to date with those in the git repository\n",
    "\n",
    "## Getting your computer folders up-to-date so you are working on most current edition of the file\n",
    "Use: **\"Git pull\"** to get pull the most up to date versions of the repository files and upload them onto your computer\n",
    "\n",
    "## How to Push updates you've made into the repository provide the group your most current file\n",
    "#### Step 1. \n",
    "Download your newly updated jupyter notebook file as a **\"Project1.ipynb\"** and save it over the original file in the folder\n",
    "\n",
    "#### Step 2. \n",
    "Use: **\" Git add Project1.ipynb \"** in terminal command line to add the new file into the git repository\n",
    "\n",
    "\n",
    "#### Step 3.\n",
    "Use: **\" git commit -m\" add comment (like adding github information) \" \"**\n",
    "\n",
    "#### Step 4\n",
    "Use: **\"Git push\"** to push your most up to date versions folder files and upload them onto repository for group"
   ]
  },
  {
   "cell_type": "code",
   "execution_count": null,
   "id": "c5eebe39",
   "metadata": {},
   "outputs": [],
   "source": []
  },
  {
   "cell_type": "code",
   "execution_count": null,
   "id": "8e178dbb",
   "metadata": {},
   "outputs": [],
   "source": []
  },
  {
   "cell_type": "markdown",
   "id": "3fcf8717",
   "metadata": {},
   "source": [
    "###  Data Imports"
   ]
  },
  {
   "cell_type": "code",
   "execution_count": 8,
   "id": "cd728521",
   "metadata": {},
   "outputs": [],
   "source": [
    "\"\"\"\n",
    "If necessary, uncomment and install:\n",
    "\"\"\"\n",
    "#!pip install wbdata\n",
    "#!pip install cufflinks\n",
    "import numpy as np\n",
    "import pandas as pd\n",
    "import wbdata"
   ]
  },
  {
   "cell_type": "code",
   "execution_count": null,
   "id": "f80d2ff7",
   "metadata": {},
   "outputs": [],
   "source": []
  },
  {
   "cell_type": "code",
   "execution_count": null,
   "id": "e5a75a74",
   "metadata": {},
   "outputs": [],
   "source": []
  }
 ],
 "metadata": {
  "kernelspec": {
   "display_name": "Python 3 (ipykernel)",
   "language": "python",
   "name": "python3"
  },
  "language_info": {
   "codemirror_mode": {
    "name": "ipython",
    "version": 3
   },
   "file_extension": ".py",
   "mimetype": "text/x-python",
   "name": "python",
   "nbconvert_exporter": "python",
   "pygments_lexer": "ipython3",
   "version": "3.9.9"
  }
 },
 "nbformat": 4,
 "nbformat_minor": 5
}
