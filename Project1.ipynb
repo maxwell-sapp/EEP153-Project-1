{
 "cells": [
  {
   "cell_type": "markdown",
   "id": "33e647d4",
   "metadata": {},
   "source": [
    "## Group Quetelet Project 1"
   ]
  },
  {
   "cell_type": "markdown",
   "id": "d27b9760",
   "metadata": {},
   "source": [
    "### Topic & Goals"
   ]
  },
  {
   "cell_type": "markdown",
   "id": "2e134c0a",
   "metadata": {},
   "source": [
    "For Project 1"
   ]
  },
  {
   "cell_type": "code",
   "execution_count": null,
   "id": "3c328b94",
   "metadata": {},
   "outputs": [],
   "source": []
  },
  {
   "cell_type": "code",
   "execution_count": null,
   "id": "c5eebe39",
   "metadata": {},
   "outputs": [],
   "source": []
  },
  {
   "cell_type": "code",
   "execution_count": null,
   "id": "8e178dbb",
   "metadata": {},
   "outputs": [],
   "source": []
  },
  {
   "cell_type": "markdown",
   "id": "3fcf8717",
   "metadata": {},
   "source": [
    "###  Data Imports"
   ]
  },
  {
   "cell_type": "code",
   "execution_count": 8,
   "id": "cd728521",
   "metadata": {},
   "outputs": [],
   "source": [
    "\"\"\"\n",
    "If necessary, uncomment and install:\n",
    "\"\"\"\n",
    "#!pip install wbdata\n",
    "#!pip install cufflinks\n",
    "import numpy as np\n",
    "import pandas as pd\n",
    "import wbdata"
   ]
  },
  {
   "cell_type": "code",
   "execution_count": null,
   "id": "f80d2ff7",
   "metadata": {},
   "outputs": [],
   "source": []
  },
  {
   "cell_type": "code",
   "execution_count": null,
   "id": "e5a75a74",
   "metadata": {},
   "outputs": [],
   "source": []
  }
 ],
 "metadata": {
  "kernelspec": {
   "display_name": "Python 3 (ipykernel)",
   "language": "python",
   "name": "python3"
  },
  "language_info": {
   "codemirror_mode": {
    "name": "ipython",
    "version": 3
   },
   "file_extension": ".py",
   "mimetype": "text/x-python",
   "name": "python",
   "nbconvert_exporter": "python",
   "pygments_lexer": "ipython3",
   "version": "3.9.9"
  }
 },
 "nbformat": 4,
 "nbformat_minor": 5
}
